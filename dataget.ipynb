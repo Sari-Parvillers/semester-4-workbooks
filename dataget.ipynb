{
 "cells": [
  {
   "cell_type": "code",
   "execution_count": 17,
   "metadata": {},
   "outputs": [],
   "source": [
    "import pandas as pd\n",
    "import numpy as np\n",
    "import matplotlib.pyplot as plt\n",
    "import seaborn as sns\n",
    "import requests"
   ]
  },
  {
   "cell_type": "code",
   "execution_count": 18,
   "metadata": {},
   "outputs": [],
   "source": [
    "# amsterdam tree data\n",
    "df_trees = pd.read_csv('data/bomen-stamgegevens-2024-03-12T09 06 04.036291.csv')\n",
    "# amsterdam neighbourhood meta data, i.e. matching neighbourhood name with ID\n",
    "df_buurt_meta = pd.read_csv('data/gebieden-buurten-2024-03-12T12 09 07.653588.csv')\n",
    "# amsterdam sub-district meta data, to match each neighbourhood with its district\n",
    "df_wijk_meta = pd.read_csv('data/gebieden_wijken.csv')\n",
    "\n",
    "\n",
    "# standardise names of neighbourhood id column so we can merge on that column\n",
    "buurt_id_column = 'buurt_id'\n",
    "wijk_id_column = 'wijk_id'\n",
    "\n",
    "# rename buurt id columns in all datasets to be the same for merging\n",
    "df_buurt_meta = df_buurt_meta.rename(\n",
    "    columns={'Identificatie': buurt_id_column}\n",
    ")\n",
    "df_trees = df_trees.rename(\n",
    "    columns={'Gbdbuurtid': buurt_id_column}\n",
    ")\n",
    "\n",
    "# rename wijk id columns in all datasets to be the same for merging\n",
    "df_buurt_meta = df_buurt_meta.rename(\n",
    "    columns={'Ligtinwijkid': wijk_id_column}\n",
    ")\n",
    "df_wijk_meta = df_wijk_meta.rename(\n",
    "    columns={'Identificatie': wijk_id_column}\n",
    ")\n"
   ]
  },
  {
   "cell_type": "code",
   "execution_count": 19,
   "metadata": {},
   "outputs": [],
   "source": [
    "# match each buurt (neighbourhood) with its associated wijk (sub-district)\n",
    "df_buurt_simple = df_buurt_meta[[\n",
    "    buurt_id_column, wijk_id_column, 'Naam', 'Code', 'Cbscode', 'Geometrie'\n",
    "]]\n",
    "\n",
    "df_buurt_simple = df_buurt_simple.rename(\n",
    "    columns={\n",
    "        'Naam': 'Naam_buurt',\n",
    "        'Code': 'Code_buurt',\n",
    "        'Cbscode': 'Cbscode_buurt',\n",
    "        'Geometrie': 'Geometrie_buurt'\n",
    "    }\n",
    ")\n",
    "\n",
    "df_wijk_simple = df_wijk_meta[[\n",
    "    wijk_id_column, 'Naam', 'Code', 'Cbscode', 'Geometrie'\n",
    "]]\n",
    "\n",
    "df_wijk_simple = df_wijk_simple.rename(\n",
    "    columns={\n",
    "        'Naam': 'Naam_wijk',\n",
    "        'Code': 'Code_wijk',\n",
    "        'Cbscode': 'Cbscode_wijk',\n",
    "        'Geometrie': 'Geometrie_wijk'\n",
    "    }\n",
    ")\n",
    "\n",
    "df_location_data = pd.merge(df_buurt_simple, df_wijk_simple, on=wijk_id_column)"
   ]
  },
  {
   "cell_type": "code",
   "execution_count": 20,
   "metadata": {},
   "outputs": [],
   "source": [
    "# functions for data cleaning\n",
    "# return the proportion of nan each column in the data\n",
    "def na_proportion(series: pd.Series):\n",
    "    return series.isna().sum() / len(series)\n",
    "\n",
    "# returns a dataframe without the columns that have higher proportion of na \n",
    "# than threshold. \n",
    "# default threshold: 40% of nan means removal\n",
    "def stripped_threshold_na_columns(df: pd.DataFrame, threshold = 0.4):\n",
    "    df_return = pd.DataFrame()\n",
    "    for column in df.columns:\n",
    "        if na_proportion(df[column]) < threshold:\n",
    "            df_return[column] = df[column]\n",
    "    return df_return\n",
    "\n",
    "# returns the n most common values in a series (by default the 10 most common)\n",
    "def most_common_n_values(series: pd.Series, n = 10):\n",
    "    return series.value_counts()[:n].index.tolist()\n",
    "\n",
    "def replace_less_than_n_values(series: pd.Series, n = 30, placeholder = np.nan):\n",
    "    value_counts = series.value_counts()\n",
    "    values_to_replace = value_counts[value_counts < n].index\n",
    "    return series.replace(to_replace=values_to_replace, value=placeholder)\n",
    "\n",
    "\n",
    "# return a series with its least common values converted to a different value\n",
    "# by default, the string 'other'\n",
    "def otherise(value, most_common_values, other, nan_replace):\n",
    "    if value in most_common_values:\n",
    "        return value\n",
    "    if value is np.nan:\n",
    "        return nan_replace\n",
    "    return other\n",
    "    \n",
    "\n",
    "def otherise_less_common_values(\n",
    "        series: pd.Series, \n",
    "        most_common_values, \n",
    "        other='other', \n",
    "        nan_replace = np.nan\n",
    "    ):\n",
    "    return series.apply(\n",
    "        lambda value: otherise(value, most_common_values, other, nan_replace)\n",
    "    )\n"
   ]
  },
  {
   "cell_type": "code",
   "execution_count": 21,
   "metadata": {},
   "outputs": [
    {
     "data": {
      "text/plain": [
       "\"\\nIndex([\\n       'Soortnaam', 'Typeobject', 'Typesoortnaam', 'Soortnaamkort',\\n       'Soortnaamtop', 'tree_height'],\\n      dtype='object')\\n\""
      ]
     },
     "execution_count": 21,
     "metadata": {},
     "output_type": "execute_result"
    }
   ],
   "source": [
    "# clean up tree data\n",
    "# remove columns that have too many NaNs\n",
    "df_trees = stripped_threshold_na_columns(df_trees)\n",
    "\n",
    "# height\n",
    "# we only have approximate measures for tree height :(\n",
    "# Brute force normalising it to numbers to avoid using regex and preserve my sanity\n",
    "# There are some severe limitations from applying a linear regression model\n",
    "# to height that is calculated this way.\n",
    "def extract_height_data(data):\n",
    "    if data == 'a. tot 6 m.':\n",
    "        return 3\n",
    "    if data == 'b. 6 tot 9 m.':\n",
    "        return 7.5\n",
    "    if data == 'c. 9 tot 12 m.':\n",
    "        return 10.5\n",
    "    if data == 'd. 12 tot 15 m.':\n",
    "        return 13.5\n",
    "    if data == 'e. 15 tot 18 m.':\n",
    "        return 16.5\n",
    "    if data == 'f. 18 tot 24 m.':\n",
    "        return 21\n",
    "    if data == 'g. 24 m. en hoger':\n",
    "        return 24\n",
    "    # if not any of the above return nan\n",
    "    return np.nan\n",
    "\n",
    "df_trees['tree_height'] = df_trees['Boomhoogteklasseactueel'].apply(\n",
    "    lambda x: extract_height_data(x)\n",
    ")\n",
    "\n",
    "\n",
    "'''\n",
    "Index([\n",
    "       'Soortnaam', 'Typeobject', 'Typesoortnaam', 'Soortnaamkort',\n",
    "       'Soortnaamtop', 'tree_height'],\n",
    "      dtype='object')\n",
    "'''\n",
    "\n"
   ]
  },
  {
   "cell_type": "code",
   "execution_count": 22,
   "metadata": {},
   "outputs": [
    {
     "data": {
      "text/plain": [
       "Text(0, 0.5, 'Frequency')"
      ]
     },
     "execution_count": 22,
     "metadata": {},
     "output_type": "execute_result"
    },
    {
     "data": {
      "image/png": "[encoded data removed]",
      "text/plain": [
       "<Figure size 600x600 with 1 Axes>"
      ]
     },
     "metadata": {},
     "output_type": "display_data"
    }
   ],
   "source": [
    "# visualise tree height distribution\n",
    "plt.figure(figsize=(6, 6))\n",
    "plt.hist(df_trees['tree_height'], bins=200, edgecolor='black')\n",
    "plt.grid(axis='y', alpha=0.75)\n",
    "plt.title(\"Histogram of tree height frequency\")\n",
    "plt.xlabel(\"Height (m)\")\n",
    "plt.ylabel(\"Frequency\")\n"
   ]
  },
  {
   "cell_type": "code",
   "execution_count": 23,
   "metadata": {},
   "outputs": [
    {
     "name": "stdout",
     "output_type": "stream",
     "text": [
      "proportion of nan for admin: 0.0013418888915997756\n",
      "Typebeheerderplus\n",
      "R&E_VOR_Bomen                      256142\n",
      "SOC_S&B_Sport                       10248\n",
      "R&E_VOR_EPR                          3422\n",
      "Amsterdamse Bos                      3364\n",
      "Begraafplaats De Nieuwe Ooster       2905\n",
      "Recreatieschap Noord-Holland         2608\n",
      "Gemeente Amsterdam, rve Sport        1698\n",
      "Volkstuinpark                        1009\n",
      "RVE Spieringhorn Sportpark           1003\n",
      "Gemeentelijk Vastgoed                 818\n",
      "Begraafplaats De Nieuwe Noorder       754\n",
      "Amsterdamse bos - eigen dienst        635\n",
      "Overig niet natuurlijk persoon        353\n",
      "Rijkswaterstaat                       259\n",
      "Schooltuinen                          251\n",
      "Natuurlijk persoon                    235\n",
      "Woningcorporatie                      222\n",
      "R&E_VOR_Groen                         173\n",
      "Toevoeging                            113\n",
      "RVE Spieringpark                       64\n",
      "Buitenaccommodaties en vastgoed        46\n",
      "Begraafplaats Zorgvlied                41\n",
      "Stichting                              24\n",
      "Begraafplaats Ransdorp                 18\n",
      "Begraafplaats Nieuwendam               17\n",
      "Volkstuinpark Ons Buiten               14\n",
      "Begraafplaats Buiksloot                14\n",
      "Havenbedrijf                           12\n",
      "Gemeente Amsterdam, rve Metro          11\n",
      "Prorail                                 8\n",
      "Begraafplaats Buitenveldert             7\n",
      "Landschap Noord-Holland                 7\n",
      "Begraafplaats Sint Barbara              5\n",
      "SOC_S&B_Bos                             4\n",
      "Begraafplaats Schellingwoude            4\n",
      "Erfpacht Ymere                          4\n",
      "Vereniging van Eigenaren                3\n",
      "Particulier                             2\n",
      "Westpoort                               2\n",
      "Begraafplaats Durgerdam                 2\n",
      "Gemeente Amsterdam                      1\n",
      "Groengebied Amstelland                  1\n",
      "R&E_VOR_BOOMPUNT_IEP                    1\n",
      "Name: count, dtype: int64\n"
     ]
    }
   ],
   "source": [
    "# tree administrator ('Typebeheerderplus')\n",
    "# categorical\n",
    "print(f'proportion of nan for admin: {na_proportion(df_trees['Typebeheerderplus'])}')\n",
    "print(df_trees['Typebeheerderplus'].value_counts())\n",
    "most_common_tree_admins = most_common_n_values(df_trees['Typebeheerderplus'])\n",
    "df_trees['tree_admin'] = otherise_less_common_values(\n",
    "    df_trees['Typebeheerderplus'], most_common_tree_admins\n",
    ")"
   ]
  },
  {
   "cell_type": "code",
   "execution_count": 24,
   "metadata": {},
   "outputs": [
    {
     "name": "stdout",
     "output_type": "stream",
     "text": [
      "tree_admin\n",
      "R&E_VOR_Bomen                     256142\n",
      "SOC_S&B_Sport                      10248\n",
      "R&E_VOR_EPR                         3422\n",
      "Amsterdamse Bos                     3364\n",
      "other                               3307\n",
      "Begraafplaats De Nieuwe Ooster      2905\n",
      "Recreatieschap Noord-Holland        2608\n",
      "Gemeente Amsterdam, rve Sport       1698\n",
      "Volkstuinpark                       1009\n",
      "RVE Spieringhorn Sportpark          1003\n",
      "Gemeentelijk Vastgoed                818\n",
      "Name: count, dtype: int64\n"
     ]
    }
   ],
   "source": [
    "print(df_trees['tree_admin'].value_counts())"
   ]
  },
  {
   "cell_type": "code",
   "execution_count": 25,
   "metadata": {},
   "outputs": [
    {
     "name": "stdout",
     "output_type": "stream",
     "text": [
      "proportion of nan for municipality: 0.07132575137064365\n"
     ]
    },
    {
     "name": "stdout",
     "output_type": "stream",
     "text": [
      "Typeeigenaarplus\n",
      "Gemeente Amsterdam       256869\n",
      "Gemeente Weesp             6275\n",
      "Gemeentelijk Vastgoed      1455\n",
      "Gemeente Ouder-Amstel      1257\n",
      "Gemeente Diemen             331\n",
      "Woningcorporatie            181\n",
      "Artis                        33\n",
      "Natuurlijk persoon           21\n",
      "Gemeente Amstelveen          14\n",
      "Rijksmuseum                   8\n",
      "Amsterdamse Bos               1\n",
      "Name: count, dtype: int64\n"
     ]
    }
   ],
   "source": [
    "# municipality that owns the trees\n",
    "print(\n",
    "    f'proportion of nan for municipality: {na_proportion(df_trees['Typeeigenaarplus'])}'\n",
    ")\n",
    "print(df_trees['Typeeigenaarplus'].value_counts())\n",
    "# the overwhelming majority of trees are owned by amsterdam.\n",
    "# let's have values for just \"amsterdam\" and \"not amsterdam\"\n",
    "amsterdam_ownership = ['Gemeente Amsterdam']\n",
    "df_trees['tree_municipality'] = otherise_less_common_values(\n",
    "    df_trees['Typeeigenaarplus'], amsterdam_ownership\n",
    ")"
   ]
  },
  {
   "cell_type": "code",
   "execution_count": 26,
   "metadata": {},
   "outputs": [
    {
     "data": {
      "text/plain": [
       "tree_municipality\n",
       "Gemeente Amsterdam    256869\n",
       "other                   9576\n",
       "Name: count, dtype: int64"
      ]
     },
     "execution_count": 26,
     "metadata": {},
     "output_type": "execute_result"
    }
   ],
   "source": [
    "df_trees['tree_municipality'].value_counts()"
   ]
  },
  {
   "cell_type": "code",
   "execution_count": 27,
   "metadata": {},
   "outputs": [
    {
     "name": "stdout",
     "output_type": "stream",
     "text": [
      "proportion of nan for planting year: 0.0027883405539735596\n",
      "Jaarvanaanleg\n",
      "0.0       38452\n",
      "1970.0    14792\n",
      "1990.0    14134\n",
      "1980.0    12423\n",
      "1985.0    11789\n",
      "          ...  \n",
      "216.0         1\n",
      "191.0         1\n",
      "1894.0        1\n",
      "200.0         1\n",
      "1919.0        1\n",
      "Name: count, Length: 166, dtype: int64\n"
     ]
    }
   ],
   "source": [
    "# tree planting year\n",
    "print(\n",
    "    f'proportion of nan for planting year: {na_proportion(df_trees['Jaarvanaanleg'])}'\n",
    ")\n",
    "# not many nans :)\n",
    "print(df_trees['Jaarvanaanleg'].value_counts())\n",
    "# lots of zeros :(\n",
    "# Removing all the rows with nonsensical years\n",
    "year_threshold = 1500 # respect for our elder trees\n",
    "df_trees = df_trees[df_trees.Jaarvanaanleg > year_threshold]\n"
   ]
  },
  {
   "cell_type": "code",
   "execution_count": 28,
   "metadata": {},
   "outputs": [
    {
     "data": {
      "text/plain": [
       "<Axes: xlabel='Jaarvanaanleg', ylabel='Count'>"
      ]
     },
     "execution_count": 28,
     "metadata": {},
     "output_type": "execute_result"
    },
    {
     "data": {
      "image/png": "[encoded data removed]",
      "text/plain": [
       "<Figure size 640x480 with 1 Axes>"
      ]
     },
     "metadata": {},
     "output_type": "display_data"
    }
   ],
   "source": [
    "sns.histplot(df_trees['Jaarvanaanleg'])"
   ]
  },
  {
   "cell_type": "code",
   "execution_count": 29,
   "metadata": {},
   "outputs": [
    {
     "name": "stdout",
     "output_type": "stream",
     "text": [
      "nan proportion Soortnaam: 0.01198903259934664\n",
      "Soortnaam\n",
      "Platanus hispanica                   14378\n",
      "Fraxinus excelsior                    8154\n",
      "Quercus robur                         7597\n",
      "Salix alba                            7597\n",
      "Acer campestre                        6524\n",
      "                                     ...  \n",
      "Taxodium distichum 'Pevé Minaret'        1\n",
      "Quercus rhysophylla 'Maya'               1\n",
      "Malus domestica 'Melrose'                1\n",
      "Aesculus cv.                             1\n",
      "Wisteria sinesis                         1\n",
      "Name: count, Length: 1475, dtype: int64\n",
      "nan proportion Soortnaamkort: 0.01470261626615733\n",
      "Soortnaamkort\n",
      "Ulmus           29924\n",
      "Tilia           24681\n",
      "Acer            23814\n",
      "Fraxinus        19116\n",
      "Platanus        15114\n",
      "                ...  \n",
      "Berberis            1\n",
      "Choisya             1\n",
      "Corylopsis          1\n",
      "Chimonanthus        1\n",
      "Arbutus             1\n",
      "Name: count, Length: 168, dtype: int64\n",
      "nan proportion Soortnaamtop: 0.01470261626615733\n",
      "Soortnaamtop\n",
      "Iep (Ulmus)           29924\n",
      "Linde (Tilia)         24681\n",
      "Esdoorn (Acer)        23814\n",
      "Es (Fraxinus)         19116\n",
      "Plataan (Platanus)    15114\n",
      "                      ...  \n",
      "Berberis                  1\n",
      "Choisya                   1\n",
      "Corylopsis                1\n",
      "Chimonanthus              1\n",
      "Arbutus                   1\n",
      "Name: count, Length: 170, dtype: int64\n"
     ]
    }
   ],
   "source": [
    "# there are three columns for the species of the tree\n",
    "# Soortnaam: specific latin name species\n",
    "print(f'nan proportion Soortnaam: {na_proportion(df_trees['Soortnaam'])}')\n",
    "print(df_trees['Soortnaam'].value_counts())\n",
    "# Sortnaamkort/Sortnaamtop are for grouped species (they're the same)\n",
    "print(f'nan proportion Soortnaamkort: {na_proportion(df_trees['Soortnaamkort'])}')\n",
    "print(df_trees['Soortnaamkort'].value_counts())\n",
    "print(f'nan proportion Soortnaamtop: {na_proportion(df_trees['Soortnaamtop'])}')\n",
    "print(df_trees['Soortnaamtop'].value_counts())\n",
    "\n",
    "# let's choose both, even if they will by definition be highly correlated in some ways"
   ]
  },
  {
   "cell_type": "code",
   "execution_count": 30,
   "metadata": {},
   "outputs": [
    {
     "name": "stdout",
     "output_type": "stream",
     "text": [
      "number of species: (1475,)\n",
      "nan proportion Soortnaam: 0.01198903259934664\n",
      "number of species after removal: (653,)\n",
      "nan proportion Soortnaam after removal: 0.02026707801149235\n"
     ]
    }
   ],
   "source": [
    "# Soortnaam (exact species)\n",
    "# How many species are there?\n",
    "print(f'number of species: {df_trees['Soortnaam'].value_counts().shape}')\n",
    "# proportion of nan?\n",
    "print(f'nan proportion Soortnaam: {na_proportion(df_trees['Soortnaam'])}')\n",
    "# let's remove trees which species there are too few of\n",
    "species_threshold = 10\n",
    "df_trees['Soortnaam'] = replace_less_than_n_values(\n",
    "    df_trees['Soortnaam'],\n",
    "    species_threshold\n",
    ")\n",
    "# how much did that remove?\n",
    "print(f'number of species after removal: {df_trees['Soortnaam'].value_counts().shape}')\n",
    "print(f'nan proportion Soortnaam after removal: {na_proportion(df_trees['Soortnaam'])}')\n"
   ]
  },
  {
   "cell_type": "code",
   "execution_count": 35,
   "metadata": {},
   "outputs": [
    {
     "name": "stdout",
     "output_type": "stream",
     "text": [
      "number of species groups: (168,)\n",
      "nan proportion Soortnaamkort: 0.01470261626615733\n",
      "number of species groups after removal: (94,)\n",
      "nan proportion Soortnaamkort after removal: 0.015514268523640887\n"
     ]
    }
   ],
   "source": [
    "# Soortnaamkort (species group)\n",
    "# How many groups are there?\n",
    "print(f'number of species groups: {df_trees['Soortnaamkort'].value_counts().shape}')\n",
    "# proportion of nan?\n",
    "print(f'nan proportion Soortnaamkort: {na_proportion(df_trees['Soortnaamkort'])}')\n",
    "# let's remove trees which species group there are too few of\n",
    "gr_species_threshold = 10\n",
    "df_trees['Soortnaamkort'] = replace_less_than_n_values(\n",
    "    df_trees['Soortnaamkort'],\n",
    "    gr_species_threshold\n",
    ")\n",
    "# how much did that remove?\n",
    "print(f'number of species groups after removal: {df_trees['Soortnaamkort'].value_counts().shape}')\n",
    "print(f'nan proportion Soortnaamkort after removal: {na_proportion(df_trees['Soortnaamkort'])}')\n",
    "\n"
   ]
  },
  {
   "cell_type": "code",
   "execution_count": 31,
   "metadata": {},
   "outputs": [
    {
     "data": {
      "text/html": [
       "<div>\n",
       "<style scoped>\n",
       "    .dataframe tbody tr th:only-of-type {\n",
       "        vertical-align: middle;\n",
       "    }\n",
       "\n",
       "    .dataframe tbody tr th {\n",
       "        vertical-align: top;\n",
       "    }\n",
       "\n",
       "    .dataframe thead th {\n",
       "        text-align: right;\n",
       "    }\n",
       "</style>\n",
       "<table border=\"1\" class=\"dataframe\">\n",
       "  <thead>\n",
       "    <tr style=\"text-align: right;\">\n",
       "      <th></th>\n",
       "      <th>Id</th>\n",
       "      <th>buurt_id</th>\n",
       "      <th>Geometrie</th>\n",
       "      <th>Typebeheerderplus</th>\n",
       "      <th>Boomhoogteklasseactueel</th>\n",
       "      <th>Typeeigenaarplus</th>\n",
       "      <th>Jaarvanaanleg</th>\n",
       "      <th>Soortnaam</th>\n",
       "      <th>Typeobject</th>\n",
       "      <th>Typesoortnaam</th>\n",
       "      <th>...</th>\n",
       "      <th>tree_municipality</th>\n",
       "      <th>wijk_id</th>\n",
       "      <th>Naam_buurt</th>\n",
       "      <th>Code_buurt</th>\n",
       "      <th>Cbscode_buurt</th>\n",
       "      <th>Geometrie_buurt</th>\n",
       "      <th>Naam_wijk</th>\n",
       "      <th>Code_wijk</th>\n",
       "      <th>Cbscode_wijk</th>\n",
       "      <th>Geometrie_wijk</th>\n",
       "    </tr>\n",
       "  </thead>\n",
       "  <tbody>\n",
       "    <tr>\n",
       "      <th>103026</th>\n",
       "      <td>1032781</td>\n",
       "      <td>3.630980e+12</td>\n",
       "      <td>SRID=28992;POINT (128693.02 484990.59)</td>\n",
       "      <td>R&amp;E_VOR_Bomen</td>\n",
       "      <td>b. 6 tot 9 m.</td>\n",
       "      <td>Gemeente Amsterdam</td>\n",
       "      <td>2009.0</td>\n",
       "      <td>Platanus hispanica</td>\n",
       "      <td>Boom niet vrij uitgroeiend</td>\n",
       "      <td>Bomen</td>\n",
       "      <td>...</td>\n",
       "      <td>Gemeente Amsterdam</td>\n",
       "      <td>3630970000081</td>\n",
       "      <td>Havenkwartier IJburg</td>\n",
       "      <td>ML01</td>\n",
       "      <td>BU0363ML01</td>\n",
       "      <td>SRID=28992;POLYGON ((129128.648 485371.33, 128...</td>\n",
       "      <td>IJburg-Zuid</td>\n",
       "      <td>ML</td>\n",
       "      <td>WK0363ML</td>\n",
       "      <td>SRID=28992;POLYGON((129298.966 485048.564,1292...</td>\n",
       "    </tr>\n",
       "    <tr>\n",
       "      <th>104682</th>\n",
       "      <td>1034507</td>\n",
       "      <td>3.630980e+12</td>\n",
       "      <td>SRID=28992;POINT (124412.31 485757.76)</td>\n",
       "      <td>R&amp;E_VOR_Bomen</td>\n",
       "      <td>b. 6 tot 9 m.</td>\n",
       "      <td>Gemeente Amsterdam</td>\n",
       "      <td>2002.0</td>\n",
       "      <td>Prunus avium 'Plena'</td>\n",
       "      <td>Boom niet vrij uitgroeiend</td>\n",
       "      <td>Bomen</td>\n",
       "      <td>...</td>\n",
       "      <td>Gemeente Amsterdam</td>\n",
       "      <td>3630970000076</td>\n",
       "      <td>Ambonpleinbuurt</td>\n",
       "      <td>MF03</td>\n",
       "      <td>BU0363MF03</td>\n",
       "      <td>SRID=28992;POLYGON ((124520.07 486066.635, 124...</td>\n",
       "      <td>Indische Buurt-West</td>\n",
       "      <td>MF</td>\n",
       "      <td>WK0363MF</td>\n",
       "      <td>SRID=28992;POLYGON((124507.705 486304.448,1245...</td>\n",
       "    </tr>\n",
       "    <tr>\n",
       "      <th>228552</th>\n",
       "      <td>1276499</td>\n",
       "      <td>3.630980e+12</td>\n",
       "      <td>SRID=28992;POINT (131025.465546464 480320.3120...</td>\n",
       "      <td>R&amp;E_VOR_Bomen</td>\n",
       "      <td>e. 15 tot 18 m.</td>\n",
       "      <td>Gemeente Weesp</td>\n",
       "      <td>1974.0</td>\n",
       "      <td>Aesculus hippocastanum 'Baumannii'</td>\n",
       "      <td>Boom niet vrij uitgroeiend</td>\n",
       "      <td>Bomen</td>\n",
       "      <td>...</td>\n",
       "      <td>other</td>\n",
       "      <td>3630970000103</td>\n",
       "      <td>Hogewey-Midden</td>\n",
       "      <td>SC03</td>\n",
       "      <td>BU0363SC03</td>\n",
       "      <td>SRID=28992;POLYGON ((130873.805 480764.04, 130...</td>\n",
       "      <td>Weesp-Noordwest</td>\n",
       "      <td>SC</td>\n",
       "      <td>WK0363SC</td>\n",
       "      <td>SRID=28992;POLYGON((130752.865 481221.406,1306...</td>\n",
       "    </tr>\n",
       "    <tr>\n",
       "      <th>60126</th>\n",
       "      <td>987314</td>\n",
       "      <td>3.630980e+12</td>\n",
       "      <td>SRID=28992;POINT (119934.77 484723.5)</td>\n",
       "      <td>R&amp;E_VOR_Bomen</td>\n",
       "      <td>b. 6 tot 9 m.</td>\n",
       "      <td>Gemeente Amsterdam</td>\n",
       "      <td>2006.0</td>\n",
       "      <td>Ulmus 'Columella'</td>\n",
       "      <td>Boom niet vrij uitgroeiend</td>\n",
       "      <td>Bomen</td>\n",
       "      <td>...</td>\n",
       "      <td>Gemeente Amsterdam</td>\n",
       "      <td>3630970000063</td>\n",
       "      <td>Minervabuurt-Noord</td>\n",
       "      <td>KJ02</td>\n",
       "      <td>BU0363KJ02</td>\n",
       "      <td>SRID=28992;POLYGON ((120355.499 484857.456, 12...</td>\n",
       "      <td>Apollobuurt</td>\n",
       "      <td>KJ</td>\n",
       "      <td>WK0363KJ</td>\n",
       "      <td>SRID=28992;POLYGON((120868.184 484624.849,1207...</td>\n",
       "    </tr>\n",
       "    <tr>\n",
       "      <th>175007</th>\n",
       "      <td>1110837</td>\n",
       "      <td>3.630980e+12</td>\n",
       "      <td>SRID=28992;POINT (116015.83 484680.25)</td>\n",
       "      <td>R&amp;E_VOR_Bomen</td>\n",
       "      <td>c. 9 tot 12 m.</td>\n",
       "      <td>Gemeente Amsterdam</td>\n",
       "      <td>1990.0</td>\n",
       "      <td>Betula ermanii cv.</td>\n",
       "      <td>Boom niet vrij uitgroeiend</td>\n",
       "      <td>Bomen</td>\n",
       "      <td>...</td>\n",
       "      <td>Gemeente Amsterdam</td>\n",
       "      <td>3630970000054</td>\n",
       "      <td>Nieuw-Sloten-Noordoost</td>\n",
       "      <td>FQ03</td>\n",
       "      <td>BU0363FQ03</td>\n",
       "      <td>SRID=28992;POLYGON ((116435.107 485020.682, 11...</td>\n",
       "      <td>Sloten/Nieuw-Sloten</td>\n",
       "      <td>FQ</td>\n",
       "      <td>WK0363FQ</td>\n",
       "      <td>SRID=28992;POLYGON((117331.655 484334.668,1170...</td>\n",
       "    </tr>\n",
       "  </tbody>\n",
       "</table>\n",
       "<p>5 rows × 24 columns</p>\n",
       "</div>"
      ],
      "text/plain": [
       "             Id      buurt_id  \\\n",
       "103026  1032781  3.630980e+12   \n",
       "104682  1034507  3.630980e+12   \n",
       "228552  1276499  3.630980e+12   \n",
       "60126    987314  3.630980e+12   \n",
       "175007  1110837  3.630980e+12   \n",
       "\n",
       "                                                Geometrie Typebeheerderplus  \\\n",
       "103026             SRID=28992;POINT (128693.02 484990.59)     R&E_VOR_Bomen   \n",
       "104682             SRID=28992;POINT (124412.31 485757.76)     R&E_VOR_Bomen   \n",
       "228552  SRID=28992;POINT (131025.465546464 480320.3120...     R&E_VOR_Bomen   \n",
       "60126               SRID=28992;POINT (119934.77 484723.5)     R&E_VOR_Bomen   \n",
       "175007             SRID=28992;POINT (116015.83 484680.25)     R&E_VOR_Bomen   \n",
       "\n",
       "       Boomhoogteklasseactueel    Typeeigenaarplus  Jaarvanaanleg  \\\n",
       "103026           b. 6 tot 9 m.  Gemeente Amsterdam         2009.0   \n",
       "104682           b. 6 tot 9 m.  Gemeente Amsterdam         2002.0   \n",
       "228552         e. 15 tot 18 m.      Gemeente Weesp         1974.0   \n",
       "60126            b. 6 tot 9 m.  Gemeente Amsterdam         2006.0   \n",
       "175007          c. 9 tot 12 m.  Gemeente Amsterdam         1990.0   \n",
       "\n",
       "                                 Soortnaam                  Typeobject  \\\n",
       "103026                  Platanus hispanica  Boom niet vrij uitgroeiend   \n",
       "104682                Prunus avium 'Plena'  Boom niet vrij uitgroeiend   \n",
       "228552  Aesculus hippocastanum 'Baumannii'  Boom niet vrij uitgroeiend   \n",
       "60126                    Ulmus 'Columella'  Boom niet vrij uitgroeiend   \n",
       "175007                  Betula ermanii cv.  Boom niet vrij uitgroeiend   \n",
       "\n",
       "       Typesoortnaam  ...   tree_municipality        wijk_id  \\\n",
       "103026         Bomen  ...  Gemeente Amsterdam  3630970000081   \n",
       "104682         Bomen  ...  Gemeente Amsterdam  3630970000076   \n",
       "228552         Bomen  ...               other  3630970000103   \n",
       "60126          Bomen  ...  Gemeente Amsterdam  3630970000063   \n",
       "175007         Bomen  ...  Gemeente Amsterdam  3630970000054   \n",
       "\n",
       "                    Naam_buurt Code_buurt Cbscode_buurt  \\\n",
       "103026    Havenkwartier IJburg       ML01    BU0363ML01   \n",
       "104682         Ambonpleinbuurt       MF03    BU0363MF03   \n",
       "228552          Hogewey-Midden       SC03    BU0363SC03   \n",
       "60126       Minervabuurt-Noord       KJ02    BU0363KJ02   \n",
       "175007  Nieuw-Sloten-Noordoost       FQ03    BU0363FQ03   \n",
       "\n",
       "                                          Geometrie_buurt  \\\n",
       "103026  SRID=28992;POLYGON ((129128.648 485371.33, 128...   \n",
       "104682  SRID=28992;POLYGON ((124520.07 486066.635, 124...   \n",
       "228552  SRID=28992;POLYGON ((130873.805 480764.04, 130...   \n",
       "60126   SRID=28992;POLYGON ((120355.499 484857.456, 12...   \n",
       "175007  SRID=28992;POLYGON ((116435.107 485020.682, 11...   \n",
       "\n",
       "                  Naam_wijk Code_wijk Cbscode_wijk  \\\n",
       "103026          IJburg-Zuid        ML     WK0363ML   \n",
       "104682  Indische Buurt-West        MF     WK0363MF   \n",
       "228552      Weesp-Noordwest        SC     WK0363SC   \n",
       "60126           Apollobuurt        KJ     WK0363KJ   \n",
       "175007  Sloten/Nieuw-Sloten        FQ     WK0363FQ   \n",
       "\n",
       "                                           Geometrie_wijk  \n",
       "103026  SRID=28992;POLYGON((129298.966 485048.564,1292...  \n",
       "104682  SRID=28992;POLYGON((124507.705 486304.448,1245...  \n",
       "228552  SRID=28992;POLYGON((130752.865 481221.406,1306...  \n",
       "60126   SRID=28992;POLYGON((120868.184 484624.849,1207...  \n",
       "175007  SRID=28992;POLYGON((117331.655 484334.668,1170...  \n",
       "\n",
       "[5 rows x 24 columns]"
      ]
     },
     "execution_count": 31,
     "metadata": {},
     "output_type": "execute_result"
    }
   ],
   "source": [
    "df = pd.merge(df_trees, df_location_data, on=buurt_id_column)\n",
    "df.sample(10).head()"
   ]
  }
 ],
 "metadata": {
  "kernelspec": {
   "display_name": "venv",
   "language": "python",
   "name": "python3"
  },
  "language_info": {
   "codemirror_mode": {
    "name": "ipython",
    "version": 3
   },
   "file_extension": ".py",
   "mimetype": "text/x-python",
   "name": "python",
   "nbconvert_exporter": "python",
   "pygments_lexer": "ipython3",
   "version": "3.12.2"
  }
 },
 "nbformat": 4,
 "nbformat_minor": 2
}
