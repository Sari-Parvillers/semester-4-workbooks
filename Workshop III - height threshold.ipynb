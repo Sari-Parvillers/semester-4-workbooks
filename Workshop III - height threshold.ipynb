{
 "cells": [
  {
   "cell_type": "markdown",
   "id": "be7c67f6",
   "metadata": {},
   "source": [
    "# Foundations of Logistic Regression"
   ]
  },
  {
   "cell_type": "code",
   "execution_count": 45,
   "id": "4898544f",
   "metadata": {},
   "outputs": [],
   "source": [
    "import os\n",
    "\n",
    "# Change the current working directory\n",
    "os.chdir('/Users/Sari/Documents/Code/Semester 4 workbooks')"
   ]
  },
  {
   "cell_type": "code",
   "execution_count": 46,
   "id": "02331c11",
   "metadata": {},
   "outputs": [],
   "source": [
    "# Import Necessary Libraries\n",
    "import numpy as np\n",
    "import pandas as pd\n",
    "import matplotlib.pyplot as plt\n",
    "from scipy.stats import multivariate_normal, bernoulli, beta, norm\n",
    "from scipy.special import expit as logistic_sigmoid\n",
    "import statsmodels.api as sm\n",
    "from sklearn.datasets import load_iris\n",
    "from sklearn.linear_model import LogisticRegression\n",
    "from sklearn.model_selection import train_test_split\n",
    "from sklearn.metrics import log_loss\n",
    "import seaborn as sns"
   ]
  },
  {
   "cell_type": "markdown",
   "id": "be856871",
   "metadata": {},
   "source": [
    "## Exercise I: Inference and Prediction for the Homogeneous-Probability Bernoulli Model"
   ]
  },
  {
   "cell_type": "markdown",
   "id": "cd7c7c10",
   "metadata": {},
   "source": [
    "#### a) Simulate a sample of n = 100 Bernoulli distributed outcomes, with the following probability parameter:"
   ]
  },
  {
   "cell_type": "code",
   "execution_count": 47,
   "id": "d81e2a29",
   "metadata": {},
   "outputs": [],
   "source": [
    "p = 0.3\n",
    "sample_size = 100\n",
    "samples = bernoulli.rvs(p, size=sample_size)"
   ]
  },
  {
   "cell_type": "markdown",
   "id": "84fd3474",
   "metadata": {},
   "source": [
    "#### do not look at the value of this parameters - we are going to pretend you're generating a fresh sample, and your goal is to estimate $\\pi$. Imagine this $\\pi$ represents the probability of any one of you saying they will vote for a right-of-centre party in the next Dutch election, and $n = 100$ suggests there are 100 of you to whom this question is being asked."
   ]
  },
  {
   "cell_type": "markdown",
   "id": "81944c12",
   "metadata": {},
   "source": [
    "#### b) Plot the empirical distribution (histogram of simulations) for this set of Bernoulli outcomes"
   ]
  },
  {
   "cell_type": "code",
   "execution_count": 48,
   "id": "54135f37",
   "metadata": {},
   "outputs": [
    {
     "data": {
      "text/plain": [
       "(array([82.,  0.,  0.,  0.,  0.,  0.,  0.,  0.,  0., 18.]),\n",
       " array([0. , 0.1, 0.2, 0.3, 0.4, 0.5, 0.6, 0.7, 0.8, 0.9, 1. ]),\n",
       " <BarContainer object of 10 artists>)"
      ]
     },
     "execution_count": 48,
     "metadata": {},
     "output_type": "execute_result"
    },
    {
     "data": {
      "image/png": "[encoded data removed]",
      "text/plain": [
       "<Figure size 640x480 with 1 Axes>"
      ]
     },
     "metadata": {},
     "output_type": "display_data"
    }
   ],
   "source": [
    "plt.hist(samples)"
   ]
  },
  {
   "cell_type": "markdown",
   "id": "e35a54ce",
   "metadata": {},
   "source": [
    "#### c) Estimate the value of $\\pi$ which is most likely to have generated this set of observations"
   ]
  },
  {
   "cell_type": "code",
   "execution_count": 49,
   "id": "ff2ae7b7",
   "metadata": {},
   "outputs": [
    {
     "name": "stdout",
     "output_type": "stream",
     "text": [
      "p is estimated at 0.18\n"
     ]
    }
   ],
   "source": [
    "# Averaging the outcomes will give me the most likelihood estimate.\n",
    "mle = np.average(samples)\n",
    "print(F\"p is estimated at {mle}\")"
   ]
  },
  {
   "cell_type": "markdown",
   "id": "1d98abb6",
   "metadata": {},
   "source": [
    "#### d) There is uncertainty around this estimate. In theory, why might such uncertainty arise ? "
   ]
  },
  {
   "cell_type": "markdown",
   "id": "d8c47578",
   "metadata": {},
   "source": [
    "#### Answer: The estimate is based on a sample of stochastic outcomes rather than deterministic outcomes. By random chance, we could have ended up with a different distribution than the \"most likely one\" given the true probability parameter. Example: a hundred coin tosses can give us 60 tails and 40 heads just by chance, even if the true probability of a tail is 0.5. "
   ]
  },
  {
   "cell_type": "markdown",
   "id": "4ff9c2db",
   "metadata": {},
   "source": [
    "#### e) Represent the uncertainty around this estimate using the empricial posterior distribution evaluated at the MLE. Simulate 1000 values of $\\pi$ under this distribution. Plot a histogram of the empirical posterior. \n",
    "\n",
    "#### Hint: there are two candidate posterior distributions you can use here -- any one will do..."
   ]
  },
  {
   "cell_type": "code",
   "execution_count": 50,
   "id": "2aa2450f",
   "metadata": {},
   "outputs": [],
   "source": [
    "# With 100 samples and an MLE of 0.34, I'm assuming that a normal approximation\n",
    "# will work here.\n",
    "\n",
    "ep_simulation_n = 1000\n",
    "ep_variance = (mle * (1 - mle)) / sample_size\n",
    "\n",
    "empirical_posterior = norm.rvs(loc=mle, scale=ep_variance, size=ep_simulation_n)"
   ]
  },
  {
   "cell_type": "code",
   "execution_count": 51,
   "id": "11a0f59f",
   "metadata": {},
   "outputs": [
    {
     "data": {
      "text/plain": [
       "<Axes: ylabel='Count'>"
      ]
     },
     "execution_count": 51,
     "metadata": {},
     "output_type": "execute_result"
    },
    {
     "data": {
      "image/png": "[encoded data removed]",
      "text/plain": [
       "<Figure size 640x480 with 1 Axes>"
      ]
     },
     "metadata": {},
     "output_type": "display_data"
    }
   ],
   "source": [
    "sns.histplot(empirical_posterior)"
   ]
  },
  {
   "cell_type": "markdown",
   "id": "985e63dd",
   "metadata": {},
   "source": [
    "#### f) For each simulated value of $\\pi$, generate a new sample of observations `y`. Plot the histogram of these newly generated samples. If you were to observe a new individual from this population, would you classify them as a right-of-centre voter ? and why ?  "
   ]
  },
  {
   "cell_type": "code",
   "execution_count": 52,
   "id": "c39797b5",
   "metadata": {},
   "outputs": [
    {
     "data": {
      "text/plain": [
       "<Axes: ylabel='Count'>"
      ]
     },
     "execution_count": 52,
     "metadata": {},
     "output_type": "execute_result"
    },
    {
     "data": {
      "image/png": "[encoded data removed]",
      "text/plain": [
       "<Figure size 640x480 with 1 Axes>"
      ]
     },
     "metadata": {},
     "output_type": "display_data"
    }
   ],
   "source": [
    "# Here we use the posterior predictive distribution of y \n",
    "# to generate new samples for a hypothetical unobserved student\n",
    "\n",
    "# For each simulated pi, generate a sample from a bernoulli distribution with\n",
    "# the simulated pi as parameter\n",
    "post_pred_sims = [bernoulli.rvs(pi_sim) for pi_sim in empirical_posterior]\n",
    "\n",
    "sns.histplot(post_pred_sims)"
   ]
  },
  {
   "cell_type": "markdown",
   "id": "bc21e388",
   "metadata": {},
   "source": [
    "The most probable outcome of our simulation is y = 0, which in this case would mean that a given individual y is more likely to not vote right of center. I would thus classify a new individual from this population as \"not a right-of-center voter\"."
   ]
  },
  {
   "cell_type": "markdown",
   "id": "5814bd62",
   "metadata": {},
   "source": [
    "## Exercise II: Logistic Regression, Simulation-Based Inference & Prediction"
   ]
  },
  {
   "cell_type": "markdown",
   "id": "5a8d3877",
   "metadata": {},
   "source": [
    "#### a)  For this, I will load my tree dataset again. The dataset is a collection of trees from Amsterdam with associated values for each tree.\n",
    "\n",
    "The goal of this model is to predict whether a tree is \"tall\" or not. A tall tree is a tree that is taller than 10 meters, according to my very scientific judgement."
   ]
  },
  {
   "cell_type": "code",
   "execution_count": 53,
   "id": "bcb79b68",
   "metadata": {},
   "outputs": [
    {
     "data": {
      "text/html": [
       "<div>\n",
       "<style scoped>\n",
       "    .dataframe tbody tr th:only-of-type {\n",
       "        vertical-align: middle;\n",
       "    }\n",
       "\n",
       "    .dataframe tbody tr th {\n",
       "        vertical-align: top;\n",
       "    }\n",
       "\n",
       "    .dataframe thead th {\n",
       "        text-align: right;\n",
       "    }\n",
       "</style>\n",
       "<table border=\"1\" class=\"dataframe\">\n",
       "  <thead>\n",
       "    <tr style=\"text-align: right;\">\n",
       "      <th></th>\n",
       "      <th>growth_ground</th>\n",
       "      <th>diameter</th>\n",
       "      <th>tree_height_fixed</th>\n",
       "      <th>tree_admin</th>\n",
       "      <th>tree_municipality</th>\n",
       "      <th>age</th>\n",
       "      <th>species</th>\n",
       "      <th>species_group</th>\n",
       "      <th>tree_treatment</th>\n",
       "      <th>Naam_buurt</th>\n",
       "      <th>Naam_wijk</th>\n",
       "      <th>parked_cars_in_neighbourhood</th>\n",
       "    </tr>\n",
       "  </thead>\n",
       "  <tbody>\n",
       "    <tr>\n",
       "      <th>16058</th>\n",
       "      <td>Gazon</td>\n",
       "      <td>0.40</td>\n",
       "      <td>21.0</td>\n",
       "      <td>Recreatieschap Noord-Holland</td>\n",
       "      <td>Gemeente Amsterdam</td>\n",
       "      <td>59.0</td>\n",
       "      <td>Quercus robur cv.</td>\n",
       "      <td>Quercus</td>\n",
       "      <td>Boom niet vrij uitgroeiend</td>\n",
       "      <td>Osdorper Binnenpolder</td>\n",
       "      <td>Geuzenveld</td>\n",
       "      <td>856</td>\n",
       "    </tr>\n",
       "    <tr>\n",
       "      <th>8176</th>\n",
       "      <td>Vaste planten</td>\n",
       "      <td>0.25</td>\n",
       "      <td>16.5</td>\n",
       "      <td>R&amp;E_VOR_Bomen</td>\n",
       "      <td>Gemeente Amsterdam</td>\n",
       "      <td>32.0</td>\n",
       "      <td>Ulmus minor 'Sarniensis'</td>\n",
       "      <td>Ulmus</td>\n",
       "      <td>Boom niet vrij uitgroeiend</td>\n",
       "      <td>Bellamybuurt-Zuid</td>\n",
       "      <td>Bellamybuurt</td>\n",
       "      <td>318</td>\n",
       "    </tr>\n",
       "    <tr>\n",
       "      <th>4343</th>\n",
       "      <td>Gazon</td>\n",
       "      <td>0.25</td>\n",
       "      <td>13.5</td>\n",
       "      <td>R&amp;E_VOR_Bomen</td>\n",
       "      <td>Gemeente Amsterdam</td>\n",
       "      <td>41.0</td>\n",
       "      <td>Tilia europaea</td>\n",
       "      <td>Tilia</td>\n",
       "      <td>Boom niet vrij uitgroeiend</td>\n",
       "      <td>Amstel III deel A/B-Noord</td>\n",
       "      <td>Amstel III/Bullewijk</td>\n",
       "      <td>16</td>\n",
       "    </tr>\n",
       "    <tr>\n",
       "      <th>16059</th>\n",
       "      <td>Gazon</td>\n",
       "      <td>0.40</td>\n",
       "      <td>21.0</td>\n",
       "      <td>Recreatieschap Noord-Holland</td>\n",
       "      <td>Gemeente Amsterdam</td>\n",
       "      <td>59.0</td>\n",
       "      <td>Fraxinus excelsior cv.</td>\n",
       "      <td>Fraxinus</td>\n",
       "      <td>Boom niet vrij uitgroeiend</td>\n",
       "      <td>Osdorper Binnenpolder</td>\n",
       "      <td>Geuzenveld</td>\n",
       "      <td>856</td>\n",
       "    </tr>\n",
       "    <tr>\n",
       "      <th>9412</th>\n",
       "      <td>Bloemrijk gras</td>\n",
       "      <td>0.75</td>\n",
       "      <td>21.0</td>\n",
       "      <td>R&amp;E_VOR_Bomen</td>\n",
       "      <td>Gemeente Amsterdam</td>\n",
       "      <td>54.0</td>\n",
       "      <td>Quercus palustris</td>\n",
       "      <td>Quercus</td>\n",
       "      <td>Boom niet vrij uitgroeiend</td>\n",
       "      <td>Drieburg</td>\n",
       "      <td>Betondorp</td>\n",
       "      <td>397</td>\n",
       "    </tr>\n",
       "  </tbody>\n",
       "</table>\n",
       "</div>"
      ],
      "text/plain": [
       "        growth_ground  diameter  tree_height_fixed  \\\n",
       "16058           Gazon      0.40               21.0   \n",
       "8176    Vaste planten      0.25               16.5   \n",
       "4343            Gazon      0.25               13.5   \n",
       "16059           Gazon      0.40               21.0   \n",
       "9412   Bloemrijk gras      0.75               21.0   \n",
       "\n",
       "                         tree_admin   tree_municipality   age  \\\n",
       "16058  Recreatieschap Noord-Holland  Gemeente Amsterdam  59.0   \n",
       "8176                  R&E_VOR_Bomen  Gemeente Amsterdam  32.0   \n",
       "4343                  R&E_VOR_Bomen  Gemeente Amsterdam  41.0   \n",
       "16059  Recreatieschap Noord-Holland  Gemeente Amsterdam  59.0   \n",
       "9412                  R&E_VOR_Bomen  Gemeente Amsterdam  54.0   \n",
       "\n",
       "                        species species_group              tree_treatment  \\\n",
       "16058         Quercus robur cv.       Quercus  Boom niet vrij uitgroeiend   \n",
       "8176   Ulmus minor 'Sarniensis'         Ulmus  Boom niet vrij uitgroeiend   \n",
       "4343             Tilia europaea         Tilia  Boom niet vrij uitgroeiend   \n",
       "16059    Fraxinus excelsior cv.      Fraxinus  Boom niet vrij uitgroeiend   \n",
       "9412          Quercus palustris       Quercus  Boom niet vrij uitgroeiend   \n",
       "\n",
       "                      Naam_buurt             Naam_wijk  \\\n",
       "16058      Osdorper Binnenpolder            Geuzenveld   \n",
       "8176           Bellamybuurt-Zuid          Bellamybuurt   \n",
       "4343   Amstel III deel A/B-Noord  Amstel III/Bullewijk   \n",
       "16059      Osdorper Binnenpolder            Geuzenveld   \n",
       "9412                    Drieburg             Betondorp   \n",
       "\n",
       "       parked_cars_in_neighbourhood  \n",
       "16058                           856  \n",
       "8176                            318  \n",
       "4343                             16  \n",
       "16059                           856  \n",
       "9412                            397  "
      ]
     },
     "metadata": {},
     "output_type": "display_data"
    }
   ],
   "source": [
    "# Load tree data\n",
    "df = pd.read_csv('data/clean_tree_data.csv')\n",
    "# the dataset is much bigger than we need, sampling from it\n",
    "data_n = 2000\n",
    "df = df.sample(data_n, random_state=31415)\n",
    "df.drop(['Unnamed: 0', 'tree_height_random'], axis=1, inplace=True)\n",
    "\n",
    "# Check dataset\n",
    "display(df.head())"
   ]
  },
  {
   "cell_type": "markdown",
   "id": "efaf689d",
   "metadata": {},
   "source": [
    "#### b) Nothing needed at this step"
   ]
  },
  {
   "cell_type": "markdown",
   "id": "263f3b7b",
   "metadata": {},
   "source": [
    "#### c) Define the outcome of interest as 1 if the tree is of the genus is \"Platanus\" and 0 otherwise."
   ]
  },
  {
   "cell_type": "code",
   "execution_count": 54,
   "id": "6aaf085f",
   "metadata": {
    "scrolled": true
   },
   "outputs": [
    {
     "data": {
      "text/plain": [
       "is_tall\n",
       "1    1363\n",
       "0     637\n",
       "Name: count, dtype: int64"
      ]
     },
     "execution_count": 54,
     "metadata": {},
     "output_type": "execute_result"
    }
   ],
   "source": [
    "df['is_tall'] = pd.Series(df['tree_height_fixed'] > 10).astype(int)\n",
    "df['is_tall'].value_counts()"
   ]
  },
  {
   "cell_type": "code",
   "execution_count": 55,
   "id": "51513a3e",
   "metadata": {},
   "outputs": [
    {
     "data": {
      "text/plain": [
       "16058    1\n",
       "8176     1\n",
       "4343     1\n",
       "16059    1\n",
       "9412     1\n",
       "        ..\n",
       "23032    0\n",
       "23176    1\n",
       "9789     1\n",
       "23427    1\n",
       "13461    1\n",
       "Name: is_tall, Length: 2000, dtype: int64"
      ]
     },
     "execution_count": 55,
     "metadata": {},
     "output_type": "execute_result"
    }
   ],
   "source": [
    "Y = df['is_tall']\n",
    "Y"
   ]
  },
  {
   "cell_type": "code",
   "execution_count": 56,
   "id": "997dcdac",
   "metadata": {},
   "outputs": [
    {
     "name": "stdout",
     "output_type": "stream",
     "text": [
      "['Boom niet vrij uitgroeiend' 'Knotboom' 'Boom vrij uitgroeiend' 'Stobbe'\n",
      " 'Vormboom' 'Gekandelaberde boom']\n",
      "growing_freely\n",
      "0    1838\n",
      "1     162\n",
      "Name: count, dtype: int64\n"
     ]
    }
   ],
   "source": [
    "# streamlining \"tree treatment\" otherwise the model overflows\n",
    "print(df['tree_treatment'].unique())\n",
    "# We'll just have \"growing_freely\" as a variable\n",
    "df['growing_freely'] = pd.Series(\n",
    "    df['tree_treatment'] == 'Boom vrij uitgroeiend'\n",
    ").astype(int)\n",
    "\n",
    "print(df['growing_freely'].value_counts())"
   ]
  },
  {
   "cell_type": "markdown",
   "id": "72207df1",
   "metadata": {},
   "source": [
    "#### d) My design matrix for predicting tallness will include diameter, species, age, and whether the tree is growing freely.\n",
    "\n",
    "#### Note: Remember the `dummy trap`...if you have a categorical variable with `m` possible values, you can only have `m-1` such variables be dummies in your model, due to perfect multi-collinearity..."
   ]
  },
  {
   "cell_type": "code",
   "execution_count": 57,
   "id": "a33c9787",
   "metadata": {},
   "outputs": [
    {
     "data": {
      "text/html": [
       "<div>\n",
       "<style scoped>\n",
       "    .dataframe tbody tr th:only-of-type {\n",
       "        vertical-align: middle;\n",
       "    }\n",
       "\n",
       "    .dataframe tbody tr th {\n",
       "        vertical-align: top;\n",
       "    }\n",
       "\n",
       "    .dataframe thead th {\n",
       "        text-align: right;\n",
       "    }\n",
       "</style>\n",
       "<table border=\"1\" class=\"dataframe\">\n",
       "  <thead>\n",
       "    <tr style=\"text-align: right;\">\n",
       "      <th></th>\n",
       "      <th>diameter</th>\n",
       "      <th>age</th>\n",
       "      <th>growing_freely</th>\n",
       "      <th>species_group_Aesculus</th>\n",
       "      <th>species_group_Ailanthus</th>\n",
       "      <th>species_group_Alnus</th>\n",
       "      <th>species_group_Amelanchier</th>\n",
       "      <th>species_group_Betula</th>\n",
       "      <th>species_group_Carpinus</th>\n",
       "      <th>species_group_Castanea</th>\n",
       "      <th>...</th>\n",
       "      <th>species_group_Quercus</th>\n",
       "      <th>species_group_Robinia</th>\n",
       "      <th>species_group_Salix</th>\n",
       "      <th>species_group_Sequoiadendron</th>\n",
       "      <th>species_group_Sorbus</th>\n",
       "      <th>species_group_Styphnolobium</th>\n",
       "      <th>species_group_Taxodium</th>\n",
       "      <th>species_group_Taxus</th>\n",
       "      <th>species_group_Tilia</th>\n",
       "      <th>species_group_Ulmus</th>\n",
       "    </tr>\n",
       "  </thead>\n",
       "  <tbody>\n",
       "    <tr>\n",
       "      <th>16058</th>\n",
       "      <td>0.40</td>\n",
       "      <td>59.0</td>\n",
       "      <td>0</td>\n",
       "      <td>0.0</td>\n",
       "      <td>0.0</td>\n",
       "      <td>0.0</td>\n",
       "      <td>0.0</td>\n",
       "      <td>0.0</td>\n",
       "      <td>0.0</td>\n",
       "      <td>0.0</td>\n",
       "      <td>...</td>\n",
       "      <td>1.0</td>\n",
       "      <td>0.0</td>\n",
       "      <td>0.0</td>\n",
       "      <td>0.0</td>\n",
       "      <td>0.0</td>\n",
       "      <td>0.0</td>\n",
       "      <td>0.0</td>\n",
       "      <td>0.0</td>\n",
       "      <td>0.0</td>\n",
       "      <td>0.0</td>\n",
       "    </tr>\n",
       "    <tr>\n",
       "      <th>8176</th>\n",
       "      <td>0.25</td>\n",
       "      <td>32.0</td>\n",
       "      <td>0</td>\n",
       "      <td>0.0</td>\n",
       "      <td>0.0</td>\n",
       "      <td>0.0</td>\n",
       "      <td>0.0</td>\n",
       "      <td>0.0</td>\n",
       "      <td>0.0</td>\n",
       "      <td>0.0</td>\n",
       "      <td>...</td>\n",
       "      <td>0.0</td>\n",
       "      <td>0.0</td>\n",
       "      <td>0.0</td>\n",
       "      <td>0.0</td>\n",
       "      <td>0.0</td>\n",
       "      <td>0.0</td>\n",
       "      <td>0.0</td>\n",
       "      <td>0.0</td>\n",
       "      <td>0.0</td>\n",
       "      <td>1.0</td>\n",
       "    </tr>\n",
       "    <tr>\n",
       "      <th>4343</th>\n",
       "      <td>0.25</td>\n",
       "      <td>41.0</td>\n",
       "      <td>0</td>\n",
       "      <td>0.0</td>\n",
       "      <td>0.0</td>\n",
       "      <td>0.0</td>\n",
       "      <td>0.0</td>\n",
       "      <td>0.0</td>\n",
       "      <td>0.0</td>\n",
       "      <td>0.0</td>\n",
       "      <td>...</td>\n",
       "      <td>0.0</td>\n",
       "      <td>0.0</td>\n",
       "      <td>0.0</td>\n",
       "      <td>0.0</td>\n",
       "      <td>0.0</td>\n",
       "      <td>0.0</td>\n",
       "      <td>0.0</td>\n",
       "      <td>0.0</td>\n",
       "      <td>1.0</td>\n",
       "      <td>0.0</td>\n",
       "    </tr>\n",
       "    <tr>\n",
       "      <th>16059</th>\n",
       "      <td>0.40</td>\n",
       "      <td>59.0</td>\n",
       "      <td>0</td>\n",
       "      <td>0.0</td>\n",
       "      <td>0.0</td>\n",
       "      <td>0.0</td>\n",
       "      <td>0.0</td>\n",
       "      <td>0.0</td>\n",
       "      <td>0.0</td>\n",
       "      <td>0.0</td>\n",
       "      <td>...</td>\n",
       "      <td>0.0</td>\n",
       "      <td>0.0</td>\n",
       "      <td>0.0</td>\n",
       "      <td>0.0</td>\n",
       "      <td>0.0</td>\n",
       "      <td>0.0</td>\n",
       "      <td>0.0</td>\n",
       "      <td>0.0</td>\n",
       "      <td>0.0</td>\n",
       "      <td>0.0</td>\n",
       "    </tr>\n",
       "    <tr>\n",
       "      <th>9412</th>\n",
       "      <td>0.75</td>\n",
       "      <td>54.0</td>\n",
       "      <td>0</td>\n",
       "      <td>0.0</td>\n",
       "      <td>0.0</td>\n",
       "      <td>0.0</td>\n",
       "      <td>0.0</td>\n",
       "      <td>0.0</td>\n",
       "      <td>0.0</td>\n",
       "      <td>0.0</td>\n",
       "      <td>...</td>\n",
       "      <td>1.0</td>\n",
       "      <td>0.0</td>\n",
       "      <td>0.0</td>\n",
       "      <td>0.0</td>\n",
       "      <td>0.0</td>\n",
       "      <td>0.0</td>\n",
       "      <td>0.0</td>\n",
       "      <td>0.0</td>\n",
       "      <td>0.0</td>\n",
       "      <td>0.0</td>\n",
       "    </tr>\n",
       "  </tbody>\n",
       "</table>\n",
       "<p>5 rows × 46 columns</p>\n",
       "</div>"
      ],
      "text/plain": [
       "       diameter   age  growing_freely  species_group_Aesculus  \\\n",
       "16058      0.40  59.0               0                     0.0   \n",
       "8176       0.25  32.0               0                     0.0   \n",
       "4343       0.25  41.0               0                     0.0   \n",
       "16059      0.40  59.0               0                     0.0   \n",
       "9412       0.75  54.0               0                     0.0   \n",
       "\n",
       "       species_group_Ailanthus  species_group_Alnus  \\\n",
       "16058                      0.0                  0.0   \n",
       "8176                       0.0                  0.0   \n",
       "4343                       0.0                  0.0   \n",
       "16059                      0.0                  0.0   \n",
       "9412                       0.0                  0.0   \n",
       "\n",
       "       species_group_Amelanchier  species_group_Betula  \\\n",
       "16058                        0.0                   0.0   \n",
       "8176                         0.0                   0.0   \n",
       "4343                         0.0                   0.0   \n",
       "16059                        0.0                   0.0   \n",
       "9412                         0.0                   0.0   \n",
       "\n",
       "       species_group_Carpinus  species_group_Castanea  ...  \\\n",
       "16058                     0.0                     0.0  ...   \n",
       "8176                      0.0                     0.0  ...   \n",
       "4343                      0.0                     0.0  ...   \n",
       "16059                     0.0                     0.0  ...   \n",
       "9412                      0.0                     0.0  ...   \n",
       "\n",
       "       species_group_Quercus  species_group_Robinia  species_group_Salix  \\\n",
       "16058                    1.0                    0.0                  0.0   \n",
       "8176                     0.0                    0.0                  0.0   \n",
       "4343                     0.0                    0.0                  0.0   \n",
       "16059                    0.0                    0.0                  0.0   \n",
       "9412                     1.0                    0.0                  0.0   \n",
       "\n",
       "       species_group_Sequoiadendron  species_group_Sorbus  \\\n",
       "16058                           0.0                   0.0   \n",
       "8176                            0.0                   0.0   \n",
       "4343                            0.0                   0.0   \n",
       "16059                           0.0                   0.0   \n",
       "9412                            0.0                   0.0   \n",
       "\n",
       "       species_group_Styphnolobium  species_group_Taxodium  \\\n",
       "16058                          0.0                     0.0   \n",
       "8176                           0.0                     0.0   \n",
       "4343                           0.0                     0.0   \n",
       "16059                          0.0                     0.0   \n",
       "9412                           0.0                     0.0   \n",
       "\n",
       "       species_group_Taxus  species_group_Tilia  species_group_Ulmus  \n",
       "16058                  0.0                  0.0                  0.0  \n",
       "8176                   0.0                  0.0                  1.0  \n",
       "4343                   0.0                  1.0                  0.0  \n",
       "16059                  0.0                  0.0                  0.0  \n",
       "9412                   0.0                  0.0                  0.0  \n",
       "\n",
       "[5 rows x 46 columns]"
      ]
     },
     "metadata": {},
     "output_type": "display_data"
    }
   ],
   "source": [
    "# Create design matrix \n",
    "X = pd.DataFrame({\n",
    "    'diameter': df['diameter'],\n",
    "    'age': df['age'],\n",
    "    'growing_freely': df['growing_freely'],\n",
    "})\n",
    "\n",
    "categorical_vars = ['species_group']\n",
    "\n",
    "for category in categorical_vars:\n",
    "    dummies = pd.get_dummies(df[category], prefix=category, drop_first=True)\n",
    "    dummies = dummies.astype(float)\n",
    "    X = pd.concat([X, dummies], axis=1)\n",
    "\n",
    "# Display the first few rows of the DataFrame\n",
    "display(X.head())"
   ]
  },
  {
   "cell_type": "markdown",
   "id": "50ea25ed",
   "metadata": {},
   "source": [
    "#### e) Explore the correlation matrix between the covariates and the outcome. Which variables are most linearly related ? Does the direction of the correlation make sense ? Which covariates are most related to the outcome ? \n",
    "\n",
    "#### Hint: remember to drop missing values... for both X and Y..."
   ]
  },
  {
   "cell_type": "code",
   "execution_count": 58,
   "id": "a44ccc36",
   "metadata": {},
   "outputs": [
    {
     "data": {
      "text/plain": [
       "array([[ 1.        ,  0.44662125,  0.38662845, ..., -0.0414613 ,\n",
       "         0.10132444,  0.16478053],\n",
       "       [ 0.44662125,  1.        ,  0.62428697, ..., -0.01967354,\n",
       "         0.01161665,  0.14401231],\n",
       "       [ 0.38662845,  0.62428697,  1.        , ...,  0.03336102,\n",
       "         0.17315451,  0.02411843],\n",
       "       ...,\n",
       "       [-0.0414613 , -0.01967354,  0.03336102, ...,  1.        ,\n",
       "        -0.01772299, -0.01776079],\n",
       "       [ 0.10132444,  0.01161665,  0.17315451, ..., -0.01772299,\n",
       "         1.        , -0.15707235],\n",
       "       [ 0.16478053,  0.14401231,  0.02411843, ..., -0.01776079,\n",
       "        -0.15707235,  1.        ]])"
      ]
     },
     "execution_count": 58,
     "metadata": {},
     "output_type": "execute_result"
    }
   ],
   "source": [
    "YX = pd.concat([Y, X], axis=1)\n",
    "YX = YX.dropna()\n",
    "\n",
    "# Examine the correlation between covariates and outcome (outcome is the first column)\n",
    "# Can you identify some `perfect multicollinearity' that could hinder the estimation ? \n",
    "np.corrcoef(YX.T)"
   ]
  },
  {
   "cell_type": "markdown",
   "id": "ffff1fe3",
   "metadata": {},
   "source": [
    "#### f) Fit the logistic regression model using statsmodels. Make sure the estimation procedure has converged.\n",
    "#### If not, examine the errors and figure out why it's not. Remember to drop the NAs."
   ]
  },
  {
   "cell_type": "code",
   "execution_count": 59,
   "id": "20f664a2",
   "metadata": {},
   "outputs": [
    {
     "name": "stdout",
     "output_type": "stream",
     "text": [
      "Optimization terminated successfully.\n",
      "         Current function value: 0.342939\n",
      "         Iterations: 320\n",
      "         Function evaluations: 323\n",
      "         Gradient evaluations: 323\n"
     ]
    }
   ],
   "source": [
    "X_with_intercept = sm.add_constant(X)\n",
    "X_with_intercept.dropna(inplace=True)\n",
    "model = sm.Logit(Y, X_with_intercept).fit(maxiter=1000, method='bfgs')"
   ]
  },
  {
   "cell_type": "markdown",
   "id": "4ab78727",
   "metadata": {},
   "source": [
    "#### g) Get summary of regression output."
   ]
  },
  {
   "cell_type": "code",
   "execution_count": 60,
   "id": "accde7f7",
   "metadata": {},
   "outputs": [
    {
     "data": {
      "text/html": [
       "<table class=\"simpletable\">\n",
       "<caption>Logit Regression Results</caption>\n",
       "<tr>\n",
       "  <th>Dep. Variable:</th>        <td>is_tall</td>     <th>  No. Observations:  </th>   <td>  2000</td>  \n",
       "</tr>\n",
       "<tr>\n",
       "  <th>Model:</th>                 <td>Logit</td>      <th>  Df Residuals:      </th>   <td>  1953</td>  \n",
       "</tr>\n",
       "<tr>\n",
       "  <th>Method:</th>                 <td>MLE</td>       <th>  Df Model:          </th>   <td>    46</td>  \n",
       "</tr>\n",
       "<tr>\n",
       "  <th>Date:</th>            <td>Mon, 01 Apr 2024</td> <th>  Pseudo R-squ.:     </th>   <td>0.4519</td>  \n",
       "</tr>\n",
       "<tr>\n",
       "  <th>Time:</th>                <td>13:31:34</td>     <th>  Log-Likelihood:    </th>  <td> -685.88</td> \n",
       "</tr>\n",
       "<tr>\n",
       "  <th>converged:</th>             <td>True</td>       <th>  LL-Null:           </th>  <td> -1251.5</td> \n",
       "</tr>\n",
       "<tr>\n",
       "  <th>Covariance Type:</th>     <td>nonrobust</td>    <th>  LLR p-value:       </th> <td>7.747e-207</td>\n",
       "</tr>\n",
       "</table>\n",
       "<table class=\"simpletable\">\n",
       "<tr>\n",
       "                <td></td>                  <th>coef</th>     <th>std err</th>      <th>z</th>      <th>P>|z|</th>  <th>[0.025</th>    <th>0.975]</th>  \n",
       "</tr>\n",
       "<tr>\n",
       "  <th>const</th>                        <td>   -2.7307</td> <td>    0.273</td> <td>   -9.990</td> <td> 0.000</td> <td>   -3.266</td> <td>   -2.195</td>\n",
       "</tr>\n",
       "<tr>\n",
       "  <th>diameter</th>                     <td>   11.0388</td> <td>    0.977</td> <td>   11.294</td> <td> 0.000</td> <td>    9.123</td> <td>   12.954</td>\n",
       "</tr>\n",
       "<tr>\n",
       "  <th>age</th>                          <td>    0.0249</td> <td>    0.006</td> <td>    3.964</td> <td> 0.000</td> <td>    0.013</td> <td>    0.037</td>\n",
       "</tr>\n",
       "<tr>\n",
       "  <th>growing_freely</th>               <td>   -0.1796</td> <td>    0.269</td> <td>   -0.667</td> <td> 0.505</td> <td>   -0.707</td> <td>    0.348</td>\n",
       "</tr>\n",
       "<tr>\n",
       "  <th>species_group_Aesculus</th>       <td>   -1.7699</td> <td>    0.607</td> <td>   -2.917</td> <td> 0.004</td> <td>   -2.959</td> <td>   -0.581</td>\n",
       "</tr>\n",
       "<tr>\n",
       "  <th>species_group_Ailanthus</th>      <td>    0.4891</td> <td>    0.620</td> <td>    0.789</td> <td> 0.430</td> <td>   -0.726</td> <td>    1.704</td>\n",
       "</tr>\n",
       "<tr>\n",
       "  <th>species_group_Alnus</th>          <td>    1.9528</td> <td>    0.451</td> <td>    4.329</td> <td> 0.000</td> <td>    1.069</td> <td>    2.837</td>\n",
       "</tr>\n",
       "<tr>\n",
       "  <th>species_group_Amelanchier</th>    <td>  -16.3870</td> <td> 1911.023</td> <td>   -0.009</td> <td> 0.993</td> <td>-3761.924</td> <td> 3729.150</td>\n",
       "</tr>\n",
       "<tr>\n",
       "  <th>species_group_Betula</th>         <td>   -0.3167</td> <td>    0.318</td> <td>   -0.995</td> <td> 0.320</td> <td>   -0.941</td> <td>    0.307</td>\n",
       "</tr>\n",
       "<tr>\n",
       "  <th>species_group_Carpinus</th>       <td>   -0.8162</td> <td>    0.351</td> <td>   -2.325</td> <td> 0.020</td> <td>   -1.504</td> <td>   -0.128</td>\n",
       "</tr>\n",
       "<tr>\n",
       "  <th>species_group_Castanea</th>       <td>    9.4063</td> <td>  168.978</td> <td>    0.056</td> <td> 0.956</td> <td> -321.785</td> <td>  340.598</td>\n",
       "</tr>\n",
       "<tr>\n",
       "  <th>species_group_Catalpa</th>        <td>   -1.0807</td> <td>    1.303</td> <td>   -0.830</td> <td> 0.407</td> <td>   -3.634</td> <td>    1.472</td>\n",
       "</tr>\n",
       "<tr>\n",
       "  <th>species_group_Celtis</th>         <td>  -15.2665</td> <td> 1354.047</td> <td>   -0.011</td> <td> 0.991</td> <td>-2669.151</td> <td> 2638.618</td>\n",
       "</tr>\n",
       "<tr>\n",
       "  <th>species_group_Cornus</th>         <td>  -11.2135</td> <td>  309.187</td> <td>   -0.036</td> <td> 0.971</td> <td> -617.208</td> <td>  594.781</td>\n",
       "</tr>\n",
       "<tr>\n",
       "  <th>species_group_Corylus</th>        <td>   -0.0045</td> <td>    0.673</td> <td>   -0.007</td> <td> 0.995</td> <td>   -1.324</td> <td>    1.315</td>\n",
       "</tr>\n",
       "<tr>\n",
       "  <th>species_group_Crataegus</th>      <td>   -2.9538</td> <td>    0.544</td> <td>   -5.433</td> <td> 0.000</td> <td>   -4.019</td> <td>   -1.888</td>\n",
       "</tr>\n",
       "<tr>\n",
       "  <th>species_group_Fagus</th>          <td>   -0.1341</td> <td>    0.772</td> <td>   -0.174</td> <td> 0.862</td> <td>   -1.648</td> <td>    1.380</td>\n",
       "</tr>\n",
       "<tr>\n",
       "  <th>species_group_Fraxinus</th>       <td>    0.9257</td> <td>    0.309</td> <td>    2.996</td> <td> 0.003</td> <td>    0.320</td> <td>    1.531</td>\n",
       "</tr>\n",
       "<tr>\n",
       "  <th>species_group_Ginkgo</th>         <td>    0.0923</td> <td>    0.536</td> <td>    0.172</td> <td> 0.863</td> <td>   -0.958</td> <td>    1.143</td>\n",
       "</tr>\n",
       "<tr>\n",
       "  <th>species_group_Gleditsia</th>      <td>   -0.3255</td> <td>    0.533</td> <td>   -0.611</td> <td> 0.541</td> <td>   -1.370</td> <td>    0.719</td>\n",
       "</tr>\n",
       "<tr>\n",
       "  <th>species_group_Ilex</th>           <td>  -21.7668</td> <td> 1.74e+04</td> <td>   -0.001</td> <td> 0.999</td> <td>-3.41e+04</td> <td> 3.41e+04</td>\n",
       "</tr>\n",
       "<tr>\n",
       "  <th>species_group_Juglans</th>        <td>   -9.0506</td> <td>  143.463</td> <td>   -0.063</td> <td> 0.950</td> <td> -290.233</td> <td>  272.132</td>\n",
       "</tr>\n",
       "<tr>\n",
       "  <th>species_group_Juniperus</th>      <td>   -8.6482</td> <td>  124.843</td> <td>   -0.069</td> <td> 0.945</td> <td> -253.335</td> <td>  236.039</td>\n",
       "</tr>\n",
       "<tr>\n",
       "  <th>species_group_Koelreuteria</th>   <td>  -16.3351</td> <td> 1284.297</td> <td>   -0.013</td> <td> 0.990</td> <td>-2533.510</td> <td> 2500.840</td>\n",
       "</tr>\n",
       "<tr>\n",
       "  <th>species_group_Liquidambar</th>    <td>    0.2123</td> <td>    0.589</td> <td>    0.361</td> <td> 0.718</td> <td>   -0.941</td> <td>    1.366</td>\n",
       "</tr>\n",
       "<tr>\n",
       "  <th>species_group_Liriodendron</th>   <td>   11.7402</td> <td>  412.446</td> <td>    0.028</td> <td> 0.977</td> <td> -796.640</td> <td>  820.120</td>\n",
       "</tr>\n",
       "<tr>\n",
       "  <th>species_group_Magnolia</th>       <td>  -15.6708</td> <td> 1604.524</td> <td>   -0.010</td> <td> 0.992</td> <td>-3160.481</td> <td> 3129.139</td>\n",
       "</tr>\n",
       "<tr>\n",
       "  <th>species_group_Malus</th>          <td>  -17.9418</td> <td> 1359.756</td> <td>   -0.013</td> <td> 0.989</td> <td>-2683.014</td> <td> 2647.130</td>\n",
       "</tr>\n",
       "<tr>\n",
       "  <th>species_group_Metasequoia</th>    <td>   15.0915</td> <td> 1132.577</td> <td>    0.013</td> <td> 0.989</td> <td>-2204.720</td> <td> 2234.903</td>\n",
       "</tr>\n",
       "<tr>\n",
       "  <th>species_group_Ostrya</th>         <td>   -1.8161</td> <td>    1.590</td> <td>   -1.142</td> <td> 0.253</td> <td>   -4.933</td> <td>    1.301</td>\n",
       "</tr>\n",
       "<tr>\n",
       "  <th>species_group_Parrotia</th>       <td>  -12.8617</td> <td>  593.199</td> <td>   -0.022</td> <td> 0.983</td> <td>-1175.510</td> <td> 1149.787</td>\n",
       "</tr>\n",
       "<tr>\n",
       "  <th>species_group_Pinus</th>          <td>   -1.4114</td> <td>    0.831</td> <td>   -1.698</td> <td> 0.090</td> <td>   -3.041</td> <td>    0.218</td>\n",
       "</tr>\n",
       "<tr>\n",
       "  <th>species_group_Platanus</th>       <td>    0.8485</td> <td>    0.428</td> <td>    1.983</td> <td> 0.047</td> <td>    0.010</td> <td>    1.687</td>\n",
       "</tr>\n",
       "<tr>\n",
       "  <th>species_group_Populus</th>        <td>    3.7561</td> <td>    1.042</td> <td>    3.604</td> <td> 0.000</td> <td>    1.713</td> <td>    5.799</td>\n",
       "</tr>\n",
       "<tr>\n",
       "  <th>species_group_Prunus</th>         <td>   -2.0058</td> <td>    0.371</td> <td>   -5.406</td> <td> 0.000</td> <td>   -2.733</td> <td>   -1.279</td>\n",
       "</tr>\n",
       "<tr>\n",
       "  <th>species_group_Pterocarya</th>     <td>   -1.2742</td> <td>    1.400</td> <td>   -0.910</td> <td> 0.363</td> <td>   -4.017</td> <td>    1.469</td>\n",
       "</tr>\n",
       "<tr>\n",
       "  <th>species_group_Pyrus</th>          <td>   -0.8656</td> <td>    0.512</td> <td>   -1.689</td> <td> 0.091</td> <td>   -1.870</td> <td>    0.139</td>\n",
       "</tr>\n",
       "<tr>\n",
       "  <th>species_group_Quercus</th>        <td>    0.7501</td> <td>    0.312</td> <td>    2.407</td> <td> 0.016</td> <td>    0.139</td> <td>    1.361</td>\n",
       "</tr>\n",
       "<tr>\n",
       "  <th>species_group_Robinia</th>        <td>    0.5087</td> <td>    0.481</td> <td>    1.058</td> <td> 0.290</td> <td>   -0.434</td> <td>    1.451</td>\n",
       "</tr>\n",
       "<tr>\n",
       "  <th>species_group_Salix</th>          <td>   -2.3932</td> <td>    0.389</td> <td>   -6.160</td> <td> 0.000</td> <td>   -3.155</td> <td>   -1.632</td>\n",
       "</tr>\n",
       "<tr>\n",
       "  <th>species_group_Sequoiadendron</th> <td>   16.7762</td> <td> 2758.641</td> <td>    0.006</td> <td> 0.995</td> <td>-5390.061</td> <td> 5423.613</td>\n",
       "</tr>\n",
       "<tr>\n",
       "  <th>species_group_Sorbus</th>         <td>   -2.2295</td> <td>    0.519</td> <td>   -4.293</td> <td> 0.000</td> <td>   -3.247</td> <td>   -1.212</td>\n",
       "</tr>\n",
       "<tr>\n",
       "  <th>species_group_Styphnolobium</th>  <td>    0.5164</td> <td>    1.289</td> <td>    0.401</td> <td> 0.689</td> <td>   -2.011</td> <td>    3.043</td>\n",
       "</tr>\n",
       "<tr>\n",
       "  <th>species_group_Taxodium</th>       <td>   -0.7202</td> <td>    0.923</td> <td>   -0.781</td> <td> 0.435</td> <td>   -2.529</td> <td>    1.088</td>\n",
       "</tr>\n",
       "<tr>\n",
       "  <th>species_group_Taxus</th>          <td>   -2.4995</td> <td>    1.484</td> <td>   -1.685</td> <td> 0.092</td> <td>   -5.407</td> <td>    0.408</td>\n",
       "</tr>\n",
       "<tr>\n",
       "  <th>species_group_Tilia</th>          <td>    0.0915</td> <td>    0.257</td> <td>    0.356</td> <td> 0.722</td> <td>   -0.412</td> <td>    0.595</td>\n",
       "</tr>\n",
       "<tr>\n",
       "  <th>species_group_Ulmus</th>          <td>    1.0856</td> <td>    0.277</td> <td>    3.920</td> <td> 0.000</td> <td>    0.543</td> <td>    1.628</td>\n",
       "</tr>\n",
       "</table>"
      ],
      "text/latex": [
       "\\begin{center}\n",
       "\\begin{tabular}{lclc}\n",
       "\\toprule\n",
       "\\textbf{Dep. Variable:}                 &     is\\_tall     & \\textbf{  No. Observations:  } &     2000    \\\\\n",
       "\\textbf{Model:}                         &      Logit       & \\textbf{  Df Residuals:      } &     1953    \\\\\n",
       "\\textbf{Method:}                        &       MLE        & \\textbf{  Df Model:          } &       46    \\\\\n",
       "\\textbf{Date:}                          & Mon, 01 Apr 2024 & \\textbf{  Pseudo R-squ.:     } &   0.4519    \\\\\n",
       "\\textbf{Time:}                          &     13:31:34     & \\textbf{  Log-Likelihood:    } &   -685.88   \\\\\n",
       "\\textbf{converged:}                     &       True       & \\textbf{  LL-Null:           } &   -1251.5   \\\\\n",
       "\\textbf{Covariance Type:}               &    nonrobust     & \\textbf{  LLR p-value:       } & 7.747e-207  \\\\\n",
       "\\bottomrule\n",
       "\\end{tabular}\n",
       "\\begin{tabular}{lcccccc}\n",
       "                                        & \\textbf{coef} & \\textbf{std err} & \\textbf{z} & \\textbf{P$> |$z$|$} & \\textbf{[0.025} & \\textbf{0.975]}  \\\\\n",
       "\\midrule\n",
       "\\textbf{const}                          &      -2.7307  &        0.273     &    -9.990  &         0.000        &       -3.266    &       -2.195     \\\\\n",
       "\\textbf{diameter}                       &      11.0388  &        0.977     &    11.294  &         0.000        &        9.123    &       12.954     \\\\\n",
       "\\textbf{age}                            &       0.0249  &        0.006     &     3.964  &         0.000        &        0.013    &        0.037     \\\\\n",
       "\\textbf{growing\\_freely}                &      -0.1796  &        0.269     &    -0.667  &         0.505        &       -0.707    &        0.348     \\\\\n",
       "\\textbf{species\\_group\\_Aesculus}       &      -1.7699  &        0.607     &    -2.917  &         0.004        &       -2.959    &       -0.581     \\\\\n",
       "\\textbf{species\\_group\\_Ailanthus}      &       0.4891  &        0.620     &     0.789  &         0.430        &       -0.726    &        1.704     \\\\\n",
       "\\textbf{species\\_group\\_Alnus}          &       1.9528  &        0.451     &     4.329  &         0.000        &        1.069    &        2.837     \\\\\n",
       "\\textbf{species\\_group\\_Amelanchier}    &     -16.3870  &     1911.023     &    -0.009  &         0.993        &    -3761.924    &     3729.150     \\\\\n",
       "\\textbf{species\\_group\\_Betula}         &      -0.3167  &        0.318     &    -0.995  &         0.320        &       -0.941    &        0.307     \\\\\n",
       "\\textbf{species\\_group\\_Carpinus}       &      -0.8162  &        0.351     &    -2.325  &         0.020        &       -1.504    &       -0.128     \\\\\n",
       "\\textbf{species\\_group\\_Castanea}       &       9.4063  &      168.978     &     0.056  &         0.956        &     -321.785    &      340.598     \\\\\n",
       "\\textbf{species\\_group\\_Catalpa}        &      -1.0807  &        1.303     &    -0.830  &         0.407        &       -3.634    &        1.472     \\\\\n",
       "\\textbf{species\\_group\\_Celtis}         &     -15.2665  &     1354.047     &    -0.011  &         0.991        &    -2669.151    &     2638.618     \\\\\n",
       "\\textbf{species\\_group\\_Cornus}         &     -11.2135  &      309.187     &    -0.036  &         0.971        &     -617.208    &      594.781     \\\\\n",
       "\\textbf{species\\_group\\_Corylus}        &      -0.0045  &        0.673     &    -0.007  &         0.995        &       -1.324    &        1.315     \\\\\n",
       "\\textbf{species\\_group\\_Crataegus}      &      -2.9538  &        0.544     &    -5.433  &         0.000        &       -4.019    &       -1.888     \\\\\n",
       "\\textbf{species\\_group\\_Fagus}          &      -0.1341  &        0.772     &    -0.174  &         0.862        &       -1.648    &        1.380     \\\\\n",
       "\\textbf{species\\_group\\_Fraxinus}       &       0.9257  &        0.309     &     2.996  &         0.003        &        0.320    &        1.531     \\\\\n",
       "\\textbf{species\\_group\\_Ginkgo}         &       0.0923  &        0.536     &     0.172  &         0.863        &       -0.958    &        1.143     \\\\\n",
       "\\textbf{species\\_group\\_Gleditsia}      &      -0.3255  &        0.533     &    -0.611  &         0.541        &       -1.370    &        0.719     \\\\\n",
       "\\textbf{species\\_group\\_Ilex}           &     -21.7668  &     1.74e+04     &    -0.001  &         0.999        &    -3.41e+04    &     3.41e+04     \\\\\n",
       "\\textbf{species\\_group\\_Juglans}        &      -9.0506  &      143.463     &    -0.063  &         0.950        &     -290.233    &      272.132     \\\\\n",
       "\\textbf{species\\_group\\_Juniperus}      &      -8.6482  &      124.843     &    -0.069  &         0.945        &     -253.335    &      236.039     \\\\\n",
       "\\textbf{species\\_group\\_Koelreuteria}   &     -16.3351  &     1284.297     &    -0.013  &         0.990        &    -2533.510    &     2500.840     \\\\\n",
       "\\textbf{species\\_group\\_Liquidambar}    &       0.2123  &        0.589     &     0.361  &         0.718        &       -0.941    &        1.366     \\\\\n",
       "\\textbf{species\\_group\\_Liriodendron}   &      11.7402  &      412.446     &     0.028  &         0.977        &     -796.640    &      820.120     \\\\\n",
       "\\textbf{species\\_group\\_Magnolia}       &     -15.6708  &     1604.524     &    -0.010  &         0.992        &    -3160.481    &     3129.139     \\\\\n",
       "\\textbf{species\\_group\\_Malus}          &     -17.9418  &     1359.756     &    -0.013  &         0.989        &    -2683.014    &     2647.130     \\\\\n",
       "\\textbf{species\\_group\\_Metasequoia}    &      15.0915  &     1132.577     &     0.013  &         0.989        &    -2204.720    &     2234.903     \\\\\n",
       "\\textbf{species\\_group\\_Ostrya}         &      -1.8161  &        1.590     &    -1.142  &         0.253        &       -4.933    &        1.301     \\\\\n",
       "\\textbf{species\\_group\\_Parrotia}       &     -12.8617  &      593.199     &    -0.022  &         0.983        &    -1175.510    &     1149.787     \\\\\n",
       "\\textbf{species\\_group\\_Pinus}          &      -1.4114  &        0.831     &    -1.698  &         0.090        &       -3.041    &        0.218     \\\\\n",
       "\\textbf{species\\_group\\_Platanus}       &       0.8485  &        0.428     &     1.983  &         0.047        &        0.010    &        1.687     \\\\\n",
       "\\textbf{species\\_group\\_Populus}        &       3.7561  &        1.042     &     3.604  &         0.000        &        1.713    &        5.799     \\\\\n",
       "\\textbf{species\\_group\\_Prunus}         &      -2.0058  &        0.371     &    -5.406  &         0.000        &       -2.733    &       -1.279     \\\\\n",
       "\\textbf{species\\_group\\_Pterocarya}     &      -1.2742  &        1.400     &    -0.910  &         0.363        &       -4.017    &        1.469     \\\\\n",
       "\\textbf{species\\_group\\_Pyrus}          &      -0.8656  &        0.512     &    -1.689  &         0.091        &       -1.870    &        0.139     \\\\\n",
       "\\textbf{species\\_group\\_Quercus}        &       0.7501  &        0.312     &     2.407  &         0.016        &        0.139    &        1.361     \\\\\n",
       "\\textbf{species\\_group\\_Robinia}        &       0.5087  &        0.481     &     1.058  &         0.290        &       -0.434    &        1.451     \\\\\n",
       "\\textbf{species\\_group\\_Salix}          &      -2.3932  &        0.389     &    -6.160  &         0.000        &       -3.155    &       -1.632     \\\\\n",
       "\\textbf{species\\_group\\_Sequoiadendron} &      16.7762  &     2758.641     &     0.006  &         0.995        &    -5390.061    &     5423.613     \\\\\n",
       "\\textbf{species\\_group\\_Sorbus}         &      -2.2295  &        0.519     &    -4.293  &         0.000        &       -3.247    &       -1.212     \\\\\n",
       "\\textbf{species\\_group\\_Styphnolobium}  &       0.5164  &        1.289     &     0.401  &         0.689        &       -2.011    &        3.043     \\\\\n",
       "\\textbf{species\\_group\\_Taxodium}       &      -0.7202  &        0.923     &    -0.781  &         0.435        &       -2.529    &        1.088     \\\\\n",
       "\\textbf{species\\_group\\_Taxus}          &      -2.4995  &        1.484     &    -1.685  &         0.092        &       -5.407    &        0.408     \\\\\n",
       "\\textbf{species\\_group\\_Tilia}          &       0.0915  &        0.257     &     0.356  &         0.722        &       -0.412    &        0.595     \\\\\n",
       "\\textbf{species\\_group\\_Ulmus}          &       1.0856  &        0.277     &     3.920  &         0.000        &        0.543    &        1.628     \\\\\n",
       "\\bottomrule\n",
       "\\end{tabular}\n",
       "%\\caption{Logit Regression Results}\n",
       "\\end{center}"
      ],
      "text/plain": [
       "<class 'statsmodels.iolib.summary.Summary'>\n",
       "\"\"\"\n",
       "                           Logit Regression Results                           \n",
       "==============================================================================\n",
       "Dep. Variable:                is_tall   No. Observations:                 2000\n",
       "Model:                          Logit   Df Residuals:                     1953\n",
       "Method:                           MLE   Df Model:                           46\n",
       "Date:                Mon, 01 Apr 2024   Pseudo R-squ.:                  0.4519\n",
       "Time:                        13:31:34   Log-Likelihood:                -685.88\n",
       "converged:                       True   LL-Null:                       -1251.5\n",
       "Covariance Type:            nonrobust   LLR p-value:                7.747e-207\n",
       "================================================================================================\n",
       "                                   coef    std err          z      P>|z|      [0.025      0.975]\n",
       "------------------------------------------------------------------------------------------------\n",
       "const                           -2.7307      0.273     -9.990      0.000      -3.266      -2.195\n",
       "diameter                        11.0388      0.977     11.294      0.000       9.123      12.954\n",
       "age                              0.0249      0.006      3.964      0.000       0.013       0.037\n",
       "growing_freely                  -0.1796      0.269     -0.667      0.505      -0.707       0.348\n",
       "species_group_Aesculus          -1.7699      0.607     -2.917      0.004      -2.959      -0.581\n",
       "species_group_Ailanthus          0.4891      0.620      0.789      0.430      -0.726       1.704\n",
       "species_group_Alnus              1.9528      0.451      4.329      0.000       1.069       2.837\n",
       "species_group_Amelanchier      -16.3870   1911.023     -0.009      0.993   -3761.924    3729.150\n",
       "species_group_Betula            -0.3167      0.318     -0.995      0.320      -0.941       0.307\n",
       "species_group_Carpinus          -0.8162      0.351     -2.325      0.020      -1.504      -0.128\n",
       "species_group_Castanea           9.4063    168.978      0.056      0.956    -321.785     340.598\n",
       "species_group_Catalpa           -1.0807      1.303     -0.830      0.407      -3.634       1.472\n",
       "species_group_Celtis           -15.2665   1354.047     -0.011      0.991   -2669.151    2638.618\n",
       "species_group_Cornus           -11.2135    309.187     -0.036      0.971    -617.208     594.781\n",
       "species_group_Corylus           -0.0045      0.673     -0.007      0.995      -1.324       1.315\n",
       "species_group_Crataegus         -2.9538      0.544     -5.433      0.000      -4.019      -1.888\n",
       "species_group_Fagus             -0.1341      0.772     -0.174      0.862      -1.648       1.380\n",
       "species_group_Fraxinus           0.9257      0.309      2.996      0.003       0.320       1.531\n",
       "species_group_Ginkgo             0.0923      0.536      0.172      0.863      -0.958       1.143\n",
       "species_group_Gleditsia         -0.3255      0.533     -0.611      0.541      -1.370       0.719\n",
       "species_group_Ilex             -21.7668   1.74e+04     -0.001      0.999   -3.41e+04    3.41e+04\n",
       "species_group_Juglans           -9.0506    143.463     -0.063      0.950    -290.233     272.132\n",
       "species_group_Juniperus         -8.6482    124.843     -0.069      0.945    -253.335     236.039\n",
       "species_group_Koelreuteria     -16.3351   1284.297     -0.013      0.990   -2533.510    2500.840\n",
       "species_group_Liquidambar        0.2123      0.589      0.361      0.718      -0.941       1.366\n",
       "species_group_Liriodendron      11.7402    412.446      0.028      0.977    -796.640     820.120\n",
       "species_group_Magnolia         -15.6708   1604.524     -0.010      0.992   -3160.481    3129.139\n",
       "species_group_Malus            -17.9418   1359.756     -0.013      0.989   -2683.014    2647.130\n",
       "species_group_Metasequoia       15.0915   1132.577      0.013      0.989   -2204.720    2234.903\n",
       "species_group_Ostrya            -1.8161      1.590     -1.142      0.253      -4.933       1.301\n",
       "species_group_Parrotia         -12.8617    593.199     -0.022      0.983   -1175.510    1149.787\n",
       "species_group_Pinus             -1.4114      0.831     -1.698      0.090      -3.041       0.218\n",
       "species_group_Platanus           0.8485      0.428      1.983      0.047       0.010       1.687\n",
       "species_group_Populus            3.7561      1.042      3.604      0.000       1.713       5.799\n",
       "species_group_Prunus            -2.0058      0.371     -5.406      0.000      -2.733      -1.279\n",
       "species_group_Pterocarya        -1.2742      1.400     -0.910      0.363      -4.017       1.469\n",
       "species_group_Pyrus             -0.8656      0.512     -1.689      0.091      -1.870       0.139\n",
       "species_group_Quercus            0.7501      0.312      2.407      0.016       0.139       1.361\n",
       "species_group_Robinia            0.5087      0.481      1.058      0.290      -0.434       1.451\n",
       "species_group_Salix             -2.3932      0.389     -6.160      0.000      -3.155      -1.632\n",
       "species_group_Sequoiadendron    16.7762   2758.641      0.006      0.995   -5390.061    5423.613\n",
       "species_group_Sorbus            -2.2295      0.519     -4.293      0.000      -3.247      -1.212\n",
       "species_group_Styphnolobium      0.5164      1.289      0.401      0.689      -2.011       3.043\n",
       "species_group_Taxodium          -0.7202      0.923     -0.781      0.435      -2.529       1.088\n",
       "species_group_Taxus             -2.4995      1.484     -1.685      0.092      -5.407       0.408\n",
       "species_group_Tilia              0.0915      0.257      0.356      0.722      -0.412       0.595\n",
       "species_group_Ulmus              1.0856      0.277      3.920      0.000       0.543       1.628\n",
       "================================================================================================\n",
       "\"\"\""
      ]
     },
     "execution_count": 60,
     "metadata": {},
     "output_type": "execute_result"
    }
   ],
   "source": [
    "# Get summary results\n",
    "summary = model.summary()\n",
    "summary\n"
   ]
  },
  {
   "cell_type": "markdown",
   "id": "e1789d6f",
   "metadata": {},
   "source": [
    "#### h) Simulate 1000 values for for each regression coefficient, from the empirical posterior distribution. Remember this is a Multivariate normal. Use  model.cov_params() to extract the covariance matrix. "
   ]
  },
  {
   "cell_type": "code",
   "execution_count": 61,
   "id": "8f8d3ed4",
   "metadata": {},
   "outputs": [
    {
     "name": "stderr",
     "output_type": "stream",
     "text": [
      "/Users/Sari/Documents/Code/Semester 4 workbooks/venv/lib/python3.12/site-packages/scipy/stats/_multivariate.py:757: RuntimeWarning: covariance is not symmetric positive-semidefinite.\n",
      "  out = random_state.multivariate_normal(mean, cov, size)\n"
     ]
    }
   ],
   "source": [
    "# Extract the coefficients (betas) and their covariance matrix from the logistic regression fit\n",
    "beta_mean = model.params\n",
    "beta_cov = model.cov_params()\n",
    "\n",
    "# Number of simulations\n",
    "n_simulations = 1000\n",
    "\n",
    "# Simulate beta coefficients\n",
    "simulated_betas = multivariate_normal.rvs(mean=beta_mean, cov=beta_cov, size=n_simulations)"
   ]
  },
  {
   "cell_type": "code",
   "execution_count": null,
   "id": "cb274219",
   "metadata": {},
   "outputs": [],
   "source": []
  },
  {
   "cell_type": "markdown",
   "id": "82158adf",
   "metadata": {},
   "source": [
    "#### i) Calculate summary statistics from these simulations, along with the probability of the coefficient being > 0 . Plot the histograms for each coefficient. Comment on the statistical significance. What should you do if you wish to compare effect sizes across coefficients ?"
   ]
  },
  {
   "cell_type": "code",
   "execution_count": 62,
   "id": "fa9d58c4",
   "metadata": {},
   "outputs": [
    {
     "data": {
      "image/png": "[encoded data removed]",
      "text/plain": [
       "<Figure size 1500x800 with 8 Axes>"
      ]
     },
     "metadata": {},
     "output_type": "display_data"
    }
   ],
   "source": [
    "# Calculate statistics for each coefficient\n",
    "medians = np.median(simulated_betas, axis=0)\n",
    "lower_quantiles = np.percentile(simulated_betas, 5, axis=0)\n",
    "upper_quantiles = np.percentile(simulated_betas, 95, axis=0)\n",
    "prob_positive = np.mean(simulated_betas > 0, axis=0)\n",
    "# there are too many coeffs to fit them all so let's just look at the first 8\n",
    "num_coeffs = 8\n",
    "\n",
    "# Plot histograms of each coefficient\n",
    "num_rows = (num_coeffs + 1) // 2  # Adjusted number of rows\n",
    "fig, axs = plt.subplots(num_rows, 2, figsize=(15, 8))\n",
    "axs = axs.flatten()\n",
    "\n",
    "for i in range(num_coeffs):\n",
    "    ax = axs[i]\n",
    "    ax.hist(simulated_betas[:, i], bins=30, density=True, alpha=0.7, color='skyblue')\n",
    "\n",
    "    # Add vertical lines for 0\n",
    "    ax.axvline(0, color='black', linestyle='-')\n",
    "    \n",
    "    # Add vertical lines for median and 90% interval\n",
    "    ax.axvline(medians[i], color='orange', linestyle='-', label=f'Median: {medians[i]:.2f}')\n",
    "    ax.axvline(lower_quantiles[i], color='orange', linestyle='--', label=f'5th Percentile: {lower_quantiles[i]:.2f}')\n",
    "    ax.axvline(upper_quantiles[i], color='orange', linestyle='--', label=f'95th Percentile: {upper_quantiles[i]:.2f}')\n",
    "    \n",
    "    # Add text annotation for probability above 0\n",
    "    ax.text(0.05, 0.95, f'P(>0): {prob_positive[i]:.2f}', transform=ax.transAxes, verticalalignment='top', fontsize=10)\n",
    "    \n",
    "    ax.set_title(f'{X_with_intercept.columns[i]}')\n",
    "    ax.set_xlabel('Value')\n",
    "    ax.set_ylabel('Density')\n",
    "    ax.legend(loc='upper right')\n",
    "\n",
    "    # Set x-axis limit to ensure it includes 0\n",
    "    ax.set_xlim(left=min(simulated_betas[:, i]) - 0.5, right=max(simulated_betas[:, i]) + 0.5)\n",
    "    \n",
    "# Hide empty subplot\n",
    "if num_coeffs % 2 != 0:\n",
    "    axs[-1].axis('off')\n",
    "    \n",
    "plt.tight_layout()\n",
    "plt.show()"
   ]
  },
  {
   "cell_type": "markdown",
   "id": "096ca8c0",
   "metadata": {},
   "source": [
    "#### i) Now let's practice making predictions from this model that we learned. Below is definded the `average american voter`. For this hypothetical person, make a prediction for the probability of voting republican. Ensure to use simulations to gennerate samples of this probability,  and fully account for uncertainty. \n",
    "\n",
    "#### Hint: use the `logistic_sigmoid` function to turn simulations of $\\mu$ into $\\pi$."
   ]
  },
  {
   "cell_type": "code",
   "execution_count": 63,
   "id": "5f1d92c0",
   "metadata": {},
   "outputs": [],
   "source": [
    "# Calculate the average of the sample for each predictor\n",
    "average_X = X_with_intercept.mean(axis=0)\n",
    "\n",
    "# Generate new predicted probabilities for the new observation using the simulated betas\n",
    "new_predicted_probs = logistic_sigmoid(np.dot(simulated_betas, average_X))"
   ]
  },
  {
   "cell_type": "markdown",
   "id": "4bf61ddd",
   "metadata": {},
   "source": [
    "#### l) Now generate values from the posterior predictive distirbution of the outcome Y (So for this hypothetical average voter, simulate 1000 times who they will vote for). Who does the average american voter turn to in 2020"
   ]
  },
  {
   "cell_type": "code",
   "execution_count": 64,
   "id": "67b10258",
   "metadata": {},
   "outputs": [
    {
     "data": {
      "image/png": "[encoded data removed]",
      "text/plain": [
       "<Figure size 1200x500 with 2 Axes>"
      ]
     },
     "metadata": {},
     "output_type": "display_data"
    }
   ],
   "source": [
    "# Simulate outcomes for the new observation based on the new predicted probabilities\n",
    "new_simulated_outcomes = np.random.binomial(1, new_predicted_probs)\n",
    "\n",
    "# Plotting both the new predicted probabilities and the simulated outcomes in histograms\n",
    "fig, axes = plt.subplots(1, 2, figsize=(12, 5))\n",
    "\n",
    "# Plot for new predicted probabilities\n",
    "axes[0].hist(new_predicted_probs, bins=20, color='skyblue', edgecolor='black')\n",
    "axes[0].set_title('Histogram of Predicted Probability')\n",
    "axes[0].set_xlabel('Predicted Probability')\n",
    "axes[0].set_ylabel('Frequency')\n",
    "\n",
    "# Plot for simulated outcomes\n",
    "axes[1].hist(new_simulated_outcomes, bins=2, color='salmon', edgecolor='black')\n",
    "axes[1].set_title('Histogram of Predicted Class')\n",
    "axes[1].set_xlabel('Simulated Outcome')\n",
    "axes[1].set_ylabel('Frequency')\n",
    "axes[1].set_xticks([0, 1])\n",
    "axes[1].set_xticklabels(['0', '1'])\n",
    "\n",
    "plt.tight_layout()\n",
    "plt.show()\n",
    "\n"
   ]
  },
  {
   "cell_type": "code",
   "execution_count": null,
   "id": "fc68ea1d",
   "metadata": {},
   "outputs": [],
   "source": []
  }
 ],
 "metadata": {
  "kernelspec": {
   "display_name": "Python 3 (ipykernel)",
   "language": "python",
   "name": "python3"
  },
  "language_info": {
   "codemirror_mode": {
    "name": "ipython",
    "version": 3
   },
   "file_extension": ".py",
   "mimetype": "text/x-python",
   "name": "python",
   "nbconvert_exporter": "python",
   "pygments_lexer": "ipython3",
   "version": "3.12.2"
  }
 },
 "nbformat": 4,
 "nbformat_minor": 5
}
