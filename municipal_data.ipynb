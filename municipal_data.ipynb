{
 "cells": [
  {
   "cell_type": "code",
   "execution_count": 2,
   "metadata": {},
   "outputs": [
    {
     "name": "stderr",
     "output_type": "stream",
     "text": [
      "/var/folders/25/82ztpk21087b258r7gs0n3m00000gn/T/ipykernel_2477/859329180.py:1: DeprecationWarning: \n",
      "Pyarrow will become a required dependency of pandas in the next major release of pandas (pandas 3.0),\n",
      "(to allow more performant data types, such as the Arrow string type, and better interoperability with other libraries)\n",
      "but was not found to be installed on your system.\n",
      "If this would cause problems for you,\n",
      "please provide us feedback at https://github.com/pandas-dev/pandas/issues/54466\n",
      "        \n",
      "  import pandas as pd\n"
     ]
    }
   ],
   "source": [
    "import pandas as pd\n",
    "import numpy as np\n",
    "import matplotlib.pyplot as plt\n",
    "import seaborn as sns\n",
    "import requests"
   ]
  },
  {
   "cell_type": "markdown",
   "metadata": {},
   "source": [
    "### Overview\n",
    "\n"
   ]
  },
  {
   "cell_type": "markdown",
   "metadata": {},
   "source": [
    "### Part 1: Priming the data\n",
    "\n",
    "Different datasets have certain marker values associated with certain locations at different levels (e.g., the neighbourhood level or sub-district level). These values are essential for merging datasets (for example, one dataset may contain a neighbourhood's number of cars, and another a tree and which neighbourhood it is in)\n",
    "\n",
    "Not every dataset uses the same marker values, and these marker values can have different column names, so I first need to standardise it all. I'm also making some functions that will streamline the data cleaning process a bit."
   ]
  },
  {
   "cell_type": "code",
   "execution_count": 3,
   "metadata": {},
   "outputs": [],
   "source": [
    "# functions for data cleaning\n",
    "# return the proportion of nan each column in the data\n",
    "def na_proportion(series: pd.Series):\n",
    "    return series.isna().sum() / len(series)\n",
    "\n",
    "# returns a dataframe without the columns that have higher proportion of na \n",
    "# than threshold. The reason I'm doing this is because drop.na could remove\n",
    "# very large amounts of data just due to one a column being mostly nans. So\n",
    "# columns full of nans get removed. \n",
    "# default threshold: 40% of nan means removal\n",
    "def stripped_threshold_na_columns(df: pd.DataFrame, threshold = 0.4):\n",
    "    df_return = pd.DataFrame()\n",
    "    for column in df.columns:\n",
    "        if na_proportion(df[column]) < threshold:\n",
    "            df_return[column] = df[column]\n",
    "    return df_return\n",
    "\n",
    "# if a value occurs less than n times in a series, replace it with placeholder\n",
    "def replace_less_than_n_values(series: pd.Series, n = 10, placeholder = np.nan):\n",
    "    value_counts = series.value_counts()\n",
    "    values_to_replace = value_counts[value_counts < n].index\n",
    "    return series.replace(to_replace=values_to_replace, value=placeholder)\n",
    "\n",
    "# returns the n most common values in a series (by default the 10 most common)\n",
    "def most_common_n_values(series: pd.Series, n = 10):\n",
    "    return series.value_counts()[:n].index.tolist()\n",
    "\n",
    "\n",
    "# return a series with its least common values converted to a different value\n",
    "# nans are also replaceable\n",
    "# by default, the string 'other'\n",
    "def otherise(value, most_common_values, other, nan_replace):\n",
    "    if value in most_common_values:\n",
    "        return value\n",
    "    if value is np.nan:\n",
    "        return nan_replace\n",
    "    return other\n",
    "\n",
    "def otherise_less_common_values(\n",
    "        series: pd.Series, \n",
    "        most_common_values, \n",
    "        other='other', \n",
    "        nan_replace = np.nan\n",
    "    ):\n",
    "    return series.apply(\n",
    "        lambda value: otherise(value, most_common_values, other, nan_replace)\n",
    "    )\n"
   ]
  },
  {
   "cell_type": "code",
   "execution_count": 4,
   "metadata": {},
   "outputs": [],
   "source": [
    "# tree data\n",
    "df_trees = pd.read_csv('data/bomen-stamgegevens-2024-03-12T09 06 04.036291.csv')\n",
    "# amsterdam neighbourhood meta data, i.e. matching neighbourhood name with ID\n",
    "df_buurt_meta = pd.read_csv('data/gebieden-buurten-2024-03-12T12 09 07.653588.csv')\n",
    "# amsterdam sub-district meta data, to match each neighbourhood with its district\n",
    "df_wijk_meta = pd.read_csv('data/gebieden_wijken.csv')"
   ]
  },
  {
   "cell_type": "code",
   "execution_count": 5,
   "metadata": {},
   "outputs": [],
   "source": [
    "# standardise names of neighbourhood id column so we can merge on that column\n",
    "buurt_id_column = 'buurt_id'\n",
    "wijk_id_column = 'wijk_id'\n",
    "\n",
    "# rename buurt id columns in all datasets to be the same for merging\n",
    "df_buurt_meta = df_buurt_meta.rename(\n",
    "    columns={'Identificatie': buurt_id_column}\n",
    ")\n",
    "df_trees = df_trees.rename(\n",
    "    columns={'Gbdbuurtid': buurt_id_column}\n",
    ")\n",
    "\n",
    "# rename wijk id columns in all datasets to be the same for merging\n",
    "df_buurt_meta = df_buurt_meta.rename(\n",
    "    columns={'Ligtinwijkid': wijk_id_column}\n",
    ")\n",
    "df_wijk_meta = df_wijk_meta.rename(\n",
    "    columns={'Identificatie': wijk_id_column}\n",
    ")\n"
   ]
  },
  {
   "cell_type": "code",
   "execution_count": 6,
   "metadata": {},
   "outputs": [],
   "source": [
    "# match each buurt (neighbourhood) with its associated wijk (sub-district)\n",
    "df_buurt_simple = df_buurt_meta[[\n",
    "    buurt_id_column, wijk_id_column, 'Naam', 'Code', 'Cbscode', 'Geometrie'\n",
    "]]\n",
    "\n",
    "df_buurt_simple = df_buurt_simple.rename(\n",
    "    columns={\n",
    "        'Naam': 'Naam_buurt',\n",
    "        'Code': 'Code_buurt',\n",
    "        'Cbscode': 'Cbscode_buurt',\n",
    "        'Geometrie': 'Geometrie_buurt'\n",
    "    }\n",
    ")\n",
    "\n",
    "df_wijk_simple = df_wijk_meta[[\n",
    "    wijk_id_column, 'Naam', 'Code', 'Cbscode', 'Geometrie'\n",
    "]]\n",
    "\n",
    "df_wijk_simple = df_wijk_simple.rename(\n",
    "    columns={\n",
    "        'Naam': 'Naam_wijk',\n",
    "        'Code': 'Code_wijk',\n",
    "        'Cbscode': 'Cbscode_wijk',\n",
    "        'Geometrie': 'Geometrie_wijk'\n",
    "    }\n",
    ")\n",
    "\n",
    "df_location_data = pd.merge(df_buurt_simple, df_wijk_simple, on=wijk_id_column)"
   ]
  },
  {
   "cell_type": "markdown",
   "metadata": {},
   "source": [
    "Now we can merge datasets based on shared location markers. Yay!"
   ]
  },
  {
   "cell_type": "markdown",
   "metadata": {},
   "source": [
    "### Part 2: Tree data\n",
    "\n",
    "I am making a dataset which contains a list of trees from Amsterdam's tree census and some information associated with each tree. This is the cleaning up of that data."
   ]
  },
  {
   "cell_type": "markdown",
   "metadata": {},
   "source": [
    "#### Removing columns with too many nans, then removing nans\n",
    "To prevent removing too much data, I'm discarding columns that have too many nans (the diameter column for example), making exceptions only for interesting data.\n",
    "\n",
    "Then I remove any row with a nan value for the model.\n",
    "\n",
    "It's possible that I'm skewing the data in a way that will affect my model (example: maybe there is a specific relationship between height and species that's only found in trees that also have a nan value somewhere) but I don't have time to look at that and it's probably beyond the requirements of the assignment."
   ]
  },
  {
   "cell_type": "code",
   "execution_count": 7,
   "metadata": {},
   "outputs": [
    {
     "name": "stdout",
     "output_type": "stream",
     "text": [
      "nan proportion Standplaatsgedetailleerd 0.620510336029891\n",
      "shape before dropna: (286909, 14)\n",
      "shape after dropna: (28211, 14)\n"
     ]
    }
   ],
   "source": [
    "# clean up tree data\n",
    "# removing nans\n",
    "# we want to remove columns that have too many nans so that we don't reduce\n",
    "# the entire dataset too much by using .dropna\n",
    "# I make exceptions for growth ground and diameter statistics since these seem\n",
    "# useful for certain models\n",
    "growth_ground = df_trees['Standplaatsgedetailleerd']\n",
    "diameter = df_trees['Stamdiameterklasse']\n",
    "\n",
    "print(f'shape before dropna: {df_trees.shape}')\n",
    "\n",
    "df_trees = stripped_threshold_na_columns(df_trees)\n",
    "df_trees['growth_ground'] = growth_ground\n",
    "df_trees['diameter'] = diameter\n",
    "df_trees.dropna(inplace=True)\n",
    "\n",
    "print(f'shape after dropna: {df_trees.shape}')\n"
   ]
  },
  {
   "cell_type": "markdown",
   "metadata": {},
   "source": [
    "#### Height data\n",
    "\n",
    "Height data is unfortunately not recorded exactly but given as an estimated range (like \"between 6 and 9\").\n",
    "\n",
    "I'm going to store height in two ways: in one instance I will take the average (so between 6 and 9 gives me 7.5), in anotehr instance I will take a random value (so a random value between 6 and 9).\n",
    "\n",
    "I will try running a model for both the \"fixed\" value and the \"random\" values, I am curious what that will result in."
   ]
  },
  {
   "cell_type": "code",
   "execution_count": 8,
   "metadata": {},
   "outputs": [],
   "source": [
    "# height\n",
    "# we only have estimation measures for tree height (like \"6 tot 9 m.\") :(\n",
    "# There are some limitations from applying a linear regression model\n",
    "# to height that is calculated this way.\n",
    "def extract_height_data(data):\n",
    "    if data == 'a. tot 6 m.':\n",
    "        return 3\n",
    "    if data == 'b. 6 tot 9 m.':\n",
    "        return 7.5\n",
    "    if data == 'c. 9 tot 12 m.':\n",
    "        return 10.5\n",
    "    if data == 'd. 12 tot 15 m.':\n",
    "        return 13.5\n",
    "    if data == 'e. 15 tot 18 m.':\n",
    "        return 16.5\n",
    "    if data == 'f. 18 tot 24 m.':\n",
    "        return 21\n",
    "    if data == 'g. 24 m. en hoger':\n",
    "        return 24\n",
    "    # if not any of the above return nan\n",
    "    return np.nan\n",
    "\n",
    "df_trees['tree_height_fixed'] = df_trees['Boomhoogteklasseactueel'].apply(\n",
    "    lambda x: extract_height_data(x)\n",
    ")\n",
    "\n",
    "df_trees.dropna(inplace=True)\n",
    "\n",
    "\n"
   ]
  },
  {
   "cell_type": "code",
   "execution_count": 9,
   "metadata": {},
   "outputs": [],
   "source": [
    "import random\n",
    "def extract_height_data_randomised(data):\n",
    "    if data == 'a. tot 6 m.':\n",
    "        return random.uniform(0, 6)\n",
    "    if data == 'b. 6 tot 9 m.':\n",
    "        return random.uniform(6, 9)\n",
    "    if data == 'c. 9 tot 12 m.':\n",
    "        return random.uniform(9, 12)\n",
    "    if data == 'd. 12 tot 15 m.':\n",
    "        return random.uniform(12, 15)\n",
    "    if data == 'e. 15 tot 18 m.':\n",
    "        return random.uniform(15, 18)\n",
    "    if data == 'f. 18 tot 24 m.':\n",
    "        return random.uniform(18, 24)\n",
    "    if data == 'g. 24 m. en hoger':\n",
    "        return random.uniform(24, 30)\n",
    "    # if not any of the above return nan\n",
    "    return np.nan\n",
    "\n",
    "df_trees['tree_height_random'] = df_trees['Boomhoogteklasseactueel'].apply(\n",
    "    lambda x: extract_height_data_randomised(x)\n",
    ")"
   ]
  },
  {
   "cell_type": "code",
   "execution_count": 10,
   "metadata": {},
   "outputs": [
    {
     "data": {
      "image/png": "[encoded data removed]",
      "text/plain": [
       "<Figure size 640x480 with 1 Axes>"
      ]
     },
     "metadata": {},
     "output_type": "display_data"
    }
   ],
   "source": [
    "sns.histplot(df_trees['tree_height_fixed'])\n",
    "plt.title(\"Histogram of tree height frequency (fixed)\")\n",
    "plt.xlabel(\"Height (m)\")\n",
    "plt.ylabel(\"Frequency\")# visualise tree height distribution\n",
    "plt.show()\n"
   ]
  },
  {
   "cell_type": "code",
   "execution_count": 11,
   "metadata": {},
   "outputs": [
    {
     "data": {
      "image/png": "[encoded data removed]",
      "text/plain": [
       "<Figure size 640x480 with 1 Axes>"
      ]
     },
     "metadata": {},
     "output_type": "display_data"
    }
   ],
   "source": [
    "sns.histplot(df_trees['tree_height_random'])\n",
    "plt.title(\"Histogram of tree height frequency (randomised)\")\n",
    "plt.xlabel(\"Height (m)\")\n",
    "plt.ylabel(\"Frequency\")# visualise tree height distribution\n",
    "plt.show()\n"
   ]
  },
  {
   "cell_type": "markdown",
   "metadata": {},
   "source": [
    "##### Shape of height data\n",
    "\n",
    "It looks like a left-skewed, normal-ish distribution. I would guess that if the data contained the actual height of trees, the data would look a bit more like a normal distribution."
   ]
  },
  {
   "cell_type": "markdown",
   "metadata": {},
   "source": [
    "### Diameter\n",
    "Similar cleaning process for diameter"
   ]
  },
  {
   "cell_type": "code",
   "execution_count": 34,
   "metadata": {},
   "outputs": [
    {
     "data": {
      "text/plain": [
       "diameter\n",
       "0,1 tot 0,2 m.    8625\n",
       "0,3 tot 0,5 m.    7246\n",
       "0,2 tot 0,3 m.    6549\n",
       "0,5 tot 1 m.      3774\n",
       "1,0 tot 1,5 m.     295\n",
       "Name: count, dtype: int64"
      ]
     },
     "execution_count": 34,
     "metadata": {},
     "output_type": "execute_result"
    }
   ],
   "source": [
    "df_trees['diameter'].value_counts()"
   ]
  },
  {
   "cell_type": "code",
   "execution_count": null,
   "metadata": {},
   "outputs": [],
   "source": [
    "def extract_diameter_data(diameter):\n",
    "    if diameter == '0,1 tot 0,2 m.':\n",
    "        return 0.15\n",
    "    if diameter == '0,2 tot 0,3 m.':\n",
    "        return 0.25\n",
    "    if diameter == '0,3 tot 0,5 m.':\n",
    "        return 0.4\n",
    "    if diameter == '0,5 tot 1 m.':\n",
    "        return 0.75\n",
    "    if diameter == '1,0 tot 1,5 m.':\n",
    "        return 1.25\n",
    "\n",
    "df_trees['diameter'] = df_trees['diameter'].apply(\n",
    "    lambda x: extract_diameter_data(x)\n",
    ")\n",
    "\n",
    "df_trees['diameter'].value_counts()"
   ]
  },
  {
   "cell_type": "code",
   "execution_count": 12,
   "metadata": {},
   "outputs": [
    {
     "name": "stdout",
     "output_type": "stream",
     "text": [
      "buurt_id\n",
      "3.630980e+12    1880\n",
      "3.630980e+12    1111\n",
      "3.630980e+12     820\n",
      "3.630980e+12     653\n",
      "3.630980e+12     615\n",
      "                ... \n",
      "3.630980e+12       1\n",
      "3.630980e+12       1\n",
      "3.630980e+12       1\n",
      "3.630980e+12       1\n",
      "3.630980e+12       1\n",
      "Name: count, Length: 250, dtype: int64\n"
     ]
    }
   ],
   "source": [
    "# neighbourhood that tree is in (ID)\n",
    "print(df_trees['buurt_id'].value_counts())"
   ]
  },
  {
   "cell_type": "code",
   "execution_count": 13,
   "metadata": {},
   "outputs": [
    {
     "name": "stdout",
     "output_type": "stream",
     "text": [
      "Typebeheerderplus\n",
      "R&E_VOR_Bomen                     26264\n",
      "Recreatieschap Noord-Holland       1384\n",
      "R&E_VOR_Groen                        82\n",
      "Gemeente Amsterdam, rve Sport        74\n",
      "Rijkswaterstaat                      24\n",
      "Gemeentelijk Vastgoed                17\n",
      "Stichting                             8\n",
      "Havenbedrijf                          6\n",
      "Amsterdamse bos - eigen dienst        4\n",
      "Volkstuinpark                         3\n",
      "Woningcorporatie                      2\n",
      "Schooltuinen                          1\n",
      "Natuurlijk persoon                    1\n",
      "Name: count, dtype: int64\n",
      "proportion of nan for admin after removal: 0.0\n"
     ]
    }
   ],
   "source": [
    "# tree administrator ('Typebeheerderplus')\n",
    "# categorical\n",
    "print(df_trees['Typebeheerderplus'].value_counts())\n",
    "admin_threshold = 15\n",
    "df_trees['tree_admin'] = replace_less_than_n_values(\n",
    "    df_trees['Typebeheerderplus'],\n",
    "    admin_threshold\n",
    ")\n",
    "print(f'proportion of nan for admin after removal: {na_proportion(df_trees['Typebeheerderplus'])}')\n",
    "\n",
    "df_trees.dropna(inplace=True)"
   ]
  },
  {
   "cell_type": "code",
   "execution_count": 14,
   "metadata": {},
   "outputs": [
    {
     "name": "stdout",
     "output_type": "stream",
     "text": [
      "tree_admin\n",
      "R&E_VOR_Bomen                    26264\n",
      "Recreatieschap Noord-Holland      1384\n",
      "R&E_VOR_Groen                       82\n",
      "Gemeente Amsterdam, rve Sport       74\n",
      "Rijkswaterstaat                     24\n",
      "Gemeentelijk Vastgoed               17\n",
      "Name: count, dtype: int64\n"
     ]
    }
   ],
   "source": [
    "print(df_trees['tree_admin'].value_counts())"
   ]
  },
  {
   "cell_type": "code",
   "execution_count": 15,
   "metadata": {},
   "outputs": [
    {
     "name": "stdout",
     "output_type": "stream",
     "text": [
      "Typeeigenaarplus\n",
      "Gemeente Amsterdam       25498\n",
      "Gemeente Weesp            2332\n",
      "Gemeente Diemen              8\n",
      "Gemeente Ouder-Amstel        7\n",
      "Name: count, dtype: int64\n"
     ]
    }
   ],
   "source": [
    "# municipality that owns the trees\n",
    "print(df_trees['Typeeigenaarplus'].value_counts())\n",
    "# the overwhelming majority of trees are owned by amsterdam.\n",
    "# let's have values for just \"amsterdam\" and \"not amsterdam\"\n",
    "amsterdam_ownership = ['Gemeente Amsterdam']\n",
    "df_trees['tree_municipality'] = otherise_less_common_values(\n",
    "    df_trees['Typeeigenaarplus'], amsterdam_ownership\n",
    ")"
   ]
  },
  {
   "cell_type": "code",
   "execution_count": 16,
   "metadata": {},
   "outputs": [
    {
     "data": {
      "text/plain": [
       "tree_municipality\n",
       "Gemeente Amsterdam    25498\n",
       "other                  2347\n",
       "Name: count, dtype: int64"
      ]
     },
     "execution_count": 16,
     "metadata": {},
     "output_type": "execute_result"
    }
   ],
   "source": [
    "df_trees['tree_municipality'].value_counts()"
   ]
  },
  {
   "cell_type": "code",
   "execution_count": 17,
   "metadata": {},
   "outputs": [
    {
     "name": "stdout",
     "output_type": "stream",
     "text": [
      "proportion of nan for planting year: 0.0\n",
      "Jaarvanaanleg\n",
      "1980.0    1708\n",
      "1970.0    1603\n",
      "1985.0    1590\n",
      "1996.0    1392\n",
      "1990.0    1101\n",
      "          ... \n",
      "1929.0       1\n",
      "1880.0       1\n",
      "1924.0       1\n",
      "2022.0       1\n",
      "1934.0       1\n",
      "Name: count, Length: 114, dtype: int64\n"
     ]
    }
   ],
   "source": [
    "# tree planting year\n",
    "print(\n",
    "    f'proportion of nan for planting year: {na_proportion(df_trees['Jaarvanaanleg'])}'\n",
    ")\n",
    "# not many nans :)\n",
    "print(df_trees['Jaarvanaanleg'].value_counts())\n",
    "# lots of zeros :(\n",
    "# Removing all the rows with nonsensical years\n",
    "year_threshold = 1500 # let's admit really old trees because they are awesome\n",
    "df_trees = df_trees[df_trees.Jaarvanaanleg > year_threshold]\n",
    "df_trees.rename(columns={\n",
    "    'Jaarvanaanleg': 'year_planted'\n",
    "}, inplace=True)\n"
   ]
  },
  {
   "cell_type": "code",
   "execution_count": 18,
   "metadata": {},
   "outputs": [],
   "source": [
    "df_trees['age'] = 2024 - df_trees['year_planted']"
   ]
  },
  {
   "cell_type": "code",
   "execution_count": 19,
   "metadata": {},
   "outputs": [
    {
     "data": {
      "text/plain": [
       "<Axes: xlabel='age', ylabel='Count'>"
      ]
     },
     "execution_count": 19,
     "metadata": {},
     "output_type": "execute_result"
    },
    {
     "data": {
      "image/png": "[encoded data removed]",
      "text/plain": [
       "<Figure size 640x480 with 1 Axes>"
      ]
     },
     "metadata": {},
     "output_type": "display_data"
    }
   ],
   "source": [
    "sns.histplot(df_trees['age'])"
   ]
  },
  {
   "cell_type": "code",
   "execution_count": 20,
   "metadata": {},
   "outputs": [
    {
     "name": "stdout",
     "output_type": "stream",
     "text": [
      "Soortnaam\n",
      "Fraxinus excelsior           953\n",
      "Alnus glutinosa              929\n",
      "Quercus robur                917\n",
      "Platanus hispanica           819\n",
      "Ulmus hollandica 'Vegeta'    780\n",
      "                            ... \n",
      "Malus atrosanguinea            1\n",
      "Malus 'Butterball'             1\n",
      "Catalpa ovata                  1\n",
      "Acer pensylvanicum             1\n",
      "Morus alba 'Pendula'           1\n",
      "Name: count, Length: 568, dtype: int64\n",
      "nan proportion Soortnaamkort: 0.0\n",
      "Soortnaamkort\n",
      "Tilia        3735\n",
      "Ulmus        3354\n",
      "Acer         2803\n",
      "Fraxinus     2371\n",
      "Alnus        1631\n",
      "             ... \n",
      "Aralia          1\n",
      "Toona           1\n",
      "Hibiscus        1\n",
      "Tetradium       1\n",
      "Nyssa           1\n",
      "Name: count, Length: 72, dtype: int64\n",
      "nan proportion Soortnaamtop: 0.0\n",
      "Soortnaamtop\n",
      "Linde (Tilia)     3735\n",
      "Iep (Ulmus)       3354\n",
      "Esdoorn (Acer)    2803\n",
      "Es (Fraxinus)     2371\n",
      "Els (Alnus)       1631\n",
      "                  ... \n",
      "Aralia               1\n",
      "Hibiscus             1\n",
      "Tetradium            1\n",
      "Nyssa                1\n",
      "Frangula             1\n",
      "Name: count, Length: 73, dtype: int64\n"
     ]
    }
   ],
   "source": [
    "# there are three columns for the species of the tree\n",
    "# Soortnaam: specific latin name species\n",
    "print(df_trees['Soortnaam'].value_counts())\n",
    "# Sortnaamkort/Sortnaamtop are for grouped species (they're the same)\n",
    "print(f'nan proportion Soortnaamkort: {na_proportion(df_trees['Soortnaamkort'])}')\n",
    "print(df_trees['Soortnaamkort'].value_counts())\n",
    "print(f'nan proportion Soortnaamtop: {na_proportion(df_trees['Soortnaamtop'])}')\n",
    "print(df_trees['Soortnaamtop'].value_counts())\n",
    "\n",
    "# let's choose both, even if they will by definition be highly correlated in some ways"
   ]
  },
  {
   "cell_type": "code",
   "execution_count": 21,
   "metadata": {},
   "outputs": [
    {
     "name": "stdout",
     "output_type": "stream",
     "text": [
      "number of species: (568,)\n",
      "number of species after removal: (242,)\n",
      "nan proportion Soortnaam after removal: 0.03937350445943006\n"
     ]
    }
   ],
   "source": [
    "# Soortnaam (exact species)\n",
    "# How many species are there?\n",
    "print(f'number of species: {df_trees['Soortnaam'].value_counts().shape}')\n",
    "# let's remove trees which species there are too few of\n",
    "species_threshold = 10\n",
    "df_trees['species'] = replace_less_than_n_values(\n",
    "    df_trees['Soortnaam'],\n",
    "    species_threshold\n",
    ")\n",
    "# how much did that remove?\n",
    "print(f'number of species after removal: {df_trees['species'].value_counts().shape}')\n",
    "print(f'nan proportion Soortnaam after removal: {na_proportion(df_trees['species'])}')\n",
    "df_trees.dropna(inplace=True)"
   ]
  },
  {
   "cell_type": "code",
   "execution_count": 22,
   "metadata": {},
   "outputs": [
    {
     "name": "stdout",
     "output_type": "stream",
     "text": [
      "number of species groups: (47,)\n",
      "nan proportion Soortnaamkort: 0.0\n",
      "number of species groups after removal: (47,)\n",
      "nan proportion species_group after removal: 0.0\n"
     ]
    }
   ],
   "source": [
    "# Soortnaamkort (species group)\n",
    "# How many groups are there?\n",
    "print(f'number of species groups: {df_trees['Soortnaamkort'].value_counts().shape}')\n",
    "# proportion of nan?\n",
    "print(f'nan proportion Soortnaamkort: {na_proportion(df_trees['Soortnaamkort'])}')\n",
    "# let's remove trees which species group there are too few of\n",
    "gr_species_threshold = 10\n",
    "df_trees['species_group'] = replace_less_than_n_values(\n",
    "    df_trees['Soortnaamkort'],\n",
    "    gr_species_threshold\n",
    ")\n",
    "# how much did that remove?\n",
    "print(f'number of species groups after removal: {df_trees['species_group'].value_counts().shape}')\n",
    "print(f'nan proportion species_group after removal: {na_proportion(df_trees['species_group'])}')\n",
    "df_trees.dropna(inplace=True)\n"
   ]
  },
  {
   "cell_type": "code",
   "execution_count": 23,
   "metadata": {},
   "outputs": [
    {
     "name": "stdout",
     "output_type": "stream",
     "text": [
      "Typeobject\n",
      "Boom niet vrij uitgroeiend    22269\n",
      "Boom vrij uitgroeiend          2314\n",
      "Knotboom                        637\n",
      "Gekandelaberde boom             515\n",
      "Vormboom                        460\n",
      "Stobbe                          296\n",
      "Leiboom                           5\n",
      "Name: count, dtype: int64\n"
     ]
    }
   ],
   "source": [
    "# Typeobject (status of the object)\n",
    "print(f'{df_trees['Typeobject'].value_counts()}')\n",
    "# seems fine already. will just nan up the one boomstam_algemeen\n",
    "df_trees['tree_treatment'] = replace_less_than_n_values(df_trees['Typeobject'])\n",
    "df_trees.dropna(inplace=True)"
   ]
  },
  {
   "cell_type": "code",
   "execution_count": 24,
   "metadata": {},
   "outputs": [
    {
     "name": "stdout",
     "output_type": "stream",
     "text": [
      "Typesoortnaam\n",
      "Bomen       26489\n",
      "Algemeen        2\n",
      "Name: count, dtype: int64\n"
     ]
    }
   ],
   "source": [
    "# Typesoortnaam (the sort of thing that this is)\n",
    "print(df_trees['Typesoortnaam'].value_counts())\n",
    "# we are only interested in trees\n",
    "only_trees = most_common_n_values(df_trees['Typesoortnaam'], n = 1)\n",
    "df_trees['plant_type'] = otherise_less_common_values(\n",
    "    df_trees['Typesoortnaam'],\n",
    "    only_trees,\n",
    "    other = np.nan\n",
    ")\n",
    "df_trees.dropna(inplace=True)"
   ]
  },
  {
   "cell_type": "code",
   "execution_count": 25,
   "metadata": {},
   "outputs": [
    {
     "name": "stdout",
     "output_type": "stream",
     "text": [
      "(26489, 23)\n"
     ]
    }
   ],
   "source": [
    "# number of trees left\n",
    "print(df_trees.shape)"
   ]
  },
  {
   "cell_type": "code",
   "execution_count": 26,
   "metadata": {},
   "outputs": [
    {
     "data": {
      "text/html": [
       "<div>\n",
       "<style scoped>\n",
       "    .dataframe tbody tr th:only-of-type {\n",
       "        vertical-align: middle;\n",
       "    }\n",
       "\n",
       "    .dataframe tbody tr th {\n",
       "        vertical-align: top;\n",
       "    }\n",
       "\n",
       "    .dataframe thead th {\n",
       "        text-align: right;\n",
       "    }\n",
       "</style>\n",
       "<table border=\"1\" class=\"dataframe\">\n",
       "  <thead>\n",
       "    <tr style=\"text-align: right;\">\n",
       "      <th></th>\n",
       "      <th>Id</th>\n",
       "      <th>buurt_id</th>\n",
       "      <th>Geometrie</th>\n",
       "      <th>Typebeheerderplus</th>\n",
       "      <th>Boomhoogteklasseactueel</th>\n",
       "      <th>Typeeigenaarplus</th>\n",
       "      <th>year_planted</th>\n",
       "      <th>Soortnaam</th>\n",
       "      <th>Typeobject</th>\n",
       "      <th>Typesoortnaam</th>\n",
       "      <th>...</th>\n",
       "      <th>plant_type</th>\n",
       "      <th>wijk_id</th>\n",
       "      <th>Naam_buurt</th>\n",
       "      <th>Code_buurt</th>\n",
       "      <th>Cbscode_buurt</th>\n",
       "      <th>Geometrie_buurt</th>\n",
       "      <th>Naam_wijk</th>\n",
       "      <th>Code_wijk</th>\n",
       "      <th>Cbscode_wijk</th>\n",
       "      <th>Geometrie_wijk</th>\n",
       "    </tr>\n",
       "  </thead>\n",
       "  <tbody>\n",
       "    <tr>\n",
       "      <th>18447</th>\n",
       "      <td>1112279</td>\n",
       "      <td>3.630980e+12</td>\n",
       "      <td>SRID=28992;POINT (121117.48 491354.02)</td>\n",
       "      <td>R&amp;E_VOR_Bomen</td>\n",
       "      <td>e. 15 tot 18 m.</td>\n",
       "      <td>Gemeente Amsterdam</td>\n",
       "      <td>1970.0</td>\n",
       "      <td>Populus canescens</td>\n",
       "      <td>Boom niet vrij uitgroeiend</td>\n",
       "      <td>Bomen</td>\n",
       "      <td>...</td>\n",
       "      <td>Bomen</td>\n",
       "      <td>3630970000088</td>\n",
       "      <td>Tuindorp Oostzaan-Oost</td>\n",
       "      <td>NC02</td>\n",
       "      <td>BU0363NC02</td>\n",
       "      <td>SRID=28992;POLYGON ((121575.334 492121.98, 121...</td>\n",
       "      <td>Tuindorp Oostzaan</td>\n",
       "      <td>NC</td>\n",
       "      <td>WK0363NC</td>\n",
       "      <td>SRID=28992;POLYGON((121989.715 491718.467,1218...</td>\n",
       "    </tr>\n",
       "    <tr>\n",
       "      <th>15381</th>\n",
       "      <td>1086736</td>\n",
       "      <td>3.630980e+12</td>\n",
       "      <td>SRID=28992;POINT (121200.39 491210.54)</td>\n",
       "      <td>R&amp;E_VOR_Bomen</td>\n",
       "      <td>d. 12 tot 15 m.</td>\n",
       "      <td>Gemeente Amsterdam</td>\n",
       "      <td>1985.0</td>\n",
       "      <td>Ulmus 'Lobel'</td>\n",
       "      <td>Boom niet vrij uitgroeiend</td>\n",
       "      <td>Bomen</td>\n",
       "      <td>...</td>\n",
       "      <td>Bomen</td>\n",
       "      <td>3630970000087</td>\n",
       "      <td>Cornelis Douwesterrein-Oost</td>\n",
       "      <td>NB02</td>\n",
       "      <td>BU0363NB02</td>\n",
       "      <td>SRID=28992;POLYGON ((120480.265 491847.587, 12...</td>\n",
       "      <td>Noordelijke IJ-oevers-West</td>\n",
       "      <td>NB</td>\n",
       "      <td>WK0363NB</td>\n",
       "      <td>SRID=28992;POLYGON((121339.542 491141.159,1213...</td>\n",
       "    </tr>\n",
       "    <tr>\n",
       "      <th>21735</th>\n",
       "      <td>1126529</td>\n",
       "      <td>3.630980e+12</td>\n",
       "      <td>SRID=28992;POINT (112933.71 488180.72)</td>\n",
       "      <td>Recreatieschap Noord-Holland</td>\n",
       "      <td>c. 9 tot 12 m.</td>\n",
       "      <td>Gemeente Amsterdam</td>\n",
       "      <td>2011.0</td>\n",
       "      <td>Salix alba</td>\n",
       "      <td>Boom niet vrij uitgroeiend</td>\n",
       "      <td>Bomen</td>\n",
       "      <td>...</td>\n",
       "      <td>Bomen</td>\n",
       "      <td>3630970000041</td>\n",
       "      <td>Osdorper Binnenpolder</td>\n",
       "      <td>FB01</td>\n",
       "      <td>BU0363FB01</td>\n",
       "      <td>SRID=28992;POLYGON ((114160.397 488670.845, 11...</td>\n",
       "      <td>Geuzenveld</td>\n",
       "      <td>FB</td>\n",
       "      <td>WK0363FB</td>\n",
       "      <td>SRID=28992;POLYGON((115657.535 488104.019,1156...</td>\n",
       "    </tr>\n",
       "    <tr>\n",
       "      <th>14286</th>\n",
       "      <td>1078419</td>\n",
       "      <td>3.630980e+12</td>\n",
       "      <td>SRID=28992;POINT (122593.65 490362.8)</td>\n",
       "      <td>R&amp;E_VOR_Bomen</td>\n",
       "      <td>b. 6 tot 9 m.</td>\n",
       "      <td>Gemeente Amsterdam</td>\n",
       "      <td>1990.0</td>\n",
       "      <td>Acer pseudoplatanus</td>\n",
       "      <td>Boom niet vrij uitgroeiend</td>\n",
       "      <td>Bomen</td>\n",
       "      <td>...</td>\n",
       "      <td>Bomen</td>\n",
       "      <td>3630970000095</td>\n",
       "      <td>Bloemenbuurt-Noord</td>\n",
       "      <td>NK01</td>\n",
       "      <td>BU0363NK01</td>\n",
       "      <td>SRID=28992;POLYGON ((122851.828 490445.054, 12...</td>\n",
       "      <td>Volewijck</td>\n",
       "      <td>NK</td>\n",
       "      <td>WK0363NK</td>\n",
       "      <td>SRID=28992;POLYGON((123288.378 489738.364,1233...</td>\n",
       "    </tr>\n",
       "    <tr>\n",
       "      <th>14207</th>\n",
       "      <td>1078134</td>\n",
       "      <td>3.630980e+12</td>\n",
       "      <td>SRID=28992;POINT (113877.4 490135.2)</td>\n",
       "      <td>R&amp;E_VOR_Bomen</td>\n",
       "      <td>c. 9 tot 12 m.</td>\n",
       "      <td>Gemeente Amsterdam</td>\n",
       "      <td>1995.0</td>\n",
       "      <td>Ulmus 'New Horizon'</td>\n",
       "      <td>Boom niet vrij uitgroeiend</td>\n",
       "      <td>Bomen</td>\n",
       "      <td>...</td>\n",
       "      <td>Bomen</td>\n",
       "      <td>3630970000040</td>\n",
       "      <td>Sloterdijk Poort-Noord</td>\n",
       "      <td>FA02</td>\n",
       "      <td>BU0363FA02</td>\n",
       "      <td>SRID=28992;POLYGON ((115129.692 490371.221, 11...</td>\n",
       "      <td>Sloterdijk Nieuw-West</td>\n",
       "      <td>FA</td>\n",
       "      <td>WK0363FA</td>\n",
       "      <td>SRID=28992;POLYGON((115688.525 489818.057,1156...</td>\n",
       "    </tr>\n",
       "  </tbody>\n",
       "</table>\n",
       "<p>5 rows × 32 columns</p>\n",
       "</div>"
      ],
      "text/plain": [
       "            Id      buurt_id                               Geometrie  \\\n",
       "18447  1112279  3.630980e+12  SRID=28992;POINT (121117.48 491354.02)   \n",
       "15381  1086736  3.630980e+12  SRID=28992;POINT (121200.39 491210.54)   \n",
       "21735  1126529  3.630980e+12  SRID=28992;POINT (112933.71 488180.72)   \n",
       "14286  1078419  3.630980e+12   SRID=28992;POINT (122593.65 490362.8)   \n",
       "14207  1078134  3.630980e+12    SRID=28992;POINT (113877.4 490135.2)   \n",
       "\n",
       "                  Typebeheerderplus Boomhoogteklasseactueel  \\\n",
       "18447                 R&E_VOR_Bomen         e. 15 tot 18 m.   \n",
       "15381                 R&E_VOR_Bomen         d. 12 tot 15 m.   \n",
       "21735  Recreatieschap Noord-Holland          c. 9 tot 12 m.   \n",
       "14286                 R&E_VOR_Bomen           b. 6 tot 9 m.   \n",
       "14207                 R&E_VOR_Bomen          c. 9 tot 12 m.   \n",
       "\n",
       "         Typeeigenaarplus  year_planted            Soortnaam  \\\n",
       "18447  Gemeente Amsterdam        1970.0    Populus canescens   \n",
       "15381  Gemeente Amsterdam        1985.0        Ulmus 'Lobel'   \n",
       "21735  Gemeente Amsterdam        2011.0           Salix alba   \n",
       "14286  Gemeente Amsterdam        1990.0  Acer pseudoplatanus   \n",
       "14207  Gemeente Amsterdam        1995.0  Ulmus 'New Horizon'   \n",
       "\n",
       "                       Typeobject Typesoortnaam  ... plant_type  \\\n",
       "18447  Boom niet vrij uitgroeiend         Bomen  ...      Bomen   \n",
       "15381  Boom niet vrij uitgroeiend         Bomen  ...      Bomen   \n",
       "21735  Boom niet vrij uitgroeiend         Bomen  ...      Bomen   \n",
       "14286  Boom niet vrij uitgroeiend         Bomen  ...      Bomen   \n",
       "14207  Boom niet vrij uitgroeiend         Bomen  ...      Bomen   \n",
       "\n",
       "             wijk_id                   Naam_buurt Code_buurt  Cbscode_buurt  \\\n",
       "18447  3630970000088       Tuindorp Oostzaan-Oost       NC02     BU0363NC02   \n",
       "15381  3630970000087  Cornelis Douwesterrein-Oost       NB02     BU0363NB02   \n",
       "21735  3630970000041        Osdorper Binnenpolder       FB01     BU0363FB01   \n",
       "14286  3630970000095           Bloemenbuurt-Noord       NK01     BU0363NK01   \n",
       "14207  3630970000040       Sloterdijk Poort-Noord       FA02     BU0363FA02   \n",
       "\n",
       "                                         Geometrie_buurt  \\\n",
       "18447  SRID=28992;POLYGON ((121575.334 492121.98, 121...   \n",
       "15381  SRID=28992;POLYGON ((120480.265 491847.587, 12...   \n",
       "21735  SRID=28992;POLYGON ((114160.397 488670.845, 11...   \n",
       "14286  SRID=28992;POLYGON ((122851.828 490445.054, 12...   \n",
       "14207  SRID=28992;POLYGON ((115129.692 490371.221, 11...   \n",
       "\n",
       "                        Naam_wijk Code_wijk  Cbscode_wijk  \\\n",
       "18447           Tuindorp Oostzaan        NC      WK0363NC   \n",
       "15381  Noordelijke IJ-oevers-West        NB      WK0363NB   \n",
       "21735                  Geuzenveld        FB      WK0363FB   \n",
       "14286                   Volewijck        NK      WK0363NK   \n",
       "14207       Sloterdijk Nieuw-West        FA      WK0363FA   \n",
       "\n",
       "                                          Geometrie_wijk  \n",
       "18447  SRID=28992;POLYGON((121989.715 491718.467,1218...  \n",
       "15381  SRID=28992;POLYGON((121339.542 491141.159,1213...  \n",
       "21735  SRID=28992;POLYGON((115657.535 488104.019,1156...  \n",
       "14286  SRID=28992;POLYGON((123288.378 489738.364,1233...  \n",
       "14207  SRID=28992;POLYGON((115688.525 489818.057,1156...  \n",
       "\n",
       "[5 rows x 32 columns]"
      ]
     },
     "metadata": {},
     "output_type": "display_data"
    },
    {
     "name": "stdout",
     "output_type": "stream",
     "text": [
      "Index(['Id', 'buurt_id', 'Geometrie', 'Typebeheerderplus',\n",
      "       'Boomhoogteklasseactueel', 'Typeeigenaarplus', 'year_planted',\n",
      "       'Soortnaam', 'Typeobject', 'Typesoortnaam', 'Soortnaamkort',\n",
      "       'Soortnaamtop', 'growth_ground', 'diameter', 'tree_height_fixed',\n",
      "       'tree_height_random', 'tree_admin', 'tree_municipality', 'age',\n",
      "       'species', 'species_group', 'tree_treatment', 'plant_type', 'wijk_id',\n",
      "       'Naam_buurt', 'Code_buurt', 'Cbscode_buurt', 'Geometrie_buurt',\n",
      "       'Naam_wijk', 'Code_wijk', 'Cbscode_wijk', 'Geometrie_wijk'],\n",
      "      dtype='object')\n"
     ]
    }
   ],
   "source": [
    "df_with_location = pd.merge(df_trees, df_location_data, on=buurt_id_column)\n",
    "display(df_with_location.sample(10).head())\n",
    "print(df_with_location.columns)"
   ]
  },
  {
   "cell_type": "code",
   "execution_count": 27,
   "metadata": {},
   "outputs": [],
   "source": [
    "# parking data\n",
    "df_parking = pd.read_csv('data/parking_data_amsterdam.csv')\n"
   ]
  },
  {
   "cell_type": "code",
   "execution_count": 28,
   "metadata": {},
   "outputs": [
    {
     "name": "stdout",
     "output_type": "stream",
     "text": [
      "shape of parking dataset: (266622, 9)\n",
      "columns: Index(['WKT', 'id', 'buurtcode', 'straatnaam', 'type', 'soort', 'e_type',\n",
      "       'aantal', 'versiedatum'],\n",
      "      dtype='object')\n",
      "    Code_buurt  parked_cars_in_neighbourhood\n",
      "0         KQ05                          2986\n",
      "1         KR03                          2385\n",
      "2         FH02                          2373\n",
      "3         FA03                          2348\n",
      "4         MN03                          2231\n",
      "..         ...                           ...\n",
      "497       AD08                             7\n",
      "498       TA05                             6\n",
      "499       NQ07                             4\n",
      "500       FN03                             4\n",
      "501       MP02                             2\n",
      "\n",
      "[502 rows x 2 columns]\n"
     ]
    }
   ],
   "source": [
    "# some info about this dataset\n",
    "print(f'shape of parking dataset: {df_parking.shape}')\n",
    "print(f'columns: {df_parking.columns}')\n",
    "parking_count_per_buurt = df_parking['buurtcode'].value_counts()\n",
    "parking_per_neighbourhood = pd.DataFrame({\n",
    "    'Code_buurt': parking_count_per_buurt.index,\n",
    "    'parked_cars_in_neighbourhood': parking_count_per_buurt.values\n",
    "})\n",
    "print(parking_per_neighbourhood)\n"
   ]
  },
  {
   "cell_type": "code",
   "execution_count": 29,
   "metadata": {},
   "outputs": [
    {
     "data": {
      "text/html": [
       "<div>\n",
       "<style scoped>\n",
       "    .dataframe tbody tr th:only-of-type {\n",
       "        vertical-align: middle;\n",
       "    }\n",
       "\n",
       "    .dataframe tbody tr th {\n",
       "        vertical-align: top;\n",
       "    }\n",
       "\n",
       "    .dataframe thead th {\n",
       "        text-align: right;\n",
       "    }\n",
       "</style>\n",
       "<table border=\"1\" class=\"dataframe\">\n",
       "  <thead>\n",
       "    <tr style=\"text-align: right;\">\n",
       "      <th></th>\n",
       "      <th>Id</th>\n",
       "      <th>buurt_id</th>\n",
       "      <th>Geometrie</th>\n",
       "      <th>Typebeheerderplus</th>\n",
       "      <th>Boomhoogteklasseactueel</th>\n",
       "      <th>Typeeigenaarplus</th>\n",
       "      <th>year_planted</th>\n",
       "      <th>Soortnaam</th>\n",
       "      <th>Typeobject</th>\n",
       "      <th>Typesoortnaam</th>\n",
       "      <th>...</th>\n",
       "      <th>wijk_id</th>\n",
       "      <th>Naam_buurt</th>\n",
       "      <th>Code_buurt</th>\n",
       "      <th>Cbscode_buurt</th>\n",
       "      <th>Geometrie_buurt</th>\n",
       "      <th>Naam_wijk</th>\n",
       "      <th>Code_wijk</th>\n",
       "      <th>Cbscode_wijk</th>\n",
       "      <th>Geometrie_wijk</th>\n",
       "      <th>parked_cars_in_neighbourhood</th>\n",
       "    </tr>\n",
       "  </thead>\n",
       "  <tbody>\n",
       "    <tr>\n",
       "      <th>18095</th>\n",
       "      <td>1116934</td>\n",
       "      <td>3.630980e+12</td>\n",
       "      <td>SRID=28992;POINT (113402.15 484791.06)</td>\n",
       "      <td>R&amp;E_VOR_Bomen</td>\n",
       "      <td>d. 12 tot 15 m.</td>\n",
       "      <td>Gemeente Amsterdam</td>\n",
       "      <td>1961.0</td>\n",
       "      <td>Acer pseudoplatanus</td>\n",
       "      <td>Boom niet vrij uitgroeiend</td>\n",
       "      <td>Bomen</td>\n",
       "      <td>...</td>\n",
       "      <td>3630970000046</td>\n",
       "      <td>De Aker-West</td>\n",
       "      <td>FG02</td>\n",
       "      <td>BU0363FG02</td>\n",
       "      <td>SRID=28992;POLYGON ((113120.738 485391.253, 11...</td>\n",
       "      <td>De Aker</td>\n",
       "      <td>FG</td>\n",
       "      <td>WK0363FG</td>\n",
       "      <td>SRID=28992;POLYGON((114441.219 485181.601,1144...</td>\n",
       "      <td>1736</td>\n",
       "    </tr>\n",
       "    <tr>\n",
       "      <th>23283</th>\n",
       "      <td>1276897</td>\n",
       "      <td>3.630980e+12</td>\n",
       "      <td>SRID=28992;POINT (132056.872119784 479522.2559...</td>\n",
       "      <td>R&amp;E_VOR_Bomen</td>\n",
       "      <td>c. 9 tot 12 m.</td>\n",
       "      <td>Gemeente Weesp</td>\n",
       "      <td>2008.0</td>\n",
       "      <td>Pyrus calleryana 'Chanticleer'</td>\n",
       "      <td>Boom niet vrij uitgroeiend</td>\n",
       "      <td>Bomen</td>\n",
       "      <td>...</td>\n",
       "      <td>3630970000104</td>\n",
       "      <td>Weesp-Zuid II</td>\n",
       "      <td>SD05</td>\n",
       "      <td>BU0363SD05</td>\n",
       "      <td>SRID=28992;POLYGON ((131888.906 479790.688, 13...</td>\n",
       "      <td>Weesp Binnenstad/Zuid</td>\n",
       "      <td>SD</td>\n",
       "      <td>WK0363SD</td>\n",
       "      <td>SRID=28992;POLYGON((131888.906 479790.688,1318...</td>\n",
       "      <td>326</td>\n",
       "    </tr>\n",
       "    <tr>\n",
       "      <th>20419</th>\n",
       "      <td>1126501</td>\n",
       "      <td>3.630980e+12</td>\n",
       "      <td>SRID=28992;POINT (112535 488060.13)</td>\n",
       "      <td>R&amp;E_VOR_Bomen</td>\n",
       "      <td>d. 12 tot 15 m.</td>\n",
       "      <td>Gemeente Amsterdam</td>\n",
       "      <td>1996.0</td>\n",
       "      <td>Alnus spaethii 'Spaeth'</td>\n",
       "      <td>Boom niet vrij uitgroeiend</td>\n",
       "      <td>Bomen</td>\n",
       "      <td>...</td>\n",
       "      <td>3630970000045</td>\n",
       "      <td>Osdorper Bovenpolder</td>\n",
       "      <td>FF01</td>\n",
       "      <td>BU0363FF01</td>\n",
       "      <td>SRID=28992;POLYGON ((112232.693 488304.895, 11...</td>\n",
       "      <td>Lutkemeer/Ookmeer</td>\n",
       "      <td>FF</td>\n",
       "      <td>WK0363FF</td>\n",
       "      <td>SRID=28992;POLYGON((115370.192 487357.932,1150...</td>\n",
       "      <td>104</td>\n",
       "    </tr>\n",
       "    <tr>\n",
       "      <th>14421</th>\n",
       "      <td>1089742</td>\n",
       "      <td>3.630980e+12</td>\n",
       "      <td>SRID=28992;POINT (113873.58 484710.49)</td>\n",
       "      <td>R&amp;E_VOR_Bomen</td>\n",
       "      <td>c. 9 tot 12 m.</td>\n",
       "      <td>Gemeente Amsterdam</td>\n",
       "      <td>2000.0</td>\n",
       "      <td>Prunus avium 'Plena'</td>\n",
       "      <td>Boom niet vrij uitgroeiend</td>\n",
       "      <td>Bomen</td>\n",
       "      <td>...</td>\n",
       "      <td>3630970000046</td>\n",
       "      <td>De Aker-West</td>\n",
       "      <td>FG02</td>\n",
       "      <td>BU0363FG02</td>\n",
       "      <td>SRID=28992;POLYGON ((113120.738 485391.253, 11...</td>\n",
       "      <td>De Aker</td>\n",
       "      <td>FG</td>\n",
       "      <td>WK0363FG</td>\n",
       "      <td>SRID=28992;POLYGON((114441.219 485181.601,1144...</td>\n",
       "      <td>1736</td>\n",
       "    </tr>\n",
       "    <tr>\n",
       "      <th>9383</th>\n",
       "      <td>1026597</td>\n",
       "      <td>3.630980e+12</td>\n",
       "      <td>SRID=28992;POINT (123746.33 484168.25)</td>\n",
       "      <td>R&amp;E_VOR_Bomen</td>\n",
       "      <td>a. tot 6 m.</td>\n",
       "      <td>Gemeente Amsterdam</td>\n",
       "      <td>1970.0</td>\n",
       "      <td>Malus 'Aldenhamensis'</td>\n",
       "      <td>Boom niet vrij uitgroeiend</td>\n",
       "      <td>Bomen</td>\n",
       "      <td>...</td>\n",
       "      <td>3630970000082</td>\n",
       "      <td>De Wetbuurt</td>\n",
       "      <td>MM07</td>\n",
       "      <td>BU0363MM07</td>\n",
       "      <td>SRID=28992;POLYGON ((123675.044 484395.005, 12...</td>\n",
       "      <td>Frankendael</td>\n",
       "      <td>MM</td>\n",
       "      <td>WK0363MM</td>\n",
       "      <td>SRID=28992;POLYGON((124540.644 484524.221,1245...</td>\n",
       "      <td>873</td>\n",
       "    </tr>\n",
       "  </tbody>\n",
       "</table>\n",
       "<p>5 rows × 33 columns</p>\n",
       "</div>"
      ],
      "text/plain": [
       "            Id      buurt_id  \\\n",
       "18095  1116934  3.630980e+12   \n",
       "23283  1276897  3.630980e+12   \n",
       "20419  1126501  3.630980e+12   \n",
       "14421  1089742  3.630980e+12   \n",
       "9383   1026597  3.630980e+12   \n",
       "\n",
       "                                               Geometrie Typebeheerderplus  \\\n",
       "18095             SRID=28992;POINT (113402.15 484791.06)     R&E_VOR_Bomen   \n",
       "23283  SRID=28992;POINT (132056.872119784 479522.2559...     R&E_VOR_Bomen   \n",
       "20419                SRID=28992;POINT (112535 488060.13)     R&E_VOR_Bomen   \n",
       "14421             SRID=28992;POINT (113873.58 484710.49)     R&E_VOR_Bomen   \n",
       "9383              SRID=28992;POINT (123746.33 484168.25)     R&E_VOR_Bomen   \n",
       "\n",
       "      Boomhoogteklasseactueel    Typeeigenaarplus  year_planted  \\\n",
       "18095         d. 12 tot 15 m.  Gemeente Amsterdam        1961.0   \n",
       "23283          c. 9 tot 12 m.      Gemeente Weesp        2008.0   \n",
       "20419         d. 12 tot 15 m.  Gemeente Amsterdam        1996.0   \n",
       "14421          c. 9 tot 12 m.  Gemeente Amsterdam        2000.0   \n",
       "9383              a. tot 6 m.  Gemeente Amsterdam        1970.0   \n",
       "\n",
       "                            Soortnaam                  Typeobject  \\\n",
       "18095             Acer pseudoplatanus  Boom niet vrij uitgroeiend   \n",
       "23283  Pyrus calleryana 'Chanticleer'  Boom niet vrij uitgroeiend   \n",
       "20419         Alnus spaethii 'Spaeth'  Boom niet vrij uitgroeiend   \n",
       "14421            Prunus avium 'Plena'  Boom niet vrij uitgroeiend   \n",
       "9383            Malus 'Aldenhamensis'  Boom niet vrij uitgroeiend   \n",
       "\n",
       "      Typesoortnaam  ...        wijk_id            Naam_buurt Code_buurt  \\\n",
       "18095         Bomen  ...  3630970000046          De Aker-West       FG02   \n",
       "23283         Bomen  ...  3630970000104         Weesp-Zuid II       SD05   \n",
       "20419         Bomen  ...  3630970000045  Osdorper Bovenpolder       FF01   \n",
       "14421         Bomen  ...  3630970000046          De Aker-West       FG02   \n",
       "9383          Bomen  ...  3630970000082           De Wetbuurt       MM07   \n",
       "\n",
       "      Cbscode_buurt                                    Geometrie_buurt  \\\n",
       "18095    BU0363FG02  SRID=28992;POLYGON ((113120.738 485391.253, 11...   \n",
       "23283    BU0363SD05  SRID=28992;POLYGON ((131888.906 479790.688, 13...   \n",
       "20419    BU0363FF01  SRID=28992;POLYGON ((112232.693 488304.895, 11...   \n",
       "14421    BU0363FG02  SRID=28992;POLYGON ((113120.738 485391.253, 11...   \n",
       "9383     BU0363MM07  SRID=28992;POLYGON ((123675.044 484395.005, 12...   \n",
       "\n",
       "                   Naam_wijk Code_wijk Cbscode_wijk  \\\n",
       "18095                De Aker        FG     WK0363FG   \n",
       "23283  Weesp Binnenstad/Zuid        SD     WK0363SD   \n",
       "20419      Lutkemeer/Ookmeer        FF     WK0363FF   \n",
       "14421                De Aker        FG     WK0363FG   \n",
       "9383             Frankendael        MM     WK0363MM   \n",
       "\n",
       "                                          Geometrie_wijk  \\\n",
       "18095  SRID=28992;POLYGON((114441.219 485181.601,1144...   \n",
       "23283  SRID=28992;POLYGON((131888.906 479790.688,1318...   \n",
       "20419  SRID=28992;POLYGON((115370.192 487357.932,1150...   \n",
       "14421  SRID=28992;POLYGON((114441.219 485181.601,1144...   \n",
       "9383   SRID=28992;POLYGON((124540.644 484524.221,1245...   \n",
       "\n",
       "      parked_cars_in_neighbourhood  \n",
       "18095                         1736  \n",
       "23283                          326  \n",
       "20419                          104  \n",
       "14421                         1736  \n",
       "9383                           873  \n",
       "\n",
       "[5 rows x 33 columns]"
      ]
     },
     "metadata": {},
     "output_type": "display_data"
    }
   ],
   "source": [
    "df_with_parking = pd.merge(\n",
    "    df_with_location, \n",
    "    parking_per_neighbourhood,\n",
    "    on='Code_buurt'\n",
    ")\n",
    "df_with_parking.dropna(inplace=True)\n",
    "display(df_with_parking.sample(10).head())"
   ]
  },
  {
   "cell_type": "code",
   "execution_count": 30,
   "metadata": {},
   "outputs": [
    {
     "data": {
      "text/plain": [
       "Text(0, 0.5, 'Frequency')"
      ]
     },
     "execution_count": 30,
     "metadata": {},
     "output_type": "execute_result"
    },
    {
     "data": {
      "image/png": "[encoded data removed]",
      "text/plain": [
       "<Figure size 640x480 with 1 Axes>"
      ]
     },
     "metadata": {},
     "output_type": "display_data"
    }
   ],
   "source": [
    "# let's plot the height of trees of the cleaned up dataset\n",
    "sns.histplot(df_with_parking['tree_height_fixed'])\n",
    "plt.title(\"Histogram of tree height frequency (fixed)\")\n",
    "plt.xlabel(\"Height (m)\")\n",
    "plt.ylabel(\"Frequency\")"
   ]
  },
  {
   "cell_type": "code",
   "execution_count": 31,
   "metadata": {},
   "outputs": [
    {
     "data": {
      "text/plain": [
       "Index(['Id', 'buurt_id', 'Geometrie', 'Typebeheerderplus',\n",
       "       'Boomhoogteklasseactueel', 'Typeeigenaarplus', 'year_planted',\n",
       "       'Soortnaam', 'Typeobject', 'Typesoortnaam', 'Soortnaamkort',\n",
       "       'Soortnaamtop', 'growth_ground', 'diameter', 'tree_height_fixed',\n",
       "       'tree_height_random', 'tree_admin', 'tree_municipality', 'age',\n",
       "       'species', 'species_group', 'tree_treatment', 'plant_type', 'wijk_id',\n",
       "       'Naam_buurt', 'Code_buurt', 'Cbscode_buurt', 'Geometrie_buurt',\n",
       "       'Naam_wijk', 'Code_wijk', 'Cbscode_wijk', 'Geometrie_wijk',\n",
       "       'parked_cars_in_neighbourhood'],\n",
       "      dtype='object')"
      ]
     },
     "execution_count": 31,
     "metadata": {},
     "output_type": "execute_result"
    }
   ],
   "source": [
    "# last cleaning steps to make dataset smaller\n",
    "df_with_parking.columns"
   ]
  },
  {
   "cell_type": "code",
   "execution_count": 32,
   "metadata": {},
   "outputs": [],
   "source": [
    "# removing redundant columns\n",
    "columns_to_drop = ['Id', 'buurt_id', 'Geometrie', 'Typebeheerderplus', \n",
    "                   'Boomhoogteklasseactueel', 'Typeeigenaarplus', 'year_planted',\n",
    "                    'Soortnaam', 'Typeobject', 'Typesoortnaam', 'Soortnaamkort',\n",
    "                    'Soortnaamtop', 'wijk_id', 'Code_buurt', 'Cbscode_buurt',\n",
    "                    'Geometrie_buurt', 'Code_wijk', 'Cbscode_wijk',\n",
    "                    'Geometrie_wijk', 'plant_type'\n",
    "]\n",
    "df_trees_final = df_with_parking.drop(columns=columns_to_drop)"
   ]
  },
  {
   "cell_type": "code",
   "execution_count": 33,
   "metadata": {},
   "outputs": [],
   "source": [
    "df_trees_final.to_csv('data/clean_tree_data.csv')"
   ]
  }
 ],
 "metadata": {
  "kernelspec": {
   "display_name": "venv",
   "language": "python",
   "name": "python3"
  },
  "language_info": {
   "codemirror_mode": {
    "name": "ipython",
    "version": 3
   },
   "file_extension": ".py",
   "mimetype": "text/x-python",
   "name": "python",
   "nbconvert_exporter": "python",
   "pygments_lexer": "ipython3",
   "version": "3.12.2"
  }
 },
 "nbformat": 4,
 "nbformat_minor": 2
}
