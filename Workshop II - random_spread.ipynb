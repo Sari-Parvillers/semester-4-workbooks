{
 "cells": [
  {
   "cell_type": "markdown",
   "id": "1b4b07a8",
   "metadata": {},
   "source": [
    "# Evaluating Model Performance for Numerical Data"
   ]
  },
  {
   "cell_type": "markdown",
   "id": "6b8f06a5",
   "metadata": {},
   "source": [
    "### Excercise: Comparing Model Performance\n",
    "Load a dataset of choice, ameanible to linear regression analysis. You can use the data from the last workshop. Split the data into train - validation - and test. "
   ]
  },
  {
   "cell_type": "code",
   "execution_count": 99,
   "id": "4f84aac6",
   "metadata": {},
   "outputs": [],
   "source": [
    "import os\n",
    "import pandas as pd\n",
    "import numpy as np\n",
    "import matplotlib.pyplot as plt\n",
    "import seaborn as sns\n",
    "import statsmodels.api as sm\n",
    "from scipy import stats\n",
    "from sklearn.metrics import mean_squared_error, mean_absolute_error\n",
    "# Change the current working directory\n",
    "os.chdir('/Users/Sari/Documents/Code/Semester 4 workbooks')"
   ]
  },
  {
   "cell_type": "code",
   "execution_count": 100,
   "id": "13da3929",
   "metadata": {},
   "outputs": [
    {
     "name": "stdout",
     "output_type": "stream",
     "text": [
      "Index(['Unnamed: 0', 'growth_ground', 'tree_height', 'tree_admin',\n",
      "       'tree_municipality', 'age', 'species', 'species_group',\n",
      "       'tree_treatment', 'Naam_buurt', 'Naam_wijk',\n",
      "       'parked_cars_in_neighbourhood'],\n",
      "      dtype='object')\n"
     ]
    }
   ],
   "source": [
    "df = pd.read_csv('data/clean_tree_data.csv')\n",
    "print(df.columns)\n",
    "df.drop('Unnamed: 0', axis=1, inplace=True)\n"
   ]
  },
  {
   "cell_type": "code",
   "execution_count": 101,
   "id": "31040191",
   "metadata": {},
   "outputs": [],
   "source": [
    "# categorical variables\n",
    "categorical_vars = ['growth_ground', 'tree_admin', 'tree_municipality',\n",
    "                    'species', 'species_group', 'tree_treatment', 'Naam_buurt',\n",
    "                    'Naam_wijk']\n",
    "\n",
    "# I want to store the dummies for particular variables so I can include/exclude \n",
    "# them in my regression\n",
    "indexed_dummy_columns = dict()\n",
    "\n",
    "df_dummies = df\n",
    "\n",
    "for category in categorical_vars:\n",
    "    dummies = pd.get_dummies(df[category], prefix=category, drop_first=True)\n",
    "    dummies = dummies.astype(float)\n",
    "    indexed_dummy_columns[category] = dummies.columns\n",
    "    df_dummies = pd.concat([df_dummies, dummies], axis=1)"
   ]
  },
  {
   "cell_type": "code",
   "execution_count": 102,
   "id": "779dfbca",
   "metadata": {},
   "outputs": [
    {
     "data": {
      "image/png": "[encoded data removed]",
      "text/plain": [
       "<Figure size 640x480 with 1 Axes>"
      ]
     },
     "metadata": {},
     "output_type": "display_data"
    },
    {
     "data": {
      "text/plain": [
       "12.119146102075154"
      ]
     },
     "execution_count": 102,
     "metadata": {},
     "output_type": "execute_result"
    }
   ],
   "source": [
    "# tree height distribution\n",
    "ax = sns.histplot(df_dummies['tree_height'], discrete=True).set(\n",
    "    title=\"Histogram of estimated tree height frequency\"\n",
    ")\n",
    "plt.xlabel('Estimated tree height (m)')\n",
    "plt.show()\n",
    "df_dummies['tree_height'].mean()"
   ]
  },
  {
   "cell_type": "markdown",
   "id": "e7ba7912",
   "metadata": {},
   "source": [
    "Skewed to the left."
   ]
  },
  {
   "cell_type": "markdown",
   "id": "ed8abc44",
   "metadata": {},
   "source": [
    "### 1a: Split your dataset into three parts, namely training, validation and test. "
   ]
  },
  {
   "cell_type": "code",
   "execution_count": 103,
   "id": "f9c53645",
   "metadata": {},
   "outputs": [],
   "source": [
    "# make train, validate, and test sets\n",
    "suffled_df = df_dummies.sample(frac=1, random_state=31415)\n",
    "\n",
    "total_size = len(df_dummies.index)\n",
    "train_size = int(total_size * 0.5)\n",
    "validation_size = int(total_size * 0.25)\n",
    "\n",
    "y_variable = 'tree_height'\n",
    "\n",
    "train_set = suffled_df.iloc[:train_size]\n",
    "validate_set = suffled_df.iloc[train_size:(train_size + validation_size)]\n",
    "test_set = suffled_df.iloc[(train_size + validation_size):]\n",
    "\n",
    "X_train = train_set.drop(y_variable, axis=1)\n",
    "y_train = train_set[y_variable]\n",
    "\n",
    "X_train_full = sm.add_constant(X_train)\n",
    "\n",
    "X_valid = validate_set.drop(y_variable, axis=1)\n",
    "y_valid = validate_set[y_variable]\n",
    "\n",
    "X_valid_full = sm.add_constant(X_valid)\n",
    "\n",
    "X_test = test_set.drop(y_variable, axis=1)\n",
    "y_test = test_set[y_variable]\n",
    "\n",
    "X_test_full = sm.add_constant(X_valid)"
   ]
  },
  {
   "cell_type": "markdown",
   "id": "60af180f",
   "metadata": {},
   "source": [
    "### 1b:  Compare 3 models on their performance on the validation set\n",
    "\n",
    "Define 3 models, one `unsaturated` which uses only the intercept; one `fully saturated` which represents the most complex model you can generate, and one in between. Fit each model to the training data, and generate predictions for each model on the test_set. "
   ]
  },
  {
   "cell_type": "code",
   "execution_count": 104,
   "id": "875b1c2b",
   "metadata": {},
   "outputs": [],
   "source": [
    "\n",
    "def fit_predict_evaluate(X_train, y_train, X_valid, y_valid, credibility_pct=95, n_sims = 10000):\n",
    "    \n",
    "    # Fit the model\n",
    "    model = sm.OLS(y_train, X_train).fit()\n",
    "    \n",
    "    # Step 2: Predict new values\n",
    "    new_predictions = model.predict(X_valid)\n",
    "    \n",
    "    # Step 3: Calculate standard errors of the predictions on the validation set\n",
    "    cov_matrix = model.cov_params()\n",
    "    design_matrix = X_valid\n",
    "    variances = np.diag(np.dot(np.dot(design_matrix, cov_matrix), design_matrix.T))\n",
    "    std_errors_predictions = np.sqrt(variances)\n",
    "    \n",
    "    # Generate posterior samples\n",
    "    new_predictions_array = np.array(new_predictions)[:, None]  \n",
    "    std_errors_predictions_array = np.array(std_errors_predictions)[:, None]  \n",
    "    \n",
    "    predicted_samples = np.random.normal(loc=new_predictions_array,\n",
    "                                         scale=std_errors_predictions_array,\n",
    "                                         size=(len(new_predictions), n_sims))\n",
    "    \n",
    "    # Calculate estimates summaries\n",
    "    monte_carlo_medians = np.median(predicted_samples, axis=1)\n",
    "    prediction_intervals = np.percentile(predicted_samples, [(100-credibility_pct)/2, credibility_pct+(100-credibility_pct)/2], axis=1)\n",
    "    \n",
    "    # Calculate metrics\n",
    "    bias = np.mean(monte_carlo_medians - y_valid)\n",
    "    rmse = np.sqrt(mean_squared_error(y_valid, monte_carlo_medians))\n",
    "    correlation = np.corrcoef(y_valid, monte_carlo_medians)[0, 1]\n",
    "    coverage = np.mean((y_valid >=  prediction_intervals[0,:]) & (y_valid <=  prediction_intervals[1,:]))\n",
    "    \n",
    "    # Return results as a dictionary\n",
    "    results = {\n",
    "        'bias': bias,\n",
    "        'rmse': rmse,\n",
    "        'correlation': correlation,\n",
    "        'coverage': coverage,\n",
    "        'predictions': new_predictions,\n",
    "        'prediction_intervals': prediction_intervals\n",
    "    }\n",
    "\n",
    "    return results"
   ]
  },
  {
   "cell_type": "code",
   "execution_count": 105,
   "id": "39ec4d98",
   "metadata": {},
   "outputs": [],
   "source": [
    "score_intercept = fit_predict_evaluate(\n",
    "    X_train_full[['const']],\n",
    "    y_train,\n",
    "    X_valid_full[['const']],\n",
    "    y_valid,\n",
    "    credibility_pct=95\n",
    ")"
   ]
  },
  {
   "cell_type": "code",
   "execution_count": 106,
   "id": "796f639c",
   "metadata": {},
   "outputs": [
    {
     "data": {
      "text/plain": [
       "{'bias': 0.019944932278947287,\n",
       " 'rmse': 5.704070421566986,\n",
       " 'correlation': -0.005168963607790924,\n",
       " 'coverage': 0.0,\n",
       " 'predictions': 20101    12.121109\n",
       " 3647     12.121109\n",
       " 35770    12.121109\n",
       " 83987    12.121109\n",
       " 82582    12.121109\n",
       "            ...    \n",
       " 12603    12.121109\n",
       " 55602    12.121109\n",
       " 81225    12.121109\n",
       " 55851    12.121109\n",
       " 65370    12.121109\n",
       " Length: 21396, dtype: float64,\n",
       " 'prediction_intervals': array([[12.06624243, 12.06696767, 12.06832848, ..., 12.0675633 ,\n",
       "         12.06843815, 12.06565293],\n",
       "        [12.17486375, 12.17494347, 12.17521497, ..., 12.17430636,\n",
       "         12.17481372, 12.1750395 ]])}"
      ]
     },
     "execution_count": 106,
     "metadata": {},
     "output_type": "execute_result"
    }
   ],
   "source": [
    "score_intercept"
   ]
  },
  {
   "cell_type": "code",
   "execution_count": 107,
   "id": "1144ee0e",
   "metadata": {},
   "outputs": [],
   "source": [
    "# We normally have a lot of \"location based variables\" and that's a bit less usable.\n",
    "# If you want to grow a tree, \"grow it in the neighbourhood Weesperzijde\" isn't\n",
    "# very universally applicable\n",
    "variables_of_interest = [\n",
    "    'age',\n",
    "    'const',\n",
    "    'parked_cars_in_neighbourhood',\n",
    "]\n",
    "\n",
    "categories_of_interest = [\n",
    "    'growth_ground',\n",
    "    'species',\n",
    "    'tree_treatment',\n",
    "    'tree_admin',\n",
    "]\n",
    "\n",
    "for category in categories_of_interest:\n",
    "    for variable in indexed_dummy_columns[category]:\n",
    "        variables_of_interest.append(variable)\n",
    "\n",
    "score_applicable = fit_predict_evaluate(\n",
    "    X_train_full[variables_of_interest],\n",
    "    y_train,\n",
    "    X_valid_full[variables_of_interest],\n",
    "    y_valid,\n",
    "    credibility_pct=95\n",
    ")"
   ]
  },
  {
   "cell_type": "code",
   "execution_count": 108,
   "id": "e55de59f",
   "metadata": {},
   "outputs": [
    {
     "data": {
      "text/plain": [
       "{'bias': 0.035320792727288976,\n",
       " 'rmse': 3.2966213138627487,\n",
       " 'correlation': 0.8161500929362728,\n",
       " 'coverage': 0.15012151804075527,\n",
       " 'predictions': 20101    11.623261\n",
       " 3647      8.481128\n",
       " 35770    14.309929\n",
       " 83987    13.873630\n",
       " 82582     9.648218\n",
       "            ...    \n",
       " 12603     5.822755\n",
       " 55602    16.381565\n",
       " 81225     8.155557\n",
       " 55851    22.254366\n",
       " 65370    17.070964\n",
       " Length: 21396, dtype: float64,\n",
       " 'prediction_intervals': array([[11.16402742,  8.17863163, 14.02340086, ...,  7.84581749,\n",
       "         21.82396452, 16.7913791 ],\n",
       "        [12.10206982,  8.77956446, 14.59465923, ...,  8.46019681,\n",
       "         22.66867786, 17.35234337]])}"
      ]
     },
     "execution_count": 108,
     "metadata": {},
     "output_type": "execute_result"
    }
   ],
   "source": [
    "score_applicable"
   ]
  },
  {
   "cell_type": "code",
   "execution_count": 109,
   "id": "f40f34a3",
   "metadata": {},
   "outputs": [
    {
     "ename": "ValueError",
     "evalue": "Pandas data cast to numpy dtype of object. Check input data with np.asarray(data).",
     "output_type": "error",
     "traceback": [
      "\u001b[0;31m---------------------------------------------------------------------------\u001b[0m",
      "\u001b[0;31mValueError\u001b[0m                                Traceback (most recent call last)",
      "Cell \u001b[0;32mIn[109], line 1\u001b[0m\n\u001b[0;32m----> 1\u001b[0m score_saturated \u001b[38;5;241m=\u001b[39m \u001b[43mfit_predict_evaluate\u001b[49m\u001b[43m(\u001b[49m\n\u001b[1;32m      2\u001b[0m \u001b[43m    \u001b[49m\u001b[43mX_train_full\u001b[49m\u001b[43m,\u001b[49m\u001b[43m \u001b[49m\n\u001b[1;32m      3\u001b[0m \u001b[43m    \u001b[49m\u001b[43my_train\u001b[49m\u001b[43m,\u001b[49m\u001b[43m \u001b[49m\n\u001b[1;32m      4\u001b[0m \u001b[43m    \u001b[49m\u001b[43mX_valid_full\u001b[49m\u001b[43m,\u001b[49m\u001b[43m \u001b[49m\n\u001b[1;32m      5\u001b[0m \u001b[43m    \u001b[49m\u001b[43my_valid\u001b[49m\u001b[43m,\u001b[49m\u001b[43m \u001b[49m\n\u001b[1;32m      6\u001b[0m \u001b[43m    \u001b[49m\u001b[43mcredibility_pct\u001b[49m\u001b[38;5;241;43m=\u001b[39;49m\u001b[38;5;241;43m95\u001b[39;49m\n\u001b[1;32m      7\u001b[0m \u001b[43m)\u001b[49m\n",
      "Cell \u001b[0;32mIn[104], line 4\u001b[0m, in \u001b[0;36mfit_predict_evaluate\u001b[0;34m(X_train, y_train, X_valid, y_valid, credibility_pct, n_sims)\u001b[0m\n\u001b[1;32m      1\u001b[0m \u001b[38;5;28;01mdef\u001b[39;00m \u001b[38;5;21mfit_predict_evaluate\u001b[39m(X_train, y_train, X_valid, y_valid, credibility_pct\u001b[38;5;241m=\u001b[39m\u001b[38;5;241m95\u001b[39m, n_sims \u001b[38;5;241m=\u001b[39m \u001b[38;5;241m10000\u001b[39m):\n\u001b[1;32m      2\u001b[0m     \n\u001b[1;32m      3\u001b[0m     \u001b[38;5;66;03m# Fit the model\u001b[39;00m\n\u001b[0;32m----> 4\u001b[0m     model \u001b[38;5;241m=\u001b[39m \u001b[43msm\u001b[49m\u001b[38;5;241;43m.\u001b[39;49m\u001b[43mOLS\u001b[49m\u001b[43m(\u001b[49m\u001b[43my_train\u001b[49m\u001b[43m,\u001b[49m\u001b[43m \u001b[49m\u001b[43mX_train\u001b[49m\u001b[43m)\u001b[49m\u001b[38;5;241m.\u001b[39mfit()\n\u001b[1;32m      6\u001b[0m     \u001b[38;5;66;03m# Step 2: Predict new values\u001b[39;00m\n\u001b[1;32m      7\u001b[0m     new_predictions \u001b[38;5;241m=\u001b[39m model\u001b[38;5;241m.\u001b[39mpredict(X_valid)\n",
      "File \u001b[0;32m~/Documents/Code/Semester 4 workbooks/venv/lib/python3.12/site-packages/statsmodels/regression/linear_model.py:923\u001b[0m, in \u001b[0;36mOLS.__init__\u001b[0;34m(self, endog, exog, missing, hasconst, **kwargs)\u001b[0m\n\u001b[1;32m    920\u001b[0m     msg \u001b[38;5;241m=\u001b[39m (\u001b[38;5;124m\"\u001b[39m\u001b[38;5;124mWeights are not supported in OLS and will be ignored\u001b[39m\u001b[38;5;124m\"\u001b[39m\n\u001b[1;32m    921\u001b[0m            \u001b[38;5;124m\"\u001b[39m\u001b[38;5;124mAn exception will be raised in the next version.\u001b[39m\u001b[38;5;124m\"\u001b[39m)\n\u001b[1;32m    922\u001b[0m     warnings\u001b[38;5;241m.\u001b[39mwarn(msg, ValueWarning)\n\u001b[0;32m--> 923\u001b[0m \u001b[38;5;28;43msuper\u001b[39;49m\u001b[43m(\u001b[49m\u001b[43mOLS\u001b[49m\u001b[43m,\u001b[49m\u001b[43m \u001b[49m\u001b[38;5;28;43mself\u001b[39;49m\u001b[43m)\u001b[49m\u001b[38;5;241;43m.\u001b[39;49m\u001b[38;5;21;43m__init__\u001b[39;49m\u001b[43m(\u001b[49m\u001b[43mendog\u001b[49m\u001b[43m,\u001b[49m\u001b[43m \u001b[49m\u001b[43mexog\u001b[49m\u001b[43m,\u001b[49m\u001b[43m \u001b[49m\u001b[43mmissing\u001b[49m\u001b[38;5;241;43m=\u001b[39;49m\u001b[43mmissing\u001b[49m\u001b[43m,\u001b[49m\n\u001b[1;32m    924\u001b[0m \u001b[43m                          \u001b[49m\u001b[43mhasconst\u001b[49m\u001b[38;5;241;43m=\u001b[39;49m\u001b[43mhasconst\u001b[49m\u001b[43m,\u001b[49m\u001b[43m \u001b[49m\u001b[38;5;241;43m*\u001b[39;49m\u001b[38;5;241;43m*\u001b[39;49m\u001b[43mkwargs\u001b[49m\u001b[43m)\u001b[49m\n\u001b[1;32m    925\u001b[0m \u001b[38;5;28;01mif\u001b[39;00m \u001b[38;5;124m\"\u001b[39m\u001b[38;5;124mweights\u001b[39m\u001b[38;5;124m\"\u001b[39m \u001b[38;5;129;01min\u001b[39;00m \u001b[38;5;28mself\u001b[39m\u001b[38;5;241m.\u001b[39m_init_keys:\n\u001b[1;32m    926\u001b[0m     \u001b[38;5;28mself\u001b[39m\u001b[38;5;241m.\u001b[39m_init_keys\u001b[38;5;241m.\u001b[39mremove(\u001b[38;5;124m\"\u001b[39m\u001b[38;5;124mweights\u001b[39m\u001b[38;5;124m\"\u001b[39m)\n",
      "File \u001b[0;32m~/Documents/Code/Semester 4 workbooks/venv/lib/python3.12/site-packages/statsmodels/regression/linear_model.py:748\u001b[0m, in \u001b[0;36mWLS.__init__\u001b[0;34m(self, endog, exog, weights, missing, hasconst, **kwargs)\u001b[0m\n\u001b[1;32m    746\u001b[0m \u001b[38;5;28;01melse\u001b[39;00m:\n\u001b[1;32m    747\u001b[0m     weights \u001b[38;5;241m=\u001b[39m weights\u001b[38;5;241m.\u001b[39msqueeze()\n\u001b[0;32m--> 748\u001b[0m \u001b[38;5;28;43msuper\u001b[39;49m\u001b[43m(\u001b[49m\u001b[43mWLS\u001b[49m\u001b[43m,\u001b[49m\u001b[43m \u001b[49m\u001b[38;5;28;43mself\u001b[39;49m\u001b[43m)\u001b[49m\u001b[38;5;241;43m.\u001b[39;49m\u001b[38;5;21;43m__init__\u001b[39;49m\u001b[43m(\u001b[49m\u001b[43mendog\u001b[49m\u001b[43m,\u001b[49m\u001b[43m \u001b[49m\u001b[43mexog\u001b[49m\u001b[43m,\u001b[49m\u001b[43m \u001b[49m\u001b[43mmissing\u001b[49m\u001b[38;5;241;43m=\u001b[39;49m\u001b[43mmissing\u001b[49m\u001b[43m,\u001b[49m\n\u001b[1;32m    749\u001b[0m \u001b[43m                          \u001b[49m\u001b[43mweights\u001b[49m\u001b[38;5;241;43m=\u001b[39;49m\u001b[43mweights\u001b[49m\u001b[43m,\u001b[49m\u001b[43m \u001b[49m\u001b[43mhasconst\u001b[49m\u001b[38;5;241;43m=\u001b[39;49m\u001b[43mhasconst\u001b[49m\u001b[43m,\u001b[49m\u001b[43m \u001b[49m\u001b[38;5;241;43m*\u001b[39;49m\u001b[38;5;241;43m*\u001b[39;49m\u001b[43mkwargs\u001b[49m\u001b[43m)\u001b[49m\n\u001b[1;32m    750\u001b[0m nobs \u001b[38;5;241m=\u001b[39m \u001b[38;5;28mself\u001b[39m\u001b[38;5;241m.\u001b[39mexog\u001b[38;5;241m.\u001b[39mshape[\u001b[38;5;241m0\u001b[39m]\n\u001b[1;32m    751\u001b[0m weights \u001b[38;5;241m=\u001b[39m \u001b[38;5;28mself\u001b[39m\u001b[38;5;241m.\u001b[39mweights\n",
      "File \u001b[0;32m~/Documents/Code/Semester 4 workbooks/venv/lib/python3.12/site-packages/statsmodels/regression/linear_model.py:202\u001b[0m, in \u001b[0;36mRegressionModel.__init__\u001b[0;34m(self, endog, exog, **kwargs)\u001b[0m\n\u001b[1;32m    201\u001b[0m \u001b[38;5;28;01mdef\u001b[39;00m \u001b[38;5;21m__init__\u001b[39m(\u001b[38;5;28mself\u001b[39m, endog, exog, \u001b[38;5;241m*\u001b[39m\u001b[38;5;241m*\u001b[39mkwargs):\n\u001b[0;32m--> 202\u001b[0m     \u001b[38;5;28;43msuper\u001b[39;49m\u001b[43m(\u001b[49m\u001b[43mRegressionModel\u001b[49m\u001b[43m,\u001b[49m\u001b[43m \u001b[49m\u001b[38;5;28;43mself\u001b[39;49m\u001b[43m)\u001b[49m\u001b[38;5;241;43m.\u001b[39;49m\u001b[38;5;21;43m__init__\u001b[39;49m\u001b[43m(\u001b[49m\u001b[43mendog\u001b[49m\u001b[43m,\u001b[49m\u001b[43m \u001b[49m\u001b[43mexog\u001b[49m\u001b[43m,\u001b[49m\u001b[43m \u001b[49m\u001b[38;5;241;43m*\u001b[39;49m\u001b[38;5;241;43m*\u001b[39;49m\u001b[43mkwargs\u001b[49m\u001b[43m)\u001b[49m\n\u001b[1;32m    203\u001b[0m     \u001b[38;5;28mself\u001b[39m\u001b[38;5;241m.\u001b[39mpinv_wexog: Float64Array \u001b[38;5;241m|\u001b[39m \u001b[38;5;28;01mNone\u001b[39;00m \u001b[38;5;241m=\u001b[39m \u001b[38;5;28;01mNone\u001b[39;00m\n\u001b[1;32m    204\u001b[0m     \u001b[38;5;28mself\u001b[39m\u001b[38;5;241m.\u001b[39m_data_attr\u001b[38;5;241m.\u001b[39mextend([\u001b[38;5;124m'\u001b[39m\u001b[38;5;124mpinv_wexog\u001b[39m\u001b[38;5;124m'\u001b[39m, \u001b[38;5;124m'\u001b[39m\u001b[38;5;124mwendog\u001b[39m\u001b[38;5;124m'\u001b[39m, \u001b[38;5;124m'\u001b[39m\u001b[38;5;124mwexog\u001b[39m\u001b[38;5;124m'\u001b[39m, \u001b[38;5;124m'\u001b[39m\u001b[38;5;124mweights\u001b[39m\u001b[38;5;124m'\u001b[39m])\n",
      "File \u001b[0;32m~/Documents/Code/Semester 4 workbooks/venv/lib/python3.12/site-packages/statsmodels/base/model.py:270\u001b[0m, in \u001b[0;36mLikelihoodModel.__init__\u001b[0;34m(self, endog, exog, **kwargs)\u001b[0m\n\u001b[1;32m    269\u001b[0m \u001b[38;5;28;01mdef\u001b[39;00m \u001b[38;5;21m__init__\u001b[39m(\u001b[38;5;28mself\u001b[39m, endog, exog\u001b[38;5;241m=\u001b[39m\u001b[38;5;28;01mNone\u001b[39;00m, \u001b[38;5;241m*\u001b[39m\u001b[38;5;241m*\u001b[39mkwargs):\n\u001b[0;32m--> 270\u001b[0m     \u001b[38;5;28;43msuper\u001b[39;49m\u001b[43m(\u001b[49m\u001b[43m)\u001b[49m\u001b[38;5;241;43m.\u001b[39;49m\u001b[38;5;21;43m__init__\u001b[39;49m\u001b[43m(\u001b[49m\u001b[43mendog\u001b[49m\u001b[43m,\u001b[49m\u001b[43m \u001b[49m\u001b[43mexog\u001b[49m\u001b[43m,\u001b[49m\u001b[43m \u001b[49m\u001b[38;5;241;43m*\u001b[39;49m\u001b[38;5;241;43m*\u001b[39;49m\u001b[43mkwargs\u001b[49m\u001b[43m)\u001b[49m\n\u001b[1;32m    271\u001b[0m     \u001b[38;5;28mself\u001b[39m\u001b[38;5;241m.\u001b[39minitialize()\n",
      "File \u001b[0;32m~/Documents/Code/Semester 4 workbooks/venv/lib/python3.12/site-packages/statsmodels/base/model.py:95\u001b[0m, in \u001b[0;36mModel.__init__\u001b[0;34m(self, endog, exog, **kwargs)\u001b[0m\n\u001b[1;32m     93\u001b[0m missing \u001b[38;5;241m=\u001b[39m kwargs\u001b[38;5;241m.\u001b[39mpop(\u001b[38;5;124m'\u001b[39m\u001b[38;5;124mmissing\u001b[39m\u001b[38;5;124m'\u001b[39m, \u001b[38;5;124m'\u001b[39m\u001b[38;5;124mnone\u001b[39m\u001b[38;5;124m'\u001b[39m)\n\u001b[1;32m     94\u001b[0m hasconst \u001b[38;5;241m=\u001b[39m kwargs\u001b[38;5;241m.\u001b[39mpop(\u001b[38;5;124m'\u001b[39m\u001b[38;5;124mhasconst\u001b[39m\u001b[38;5;124m'\u001b[39m, \u001b[38;5;28;01mNone\u001b[39;00m)\n\u001b[0;32m---> 95\u001b[0m \u001b[38;5;28mself\u001b[39m\u001b[38;5;241m.\u001b[39mdata \u001b[38;5;241m=\u001b[39m \u001b[38;5;28;43mself\u001b[39;49m\u001b[38;5;241;43m.\u001b[39;49m\u001b[43m_handle_data\u001b[49m\u001b[43m(\u001b[49m\u001b[43mendog\u001b[49m\u001b[43m,\u001b[49m\u001b[43m \u001b[49m\u001b[43mexog\u001b[49m\u001b[43m,\u001b[49m\u001b[43m \u001b[49m\u001b[43mmissing\u001b[49m\u001b[43m,\u001b[49m\u001b[43m \u001b[49m\u001b[43mhasconst\u001b[49m\u001b[43m,\u001b[49m\n\u001b[1;32m     96\u001b[0m \u001b[43m                              \u001b[49m\u001b[38;5;241;43m*\u001b[39;49m\u001b[38;5;241;43m*\u001b[39;49m\u001b[43mkwargs\u001b[49m\u001b[43m)\u001b[49m\n\u001b[1;32m     97\u001b[0m \u001b[38;5;28mself\u001b[39m\u001b[38;5;241m.\u001b[39mk_constant \u001b[38;5;241m=\u001b[39m \u001b[38;5;28mself\u001b[39m\u001b[38;5;241m.\u001b[39mdata\u001b[38;5;241m.\u001b[39mk_constant\n\u001b[1;32m     98\u001b[0m \u001b[38;5;28mself\u001b[39m\u001b[38;5;241m.\u001b[39mexog \u001b[38;5;241m=\u001b[39m \u001b[38;5;28mself\u001b[39m\u001b[38;5;241m.\u001b[39mdata\u001b[38;5;241m.\u001b[39mexog\n",
      "File \u001b[0;32m~/Documents/Code/Semester 4 workbooks/venv/lib/python3.12/site-packages/statsmodels/base/model.py:135\u001b[0m, in \u001b[0;36mModel._handle_data\u001b[0;34m(self, endog, exog, missing, hasconst, **kwargs)\u001b[0m\n\u001b[1;32m    134\u001b[0m \u001b[38;5;28;01mdef\u001b[39;00m \u001b[38;5;21m_handle_data\u001b[39m(\u001b[38;5;28mself\u001b[39m, endog, exog, missing, hasconst, \u001b[38;5;241m*\u001b[39m\u001b[38;5;241m*\u001b[39mkwargs):\n\u001b[0;32m--> 135\u001b[0m     data \u001b[38;5;241m=\u001b[39m \u001b[43mhandle_data\u001b[49m\u001b[43m(\u001b[49m\u001b[43mendog\u001b[49m\u001b[43m,\u001b[49m\u001b[43m \u001b[49m\u001b[43mexog\u001b[49m\u001b[43m,\u001b[49m\u001b[43m \u001b[49m\u001b[43mmissing\u001b[49m\u001b[43m,\u001b[49m\u001b[43m \u001b[49m\u001b[43mhasconst\u001b[49m\u001b[43m,\u001b[49m\u001b[43m \u001b[49m\u001b[38;5;241;43m*\u001b[39;49m\u001b[38;5;241;43m*\u001b[39;49m\u001b[43mkwargs\u001b[49m\u001b[43m)\u001b[49m\n\u001b[1;32m    136\u001b[0m     \u001b[38;5;66;03m# kwargs arrays could have changed, easier to just attach here\u001b[39;00m\n\u001b[1;32m    137\u001b[0m     \u001b[38;5;28;01mfor\u001b[39;00m key \u001b[38;5;129;01min\u001b[39;00m kwargs:\n",
      "File \u001b[0;32m~/Documents/Code/Semester 4 workbooks/venv/lib/python3.12/site-packages/statsmodels/base/data.py:675\u001b[0m, in \u001b[0;36mhandle_data\u001b[0;34m(endog, exog, missing, hasconst, **kwargs)\u001b[0m\n\u001b[1;32m    672\u001b[0m     exog \u001b[38;5;241m=\u001b[39m np\u001b[38;5;241m.\u001b[39masarray(exog)\n\u001b[1;32m    674\u001b[0m klass \u001b[38;5;241m=\u001b[39m handle_data_class_factory(endog, exog)\n\u001b[0;32m--> 675\u001b[0m \u001b[38;5;28;01mreturn\u001b[39;00m \u001b[43mklass\u001b[49m\u001b[43m(\u001b[49m\u001b[43mendog\u001b[49m\u001b[43m,\u001b[49m\u001b[43m \u001b[49m\u001b[43mexog\u001b[49m\u001b[38;5;241;43m=\u001b[39;49m\u001b[43mexog\u001b[49m\u001b[43m,\u001b[49m\u001b[43m \u001b[49m\u001b[43mmissing\u001b[49m\u001b[38;5;241;43m=\u001b[39;49m\u001b[43mmissing\u001b[49m\u001b[43m,\u001b[49m\u001b[43m \u001b[49m\u001b[43mhasconst\u001b[49m\u001b[38;5;241;43m=\u001b[39;49m\u001b[43mhasconst\u001b[49m\u001b[43m,\u001b[49m\n\u001b[1;32m    676\u001b[0m \u001b[43m             \u001b[49m\u001b[38;5;241;43m*\u001b[39;49m\u001b[38;5;241;43m*\u001b[39;49m\u001b[43mkwargs\u001b[49m\u001b[43m)\u001b[49m\n",
      "File \u001b[0;32m~/Documents/Code/Semester 4 workbooks/venv/lib/python3.12/site-packages/statsmodels/base/data.py:84\u001b[0m, in \u001b[0;36mModelData.__init__\u001b[0;34m(self, endog, exog, missing, hasconst, **kwargs)\u001b[0m\n\u001b[1;32m     82\u001b[0m     \u001b[38;5;28mself\u001b[39m\u001b[38;5;241m.\u001b[39morig_endog \u001b[38;5;241m=\u001b[39m endog\n\u001b[1;32m     83\u001b[0m     \u001b[38;5;28mself\u001b[39m\u001b[38;5;241m.\u001b[39morig_exog \u001b[38;5;241m=\u001b[39m exog\n\u001b[0;32m---> 84\u001b[0m     \u001b[38;5;28mself\u001b[39m\u001b[38;5;241m.\u001b[39mendog, \u001b[38;5;28mself\u001b[39m\u001b[38;5;241m.\u001b[39mexog \u001b[38;5;241m=\u001b[39m \u001b[38;5;28;43mself\u001b[39;49m\u001b[38;5;241;43m.\u001b[39;49m\u001b[43m_convert_endog_exog\u001b[49m\u001b[43m(\u001b[49m\u001b[43mendog\u001b[49m\u001b[43m,\u001b[49m\u001b[43m \u001b[49m\u001b[43mexog\u001b[49m\u001b[43m)\u001b[49m\n\u001b[1;32m     86\u001b[0m \u001b[38;5;28mself\u001b[39m\u001b[38;5;241m.\u001b[39mconst_idx \u001b[38;5;241m=\u001b[39m \u001b[38;5;28;01mNone\u001b[39;00m\n\u001b[1;32m     87\u001b[0m \u001b[38;5;28mself\u001b[39m\u001b[38;5;241m.\u001b[39mk_constant \u001b[38;5;241m=\u001b[39m \u001b[38;5;241m0\u001b[39m\n",
      "File \u001b[0;32m~/Documents/Code/Semester 4 workbooks/venv/lib/python3.12/site-packages/statsmodels/base/data.py:509\u001b[0m, in \u001b[0;36mPandasData._convert_endog_exog\u001b[0;34m(self, endog, exog)\u001b[0m\n\u001b[1;32m    507\u001b[0m exog \u001b[38;5;241m=\u001b[39m exog \u001b[38;5;28;01mif\u001b[39;00m exog \u001b[38;5;129;01mis\u001b[39;00m \u001b[38;5;28;01mNone\u001b[39;00m \u001b[38;5;28;01melse\u001b[39;00m np\u001b[38;5;241m.\u001b[39masarray(exog)\n\u001b[1;32m    508\u001b[0m \u001b[38;5;28;01mif\u001b[39;00m endog\u001b[38;5;241m.\u001b[39mdtype \u001b[38;5;241m==\u001b[39m \u001b[38;5;28mobject\u001b[39m \u001b[38;5;129;01mor\u001b[39;00m exog \u001b[38;5;129;01mis\u001b[39;00m \u001b[38;5;129;01mnot\u001b[39;00m \u001b[38;5;28;01mNone\u001b[39;00m \u001b[38;5;129;01mand\u001b[39;00m exog\u001b[38;5;241m.\u001b[39mdtype \u001b[38;5;241m==\u001b[39m \u001b[38;5;28mobject\u001b[39m:\n\u001b[0;32m--> 509\u001b[0m     \u001b[38;5;28;01mraise\u001b[39;00m \u001b[38;5;167;01mValueError\u001b[39;00m(\u001b[38;5;124m\"\u001b[39m\u001b[38;5;124mPandas data cast to numpy dtype of object. \u001b[39m\u001b[38;5;124m\"\u001b[39m\n\u001b[1;32m    510\u001b[0m                      \u001b[38;5;124m\"\u001b[39m\u001b[38;5;124mCheck input data with np.asarray(data).\u001b[39m\u001b[38;5;124m\"\u001b[39m)\n\u001b[1;32m    511\u001b[0m \u001b[38;5;28;01mreturn\u001b[39;00m \u001b[38;5;28msuper\u001b[39m(PandasData, \u001b[38;5;28mself\u001b[39m)\u001b[38;5;241m.\u001b[39m_convert_endog_exog(endog, exog)\n",
      "\u001b[0;31mValueError\u001b[0m: Pandas data cast to numpy dtype of object. Check input data with np.asarray(data)."
     ]
    }
   ],
   "source": [
    "score_saturated = fit_predict_evaluate(\n",
    "    X_train_full, \n",
    "    y_train, \n",
    "    X_valid_full, \n",
    "    y_valid, \n",
    "    credibility_pct=95\n",
    ")\n"
   ]
  },
  {
   "cell_type": "code",
   "execution_count": null,
   "id": "b95ff43b",
   "metadata": {},
   "outputs": [
    {
     "ename": "NameError",
     "evalue": "name 'score_saturated' is not defined",
     "output_type": "error",
     "traceback": [
      "\u001b[0;31m---------------------------------------------------------------------------\u001b[0m",
      "\u001b[0;31mNameError\u001b[0m                                 Traceback (most recent call last)",
      "Cell \u001b[0;32mIn[94], line 1\u001b[0m\n\u001b[0;32m----> 1\u001b[0m \u001b[43mscore_saturated\u001b[49m\n",
      "\u001b[0;31mNameError\u001b[0m: name 'score_saturated' is not defined"
     ]
    }
   ],
   "source": [
    "score_saturated"
   ]
  },
  {
   "cell_type": "code",
   "execution_count": null,
   "id": "af001e9b",
   "metadata": {},
   "outputs": [
    {
     "ename": "NameError",
     "evalue": "name 'score_saturated' is not defined",
     "output_type": "error",
     "traceback": [
      "\u001b[0;31m---------------------------------------------------------------------------\u001b[0m",
      "\u001b[0;31mNameError\u001b[0m                                 Traceback (most recent call last)",
      "Cell \u001b[0;32mIn[93], line 5\u001b[0m\n\u001b[1;32m      1\u001b[0m \u001b[38;5;66;03m# generate a table with the scores \u001b[39;00m\n\u001b[1;32m      2\u001b[0m scores \u001b[38;5;241m=\u001b[39m [\n\u001b[1;32m      3\u001b[0m     {\u001b[38;5;124m'\u001b[39m\u001b[38;5;124mname\u001b[39m\u001b[38;5;124m'\u001b[39m: \u001b[38;5;124m'\u001b[39m\u001b[38;5;124mIntercept Only\u001b[39m\u001b[38;5;124m'\u001b[39m, \u001b[38;5;241m*\u001b[39m\u001b[38;5;241m*\u001b[39mscore_intercept},\n\u001b[1;32m      4\u001b[0m     {\u001b[38;5;124m'\u001b[39m\u001b[38;5;124mname\u001b[39m\u001b[38;5;124m'\u001b[39m: \u001b[38;5;124m'\u001b[39m\u001b[38;5;124mNational\u001b[39m\u001b[38;5;124m'\u001b[39m, \u001b[38;5;241m*\u001b[39m\u001b[38;5;241m*\u001b[39mscore_applicable},\n\u001b[0;32m----> 5\u001b[0m     {\u001b[38;5;124m'\u001b[39m\u001b[38;5;124mname\u001b[39m\u001b[38;5;124m'\u001b[39m: \u001b[38;5;124m'\u001b[39m\u001b[38;5;124mSaturated\u001b[39m\u001b[38;5;124m'\u001b[39m, \u001b[38;5;241m*\u001b[39m\u001b[38;5;241m*\u001b[39m\u001b[43mscore_saturated\u001b[49m},\n\u001b[1;32m      6\u001b[0m ]\n\u001b[1;32m      8\u001b[0m \u001b[38;5;66;03m# Convert the list of dictionaries to a DataFrame\u001b[39;00m\n\u001b[1;32m      9\u001b[0m scores_df_automated \u001b[38;5;241m=\u001b[39m pd\u001b[38;5;241m.\u001b[39mDataFrame(scores)\n",
      "\u001b[0;31mNameError\u001b[0m: name 'score_saturated' is not defined"
     ]
    }
   ],
   "source": [
    "# generate a table with the scores \n",
    "scores = [\n",
    "    {'name': 'Intercept Only', **score_intercept},\n",
    "    {'name': 'National', **score_applicable},\n",
    "    {'name': 'Saturated', **score_saturated},\n",
    "]\n",
    "\n",
    "# Convert the list of dictionaries to a DataFrame\n",
    "scores_df_automated = pd.DataFrame(scores)\n",
    "\n",
    "# Rename the 'name' column to 'Score Type' for clarity\n",
    "scores_df_automated.rename(columns={'name': 'Score Type'}, inplace=True)\n",
    "\n",
    "scores_df_automated"
   ]
  },
  {
   "cell_type": "markdown",
   "id": "1b2052a1",
   "metadata": {},
   "source": [
    "### 1c:  Comment on the scores\n",
    "\n",
    "Can you identify a model to move forward with ? on what grounds ? \n",
    "What do the differences in performance over the different metrics tell you about each model's strengths and weaknesses ? "
   ]
  },
  {
   "cell_type": "markdown",
   "id": "0d3af8fc",
   "metadata": {},
   "source": []
  },
  {
   "cell_type": "code",
   "execution_count": null,
   "id": "ed1cd67d",
   "metadata": {},
   "outputs": [],
   "source": [
    "train_X_full"
   ]
  },
  {
   "cell_type": "markdown",
   "id": "96a8d84a",
   "metadata": {},
   "source": [
    "### 1d: For your best performning model, estimate the generalisation error \n",
    "\n",
    "Generate point-estimates and a measure of uncertainty for each error metric. Hint: the most comprehensive way to do this is to generate error distributions. You can do this by calculating each error metric on a separate set of simulated predictions from the empirical predictive posterior distribution. "
   ]
  },
  {
   "cell_type": "code",
   "execution_count": null,
   "id": "ce420123",
   "metadata": {},
   "outputs": [],
   "source": [
    "# Fit the model (best performing was National on the RMSE metric)\n",
    "model = sm.OLS(train_y, train_X_full[['const','term2', 'real_gdp_pct_growth', 'net_approval']]).fit()\n",
    "    \n",
    "# Step 2: Predict new values\n",
    "new_predictions = ...\n",
    "    \n",
    "# Step 3: Calculate standard errors of the predictions\n",
    "cov_matrix = ...\n",
    "design_matrix = ...\n",
    "variances = ...\n",
    "std_errors_predictions = ...\n",
    "    \n",
    "# Generate posterior samples\n",
    "new_predictions_array = ...\n",
    "std_errors_predictions_array = ...\n",
    "    \n",
    "predicted_samples = np.random.normal(loc=...,\n",
    "                                     scale=...,\n",
    "                                     size=(..., ...)) "
   ]
  },
  {
   "cell_type": "code",
   "execution_count": null,
   "id": "13cb9ca6",
   "metadata": {},
   "outputs": [],
   "source": [
    "# Calculate metrics\n",
    "bias_array = ...\n",
    "rmse_array = ...\n",
    "correlation_array = ...\n",
    "# Note: coverage doesn't have a distribution, because it is already a measure which is averaged over simulations. So it is omitted here - we know it from the table above. \n",
    "# Combine metrics into a single array where each metric is a column\n",
    "metrics = {\n",
    "    'Bias': bias_array,\n",
    "    'RMSE': rmse_array,\n",
    "    'Correlation': correlation_array\n",
    "}\n"
   ]
  },
  {
   "cell_type": "code",
   "execution_count": null,
   "id": "1c2aa9a3",
   "metadata": {
    "scrolled": false
   },
   "outputs": [],
   "source": [
    "# plot the distributions of each error metric\n",
    "import matplotlib.pyplot as plt\n",
    "\n",
    "# Define metric names\n",
    "metric_names = ['Bias', 'RMSE', 'Correlation']\n",
    "\n",
    "# Define number of metrics to plot\n",
    "n_metrics = len(metric_names)\n",
    "\n",
    "# Adjust rows and columns calculation to avoid empty subplots\n",
    "n_plots = n_metrics  # Total number of plots needed\n",
    "n_rows = 1\n",
    "n_cols = (n_plots + n_rows - 1) // n_rows  # Calculate columns needed, ensuring we have enough space\n",
    "\n",
    "# Adjust the figsize if necessary\n",
    "fig, axes = plt.subplots(n_rows, n_cols, figsize=(n_cols * 5, n_rows * 5), squeeze=False)  # Make sure axes is always a 2D array\n",
    "\n",
    "# Flatten axes array for easier iteration\n",
    "axes_flat = axes.flatten()\n",
    "\n",
    "for i, name in enumerate(metric_names):\n",
    "    data = metrics[name]  # Access data directly from dictionary\n",
    "    median_val = np.median(data)\n",
    "    confidence_interval = np.percentile(data, [2.5, 97.5])\n",
    "    \n",
    "    ax = axes_flat[i]\n",
    "    ax.hist(data, bins=50, color='skyblue', edgecolor='gray')\n",
    "    ax.axvline(x=median_val, color='green', linestyle='-', label=f'Median: {median_val:.2f}')\n",
    "    ax.axvline(x=confidence_interval[0], color='orange', linestyle='--', label=f'95% CI: [{confidence_interval[0]:.2f}, {confidence_interval[1]:.2f}]')\n",
    "    ax.axvline(x=confidence_interval[1], color='orange', linestyle='--')\n",
    "    ax.axvline(x=0, color='red', linestyle='--', label='Zero line')  # Highlight 0 with a line\n",
    "    ax.set_title(f'Histogram of {name}')\n",
    "    ax.set_xlabel('Value')\n",
    "    ax.set_ylabel('Frequency')\n",
    "    \n",
    "    # Ensure plot encompasses 0 by adjusting xlim if necessary\n",
    "    xlims = ax.get_xlim()\n",
    "    ax.set_xlim(min(xlims[0], 0), max(xlims[1], 0))\n",
    "\n",
    "# Hide any unused subplots\n",
    "for j in range(i + 1, n_rows * n_cols):\n",
    "    fig.delaxes(axes_flat[j])\n",
    "\n",
    "# Adjust layout for better spacing and display the plot\n",
    "plt.tight_layout()\n",
    "plt.show()"
   ]
  },
  {
   "cell_type": "code",
   "execution_count": null,
   "id": "8fce773b",
   "metadata": {},
   "outputs": [],
   "source": []
  },
  {
   "cell_type": "code",
   "execution_count": null,
   "id": "149ef066",
   "metadata": {},
   "outputs": [],
   "source": []
  }
 ],
 "metadata": {
  "kernelspec": {
   "display_name": "Python 3 (ipykernel)",
   "language": "python",
   "name": "python3"
  },
  "language_info": {
   "codemirror_mode": {
    "name": "ipython",
    "version": 3
   },
   "file_extension": ".py",
   "mimetype": "text/x-python",
   "name": "python",
   "nbconvert_exporter": "python",
   "pygments_lexer": "ipython3",
   "version": "3.12.2"
  }
 },
 "nbformat": 4,
 "nbformat_minor": 5
}
