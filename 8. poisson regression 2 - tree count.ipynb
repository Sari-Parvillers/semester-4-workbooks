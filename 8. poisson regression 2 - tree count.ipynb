{
 "cells": [
  {
   "cell_type": "markdown",
   "id": "1b4b07a8",
   "metadata": {},
   "source": [
    "# Evaluating Model Performance for Numerical Data"
   ]
  },
  {
   "cell_type": "markdown",
   "id": "6b8f06a5",
   "metadata": {},
   "source": [
    "### Excercise: Comparing Model Performance\n",
    "Load a dataset of choice, ameanible to linear regression analysis. You can use the data from the last workshop. Split the data into train - validation - and test. "
   ]
  },
  {
   "cell_type": "code",
   "execution_count": 1,
   "id": "4f84aac6",
   "metadata": {},
   "outputs": [
    {
     "name": "stderr",
     "output_type": "stream",
     "text": [
      "/var/folders/25/82ztpk21087b258r7gs0n3m00000gn/T/ipykernel_18048/2298807205.py:2: DeprecationWarning: \n",
      "Pyarrow will become a required dependency of pandas in the next major release of pandas (pandas 3.0),\n",
      "(to allow more performant data types, such as the Arrow string type, and better interoperability with other libraries)\n",
      "but was not found to be installed on your system.\n",
      "If this would cause problems for you,\n",
      "please provide us feedback at https://github.com/pandas-dev/pandas/issues/54466\n",
      "        \n",
      "  import pandas as pd\n"
     ]
    }
   ],
   "source": [
    "import os\n",
    "import pandas as pd\n",
    "import numpy as np\n",
    "import matplotlib.pyplot as plt\n",
    "import seaborn as sns\n",
    "import statsmodels.api as sm\n",
    "from scipy import stats\n",
    "from sklearn.metrics import mean_squared_error, mean_absolute_error\n",
    "# Change the current working directory\n",
    "os.chdir('/Users/Sari/Documents/Code/Semester 4 workbooks')"
   ]
  },
  {
   "cell_type": "code",
   "execution_count": 2,
   "id": "13da3929",
   "metadata": {},
   "outputs": [
    {
     "name": "stdout",
     "output_type": "stream",
     "text": [
      "Index(['Unnamed: 0', 'buurt_id', 'wijk_id', 'Naam_buurt', 'Code_buurt',\n",
      "       'Cbscode_buurt', 'Geometrie_buurt', 'Naam_wijk', 'Code_wijk',\n",
      "       'Cbscode_wijk', 'Geometrie_wijk', 'tree_count',\n",
      "       'parked_cars_in_neighbourhood', 'species_count', 'total_area_ha',\n",
      "       'land_area_ha', 'water_area_ha', 'built_up_area_ha',\n",
      "       'total_green_area_ha', 'total_canopy_ha'],\n",
      "      dtype='object')\n"
     ]
    }
   ],
   "source": [
    "df = pd.read_csv('data/count_tree_data.csv')\n",
    "print(df.columns)\n",
    "df.drop('Unnamed: 0', axis=1, inplace=True)\n"
   ]
  },
  {
   "cell_type": "code",
   "execution_count": 3,
   "id": "31040191",
   "metadata": {},
   "outputs": [
    {
     "data": {
      "text/plain": [
       "'\\ncategorical_vars = []\\n\\n# I want to store the dummies for particular variables so I can include/exclude \\n# them in my regression\\n# indexed_dummy_columns = dict()\\n\\ndf_dummies = df.drop(categorical_vars, axis=1)\\n\\nfor category in categorical_vars:\\n    dummies = pd.get_dummies(df[category], prefix=category, drop_first=True)\\n    dummies = dummies.astype(float)\\n    indexed_dummy_columns[category] = dummies.columns\\n    df_dummies = pd.concat([df_dummies, dummies], axis=1)\\n'"
      ]
     },
     "execution_count": 3,
     "metadata": {},
     "output_type": "execute_result"
    }
   ],
   "source": [
    "# we have no categorical variable of use\n",
    "'''\n",
    "categorical_vars = []\n",
    "\n",
    "# I want to store the dummies for particular variables so I can include/exclude \n",
    "# them in my regression\n",
    "# indexed_dummy_columns = dict()\n",
    "\n",
    "df_dummies = df.drop(categorical_vars, axis=1)\n",
    "\n",
    "for category in categorical_vars:\n",
    "    dummies = pd.get_dummies(df[category], prefix=category, drop_first=True)\n",
    "    dummies = dummies.astype(float)\n",
    "    indexed_dummy_columns[category] = dummies.columns\n",
    "    df_dummies = pd.concat([df_dummies, dummies], axis=1)\n",
    "'''"
   ]
  },
  {
   "cell_type": "code",
   "execution_count": 4,
   "id": "779dfbca",
   "metadata": {},
   "outputs": [
    {
     "data": {
      "image/png": "[encoded data removed]",
      "text/plain": [
       "<Figure size 640x480 with 1 Axes>"
      ]
     },
     "metadata": {},
     "output_type": "display_data"
    }
   ],
   "source": [
    "# tree count distribution\n",
    "ax = sns.histplot(df['tree_count'], bins=518, kde=True).set(\n",
    "    title=\"Histogram of tree count for each neighbourhood\"\n",
    ")\n",
    "plt.xlabel('Tree count')\n",
    "plt.ylabel('Frequency')\n",
    "plt.show()\n"
   ]
  },
  {
   "cell_type": "markdown",
   "id": "ed8abc44",
   "metadata": {},
   "source": [
    "### 1a: Split your dataset into three parts, namely training, validation and test. "
   ]
  },
  {
   "cell_type": "code",
   "execution_count": 5,
   "id": "c9e4afc7",
   "metadata": {},
   "outputs": [],
   "source": [
    "def get_sets(df, y_variable, train_size=0.5, valid_size=0.25):\n",
    "    shuffled_data = df.sample(frac=1, random_state=31415)\n",
    "\n",
    "    total_size = len(shuffled_data.index)\n",
    "    train_size = int(total_size * train_size)\n",
    "    validation_size = int(total_size * valid_size)\n",
    "\n",
    "    train_set = shuffled_data.iloc[:train_size]\n",
    "    validate_set = shuffled_data.iloc[train_size:(train_size + validation_size)]\n",
    "    test_set = shuffled_data.iloc[(train_size + validation_size):]\n",
    "\n",
    "    X_train = train_set.drop(y_variable, axis=1)\n",
    "    y_train = train_set[y_variable]\n",
    "    X_train_full = sm.add_constant(X_train)\n",
    "\n",
    "    X_valid = validate_set.drop(y_variable, axis=1)\n",
    "    y_valid = validate_set[y_variable]\n",
    "    X_valid_full = sm.add_constant(X_valid)\n",
    "\n",
    "    X_test = test_set.drop(y_variable, axis=1)\n",
    "    y_test = test_set[y_variable]\n",
    "    X_test_full = sm.add_constant(X_valid)\n",
    "\n",
    "    return {\n",
    "        'X_train_full': X_train_full, \n",
    "        'y_train': y_train, \n",
    "        'X_valid_full': X_valid_full, \n",
    "        'y_valid': y_valid, \n",
    "        'X_test_full': X_test_full, \n",
    "        'y_test': y_test\n",
    "    }"
   ]
  },
  {
   "cell_type": "code",
   "execution_count": 6,
   "id": "1aff17c8",
   "metadata": {},
   "outputs": [
    {
     "data": {
      "text/plain": [
       "Index(['buurt_id', 'wijk_id', 'Naam_buurt', 'Code_buurt', 'Cbscode_buurt',\n",
       "       'Geometrie_buurt', 'Naam_wijk', 'Code_wijk', 'Cbscode_wijk',\n",
       "       'Geometrie_wijk', 'tree_count', 'parked_cars_in_neighbourhood',\n",
       "       'species_count', 'total_area_ha', 'land_area_ha', 'water_area_ha',\n",
       "       'built_up_area_ha', 'total_green_area_ha', 'total_canopy_ha'],\n",
       "      dtype='object')"
      ]
     },
     "execution_count": 6,
     "metadata": {},
     "output_type": "execute_result"
    }
   ],
   "source": [
    "df.columns"
   ]
  },
  {
   "cell_type": "code",
   "execution_count": 7,
   "id": "c814b50d",
   "metadata": {},
   "outputs": [],
   "source": [
    "relevant_variables = ['tree_count', 'parked_cars_in_neighbourhood',\n",
    "       'species_count', 'total_area_ha', 'land_area_ha', 'water_area_ha',\n",
    "       'built_up_area_ha', 'total_green_area_ha', 'total_canopy_ha']\n",
    "\n",
    "YX = df[relevant_variables]\n",
    "\n",
    "y_var = 'tree_count'\n",
    "\n",
    "split = get_sets(YX, y_var)"
   ]
  },
  {
   "cell_type": "markdown",
   "id": "60af180f",
   "metadata": {},
   "source": [
    "### 1b:  Compare 3 models on their performance on the validation set\n",
    "\n",
    "Define 3 models, one `unsaturated` which uses only the intercept; one `fully saturated` which represents the most complex model you can generate, and one in between. Fit each model to the training data, and generate predictions for each model on the test_set. "
   ]
  },
  {
   "cell_type": "code",
   "execution_count": 8,
   "id": "875b1c2b",
   "metadata": {},
   "outputs": [],
   "source": [
    "from statsmodels.api import GLM, Poisson\n",
    "\n",
    "def fit_predict_evaluate(X_train, y_train, X_valid, y_valid, credibility_pct=95, n_sims = 10000):\n",
    "    \n",
    "    # Fit the model, poisson regression\n",
    "    model = sm.GLM(y_train, X_train, family=sm.families.Poisson()).fit()\n",
    "    \n",
    "    # Step 2: Predict new values\n",
    "    new_predictions = model.predict(X_valid)\n",
    "    \n",
    "    # Step 3: Calculate standard errors of the predictions on the validation set\n",
    "    cov_matrix = model.cov_params()\n",
    "    design_matrix = X_valid\n",
    "    variances = np.diag(np.dot(np.dot(design_matrix, cov_matrix), design_matrix.T))\n",
    "    std_errors_predictions = np.sqrt(variances)\n",
    "    \n",
    "    # Generate posterior samples\n",
    "    new_predictions_array = np.array(new_predictions)[:, None]  \n",
    "    # Since poisson distributions only have one parameter, we don't need\n",
    "    # the variance\n",
    "    # std_errors_predictions_array = np.array(std_errors_predictions)[:, None]  \n",
    "    \n",
    "    predicted_counts = np.random.poisson(new_predictions_array,\n",
    "                                         size=(len(new_predictions), n_sims))\n",
    "    \n",
    "    # Calculate estimates summaries\n",
    "    monte_carlo_medians = np.median(predicted_counts, axis=1)\n",
    "    prediction_intervals = np.percentile(predicted_counts, [(100-credibility_pct)/2, credibility_pct+(100-credibility_pct)/2], axis=1)\n",
    "    \n",
    "    # Calculate metrics\n",
    "    bias = np.mean(monte_carlo_medians - y_valid)\n",
    "    rmse = np.sqrt(mean_squared_error(y_valid, monte_carlo_medians))\n",
    "    correlation = np.corrcoef(y_valid, monte_carlo_medians)[0, 1]\n",
    "    coverage = np.mean((y_valid >=  prediction_intervals[0,:]) & (y_valid <=  prediction_intervals[1,:]))\n",
    "    \n",
    "    # Return results as a dictionary\n",
    "    results = {\n",
    "        'bias': bias,\n",
    "        'rmse': rmse,\n",
    "        'correlation': correlation,\n",
    "        'coverage': coverage,\n",
    "        'predictions': new_predictions,\n",
    "        'prediction_intervals': prediction_intervals\n",
    "    }\n",
    "\n",
    "    return results"
   ]
  },
  {
   "cell_type": "code",
   "execution_count": 9,
   "id": "39ec4d98",
   "metadata": {},
   "outputs": [],
   "source": [
    "scores_homogeneous = fit_predict_evaluate(\n",
    "    split['X_train_full'][['const']],\n",
    "    split['y_train'],\n",
    "    split['X_valid_full'][['const']],\n",
    "    split['y_valid'],\n",
    "    credibility_pct=95\n",
    ")"
   ]
  },
  {
   "cell_type": "code",
   "execution_count": 10,
   "id": "a8ab9ad7",
   "metadata": {},
   "outputs": [
    {
     "data": {
      "text/plain": [
       "Index(['tree_count', 'parked_cars_in_neighbourhood', 'species_count',\n",
       "       'total_area_ha', 'land_area_ha', 'water_area_ha', 'built_up_area_ha',\n",
       "       'total_green_area_ha', 'total_canopy_ha'],\n",
       "      dtype='object')"
      ]
     },
     "execution_count": 10,
     "metadata": {},
     "output_type": "execute_result"
    }
   ],
   "source": [
    "YX.columns"
   ]
  },
  {
   "cell_type": "code",
   "execution_count": 11,
   "id": "1144ee0e",
   "metadata": {},
   "outputs": [],
   "source": [
    "# Let's see if how well we can perform with a simpler model.\n",
    "# We'll look at species count, total area, total green area and total canopy area.\n",
    "# This will model the count of trees based on biodiversity and simplified land data.\n",
    "variables_of_interest = [\n",
    "    'const',\n",
    "    'species_count',\n",
    "    'total_area_ha',\n",
    "    'total_green_area_ha', \n",
    "    'total_canopy_ha'\n",
    "]\n",
    "\n",
    "scores_simple_model = fit_predict_evaluate(\n",
    "    split['X_train_full'][variables_of_interest],\n",
    "    split['y_train'],\n",
    "    split['X_valid_full'][variables_of_interest],\n",
    "    split['y_valid'],\n",
    "    credibility_pct=95\n",
    ")\n",
    "\n"
   ]
  },
  {
   "cell_type": "code",
   "execution_count": 12,
   "id": "f40f34a3",
   "metadata": {},
   "outputs": [],
   "source": [
    "scores_saturated_model = fit_predict_evaluate(\n",
    "    split['X_train_full'],\n",
    "    split['y_train'],\n",
    "    split['X_valid_full'],\n",
    "    split['y_valid'],\n",
    "    credibility_pct=95\n",
    ")"
   ]
  },
  {
   "cell_type": "code",
   "execution_count": 13,
   "id": "af001e9b",
   "metadata": {},
   "outputs": [
    {
     "data": {
      "text/html": [
       "<div>\n",
       "<style scoped>\n",
       "    .dataframe tbody tr th:only-of-type {\n",
       "        vertical-align: middle;\n",
       "    }\n",
       "\n",
       "    .dataframe tbody tr th {\n",
       "        vertical-align: top;\n",
       "    }\n",
       "\n",
       "    .dataframe thead th {\n",
       "        text-align: right;\n",
       "    }\n",
       "</style>\n",
       "<table border=\"1\" class=\"dataframe\">\n",
       "  <thead>\n",
       "    <tr style=\"text-align: right;\">\n",
       "      <th></th>\n",
       "      <th>Score Type</th>\n",
       "      <th>bias</th>\n",
       "      <th>rmse</th>\n",
       "      <th>correlation</th>\n",
       "      <th>coverage</th>\n",
       "      <th>predictions</th>\n",
       "      <th>prediction_intervals</th>\n",
       "    </tr>\n",
       "  </thead>\n",
       "  <tbody>\n",
       "    <tr>\n",
       "      <th>0</th>\n",
       "      <td>Intercept Only</td>\n",
       "      <td>28.348837</td>\n",
       "      <td>584.268369</td>\n",
       "      <td>0.095420</td>\n",
       "      <td>0.031008</td>\n",
       "      <td>278    529.003861\n",
       "367    529.003861\n",
       "453    529...</td>\n",
       "      <td>[[484.0, 483.0, 484.0, 484.0, 484.0, 484.0, 48...</td>\n",
       "    </tr>\n",
       "    <tr>\n",
       "      <th>1</th>\n",
       "      <td>Simple model</td>\n",
       "      <td>41.279070</td>\n",
       "      <td>517.618555</td>\n",
       "      <td>0.567733</td>\n",
       "      <td>0.147287</td>\n",
       "      <td>278    509.181769\n",
       "367    358.601373\n",
       "453    423...</td>\n",
       "      <td>[[466.0, 322.0, 383.0, 310.0, 309.0, 353.0, 27...</td>\n",
       "    </tr>\n",
       "    <tr>\n",
       "      <th>2</th>\n",
       "      <td>Saturated model</td>\n",
       "      <td>27.341085</td>\n",
       "      <td>493.699317</td>\n",
       "      <td>0.621479</td>\n",
       "      <td>0.139535</td>\n",
       "      <td>278    1017.594782\n",
       "367     232.214951\n",
       "453     ...</td>\n",
       "      <td>[[957.0, 202.0, 361.0, 219.0, 166.0, 367.0, 17...</td>\n",
       "    </tr>\n",
       "  </tbody>\n",
       "</table>\n",
       "</div>"
      ],
      "text/plain": [
       "        Score Type       bias        rmse  correlation  coverage  \\\n",
       "0   Intercept Only  28.348837  584.268369     0.095420  0.031008   \n",
       "1     Simple model  41.279070  517.618555     0.567733  0.147287   \n",
       "2  Saturated model  27.341085  493.699317     0.621479  0.139535   \n",
       "\n",
       "                                         predictions  \\\n",
       "0  278    529.003861\n",
       "367    529.003861\n",
       "453    529...   \n",
       "1  278    509.181769\n",
       "367    358.601373\n",
       "453    423...   \n",
       "2  278    1017.594782\n",
       "367     232.214951\n",
       "453     ...   \n",
       "\n",
       "                                prediction_intervals  \n",
       "0  [[484.0, 483.0, 484.0, 484.0, 484.0, 484.0, 48...  \n",
       "1  [[466.0, 322.0, 383.0, 310.0, 309.0, 353.0, 27...  \n",
       "2  [[957.0, 202.0, 361.0, 219.0, 166.0, 367.0, 17...  "
      ]
     },
     "execution_count": 13,
     "metadata": {},
     "output_type": "execute_result"
    }
   ],
   "source": [
    "# generate a table with the scores \n",
    "scores = [\n",
    "    {'name': 'Intercept Only', **scores_homogeneous},\n",
    "    {'name': 'Simple model', **scores_simple_model},\n",
    "    {'name': 'Saturated model', **scores_saturated_model},\n",
    "]\n",
    "\n",
    "# Convert the list of dictionaries to a DataFrame\n",
    "scores_df_automated = pd.DataFrame(scores)\n",
    "\n",
    "# Rename the 'name' column to 'Score Type' for clarity\n",
    "scores_df_automated.rename(columns={'name': 'Score Type'}, inplace=True)\n",
    "\n",
    "scores_df_automated"
   ]
  },
  {
   "cell_type": "markdown",
   "id": "1b2052a1",
   "metadata": {},
   "source": [
    "### 1c:  Comment on the scores\n",
    "\n",
    "Can you identify a model to move forward with ? on what grounds ? \n",
    "What do the differences in performance over the different metrics tell you about each model's strengths and weaknesses ? "
   ]
  },
  {
   "cell_type": "markdown",
   "id": "00dd1780",
   "metadata": {},
   "source": [
    "1. The heterogenous models perform better than the homogeneous one, so there is certainly some relationship between some of the values I'm using to predict tree count, and tree count.\n",
    "\n",
    "2. All models overestimate the number of trees by a small amount. The fact that we see this in the homogeneous model suggests that this is due to sampling (the test set simply has lower values than our train/validation sets). The simple model exaggerates this bias, suggesting that this is in fact due to the model itself.\n",
    "\n",
    "3. The RMSE is very high when we consider that most neighbourhoods have around less than 1000 trees. All our models are very imprecise. We can expect our prediction to be off by a few hundred trees! This suggests that our predictor variables aren't very good at explaining the variance between similar neighbourhoods (or at least, similar according solely to the variables I'm using).\n",
    "\n",
    "4. Correlation is pretty high in the heterogeneous models, so even if we can't explain the variance between neighbourhoods, we can say that our predictor variables can generally predict if the \"range of plausible counts\" should be higher or lower.\n",
    "\n",
    "5. And finally we have poor coverage on all our models, which is probably due to our high variance."
   ]
  },
  {
   "cell_type": "markdown",
   "id": "96a8d84a",
   "metadata": {},
   "source": [
    "### 1d: For your best performning model, estimate the generalisation error \n",
    "\n",
    "Generate point-estimates and a measure of uncertainty for each error metric. Hint: the most comprehensive way to do this is to generate error distributions. You can do this by calculating each error metric on a separate set of simulated predictions from the empirical predictive posterior distribution. "
   ]
  },
  {
   "cell_type": "code",
   "execution_count": 14,
   "id": "ce420123",
   "metadata": {},
   "outputs": [],
   "source": [
    "# Fit the model\n",
    "# I will pick the \"simple\" model, it's almost as good as the saturated one with\n",
    "# less complexity, thus it's more interpretable: \"modelling tree count according\n",
    "# to biodiversity and green area\"\n",
    "\n",
    "model = sm.GLM(\n",
    "    split['y_train'], \n",
    "    split['X_train_full'][variables_of_interest],\n",
    "    family=sm.families.Poisson(),\n",
    ").fit()\n",
    "    \n",
    "# Step 2: Predict new values\n",
    "new_predictions = model.predict(split['X_valid_full'][variables_of_interest])\n",
    "    \n",
    "# Step 3: Calculate standard errors of the predictions\n",
    "cov_matrix = model.cov_params()\n",
    "design_matrix = split['X_valid_full'][variables_of_interest]\n",
    "variances = np.diag(np.dot(np.dot(design_matrix, cov_matrix), design_matrix.T))\n",
    "std_errors_predictions = np.sqrt(variances)\n",
    "    \n",
    "# Generate posterior samples\n",
    "new_predictions_array = np.array(new_predictions)[:, None] \n",
    "# poisson, don't need variance \n",
    "# std_errors_predictions_array = np.array(std_errors_predictions)[:, None] \n",
    "\n",
    "predicted_samples = np.random.poisson(new_predictions_array,\n",
    "                                     size=(new_predictions.shape[0], 1000)) "
   ]
  },
  {
   "cell_type": "code",
   "execution_count": 15,
   "id": "13cb9ca6",
   "metadata": {},
   "outputs": [],
   "source": [
    "# Calculate metrics\n",
    "bias_array = np.mean(predicted_samples - split['y_valid'].values[:,None], axis=0)\n",
    "rmse_array = np.sqrt(np.mean((predicted_samples - split['y_valid'].values[:,None])**2, axis=0))\n",
    "correlation_array = np.array([np.corrcoef(split['y_valid'].values[:,None], pred, rowvar=False)[0, 1] for pred in predicted_samples.T])\n",
    "# Note: coverage doesn't have a distribution, because it is already a measure which is averaged over simulations. So it is omitted here - we know it from the table above. \n",
    "# Combine metrics into a single array where each metric is a column\n",
    "metrics = {\n",
    "    'Bias': bias_array,\n",
    "    'RMSE': rmse_array,\n",
    "    'Correlation': correlation_array\n",
    "}\n"
   ]
  },
  {
   "cell_type": "code",
   "execution_count": 16,
   "id": "1c2aa9a3",
   "metadata": {
    "scrolled": false
   },
   "outputs": [
    {
     "data": {
      "image/png": "[encoded data removed]",
      "text/plain": [
       "<Figure size 1500x500 with 3 Axes>"
      ]
     },
     "metadata": {},
     "output_type": "display_data"
    }
   ],
   "source": [
    "# plot the distributions of each error metric\n",
    "import matplotlib.pyplot as plt\n",
    "\n",
    "# Define metric names\n",
    "metric_names = ['Bias', 'RMSE', 'Correlation']\n",
    "\n",
    "# Define number of metrics to plot\n",
    "n_metrics = len(metric_names)\n",
    "\n",
    "# Adjust rows and columns calculation to avoid empty subplots\n",
    "n_plots = n_metrics  # Total number of plots needed\n",
    "n_rows = 1\n",
    "n_cols = (n_plots + n_rows - 1) // n_rows  # Calculate columns needed, ensuring we have enough space\n",
    "\n",
    "# Adjust the figsize if necessary\n",
    "fig, axes = plt.subplots(n_rows, n_cols, figsize=(n_cols * 5, n_rows * 5), squeeze=False)  # Make sure axes is always a 2D array\n",
    "\n",
    "# Flatten axes array for easier iteration\n",
    "axes_flat = axes.flatten()\n",
    "\n",
    "for i, name in enumerate(metric_names):\n",
    "    data = metrics[name]  # Access data directly from dictionary\n",
    "    median_val = np.median(data)\n",
    "    confidence_interval = np.percentile(data, [2.5, 97.5])\n",
    "    \n",
    "    ax = axes_flat[i]\n",
    "    ax.hist(data, bins=50, color='skyblue', edgecolor='gray')\n",
    "    ax.axvline(x=median_val, color='green', linestyle='-', label=f'Median: {median_val:.2f}')\n",
    "    ax.axvline(x=confidence_interval[0], color='orange', linestyle='--', label=f'95% CI: [{confidence_interval[0]:.2f}, {confidence_interval[1]:.2f}]')\n",
    "    ax.axvline(x=confidence_interval[1], color='orange', linestyle='--')\n",
    "    ax.axvline(x=0, color='red', linestyle='--', label='Zero line')  # Highlight 0 with a line\n",
    "    ax.set_title(f'Histogram of {name}')\n",
    "    ax.set_xlabel('Value')\n",
    "    ax.set_ylabel('Frequency')\n",
    "    \n",
    "    # Ensure plot encompasses 0 by adjusting xlim if necessary\n",
    "    xlims = ax.get_xlim()\n",
    "    ax.set_xlim(min(xlims[0], 0), max(xlims[1], 0))\n",
    "\n",
    "# Hide any unused subplots\n",
    "for j in range(i + 1, n_rows * n_cols):\n",
    "    fig.delaxes(axes_flat[j])\n",
    "\n",
    "# Adjust layout for better spacing and display the plot\n",
    "plt.tight_layout()\n",
    "plt.show()"
   ]
  },
  {
   "cell_type": "code",
   "execution_count": null,
   "id": "149ef066",
   "metadata": {},
   "outputs": [],
   "source": []
  }
 ],
 "metadata": {
  "kernelspec": {
   "display_name": "Python 3 (ipykernel)",
   "language": "python",
   "name": "python3"
  },
  "language_info": {
   "codemirror_mode": {
    "name": "ipython",
    "version": 3
   },
   "file_extension": ".py",
   "mimetype": "text/x-python",
   "name": "python",
   "nbconvert_exporter": "python",
   "pygments_lexer": "ipython3",
   "version": "3.12.2"
  }
 },
 "nbformat": 4,
 "nbformat_minor": 5
}
