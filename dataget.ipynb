{
 "cells": [
  {
   "cell_type": "code",
   "execution_count": 23,
   "metadata": {},
   "outputs": [],
   "source": [
    "import pandas as pd\n",
    "import requests"
   ]
  },
  {
   "cell_type": "code",
   "execution_count": 51,
   "metadata": {},
   "outputs": [],
   "source": [
    "# amsterdam tree data\n",
    "df_trees = pd.read_csv('data/bomen-stamgegevens-2024-03-12T09 06 04.036291.csv')\n",
    "# amsterdam neighbourhood meta data, i.e. matching neighbourhood name with ID\n",
    "df_buurt_meta = pd.read_csv('data/gebieden-buurten-2024-03-12T12 09 07.653588.csv')\n",
    "\n",
    "# standardise names of neighbourhood id column so we can merge on that column\n",
    "neighbourhood_id_column = 'neighbourhood_id'\n",
    "\n",
    "df_buurt_meta = df_buurt_meta.rename(\n",
    "    columns={'Identificatie': neighbourhood_id_column}\n",
    ")\n",
    "df_trees = df_trees.rename(\n",
    "    columns={'Gbdbuurtid': neighbourhood_id_column}\n",
    ")\n"
   ]
  },
  {
   "cell_type": "code",
   "execution_count": 55,
   "metadata": {},
   "outputs": [],
   "source": [
    "df = pd.merge(df_trees, df_buurt_meta, on='neighbourhood_id')"
   ]
  }
 ],
 "metadata": {
  "kernelspec": {
   "display_name": "venv",
   "language": "python",
   "name": "python3"
  },
  "language_info": {
   "codemirror_mode": {
    "name": "ipython",
    "version": 3
   },
   "file_extension": ".py",
   "mimetype": "text/x-python",
   "name": "python",
   "nbconvert_exporter": "python",
   "pygments_lexer": "ipython3",
   "version": "3.12.2"
  }
 },
 "nbformat": 4,
 "nbformat_minor": 2
}
