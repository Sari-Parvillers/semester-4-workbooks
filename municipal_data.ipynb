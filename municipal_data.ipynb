{
 "cells": [
  {
   "cell_type": "code",
   "execution_count": 3,
   "metadata": {},
   "outputs": [],
   "source": [
    "import pandas as pd\n",
    "import numpy as np\n",
    "import matplotlib.pyplot as plt\n",
    "import seaborn as sns\n",
    "import requests"
   ]
  },
  {
   "cell_type": "markdown",
   "metadata": {},
   "source": [
    "### Overview\n",
    "\n"
   ]
  },
  {
   "cell_type": "markdown",
   "metadata": {},
   "source": [
    "### Part 1: Priming the data\n",
    "\n",
    "Different datasets have certain marker values associated with certain locations at different levels (e.g., the neighbourhood level or sub-district level). These values are essential for merging datasets (for example, one dataset may contain a neighbourhood's number of cars, and another a tree and which neighbourhood it is in)\n",
    "\n",
    "Not every dataset uses the same marker values, and these marker values can have different column names, so I first need to standardise it all. I'm also making some functions that will streamline the data cleaning process a bit."
   ]
  },
  {
   "cell_type": "code",
   "execution_count": 4,
   "metadata": {},
   "outputs": [],
   "source": [
    "# functions for data cleaning\n",
    "# return the proportion of nan each column in the data\n",
    "def na_proportion(series: pd.Series):\n",
    "    return series.isna().sum() / len(series)\n",
    "\n",
    "# returns a dataframe without the columns that have higher proportion of na \n",
    "# than threshold. The reason I'm doing this is because drop.na could remove\n",
    "# very large amounts of data just due to one a column being mostly nans. So\n",
    "# columns full of nans get removed. \n",
    "# default threshold: 40% of nan means removal\n",
    "def stripped_threshold_na_columns(df: pd.DataFrame, threshold = 0.4):\n",
    "    df_return = pd.DataFrame()\n",
    "    for column in df.columns:\n",
    "        if na_proportion(df[column]) < threshold:\n",
    "            df_return[column] = df[column]\n",
    "    return df_return\n",
    "\n",
    "# if a value occurs less than n times in a series, replace it with placeholder\n",
    "def replace_less_than_n_values(series: pd.Series, n = 10, placeholder = np.nan):\n",
    "    value_counts = series.value_counts()\n",
    "    values_to_replace = value_counts[value_counts < n].index\n",
    "    return series.replace(to_replace=values_to_replace, value=placeholder)\n",
    "\n",
    "# returns the n most common values in a series (by default the 10 most common)\n",
    "def most_common_n_values(series: pd.Series, n = 10):\n",
    "    return series.value_counts()[:n].index.tolist()\n",
    "\n",
    "\n",
    "# return a series with its least common values converted to a different value\n",
    "# nans are also replaceable\n",
    "# by default, the string 'other'\n",
    "def otherise(value, most_common_values, other, nan_replace):\n",
    "    if value in most_common_values:\n",
    "        return value\n",
    "    if value is np.nan:\n",
    "        return nan_replace\n",
    "    return other\n",
    "\n",
    "def otherise_less_common_values(\n",
    "        series: pd.Series, \n",
    "        most_common_values, \n",
    "        other='other', \n",
    "        nan_replace = np.nan\n",
    "    ):\n",
    "    return series.apply(\n",
    "        lambda value: otherise(value, most_common_values, other, nan_replace)\n",
    "    )\n"
   ]
  },
  {
   "cell_type": "code",
   "execution_count": 5,
   "metadata": {},
   "outputs": [],
   "source": [
    "# tree data\n",
    "df_trees = pd.read_csv('data/bomen-stamgegevens-2024-03-12T09 06 04.036291.csv')\n",
    "# amsterdam neighbourhood meta data, i.e. matching neighbourhood name with ID\n",
    "df_buurt_meta = pd.read_csv('data/gebieden-buurten-2024-03-12T12 09 07.653588.csv')\n",
    "# amsterdam sub-district meta data, to match each neighbourhood with its district\n",
    "df_wijk_meta = pd.read_csv('data/gebieden_wijken.csv')"
   ]
  },
  {
   "cell_type": "code",
   "execution_count": 6,
   "metadata": {},
   "outputs": [],
   "source": [
    "# standardise names of neighbourhood id column so we can merge on that column\n",
    "buurt_id_column = 'buurt_id'\n",
    "wijk_id_column = 'wijk_id'\n",
    "\n",
    "# rename buurt id columns in all datasets to be the same for merging\n",
    "df_buurt_meta = df_buurt_meta.rename(\n",
    "    columns={'Identificatie': buurt_id_column}\n",
    ")\n",
    "df_trees = df_trees.rename(\n",
    "    columns={'Gbdbuurtid': buurt_id_column}\n",
    ")\n",
    "\n",
    "# rename wijk id columns in all datasets to be the same for merging\n",
    "df_buurt_meta = df_buurt_meta.rename(\n",
    "    columns={'Ligtinwijkid': wijk_id_column}\n",
    ")\n",
    "df_wijk_meta = df_wijk_meta.rename(\n",
    "    columns={'Identificatie': wijk_id_column}\n",
    ")\n"
   ]
  },
  {
   "cell_type": "code",
   "execution_count": 7,
   "metadata": {},
   "outputs": [],
   "source": [
    "# match each buurt (neighbourhood) with its associated wijk (sub-district)\n",
    "df_buurt_simple = df_buurt_meta[[\n",
    "    buurt_id_column, wijk_id_column, 'Naam', 'Code', 'Cbscode', 'Geometrie'\n",
    "]]\n",
    "\n",
    "df_buurt_simple = df_buurt_simple.rename(\n",
    "    columns={\n",
    "        'Naam': 'Naam_buurt',\n",
    "        'Code': 'Code_buurt',\n",
    "        'Cbscode': 'Cbscode_buurt',\n",
    "        'Geometrie': 'Geometrie_buurt'\n",
    "    }\n",
    ")\n",
    "\n",
    "df_wijk_simple = df_wijk_meta[[\n",
    "    wijk_id_column, 'Naam', 'Code', 'Cbscode', 'Geometrie'\n",
    "]]\n",
    "\n",
    "df_wijk_simple = df_wijk_simple.rename(\n",
    "    columns={\n",
    "        'Naam': 'Naam_wijk',\n",
    "        'Code': 'Code_wijk',\n",
    "        'Cbscode': 'Cbscode_wijk',\n",
    "        'Geometrie': 'Geometrie_wijk'\n",
    "    }\n",
    ")\n",
    "\n",
    "df_location_data = pd.merge(df_buurt_simple, df_wijk_simple, on=wijk_id_column)"
   ]
  },
  {
   "cell_type": "markdown",
   "metadata": {},
   "source": [
    "Now we can merge datasets based on shared location markers. Yay!"
   ]
  },
  {
   "cell_type": "markdown",
   "metadata": {},
   "source": [
    "### Part 2: Tree data\n",
    "\n",
    "I am making a dataset which contains a list of trees from Amsterdam's tree census and some information associated with each tree. This is the cleaning up of that data."
   ]
  },
  {
   "cell_type": "markdown",
   "metadata": {},
   "source": [
    "#### Removing columns with too many nans, then removing nans\n",
    "To prevent removing too much data, I'm discarding columns that have too many nans (the diameter column for example), making exceptions only for interesting data.\n",
    "\n",
    "Then I remove any row with a nan value for the model.\n",
    "\n",
    "It's possible that I'm skewing the data in a way that will affect my model (example: maybe there is a specific relationship between height and species that's only found in trees that also have a nan value somewhere) but I don't have time to look at that and it's probably beyond the requirements of the assignment."
   ]
  },
  {
   "cell_type": "code",
   "execution_count": 8,
   "metadata": {},
   "outputs": [
    {
     "name": "stdout",
     "output_type": "stream",
     "text": [
      "nan proportion Standplaatsgedetailleerd 0.620510336029891\n",
      "shape before dropna: (286909, 14)\n"
     ]
    },
    {
     "name": "stdout",
     "output_type": "stream",
     "text": [
      "shape after dropna: (98285, 13)\n"
     ]
    }
   ],
   "source": [
    "# clean up tree data\n",
    "# removing nans\n",
    "# we want to remove columns that have too many nans so that we don't reduce\n",
    "# the entire dataset too much by using .dropna\n",
    "# I will make an exception for Standplaatsgedetailleerd (middle in which tree\n",
    "# is grown) since that seems like an interesting statistic\n",
    "print(f'nan proportion Standplaatsgedetailleerd {na_proportion(df_trees['Standplaatsgedetailleerd'])}')\n",
    "# this will remove 62% of the data, out of 280000 so we will be totally fine\n",
    "growth_ground = df_trees['Standplaatsgedetailleerd']\n",
    "\n",
    "print(f'shape before dropna: {df_trees.shape}')\n",
    "\n",
    "df_trees = stripped_threshold_na_columns(df_trees)\n",
    "df_trees['growth_ground'] = growth_ground\n",
    "df_trees.dropna(inplace=True)\n",
    "\n",
    "print(f'shape after dropna: {df_trees.shape}')\n"
   ]
  },
  {
   "cell_type": "markdown",
   "metadata": {},
   "source": [
    "#### Height data\n",
    "\n",
    "Height data is unfortunately not recorded exactly but given as an estimated range (like \"between 6 and 9\").\n",
    "\n",
    "I'm going to store height in two ways: in one instance I will take the average (so between 6 and 9 gives me 7.5), in anotehr instance I will take a random value (so a random value between 6 and 9).\n",
    "\n",
    "I will try running a model for both the \"fixed\" value and the \"random\" values, I am curious what that will result in."
   ]
  },
  {
   "cell_type": "code",
   "execution_count": 9,
   "metadata": {},
   "outputs": [],
   "source": [
    "# height\n",
    "# we only have estimation measures for tree height (like \"6 tot 9 m.\") :(\n",
    "# There are some limitations from applying a linear regression model\n",
    "# to height that is calculated this way.\n",
    "def extract_height_data(data):\n",
    "    if data == 'a. tot 6 m.':\n",
    "        return 3\n",
    "    if data == 'b. 6 tot 9 m.':\n",
    "        return 7.5\n",
    "    if data == 'c. 9 tot 12 m.':\n",
    "        return 10.5\n",
    "    if data == 'd. 12 tot 15 m.':\n",
    "        return 13.5\n",
    "    if data == 'e. 15 tot 18 m.':\n",
    "        return 16.5\n",
    "    if data == 'f. 18 tot 24 m.':\n",
    "        return 21\n",
    "    if data == 'g. 24 m. en hoger':\n",
    "        return 24\n",
    "    # if not any of the above return nan\n",
    "    return np.nan\n",
    "\n",
    "df_trees['tree_height_fixed'] = df_trees['Boomhoogteklasseactueel'].apply(\n",
    "    lambda x: extract_height_data(x)\n",
    ")\n",
    "\n",
    "df_trees.dropna(inplace=True)\n",
    "\n",
    "\n"
   ]
  },
  {
   "cell_type": "code",
   "execution_count": 10,
   "metadata": {},
   "outputs": [],
   "source": [
    "import random\n",
    "def extract_height_data_randomised(data):\n",
    "    if data == 'a. tot 6 m.':\n",
    "        return random.uniform(0, 6)\n",
    "    if data == 'b. 6 tot 9 m.':\n",
    "        return random.uniform(6, 9)\n",
    "    if data == 'c. 9 tot 12 m.':\n",
    "        return random.uniform(9, 12)\n",
    "    if data == 'd. 12 tot 15 m.':\n",
    "        return random.uniform(12, 15)\n",
    "    if data == 'e. 15 tot 18 m.':\n",
    "        return random.uniform(15, 18)\n",
    "    if data == 'f. 18 tot 24 m.':\n",
    "        return random.uniform(18, 24)\n",
    "    if data == 'g. 24 m. en hoger':\n",
    "        return random.uniform(24, 30)\n",
    "    # if not any of the above return nan\n",
    "    return np.nan\n",
    "\n",
    "df_trees['tree_height_random'] = df_trees['Boomhoogteklasseactueel'].apply(\n",
    "    lambda x: extract_height_data_randomised(x)\n",
    ")"
   ]
  },
  {
   "cell_type": "code",
   "execution_count": 36,
   "metadata": {},
   "outputs": [
    {
     "data": {
      "image/png": "[encoded data removed]",
      "text/plain": [
       "<Figure size 640x480 with 1 Axes>"
      ]
     },
     "metadata": {},
     "output_type": "display_data"
    }
   ],
   "source": [
    "sns.histplot(df_trees['tree_height_fixed'])\n",
    "plt.title(\"Histogram of tree height frequency (fixed)\")\n",
    "plt.xlabel(\"Height (m)\")\n",
    "plt.ylabel(\"Frequency\")# visualise tree height distribution\n",
    "plt.show()\n"
   ]
  },
  {
   "cell_type": "code",
   "execution_count": 39,
   "metadata": {},
   "outputs": [
    {
     "data": {
      "image/png": "[encoded data removed]",
      "text/plain": [
       "<Figure size 640x480 with 1 Axes>"
      ]
     },
     "metadata": {},
     "output_type": "display_data"
    }
   ],
   "source": [
    "sns.histplot(df_trees['tree_height_random'])\n",
    "plt.title(\"Histogram of tree height frequency (randomised)\")\n",
    "plt.xlabel(\"Height (m)\")\n",
    "plt.ylabel(\"Frequency\")# visualise tree height distribution\n",
    "plt.show()\n"
   ]
  },
  {
   "cell_type": "markdown",
   "metadata": {},
   "source": [
    "#### Shape of height data\n",
    "\n",
    "It looks like a left-skewed, normal-ish distribution. I would guess that if the data contained the actual height of trees, the data would look a lot more like a normal distribution."
   ]
  },
  {
   "cell_type": "code",
   "execution_count": 12,
   "metadata": {},
   "outputs": [
    {
     "name": "stdout",
     "output_type": "stream",
     "text": [
      "buurt_id\n",
      "3.630980e+12    2617\n",
      "3.630980e+12    1912\n",
      "3.630980e+12    1562\n",
      "3.630980e+12    1193\n",
      "3.630980e+12    1188\n",
      "                ... \n",
      "3.630980e+12       3\n",
      "3.630980e+12       2\n",
      "3.630980e+12       1\n",
      "3.630980e+12       1\n",
      "3.630980e+12       1\n",
      "Name: count, Length: 494, dtype: int64\n"
     ]
    }
   ],
   "source": [
    "# neighbourhood that tree is in (ID)\n",
    "print(df_trees['buurt_id'].value_counts())"
   ]
  },
  {
   "cell_type": "code",
   "execution_count": 13,
   "metadata": {},
   "outputs": [
    {
     "name": "stdout",
     "output_type": "stream",
     "text": [
      "Typebeheerderplus\n",
      "R&E_VOR_Bomen                     94378\n",
      "Recreatieschap Noord-Holland       1386\n",
      "Gemeente Amsterdam, rve Sport       444\n",
      "RVE Spieringhorn Sportpark          342\n",
      "R&E_VOR_Groen                        84\n",
      "Amsterdamse Bos                      63\n",
      "Rijkswaterstaat                      49\n",
      "Gemeentelijk Vastgoed                35\n",
      "Amsterdamse bos - eigen dienst       34\n",
      "RVE Spieringpark                     23\n",
      "Stichting                             8\n",
      "Havenbedrijf                          6\n",
      "Volkstuinpark                         3\n",
      "Begraafplaats Ransdorp                3\n",
      "Woningcorporatie                      2\n",
      "Begraafplaats Nieuwendam              2\n",
      "Natuurlijk persoon                    2\n",
      "Schooltuinen                          1\n",
      "Westpoort                             1\n",
      "SOC_S&B_Sport                         1\n",
      "Name: count, dtype: int64\n",
      "proportion of nan for admin after removal: 0.0\n"
     ]
    }
   ],
   "source": [
    "# tree administrator ('Typebeheerderplus')\n",
    "# categorical\n",
    "print(df_trees['Typebeheerderplus'].value_counts())\n",
    "admin_threshold = 15\n",
    "df_trees['tree_admin'] = replace_less_than_n_values(\n",
    "    df_trees['Typebeheerderplus'],\n",
    "    admin_threshold\n",
    ")\n",
    "print(f'proportion of nan for admin after removal: {na_proportion(df_trees['Typebeheerderplus'])}')\n",
    "\n",
    "df_trees.dropna(inplace=True)"
   ]
  },
  {
   "cell_type": "code",
   "execution_count": 14,
   "metadata": {},
   "outputs": [
    {
     "name": "stdout",
     "output_type": "stream",
     "text": [
      "tree_admin\n",
      "R&E_VOR_Bomen                     94378\n",
      "Recreatieschap Noord-Holland       1386\n",
      "Gemeente Amsterdam, rve Sport       444\n",
      "RVE Spieringhorn Sportpark          342\n",
      "R&E_VOR_Groen                        84\n",
      "Amsterdamse Bos                      63\n",
      "Rijkswaterstaat                      49\n",
      "Gemeentelijk Vastgoed                35\n",
      "Amsterdamse bos - eigen dienst       34\n",
      "RVE Spieringpark                     23\n",
      "Name: count, dtype: int64\n"
     ]
    }
   ],
   "source": [
    "print(df_trees['tree_admin'].value_counts())"
   ]
  },
  {
   "cell_type": "code",
   "execution_count": 15,
   "metadata": {},
   "outputs": [
    {
     "name": "stdout",
     "output_type": "stream",
     "text": [
      "Typeeigenaarplus\n",
      "Gemeente Amsterdam       94254\n",
      "Gemeente Weesp            2337\n",
      "Gemeentelijk Vastgoed      232\n",
      "Gemeente Diemen              8\n",
      "Gemeente Ouder-Amstel        7\n",
      "Name: count, dtype: int64\n"
     ]
    }
   ],
   "source": [
    "# municipality that owns the trees\n",
    "print(df_trees['Typeeigenaarplus'].value_counts())\n",
    "# the overwhelming majority of trees are owned by amsterdam.\n",
    "# let's have values for just \"amsterdam\" and \"not amsterdam\"\n",
    "amsterdam_ownership = ['Gemeente Amsterdam']\n",
    "df_trees['tree_municipality'] = otherise_less_common_values(\n",
    "    df_trees['Typeeigenaarplus'], amsterdam_ownership\n",
    ")"
   ]
  },
  {
   "cell_type": "code",
   "execution_count": 16,
   "metadata": {},
   "outputs": [
    {
     "data": {
      "text/plain": [
       "tree_municipality\n",
       "Gemeente Amsterdam    94254\n",
       "other                  2584\n",
       "Name: count, dtype: int64"
      ]
     },
     "execution_count": 16,
     "metadata": {},
     "output_type": "execute_result"
    }
   ],
   "source": [
    "df_trees['tree_municipality'].value_counts()"
   ]
  },
  {
   "cell_type": "code",
   "execution_count": 17,
   "metadata": {},
   "outputs": [
    {
     "name": "stdout",
     "output_type": "stream",
     "text": [
      "proportion of nan for planting year: 0.0\n",
      "Jaarvanaanleg\n",
      "1990.0    6338\n",
      "0.0       5914\n",
      "1970.0    5530\n",
      "1980.0    4918\n",
      "1985.0    4763\n",
      "          ... \n",
      "1921.0       1\n",
      "1890.0       1\n",
      "200.0        1\n",
      "20.0         1\n",
      "1881.0       1\n",
      "Name: count, Length: 131, dtype: int64\n"
     ]
    }
   ],
   "source": [
    "# tree planting year\n",
    "print(\n",
    "    f'proportion of nan for planting year: {na_proportion(df_trees['Jaarvanaanleg'])}'\n",
    ")\n",
    "# not many nans :)\n",
    "print(df_trees['Jaarvanaanleg'].value_counts())\n",
    "# lots of zeros :(\n",
    "# Removing all the rows with nonsensical years\n",
    "year_threshold = 1500 # let's admit really old trees because they are awesome\n",
    "df_trees = df_trees[df_trees.Jaarvanaanleg > year_threshold]\n",
    "df_trees.rename(columns={\n",
    "    'Jaarvanaanleg': 'year_planted'\n",
    "}, inplace=True)\n"
   ]
  },
  {
   "cell_type": "code",
   "execution_count": 18,
   "metadata": {},
   "outputs": [],
   "source": [
    "df_trees['age'] = 2024 - df_trees['year_planted']"
   ]
  },
  {
   "cell_type": "code",
   "execution_count": 19,
   "metadata": {},
   "outputs": [
    {
     "data": {
      "text/plain": [
       "<Axes: xlabel='age', ylabel='Count'>"
      ]
     },
     "execution_count": 19,
     "metadata": {},
     "output_type": "execute_result"
    },
    {
     "data": {
      "image/png": "[encoded data removed]",
      "text/plain": [
       "<Figure size 640x480 with 1 Axes>"
      ]
     },
     "metadata": {},
     "output_type": "display_data"
    }
   ],
   "source": [
    "sns.histplot(df_trees['age'])"
   ]
  },
  {
   "cell_type": "code",
   "execution_count": 20,
   "metadata": {},
   "outputs": [
    {
     "name": "stdout",
     "output_type": "stream",
     "text": [
      "Soortnaam\n",
      "Platanus hispanica               5463\n",
      "Fraxinus excelsior               3001\n",
      "Quercus robur                    2669\n",
      "Acer campestre                   2578\n",
      "Salix alba                       2483\n",
      "                                 ... \n",
      "Acer negundo 'Flamingo'             1\n",
      "Acer pseudoplatanus 'Wilhelm'       1\n",
      "Prunus serrulata 'Asano'            1\n",
      "Picea                               1\n",
      "Fagus sylvatica 'Rohanii'           1\n",
      "Name: count, Length: 911, dtype: int64\n",
      "nan proportion Soortnaamkort: 0.0\n",
      "Soortnaamkort\n",
      "Tilia          10268\n",
      "Ulmus          10243\n",
      "Acer            9097\n",
      "Fraxinus        7349\n",
      "Platanus        5758\n",
      "               ...  \n",
      "Platycladus        1\n",
      "Sciadopitys        1\n",
      "Diospyros          1\n",
      "Viburnum           1\n",
      "Cupressus          1\n",
      "Name: count, Length: 105, dtype: int64\n",
      "nan proportion Soortnaamtop: 0.0\n",
      "Soortnaamtop\n",
      "Linde (Tilia)         10268\n",
      "Iep (Ulmus)           10243\n",
      "Esdoorn (Acer)         9097\n",
      "Es (Fraxinus)          7349\n",
      "Plataan (Platanus)     5758\n",
      "                      ...  \n",
      "Sycoparrotia              1\n",
      "Idesia                    1\n",
      "Styrax                    1\n",
      "Sciadopitys               1\n",
      "Cephalotaxus              1\n",
      "Name: count, Length: 107, dtype: int64\n"
     ]
    }
   ],
   "source": [
    "# there are three columns for the species of the tree\n",
    "# Soortnaam: specific latin name species\n",
    "print(df_trees['Soortnaam'].value_counts())\n",
    "# Sortnaamkort/Sortnaamtop are for grouped species (they're the same)\n",
    "print(f'nan proportion Soortnaamkort: {na_proportion(df_trees['Soortnaamkort'])}')\n",
    "print(df_trees['Soortnaamkort'].value_counts())\n",
    "print(f'nan proportion Soortnaamtop: {na_proportion(df_trees['Soortnaamtop'])}')\n",
    "print(df_trees['Soortnaamtop'].value_counts())\n",
    "\n",
    "# let's choose both, even if they will by definition be highly correlated in some ways"
   ]
  },
  {
   "cell_type": "code",
   "execution_count": 21,
   "metadata": {},
   "outputs": [
    {
     "name": "stdout",
     "output_type": "stream",
     "text": [
      "number of species: (911,)\n",
      "number of species after removal: (413,)\n",
      "nan proportion Soortnaam after removal: 0.017168939727232733\n"
     ]
    }
   ],
   "source": [
    "# Soortnaam (exact species)\n",
    "# How many species are there?\n",
    "print(f'number of species: {df_trees['Soortnaam'].value_counts().shape}')\n",
    "# let's remove trees which species there are too few of\n",
    "species_threshold = 10\n",
    "df_trees['species'] = replace_less_than_n_values(\n",
    "    df_trees['Soortnaam'],\n",
    "    species_threshold\n",
    ")\n",
    "# how much did that remove?\n",
    "print(f'number of species after removal: {df_trees['species'].value_counts().shape}')\n",
    "print(f'nan proportion Soortnaam after removal: {na_proportion(df_trees['species'])}')\n",
    "df_trees.dropna(inplace=True)"
   ]
  },
  {
   "cell_type": "code",
   "execution_count": 22,
   "metadata": {},
   "outputs": [
    {
     "name": "stdout",
     "output_type": "stream",
     "text": [
      "number of species groups: (65,)\n",
      "nan proportion Soortnaamkort: 0.0\n",
      "number of species groups after removal: (65,)\n",
      "nan proportion species_group after removal: 0.0\n"
     ]
    }
   ],
   "source": [
    "# Soortnaamkort (species group)\n",
    "# How many groups are there?\n",
    "print(f'number of species groups: {df_trees['Soortnaamkort'].value_counts().shape}')\n",
    "# proportion of nan?\n",
    "print(f'nan proportion Soortnaamkort: {na_proportion(df_trees['Soortnaamkort'])}')\n",
    "# let's remove trees which species group there are too few of\n",
    "gr_species_threshold = 10\n",
    "df_trees['species_group'] = replace_less_than_n_values(\n",
    "    df_trees['Soortnaamkort'],\n",
    "    gr_species_threshold\n",
    ")\n",
    "# how much did that remove?\n",
    "print(f'number of species groups after removal: {df_trees['species_group'].value_counts().shape}')\n",
    "print(f'nan proportion species_group after removal: {na_proportion(df_trees['species_group'])}')\n",
    "df_trees.dropna(inplace=True)\n"
   ]
  },
  {
   "cell_type": "code",
   "execution_count": 23,
   "metadata": {},
   "outputs": [
    {
     "name": "stdout",
     "output_type": "stream",
     "text": [
      "Typeobject\n",
      "Boom niet vrij uitgroeiend    75000\n",
      "Boom vrij uitgroeiend          7805\n",
      "Knotboom                       2545\n",
      "Vormboom                       1688\n",
      "Gekandelaberde boom            1482\n",
      "Stobbe                          708\n",
      "Leiboom                         121\n",
      "Fruitboom                        10\n",
      "Name: count, dtype: int64\n"
     ]
    }
   ],
   "source": [
    "# Typeobject (status of the object)\n",
    "print(f'{df_trees['Typeobject'].value_counts()}')\n",
    "# seems fine already. will just nan up the one boomstam_algemeen\n",
    "df_trees['tree_treatment'] = replace_less_than_n_values(df_trees['Typeobject'])\n",
    "df_trees.dropna(inplace=True)"
   ]
  },
  {
   "cell_type": "code",
   "execution_count": 24,
   "metadata": {},
   "outputs": [
    {
     "name": "stdout",
     "output_type": "stream",
     "text": [
      "Typesoortnaam\n",
      "Bomen       89341\n",
      "Heesters       16\n",
      "Algemeen        2\n",
      "Name: count, dtype: int64\n"
     ]
    }
   ],
   "source": [
    "# Typesoortnaam (the sort of thing that this is)\n",
    "print(df_trees['Typesoortnaam'].value_counts())\n",
    "# we are only interested in trees\n",
    "only_trees = most_common_n_values(df_trees['Typesoortnaam'], n = 1)\n",
    "df_trees['plant_type'] = otherise_less_common_values(\n",
    "    df_trees['Typesoortnaam'],\n",
    "    only_trees,\n",
    "    other = np.nan\n",
    ")\n",
    "df_trees.dropna(inplace=True)"
   ]
  },
  {
   "cell_type": "code",
   "execution_count": 25,
   "metadata": {},
   "outputs": [
    {
     "name": "stdout",
     "output_type": "stream",
     "text": [
      "(89341, 22)\n"
     ]
    }
   ],
   "source": [
    "# number of trees left\n",
    "print(df_trees.shape)"
   ]
  },
  {
   "cell_type": "code",
   "execution_count": 26,
   "metadata": {},
   "outputs": [
    {
     "data": {
      "text/html": [
       "<div>\n",
       "<style scoped>\n",
       "    .dataframe tbody tr th:only-of-type {\n",
       "        vertical-align: middle;\n",
       "    }\n",
       "\n",
       "    .dataframe tbody tr th {\n",
       "        vertical-align: top;\n",
       "    }\n",
       "\n",
       "    .dataframe thead th {\n",
       "        text-align: right;\n",
       "    }\n",
       "</style>\n",
       "<table border=\"1\" class=\"dataframe\">\n",
       "  <thead>\n",
       "    <tr style=\"text-align: right;\">\n",
       "      <th></th>\n",
       "      <th>Id</th>\n",
       "      <th>buurt_id</th>\n",
       "      <th>Geometrie</th>\n",
       "      <th>Typebeheerderplus</th>\n",
       "      <th>Boomhoogteklasseactueel</th>\n",
       "      <th>Typeeigenaarplus</th>\n",
       "      <th>year_planted</th>\n",
       "      <th>Soortnaam</th>\n",
       "      <th>Typeobject</th>\n",
       "      <th>Typesoortnaam</th>\n",
       "      <th>...</th>\n",
       "      <th>plant_type</th>\n",
       "      <th>wijk_id</th>\n",
       "      <th>Naam_buurt</th>\n",
       "      <th>Code_buurt</th>\n",
       "      <th>Cbscode_buurt</th>\n",
       "      <th>Geometrie_buurt</th>\n",
       "      <th>Naam_wijk</th>\n",
       "      <th>Code_wijk</th>\n",
       "      <th>Cbscode_wijk</th>\n",
       "      <th>Geometrie_wijk</th>\n",
       "    </tr>\n",
       "  </thead>\n",
       "  <tbody>\n",
       "    <tr>\n",
       "      <th>56639</th>\n",
       "      <td>1083580</td>\n",
       "      <td>3.630980e+12</td>\n",
       "      <td>SRID=28992;POINT (122051.25 492509.62)</td>\n",
       "      <td>R&amp;E_VOR_Bomen</td>\n",
       "      <td>a. tot 6 m.</td>\n",
       "      <td>Gemeente Amsterdam</td>\n",
       "      <td>1985.0</td>\n",
       "      <td>Crataegus monogyna</td>\n",
       "      <td>Boom niet vrij uitgroeiend</td>\n",
       "      <td>Bomen</td>\n",
       "      <td>...</td>\n",
       "      <td>Bomen</td>\n",
       "      <td>3630970000089</td>\n",
       "      <td>Kadoelen</td>\n",
       "      <td>ND02</td>\n",
       "      <td>BU0363ND02</td>\n",
       "      <td>SRID=28992;POLYGON ((123079.248 492299.197, 12...</td>\n",
       "      <td>Kadoelen</td>\n",
       "      <td>ND</td>\n",
       "      <td>WK0363ND</td>\n",
       "      <td>SRID=28992;POLYGON((122592.947 492542.811,1225...</td>\n",
       "    </tr>\n",
       "    <tr>\n",
       "      <th>88244</th>\n",
       "      <td>1281353</td>\n",
       "      <td>3.630980e+12</td>\n",
       "      <td>SRID=28992;POINT (131653.391489884 479690.3794...</td>\n",
       "      <td>R&amp;E_VOR_Bomen</td>\n",
       "      <td>f. 18 tot 24 m.</td>\n",
       "      <td>Gemeente Weesp</td>\n",
       "      <td>1974.0</td>\n",
       "      <td>Tilia europaea</td>\n",
       "      <td>Boom niet vrij uitgroeiend</td>\n",
       "      <td>Bomen</td>\n",
       "      <td>...</td>\n",
       "      <td>Bomen</td>\n",
       "      <td>3630970000104</td>\n",
       "      <td>Weesp Centrum</td>\n",
       "      <td>SD03</td>\n",
       "      <td>BU0363SD03</td>\n",
       "      <td>SRID=28992;POLYGON ((131775.406 480238.594, 13...</td>\n",
       "      <td>Weesp Binnenstad/Zuid</td>\n",
       "      <td>SD</td>\n",
       "      <td>WK0363SD</td>\n",
       "      <td>SRID=28992;POLYGON((131888.906 479790.688,1318...</td>\n",
       "    </tr>\n",
       "    <tr>\n",
       "      <th>34316</th>\n",
       "      <td>1018148</td>\n",
       "      <td>3.630980e+12</td>\n",
       "      <td>SRID=28992;POINT (119309.73 488608.01)</td>\n",
       "      <td>R&amp;E_VOR_Bomen</td>\n",
       "      <td>a. tot 6 m.</td>\n",
       "      <td>Gemeente Amsterdam</td>\n",
       "      <td>1975.0</td>\n",
       "      <td>Salix alba</td>\n",
       "      <td>Knotboom</td>\n",
       "      <td>Bomen</td>\n",
       "      <td>...</td>\n",
       "      <td>Bomen</td>\n",
       "      <td>3630970000026</td>\n",
       "      <td>Bedrijvencentrum Westerkwartier</td>\n",
       "      <td>EG01</td>\n",
       "      <td>BU0363EG01</td>\n",
       "      <td>SRID=28992;POLYGON ((119575.199 488753.663, 11...</td>\n",
       "      <td>Centrale Markt</td>\n",
       "      <td>EG</td>\n",
       "      <td>WK0363EG</td>\n",
       "      <td>SRID=28992;POLYGON((119669.704 488192.327,1196...</td>\n",
       "    </tr>\n",
       "    <tr>\n",
       "      <th>74138</th>\n",
       "      <td>1129194</td>\n",
       "      <td>3.630980e+12</td>\n",
       "      <td>SRID=28992;POINT (116853.45 488280.91)</td>\n",
       "      <td>R&amp;E_VOR_Bomen</td>\n",
       "      <td>c. 9 tot 12 m.</td>\n",
       "      <td>Gemeente Amsterdam</td>\n",
       "      <td>1971.0</td>\n",
       "      <td>Platanus hispanica</td>\n",
       "      <td>Gekandelaberde boom</td>\n",
       "      <td>Bomen</td>\n",
       "      <td>...</td>\n",
       "      <td>Bomen</td>\n",
       "      <td>3630970000043</td>\n",
       "      <td>Arondeusbuurt</td>\n",
       "      <td>FD01</td>\n",
       "      <td>BU0363FD01</td>\n",
       "      <td>SRID=28992;POLYGON ((116875.663 488489.358, 11...</td>\n",
       "      <td>Slotermeer-Noordoost</td>\n",
       "      <td>FD</td>\n",
       "      <td>WK0363FD</td>\n",
       "      <td>SRID=28992;POLYGON((117677.336 488379.435,1176...</td>\n",
       "    </tr>\n",
       "    <tr>\n",
       "      <th>51114</th>\n",
       "      <td>1068264</td>\n",
       "      <td>3.630980e+12</td>\n",
       "      <td>SRID=28992;POINT (122731.96 488570.48)</td>\n",
       "      <td>R&amp;E_VOR_Bomen</td>\n",
       "      <td>c. 9 tot 12 m.</td>\n",
       "      <td>Gemeente Amsterdam</td>\n",
       "      <td>1970.0</td>\n",
       "      <td>Tilia cordata</td>\n",
       "      <td>Boom niet vrij uitgroeiend</td>\n",
       "      <td>Bomen</td>\n",
       "      <td>...</td>\n",
       "      <td>Bomen</td>\n",
       "      <td>3630970000096</td>\n",
       "      <td>Vogelbuurt-Zuid</td>\n",
       "      <td>NL03</td>\n",
       "      <td>BU0363NL03</td>\n",
       "      <td>SRID=28992;POLYGON ((123120.354 488731.458, 12...</td>\n",
       "      <td>IJplein/Vogelbuurt</td>\n",
       "      <td>NL</td>\n",
       "      <td>WK0363NL</td>\n",
       "      <td>SRID=28992;POLYGON((123460.458 488957.324,1235...</td>\n",
       "    </tr>\n",
       "  </tbody>\n",
       "</table>\n",
       "<p>5 rows × 31 columns</p>\n",
       "</div>"
      ],
      "text/plain": [
       "            Id      buurt_id  \\\n",
       "56639  1083580  3.630980e+12   \n",
       "88244  1281353  3.630980e+12   \n",
       "34316  1018148  3.630980e+12   \n",
       "74138  1129194  3.630980e+12   \n",
       "51114  1068264  3.630980e+12   \n",
       "\n",
       "                                               Geometrie Typebeheerderplus  \\\n",
       "56639             SRID=28992;POINT (122051.25 492509.62)     R&E_VOR_Bomen   \n",
       "88244  SRID=28992;POINT (131653.391489884 479690.3794...     R&E_VOR_Bomen   \n",
       "34316             SRID=28992;POINT (119309.73 488608.01)     R&E_VOR_Bomen   \n",
       "74138             SRID=28992;POINT (116853.45 488280.91)     R&E_VOR_Bomen   \n",
       "51114             SRID=28992;POINT (122731.96 488570.48)     R&E_VOR_Bomen   \n",
       "\n",
       "      Boomhoogteklasseactueel    Typeeigenaarplus  year_planted  \\\n",
       "56639             a. tot 6 m.  Gemeente Amsterdam        1985.0   \n",
       "88244         f. 18 tot 24 m.      Gemeente Weesp        1974.0   \n",
       "34316             a. tot 6 m.  Gemeente Amsterdam        1975.0   \n",
       "74138          c. 9 tot 12 m.  Gemeente Amsterdam        1971.0   \n",
       "51114          c. 9 tot 12 m.  Gemeente Amsterdam        1970.0   \n",
       "\n",
       "                Soortnaam                  Typeobject Typesoortnaam  ...  \\\n",
       "56639  Crataegus monogyna  Boom niet vrij uitgroeiend         Bomen  ...   \n",
       "88244      Tilia europaea  Boom niet vrij uitgroeiend         Bomen  ...   \n",
       "34316          Salix alba                    Knotboom         Bomen  ...   \n",
       "74138  Platanus hispanica         Gekandelaberde boom         Bomen  ...   \n",
       "51114       Tilia cordata  Boom niet vrij uitgroeiend         Bomen  ...   \n",
       "\n",
       "      plant_type        wijk_id                       Naam_buurt  Code_buurt  \\\n",
       "56639      Bomen  3630970000089                         Kadoelen        ND02   \n",
       "88244      Bomen  3630970000104                    Weesp Centrum        SD03   \n",
       "34316      Bomen  3630970000026  Bedrijvencentrum Westerkwartier        EG01   \n",
       "74138      Bomen  3630970000043                    Arondeusbuurt        FD01   \n",
       "51114      Bomen  3630970000096                  Vogelbuurt-Zuid        NL03   \n",
       "\n",
       "       Cbscode_buurt                                    Geometrie_buurt  \\\n",
       "56639     BU0363ND02  SRID=28992;POLYGON ((123079.248 492299.197, 12...   \n",
       "88244     BU0363SD03  SRID=28992;POLYGON ((131775.406 480238.594, 13...   \n",
       "34316     BU0363EG01  SRID=28992;POLYGON ((119575.199 488753.663, 11...   \n",
       "74138     BU0363FD01  SRID=28992;POLYGON ((116875.663 488489.358, 11...   \n",
       "51114     BU0363NL03  SRID=28992;POLYGON ((123120.354 488731.458, 12...   \n",
       "\n",
       "                   Naam_wijk  Code_wijk Cbscode_wijk  \\\n",
       "56639               Kadoelen         ND     WK0363ND   \n",
       "88244  Weesp Binnenstad/Zuid         SD     WK0363SD   \n",
       "34316         Centrale Markt         EG     WK0363EG   \n",
       "74138   Slotermeer-Noordoost         FD     WK0363FD   \n",
       "51114     IJplein/Vogelbuurt         NL     WK0363NL   \n",
       "\n",
       "                                          Geometrie_wijk  \n",
       "56639  SRID=28992;POLYGON((122592.947 492542.811,1225...  \n",
       "88244  SRID=28992;POLYGON((131888.906 479790.688,1318...  \n",
       "34316  SRID=28992;POLYGON((119669.704 488192.327,1196...  \n",
       "74138  SRID=28992;POLYGON((117677.336 488379.435,1176...  \n",
       "51114  SRID=28992;POLYGON((123460.458 488957.324,1235...  \n",
       "\n",
       "[5 rows x 31 columns]"
      ]
     },
     "metadata": {},
     "output_type": "display_data"
    },
    {
     "name": "stdout",
     "output_type": "stream",
     "text": [
      "Index(['Id', 'buurt_id', 'Geometrie', 'Typebeheerderplus',\n",
      "       'Boomhoogteklasseactueel', 'Typeeigenaarplus', 'year_planted',\n",
      "       'Soortnaam', 'Typeobject', 'Typesoortnaam', 'Soortnaamkort',\n",
      "       'Soortnaamtop', 'growth_ground', 'tree_height_fixed',\n",
      "       'tree_height_random', 'tree_admin', 'tree_municipality', 'age',\n",
      "       'species', 'species_group', 'tree_treatment', 'plant_type', 'wijk_id',\n",
      "       'Naam_buurt', 'Code_buurt', 'Cbscode_buurt', 'Geometrie_buurt',\n",
      "       'Naam_wijk', 'Code_wijk', 'Cbscode_wijk', 'Geometrie_wijk'],\n",
      "      dtype='object')\n"
     ]
    }
   ],
   "source": [
    "df_with_location = pd.merge(df_trees, df_location_data, on=buurt_id_column)\n",
    "display(df_with_location.sample(10).head())\n",
    "print(df_with_location.columns)"
   ]
  },
  {
   "cell_type": "code",
   "execution_count": 27,
   "metadata": {},
   "outputs": [],
   "source": [
    "# parking data\n",
    "df_parking = pd.read_csv('data/parking_data_amsterdam.csv')\n"
   ]
  },
  {
   "cell_type": "code",
   "execution_count": 28,
   "metadata": {},
   "outputs": [
    {
     "name": "stdout",
     "output_type": "stream",
     "text": [
      "shape of parking dataset: (266622, 9)\n",
      "columns: Index(['WKT', 'id', 'buurtcode', 'straatnaam', 'type', 'soort', 'e_type',\n",
      "       'aantal', 'versiedatum'],\n",
      "      dtype='object')\n",
      "    Code_buurt  parked_cars_in_neighbourhood\n",
      "0         KQ05                          2986\n",
      "1         KR03                          2385\n",
      "2         FH02                          2373\n",
      "3         FA03                          2348\n",
      "4         MN03                          2231\n",
      "..         ...                           ...\n",
      "497       AD08                             7\n",
      "498       TA05                             6\n",
      "499       NQ07                             4\n",
      "500       FN03                             4\n",
      "501       MP02                             2\n",
      "\n",
      "[502 rows x 2 columns]\n"
     ]
    }
   ],
   "source": [
    "# some info about this dataset\n",
    "print(f'shape of parking dataset: {df_parking.shape}')\n",
    "print(f'columns: {df_parking.columns}')\n",
    "parking_count_per_buurt = df_parking['buurtcode'].value_counts()\n",
    "parking_per_neighbourhood = pd.DataFrame({\n",
    "    'Code_buurt': parking_count_per_buurt.index,\n",
    "    'parked_cars_in_neighbourhood': parking_count_per_buurt.values\n",
    "})\n",
    "print(parking_per_neighbourhood)\n"
   ]
  },
  {
   "cell_type": "code",
   "execution_count": 29,
   "metadata": {},
   "outputs": [
    {
     "data": {
      "text/html": [
       "<div>\n",
       "<style scoped>\n",
       "    .dataframe tbody tr th:only-of-type {\n",
       "        vertical-align: middle;\n",
       "    }\n",
       "\n",
       "    .dataframe tbody tr th {\n",
       "        vertical-align: top;\n",
       "    }\n",
       "\n",
       "    .dataframe thead th {\n",
       "        text-align: right;\n",
       "    }\n",
       "</style>\n",
       "<table border=\"1\" class=\"dataframe\">\n",
       "  <thead>\n",
       "    <tr style=\"text-align: right;\">\n",
       "      <th></th>\n",
       "      <th>Id</th>\n",
       "      <th>buurt_id</th>\n",
       "      <th>Geometrie</th>\n",
       "      <th>Typebeheerderplus</th>\n",
       "      <th>Boomhoogteklasseactueel</th>\n",
       "      <th>Typeeigenaarplus</th>\n",
       "      <th>year_planted</th>\n",
       "      <th>Soortnaam</th>\n",
       "      <th>Typeobject</th>\n",
       "      <th>Typesoortnaam</th>\n",
       "      <th>...</th>\n",
       "      <th>wijk_id</th>\n",
       "      <th>Naam_buurt</th>\n",
       "      <th>Code_buurt</th>\n",
       "      <th>Cbscode_buurt</th>\n",
       "      <th>Geometrie_buurt</th>\n",
       "      <th>Naam_wijk</th>\n",
       "      <th>Code_wijk</th>\n",
       "      <th>Cbscode_wijk</th>\n",
       "      <th>Geometrie_wijk</th>\n",
       "      <th>parked_cars_in_neighbourhood</th>\n",
       "    </tr>\n",
       "  </thead>\n",
       "  <tbody>\n",
       "    <tr>\n",
       "      <th>72604</th>\n",
       "      <td>1131216</td>\n",
       "      <td>3.630980e+12</td>\n",
       "      <td>SRID=28992;POINT (115251.19 484767.01)</td>\n",
       "      <td>R&amp;E_VOR_Bomen</td>\n",
       "      <td>d. 12 tot 15 m.</td>\n",
       "      <td>Gemeente Amsterdam</td>\n",
       "      <td>1981.0</td>\n",
       "      <td>Ulmus hollandica 'Vegeta'</td>\n",
       "      <td>Boom niet vrij uitgroeiend</td>\n",
       "      <td>Bomen</td>\n",
       "      <td>...</td>\n",
       "      <td>3630970000054</td>\n",
       "      <td>Nieuw-Sloten-Noordwest</td>\n",
       "      <td>FQ02</td>\n",
       "      <td>BU0363FQ02</td>\n",
       "      <td>SRID=28992;POLYGON ((115547.468 484933.941, 11...</td>\n",
       "      <td>Sloten/Nieuw-Sloten</td>\n",
       "      <td>FQ</td>\n",
       "      <td>WK0363FQ</td>\n",
       "      <td>SRID=28992;POLYGON((117331.655 484334.668,1170...</td>\n",
       "      <td>1338</td>\n",
       "    </tr>\n",
       "    <tr>\n",
       "      <th>36735</th>\n",
       "      <td>1032186</td>\n",
       "      <td>3.630980e+12</td>\n",
       "      <td>SRID=28992;POINT (124251.8 483689.91)</td>\n",
       "      <td>Gemeente Amsterdam, rve Sport</td>\n",
       "      <td>e. 15 tot 18 m.</td>\n",
       "      <td>Gemeente Amsterdam</td>\n",
       "      <td>2010.0</td>\n",
       "      <td>Acer platanoides</td>\n",
       "      <td>Boom niet vrij uitgroeiend</td>\n",
       "      <td>Bomen</td>\n",
       "      <td>...</td>\n",
       "      <td>3630970000084</td>\n",
       "      <td>Drieburg</td>\n",
       "      <td>MP01</td>\n",
       "      <td>BU0363MP01</td>\n",
       "      <td>SRID=28992;POLYGON ((124372.678 483608.653, 12...</td>\n",
       "      <td>Betondorp</td>\n",
       "      <td>MP</td>\n",
       "      <td>WK0363MP</td>\n",
       "      <td>SRID=28992;POLYGON((124909.835 484138.48,12488...</td>\n",
       "      <td>397</td>\n",
       "    </tr>\n",
       "    <tr>\n",
       "      <th>80322</th>\n",
       "      <td>1152120</td>\n",
       "      <td>3.630980e+12</td>\n",
       "      <td>SRID=28992;POINT (116869.7 484053.74)</td>\n",
       "      <td>R&amp;E_VOR_Bomen</td>\n",
       "      <td>c. 9 tot 12 m.</td>\n",
       "      <td>Gemeente Amsterdam</td>\n",
       "      <td>2000.0</td>\n",
       "      <td>Acer pseudoplatanus cv.</td>\n",
       "      <td>Boom niet vrij uitgroeiend</td>\n",
       "      <td>Bomen</td>\n",
       "      <td>...</td>\n",
       "      <td>3630970000054</td>\n",
       "      <td>Park Haagseweg</td>\n",
       "      <td>FQ08</td>\n",
       "      <td>BU0363FQ08</td>\n",
       "      <td>SRID=28992;POLYGON ((116866.603 484285.041, 11...</td>\n",
       "      <td>Sloten/Nieuw-Sloten</td>\n",
       "      <td>FQ</td>\n",
       "      <td>WK0363FQ</td>\n",
       "      <td>SRID=28992;POLYGON((117331.655 484334.668,1170...</td>\n",
       "      <td>247</td>\n",
       "    </tr>\n",
       "    <tr>\n",
       "      <th>55487</th>\n",
       "      <td>1086661</td>\n",
       "      <td>3.630980e+12</td>\n",
       "      <td>SRID=28992;POINT (124004.72 491541.27)</td>\n",
       "      <td>R&amp;E_VOR_Bomen</td>\n",
       "      <td>f. 18 tot 24 m.</td>\n",
       "      <td>Gemeente Amsterdam</td>\n",
       "      <td>1975.0</td>\n",
       "      <td>Populus canadensis 'Serotina'</td>\n",
       "      <td>Boom niet vrij uitgroeiend</td>\n",
       "      <td>Bomen</td>\n",
       "      <td>...</td>\n",
       "      <td>3630970000100</td>\n",
       "      <td>Noorderstrook-West</td>\n",
       "      <td>NQ01</td>\n",
       "      <td>BU0363NQ01</td>\n",
       "      <td>SRID=28992;POLYGON ((124753.7 491875.121, 1247...</td>\n",
       "      <td>Waterland</td>\n",
       "      <td>NQ</td>\n",
       "      <td>WK0363NQ</td>\n",
       "      <td>SRID=28992;POLYGON((130680.49 492270.349,13066...</td>\n",
       "      <td>31</td>\n",
       "    </tr>\n",
       "    <tr>\n",
       "      <th>86890</th>\n",
       "      <td>4131488</td>\n",
       "      <td>3.630980e+12</td>\n",
       "      <td>SRID=28992;POINT (126369.233595081 480662.0916...</td>\n",
       "      <td>R&amp;E_VOR_Bomen</td>\n",
       "      <td>a. tot 6 m.</td>\n",
       "      <td>Gemeente Amsterdam</td>\n",
       "      <td>2021.0</td>\n",
       "      <td>Amelanchier lamarckii</td>\n",
       "      <td>Boom niet vrij uitgroeiend</td>\n",
       "      <td>Bomen</td>\n",
       "      <td>...</td>\n",
       "      <td>3630970000113</td>\n",
       "      <td>Gooise Kant</td>\n",
       "      <td>TH01</td>\n",
       "      <td>BU0363TH01</td>\n",
       "      <td>SRID=28992;POLYGON ((126542.26 480634.381, 126...</td>\n",
       "      <td>K-buurt</td>\n",
       "      <td>TH</td>\n",
       "      <td>WK0363TH</td>\n",
       "      <td>SRID=28992;POLYGON((127640.202 481122.04,12760...</td>\n",
       "      <td>238</td>\n",
       "    </tr>\n",
       "  </tbody>\n",
       "</table>\n",
       "<p>5 rows × 32 columns</p>\n",
       "</div>"
      ],
      "text/plain": [
       "            Id      buurt_id  \\\n",
       "72604  1131216  3.630980e+12   \n",
       "36735  1032186  3.630980e+12   \n",
       "80322  1152120  3.630980e+12   \n",
       "55487  1086661  3.630980e+12   \n",
       "86890  4131488  3.630980e+12   \n",
       "\n",
       "                                               Geometrie  \\\n",
       "72604             SRID=28992;POINT (115251.19 484767.01)   \n",
       "36735              SRID=28992;POINT (124251.8 483689.91)   \n",
       "80322              SRID=28992;POINT (116869.7 484053.74)   \n",
       "55487             SRID=28992;POINT (124004.72 491541.27)   \n",
       "86890  SRID=28992;POINT (126369.233595081 480662.0916...   \n",
       "\n",
       "                   Typebeheerderplus Boomhoogteklasseactueel  \\\n",
       "72604                  R&E_VOR_Bomen         d. 12 tot 15 m.   \n",
       "36735  Gemeente Amsterdam, rve Sport         e. 15 tot 18 m.   \n",
       "80322                  R&E_VOR_Bomen          c. 9 tot 12 m.   \n",
       "55487                  R&E_VOR_Bomen         f. 18 tot 24 m.   \n",
       "86890                  R&E_VOR_Bomen             a. tot 6 m.   \n",
       "\n",
       "         Typeeigenaarplus  year_planted                      Soortnaam  \\\n",
       "72604  Gemeente Amsterdam        1981.0      Ulmus hollandica 'Vegeta'   \n",
       "36735  Gemeente Amsterdam        2010.0               Acer platanoides   \n",
       "80322  Gemeente Amsterdam        2000.0        Acer pseudoplatanus cv.   \n",
       "55487  Gemeente Amsterdam        1975.0  Populus canadensis 'Serotina'   \n",
       "86890  Gemeente Amsterdam        2021.0          Amelanchier lamarckii   \n",
       "\n",
       "                       Typeobject Typesoortnaam  ...        wijk_id  \\\n",
       "72604  Boom niet vrij uitgroeiend         Bomen  ...  3630970000054   \n",
       "36735  Boom niet vrij uitgroeiend         Bomen  ...  3630970000084   \n",
       "80322  Boom niet vrij uitgroeiend         Bomen  ...  3630970000054   \n",
       "55487  Boom niet vrij uitgroeiend         Bomen  ...  3630970000100   \n",
       "86890  Boom niet vrij uitgroeiend         Bomen  ...  3630970000113   \n",
       "\n",
       "                   Naam_buurt Code_buurt  Cbscode_buurt  \\\n",
       "72604  Nieuw-Sloten-Noordwest       FQ02     BU0363FQ02   \n",
       "36735                Drieburg       MP01     BU0363MP01   \n",
       "80322          Park Haagseweg       FQ08     BU0363FQ08   \n",
       "55487      Noorderstrook-West       NQ01     BU0363NQ01   \n",
       "86890             Gooise Kant       TH01     BU0363TH01   \n",
       "\n",
       "                                         Geometrie_buurt            Naam_wijk  \\\n",
       "72604  SRID=28992;POLYGON ((115547.468 484933.941, 11...  Sloten/Nieuw-Sloten   \n",
       "36735  SRID=28992;POLYGON ((124372.678 483608.653, 12...            Betondorp   \n",
       "80322  SRID=28992;POLYGON ((116866.603 484285.041, 11...  Sloten/Nieuw-Sloten   \n",
       "55487  SRID=28992;POLYGON ((124753.7 491875.121, 1247...            Waterland   \n",
       "86890  SRID=28992;POLYGON ((126542.26 480634.381, 126...              K-buurt   \n",
       "\n",
       "      Code_wijk  Cbscode_wijk  \\\n",
       "72604        FQ      WK0363FQ   \n",
       "36735        MP      WK0363MP   \n",
       "80322        FQ      WK0363FQ   \n",
       "55487        NQ      WK0363NQ   \n",
       "86890        TH      WK0363TH   \n",
       "\n",
       "                                          Geometrie_wijk  \\\n",
       "72604  SRID=28992;POLYGON((117331.655 484334.668,1170...   \n",
       "36735  SRID=28992;POLYGON((124909.835 484138.48,12488...   \n",
       "80322  SRID=28992;POLYGON((117331.655 484334.668,1170...   \n",
       "55487  SRID=28992;POLYGON((130680.49 492270.349,13066...   \n",
       "86890  SRID=28992;POLYGON((127640.202 481122.04,12760...   \n",
       "\n",
       "      parked_cars_in_neighbourhood  \n",
       "72604                         1338  \n",
       "36735                          397  \n",
       "80322                          247  \n",
       "55487                           31  \n",
       "86890                          238  \n",
       "\n",
       "[5 rows x 32 columns]"
      ]
     },
     "metadata": {},
     "output_type": "display_data"
    }
   ],
   "source": [
    "df_with_parking = pd.merge(\n",
    "    df_with_location, \n",
    "    parking_per_neighbourhood,\n",
    "    on='Code_buurt'\n",
    ")\n",
    "df_with_parking.dropna(inplace=True)\n",
    "display(df_with_parking.sample(10).head())"
   ]
  },
  {
   "cell_type": "code",
   "execution_count": 37,
   "metadata": {},
   "outputs": [
    {
     "data": {
      "text/plain": [
       "Text(0, 0.5, 'Frequency')"
      ]
     },
     "execution_count": 37,
     "metadata": {},
     "output_type": "execute_result"
    },
    {
     "data": {
      "image/png": "[encoded data removed]",
      "text/plain": [
       "<Figure size 640x480 with 1 Axes>"
      ]
     },
     "metadata": {},
     "output_type": "display_data"
    }
   ],
   "source": [
    "# let's plot the height of trees of the cleaned up dataset\n",
    "sns.histplot(df_with_parking['tree_height_fixed'])\n",
    "plt.title(\"Histogram of tree height frequency (fixed)\")\n",
    "plt.xlabel(\"Height (m)\")\n",
    "plt.ylabel(\"Frequency\")"
   ]
  },
  {
   "cell_type": "code",
   "execution_count": 31,
   "metadata": {},
   "outputs": [
    {
     "data": {
      "text/plain": [
       "Index(['Id', 'buurt_id', 'Geometrie', 'Typebeheerderplus',\n",
       "       'Boomhoogteklasseactueel', 'Typeeigenaarplus', 'year_planted',\n",
       "       'Soortnaam', 'Typeobject', 'Typesoortnaam', 'Soortnaamkort',\n",
       "       'Soortnaamtop', 'growth_ground', 'tree_height_fixed',\n",
       "       'tree_height_random', 'tree_admin', 'tree_municipality', 'age',\n",
       "       'species', 'species_group', 'tree_treatment', 'plant_type', 'wijk_id',\n",
       "       'Naam_buurt', 'Code_buurt', 'Cbscode_buurt', 'Geometrie_buurt',\n",
       "       'Naam_wijk', 'Code_wijk', 'Cbscode_wijk', 'Geometrie_wijk',\n",
       "       'parked_cars_in_neighbourhood'],\n",
       "      dtype='object')"
      ]
     },
     "execution_count": 31,
     "metadata": {},
     "output_type": "execute_result"
    }
   ],
   "source": [
    "# last cleaning steps to make dataset smaller\n",
    "df_with_parking.columns"
   ]
  },
  {
   "cell_type": "code",
   "execution_count": 32,
   "metadata": {},
   "outputs": [],
   "source": [
    "# removing redundant columns\n",
    "columns_to_drop = ['Id', 'buurt_id', 'Geometrie', 'Typebeheerderplus', \n",
    "                   'Boomhoogteklasseactueel', 'Typeeigenaarplus', 'year_planted',\n",
    "                    'Soortnaam', 'Typeobject', 'Typesoortnaam', 'Soortnaamkort',\n",
    "                    'Soortnaamtop', 'wijk_id', 'Code_buurt', 'Cbscode_buurt',\n",
    "                    'Geometrie_buurt', 'Code_wijk', 'Cbscode_wijk',\n",
    "                    'Geometrie_wijk', 'plant_type'\n",
    "]\n",
    "df_trees_final = df_with_parking.drop(columns=columns_to_drop)"
   ]
  },
  {
   "cell_type": "code",
   "execution_count": 33,
   "metadata": {},
   "outputs": [],
   "source": [
    "df_trees_final.to_csv('data/clean_tree_data.csv')"
   ]
  }
 ],
 "metadata": {
  "kernelspec": {
   "display_name": "venv",
   "language": "python",
   "name": "python3"
  },
  "language_info": {
   "codemirror_mode": {
    "name": "ipython",
    "version": 3
   },
   "file_extension": ".py",
   "mimetype": "text/x-python",
   "name": "python",
   "nbconvert_exporter": "python",
   "pygments_lexer": "ipython3",
   "version": "3.12.2"
  }
 },
 "nbformat": 4,
 "nbformat_minor": 2
}
