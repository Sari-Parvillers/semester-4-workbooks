{
 "cells": [
  {
   "cell_type": "code",
   "execution_count": 1,
   "metadata": {},
   "outputs": [
    {
     "name": "stderr",
     "output_type": "stream",
     "text": [
      "/var/folders/25/82ztpk21087b258r7gs0n3m00000gn/T/ipykernel_88415/859329180.py:1: DeprecationWarning: \n",
      "Pyarrow will become a required dependency of pandas in the next major release of pandas (pandas 3.0),\n",
      "(to allow more performant data types, such as the Arrow string type, and better interoperability with other libraries)\n",
      "but was not found to be installed on your system.\n",
      "If this would cause problems for you,\n",
      "please provide us feedback at https://github.com/pandas-dev/pandas/issues/54466\n",
      "        \n",
      "  import pandas as pd\n"
     ]
    }
   ],
   "source": [
    "import pandas as pd\n",
    "import numpy as np\n",
    "import matplotlib.pyplot as plt\n",
    "import seaborn as sns\n",
    "import requests"
   ]
  },
  {
   "cell_type": "code",
   "execution_count": 2,
   "metadata": {},
   "outputs": [],
   "source": [
    "# functions for data cleaning\n",
    "# return the proportion of nan each column in the data\n",
    "def na_proportion(series: pd.Series):\n",
    "    return series.isna().sum() / len(series)\n",
    "\n",
    "# returns a dataframe without the columns that have higher proportion of na \n",
    "# than threshold. \n",
    "# default threshold: 40% of nan means removal\n",
    "def stripped_threshold_na_columns(df: pd.DataFrame, threshold = 0.4):\n",
    "    df_return = pd.DataFrame()\n",
    "    for column in df.columns:\n",
    "        if na_proportion(df[column]) < threshold:\n",
    "            df_return[column] = df[column]\n",
    "    return df_return\n",
    "\n",
    "# if a value occurs less than n times in a series, replace it with placeholder\n",
    "def replace_less_than_n_values(series: pd.Series, n = 10, placeholder = np.nan):\n",
    "    value_counts = series.value_counts()\n",
    "    values_to_replace = value_counts[value_counts < n].index\n",
    "    return series.replace(to_replace=values_to_replace, value=placeholder)\n",
    "\n",
    "# returns the n most common values in a series (by default the 10 most common)\n",
    "def most_common_n_values(series: pd.Series, n = 10):\n",
    "    return series.value_counts()[:n].index.tolist()\n",
    "\n",
    "\n",
    "# return a series with its least common values converted to a different value\n",
    "# nans are also replaceable\n",
    "# by default, the string 'other'\n",
    "def otherise(value, most_common_values, other, nan_replace):\n",
    "    if value in most_common_values:\n",
    "        return value\n",
    "    if value is np.nan:\n",
    "        return nan_replace\n",
    "    return other\n",
    "\n",
    "def otherise_less_common_values(\n",
    "        series: pd.Series, \n",
    "        most_common_values, \n",
    "        other='other', \n",
    "        nan_replace = np.nan\n",
    "    ):\n",
    "    return series.apply(\n",
    "        lambda value: otherise(value, most_common_values, other, nan_replace)\n",
    "    )\n"
   ]
  },
  {
   "cell_type": "code",
   "execution_count": 3,
   "metadata": {},
   "outputs": [],
   "source": [
    "# tree data\n",
    "df_trees = pd.read_csv('data/bomen-stamgegevens-2024-03-12T09 06 04.036291.csv')\n",
    "# amsterdam neighbourhood meta data, i.e. matching neighbourhood name with ID\n",
    "df_buurt_meta = pd.read_csv('data/gebieden-buurten-2024-03-12T12 09 07.653588.csv')\n",
    "# amsterdam sub-district meta data, to match each neighbourhood with its district\n",
    "df_wijk_meta = pd.read_csv('data/gebieden_wijken.csv')"
   ]
  },
  {
   "cell_type": "code",
   "execution_count": 4,
   "metadata": {},
   "outputs": [],
   "source": [
    "# standardise names of neighbourhood id column so we can merge on that column\n",
    "buurt_id_column = 'buurt_id'\n",
    "wijk_id_column = 'wijk_id'\n",
    "\n",
    "# rename buurt id columns in all datasets to be the same for merging\n",
    "df_buurt_meta = df_buurt_meta.rename(\n",
    "    columns={'Identificatie': buurt_id_column}\n",
    ")\n",
    "df_trees = df_trees.rename(\n",
    "    columns={'Gbdbuurtid': buurt_id_column}\n",
    ")\n",
    "\n",
    "# rename wijk id columns in all datasets to be the same for merging\n",
    "df_buurt_meta = df_buurt_meta.rename(\n",
    "    columns={'Ligtinwijkid': wijk_id_column}\n",
    ")\n",
    "df_wijk_meta = df_wijk_meta.rename(\n",
    "    columns={'Identificatie': wijk_id_column}\n",
    ")\n"
   ]
  },
  {
   "cell_type": "code",
   "execution_count": 5,
   "metadata": {},
   "outputs": [],
   "source": [
    "# match each buurt (neighbourhood) with its associated wijk (sub-district)\n",
    "df_buurt_simple = df_buurt_meta[[\n",
    "    buurt_id_column, wijk_id_column, 'Naam', 'Code', 'Cbscode', 'Geometrie'\n",
    "]]\n",
    "\n",
    "df_buurt_simple = df_buurt_simple.rename(\n",
    "    columns={\n",
    "        'Naam': 'Naam_buurt',\n",
    "        'Code': 'Code_buurt',\n",
    "        'Cbscode': 'Cbscode_buurt',\n",
    "        'Geometrie': 'Geometrie_buurt'\n",
    "    }\n",
    ")\n",
    "\n",
    "df_wijk_simple = df_wijk_meta[[\n",
    "    wijk_id_column, 'Naam', 'Code', 'Cbscode', 'Geometrie'\n",
    "]]\n",
    "\n",
    "df_wijk_simple = df_wijk_simple.rename(\n",
    "    columns={\n",
    "        'Naam': 'Naam_wijk',\n",
    "        'Code': 'Code_wijk',\n",
    "        'Cbscode': 'Cbscode_wijk',\n",
    "        'Geometrie': 'Geometrie_wijk'\n",
    "    }\n",
    ")\n",
    "\n",
    "df_location_data = pd.merge(df_buurt_simple, df_wijk_simple, on=wijk_id_column)"
   ]
  },
  {
   "cell_type": "code",
   "execution_count": null,
   "metadata": {},
   "outputs": [],
   "source": []
  },
  {
   "cell_type": "code",
   "execution_count": 6,
   "metadata": {},
   "outputs": [
    {
     "name": "stdout",
     "output_type": "stream",
     "text": [
      "nan proportion Standplaatsgedetailleerd 0.620510336029891\n",
      "shape before dropna: (286909, 14)\n"
     ]
    },
    {
     "name": "stdout",
     "output_type": "stream",
     "text": [
      "shape after dropna: (98285, 13)\n"
     ]
    }
   ],
   "source": [
    "# clean up tree data\n",
    "# removing nans\n",
    "# we want to remove columns that have too many nans so that we don't reduce\n",
    "# the entire dataset too much by using .dropna\n",
    "# I will make an exception for Standplaatsgedetailleerd (middle in which tree\n",
    "# is grown) since that seems like an interesting statistic (unlike e.g. diameter)\n",
    "print(f'nan proportion Standplaatsgedetailleerd {na_proportion(df_trees['Standplaatsgedetailleerd'])}')\n",
    "# this will remove 62% of the data, out of 280000 so we should be fine\n",
    "growth_ground = df_trees['Standplaatsgedetailleerd']\n",
    "\n",
    "print(f'shape before dropna: {df_trees.shape}')\n",
    "\n",
    "df_trees = stripped_threshold_na_columns(df_trees)\n",
    "df_trees['growth_ground'] = growth_ground\n",
    "df_trees.dropna(inplace=True)\n",
    "\n",
    "print(f'shape after dropna: {df_trees.shape}')\n"
   ]
  },
  {
   "cell_type": "code",
   "execution_count": 7,
   "metadata": {},
   "outputs": [],
   "source": [
    "# height\n",
    "# we only have approximate measures for tree height :(\n",
    "# Brute force normalising it to numbers to avoid using regex and preserve my sanity\n",
    "# There are some limitations from applying a linear regression model\n",
    "# to height that is calculated this way.\n",
    "def extract_height_data(data):\n",
    "    if data == 'a. tot 6 m.':\n",
    "        return 3\n",
    "    if data == 'b. 6 tot 9 m.':\n",
    "        return 7.5\n",
    "    if data == 'c. 9 tot 12 m.':\n",
    "        return 10.5\n",
    "    if data == 'd. 12 tot 15 m.':\n",
    "        return 13.5\n",
    "    if data == 'e. 15 tot 18 m.':\n",
    "        return 16.5\n",
    "    if data == 'f. 18 tot 24 m.':\n",
    "        return 21\n",
    "    if data == 'g. 24 m. en hoger':\n",
    "        return 24\n",
    "    # if not any of the above return nan\n",
    "    return np.nan\n",
    "\n",
    "df_trees['tree_height'] = df_trees['Boomhoogteklasseactueel'].apply(\n",
    "    lambda x: extract_height_data(x)\n",
    ")\n",
    "\n",
    "df_trees.dropna(inplace=True)\n",
    "\n",
    "\n"
   ]
  },
  {
   "cell_type": "code",
   "execution_count": 8,
   "metadata": {},
   "outputs": [
    {
     "data": {
      "text/plain": [
       "Text(0, 0.5, 'Frequency')"
      ]
     },
     "execution_count": 8,
     "metadata": {},
     "output_type": "execute_result"
    },
    {
     "data": {
      "image/png": "[encoded data removed]",
      "text/plain": [
       "<Figure size 600x600 with 1 Axes>"
      ]
     },
     "metadata": {},
     "output_type": "display_data"
    }
   ],
   "source": [
    "# visualise tree height distribution\n",
    "plt.figure(figsize=(6, 6))\n",
    "plt.hist(df_trees['tree_height'], bins=200, edgecolor='black')\n",
    "plt.grid(axis='y', alpha=0.75)\n",
    "plt.title(\"Histogram of tree height frequency\")\n",
    "plt.xlabel(\"Height (m)\")\n",
    "plt.ylabel(\"Frequency\")\n"
   ]
  },
  {
   "cell_type": "code",
   "execution_count": 9,
   "metadata": {},
   "outputs": [
    {
     "name": "stdout",
     "output_type": "stream",
     "text": [
      "buurt_id\n",
      "3.630980e+12    2617\n",
      "3.630980e+12    1912\n",
      "3.630980e+12    1562\n",
      "3.630980e+12    1193\n",
      "3.630980e+12    1188\n",
      "                ... \n",
      "3.630980e+12       3\n",
      "3.630980e+12       2\n",
      "3.630980e+12       1\n",
      "3.630980e+12       1\n",
      "3.630980e+12       1\n",
      "Name: count, Length: 494, dtype: int64\n"
     ]
    }
   ],
   "source": [
    "# neighbourhood that tree is in (ID)\n",
    "print(df_trees['buurt_id'].value_counts())"
   ]
  },
  {
   "cell_type": "code",
   "execution_count": 10,
   "metadata": {},
   "outputs": [
    {
     "name": "stdout",
     "output_type": "stream",
     "text": [
      "Typebeheerderplus\n",
      "R&E_VOR_Bomen                     94378\n",
      "Recreatieschap Noord-Holland       1386\n",
      "Gemeente Amsterdam, rve Sport       444\n",
      "RVE Spieringhorn Sportpark          342\n",
      "R&E_VOR_Groen                        84\n",
      "Amsterdamse Bos                      63\n",
      "Rijkswaterstaat                      49\n",
      "Gemeentelijk Vastgoed                35\n",
      "Amsterdamse bos - eigen dienst       34\n",
      "RVE Spieringpark                     23\n",
      "Stichting                             8\n",
      "Havenbedrijf                          6\n",
      "Volkstuinpark                         3\n",
      "Begraafplaats Ransdorp                3\n",
      "Woningcorporatie                      2\n",
      "Begraafplaats Nieuwendam              2\n",
      "Natuurlijk persoon                    2\n",
      "Schooltuinen                          1\n",
      "Westpoort                             1\n",
      "SOC_S&B_Sport                         1\n",
      "Name: count, dtype: int64\n",
      "proportion of nan for admin after removal: 0.0\n"
     ]
    }
   ],
   "source": [
    "# tree administrator ('Typebeheerderplus')\n",
    "# categorical\n",
    "print(df_trees['Typebeheerderplus'].value_counts())\n",
    "admin_threshold = 15\n",
    "df_trees['tree_admin'] = replace_less_than_n_values(\n",
    "    df_trees['Typebeheerderplus'],\n",
    "    admin_threshold\n",
    ")\n",
    "print(f'proportion of nan for admin after removal: {na_proportion(df_trees['Typebeheerderplus'])}')\n",
    "\n",
    "df_trees.dropna(inplace=True)"
   ]
  },
  {
   "cell_type": "code",
   "execution_count": 11,
   "metadata": {},
   "outputs": [
    {
     "name": "stdout",
     "output_type": "stream",
     "text": [
      "tree_admin\n",
      "R&E_VOR_Bomen                     94378\n",
      "Recreatieschap Noord-Holland       1386\n",
      "Gemeente Amsterdam, rve Sport       444\n",
      "RVE Spieringhorn Sportpark          342\n",
      "R&E_VOR_Groen                        84\n",
      "Amsterdamse Bos                      63\n",
      "Rijkswaterstaat                      49\n",
      "Gemeentelijk Vastgoed                35\n",
      "Amsterdamse bos - eigen dienst       34\n",
      "RVE Spieringpark                     23\n",
      "Name: count, dtype: int64\n"
     ]
    }
   ],
   "source": [
    "print(df_trees['tree_admin'].value_counts())"
   ]
  },
  {
   "cell_type": "code",
   "execution_count": 12,
   "metadata": {},
   "outputs": [
    {
     "name": "stdout",
     "output_type": "stream",
     "text": [
      "Typeeigenaarplus\n",
      "Gemeente Amsterdam       94254\n",
      "Gemeente Weesp            2337\n",
      "Gemeentelijk Vastgoed      232\n",
      "Gemeente Diemen              8\n",
      "Gemeente Ouder-Amstel        7\n",
      "Name: count, dtype: int64\n"
     ]
    }
   ],
   "source": [
    "# municipality that owns the trees\n",
    "print(df_trees['Typeeigenaarplus'].value_counts())\n",
    "# the overwhelming majority of trees are owned by amsterdam.\n",
    "# let's have values for just \"amsterdam\" and \"not amsterdam\"\n",
    "amsterdam_ownership = ['Gemeente Amsterdam']\n",
    "df_trees['tree_municipality'] = otherise_less_common_values(\n",
    "    df_trees['Typeeigenaarplus'], amsterdam_ownership\n",
    ")"
   ]
  },
  {
   "cell_type": "code",
   "execution_count": 13,
   "metadata": {},
   "outputs": [
    {
     "data": {
      "text/plain": [
       "tree_municipality\n",
       "Gemeente Amsterdam    94254\n",
       "other                  2584\n",
       "Name: count, dtype: int64"
      ]
     },
     "execution_count": 13,
     "metadata": {},
     "output_type": "execute_result"
    }
   ],
   "source": [
    "df_trees['tree_municipality'].value_counts()"
   ]
  },
  {
   "cell_type": "code",
   "execution_count": 14,
   "metadata": {},
   "outputs": [
    {
     "name": "stdout",
     "output_type": "stream",
     "text": [
      "proportion of nan for planting year: 0.0\n",
      "Jaarvanaanleg\n",
      "1990.0    6338\n",
      "0.0       5914\n",
      "1970.0    5530\n",
      "1980.0    4918\n",
      "1985.0    4763\n",
      "          ... \n",
      "1921.0       1\n",
      "1890.0       1\n",
      "200.0        1\n",
      "20.0         1\n",
      "1881.0       1\n",
      "Name: count, Length: 131, dtype: int64\n"
     ]
    }
   ],
   "source": [
    "# tree planting year\n",
    "print(\n",
    "    f'proportion of nan for planting year: {na_proportion(df_trees['Jaarvanaanleg'])}'\n",
    ")\n",
    "# not many nans :)\n",
    "print(df_trees['Jaarvanaanleg'].value_counts())\n",
    "# lots of zeros :(\n",
    "# Removing all the rows with nonsensical years\n",
    "year_threshold = 1500 # let's admit really old trees because they are awesome\n",
    "df_trees = df_trees[df_trees.Jaarvanaanleg > year_threshold]\n"
   ]
  },
  {
   "cell_type": "code",
   "execution_count": 15,
   "metadata": {},
   "outputs": [
    {
     "data": {
      "text/plain": [
       "<Axes: xlabel='Jaarvanaanleg', ylabel='Count'>"
      ]
     },
     "execution_count": 15,
     "metadata": {},
     "output_type": "execute_result"
    },
    {
     "data": {
      "image/png": "[encoded data removed]",
      "text/plain": [
       "<Figure size 640x480 with 1 Axes>"
      ]
     },
     "metadata": {},
     "output_type": "display_data"
    }
   ],
   "source": [
    "sns.histplot(df_trees['Jaarvanaanleg'])"
   ]
  },
  {
   "cell_type": "code",
   "execution_count": 16,
   "metadata": {},
   "outputs": [
    {
     "name": "stdout",
     "output_type": "stream",
     "text": [
      "Soortnaam\n",
      "Platanus hispanica               5463\n",
      "Fraxinus excelsior               3001\n",
      "Quercus robur                    2669\n",
      "Acer campestre                   2578\n",
      "Salix alba                       2483\n",
      "                                 ... \n",
      "Acer negundo 'Flamingo'             1\n",
      "Acer pseudoplatanus 'Wilhelm'       1\n",
      "Prunus serrulata 'Asano'            1\n",
      "Picea                               1\n",
      "Fagus sylvatica 'Rohanii'           1\n",
      "Name: count, Length: 911, dtype: int64\n",
      "nan proportion Soortnaamkort: 0.0\n",
      "Soortnaamkort\n",
      "Tilia          10268\n",
      "Ulmus          10243\n",
      "Acer            9097\n",
      "Fraxinus        7349\n",
      "Platanus        5758\n",
      "               ...  \n",
      "Platycladus        1\n",
      "Sciadopitys        1\n",
      "Diospyros          1\n",
      "Viburnum           1\n",
      "Cupressus          1\n",
      "Name: count, Length: 105, dtype: int64\n",
      "nan proportion Soortnaamtop: 0.0\n",
      "Soortnaamtop\n",
      "Linde (Tilia)         10268\n",
      "Iep (Ulmus)           10243\n",
      "Esdoorn (Acer)         9097\n",
      "Es (Fraxinus)          7349\n",
      "Plataan (Platanus)     5758\n",
      "                      ...  \n",
      "Sycoparrotia              1\n",
      "Idesia                    1\n",
      "Styrax                    1\n",
      "Sciadopitys               1\n",
      "Cephalotaxus              1\n",
      "Name: count, Length: 107, dtype: int64\n"
     ]
    }
   ],
   "source": [
    "# there are three columns for the species of the tree\n",
    "# Soortnaam: specific latin name species\n",
    "print(df_trees['Soortnaam'].value_counts())\n",
    "# Sortnaamkort/Sortnaamtop are for grouped species (they're the same)\n",
    "print(f'nan proportion Soortnaamkort: {na_proportion(df_trees['Soortnaamkort'])}')\n",
    "print(df_trees['Soortnaamkort'].value_counts())\n",
    "print(f'nan proportion Soortnaamtop: {na_proportion(df_trees['Soortnaamtop'])}')\n",
    "print(df_trees['Soortnaamtop'].value_counts())\n",
    "\n",
    "# let's choose both, even if they will by definition be highly correlated in some ways"
   ]
  },
  {
   "cell_type": "code",
   "execution_count": 17,
   "metadata": {},
   "outputs": [
    {
     "name": "stdout",
     "output_type": "stream",
     "text": [
      "number of species: (911,)\n",
      "number of species after removal: (413,)\n",
      "nan proportion Soortnaam after removal: 0.017168939727232733\n"
     ]
    }
   ],
   "source": [
    "# Soortnaam (exact species)\n",
    "# How many species are there?\n",
    "print(f'number of species: {df_trees['Soortnaam'].value_counts().shape}')\n",
    "# let's remove trees which species there are too few of\n",
    "species_threshold = 10\n",
    "df_trees['species'] = replace_less_than_n_values(\n",
    "    df_trees['Soortnaam'],\n",
    "    species_threshold\n",
    ")\n",
    "# how much did that remove?\n",
    "print(f'number of species after removal: {df_trees['species'].value_counts().shape}')\n",
    "print(f'nan proportion Soortnaam after removal: {na_proportion(df_trees['species'])}')\n",
    "df_trees.dropna(inplace=True)"
   ]
  },
  {
   "cell_type": "code",
   "execution_count": 18,
   "metadata": {},
   "outputs": [
    {
     "name": "stdout",
     "output_type": "stream",
     "text": [
      "number of species groups: (65,)\n",
      "nan proportion Soortnaamkort: 0.0\n",
      "number of species groups after removal: (65,)\n",
      "nan proportion species_group after removal: 0.0\n"
     ]
    }
   ],
   "source": [
    "# Soortnaamkort (species group)\n",
    "# How many groups are there?\n",
    "print(f'number of species groups: {df_trees['Soortnaamkort'].value_counts().shape}')\n",
    "# proportion of nan?\n",
    "print(f'nan proportion Soortnaamkort: {na_proportion(df_trees['Soortnaamkort'])}')\n",
    "# let's remove trees which species group there are too few of\n",
    "gr_species_threshold = 10\n",
    "df_trees['species_group'] = replace_less_than_n_values(\n",
    "    df_trees['Soortnaamkort'],\n",
    "    gr_species_threshold\n",
    ")\n",
    "# how much did that remove?\n",
    "print(f'number of species groups after removal: {df_trees['species_group'].value_counts().shape}')\n",
    "print(f'nan proportion species_group after removal: {na_proportion(df_trees['species_group'])}')\n",
    "df_trees.dropna(inplace=True)\n"
   ]
  },
  {
   "cell_type": "code",
   "execution_count": 19,
   "metadata": {},
   "outputs": [
    {
     "name": "stdout",
     "output_type": "stream",
     "text": [
      "Typeobject\n",
      "Boom niet vrij uitgroeiend    75000\n",
      "Boom vrij uitgroeiend          7805\n",
      "Knotboom                       2545\n",
      "Vormboom                       1688\n",
      "Gekandelaberde boom            1482\n",
      "Stobbe                          708\n",
      "Leiboom                         121\n",
      "Fruitboom                        10\n",
      "Name: count, dtype: int64\n"
     ]
    }
   ],
   "source": [
    "# Typeobject (status of the object)\n",
    "print(f'{df_trees['Typeobject'].value_counts()}')\n",
    "# seems fine already. will just nan up the one boomstam_algemeen\n",
    "df_trees['tree_treatment'] = replace_less_than_n_values(df_trees['Typeobject'])\n",
    "df_trees.dropna(inplace=True)"
   ]
  },
  {
   "cell_type": "code",
   "execution_count": 20,
   "metadata": {},
   "outputs": [
    {
     "name": "stdout",
     "output_type": "stream",
     "text": [
      "Typesoortnaam\n",
      "Bomen       89341\n",
      "Heesters       16\n",
      "Algemeen        2\n",
      "Name: count, dtype: int64\n"
     ]
    }
   ],
   "source": [
    "# Typesoortnaam (the sort of thing that this is)\n",
    "print(df_trees['Typesoortnaam'].value_counts())\n",
    "# we are only interested in trees\n",
    "only_trees = most_common_n_values(df_trees['Typesoortnaam'], n = 1)\n",
    "df_trees['plant_type'] = otherise_less_common_values(\n",
    "    df_trees['Typesoortnaam'],\n",
    "    only_trees,\n",
    "    other = np.nan\n",
    ")\n",
    "df_trees.dropna(inplace=True)"
   ]
  },
  {
   "cell_type": "code",
   "execution_count": 21,
   "metadata": {},
   "outputs": [
    {
     "name": "stdout",
     "output_type": "stream",
     "text": [
      "(89341, 20)\n"
     ]
    }
   ],
   "source": [
    "# number of trees left\n",
    "print(df_trees.shape)"
   ]
  },
  {
   "cell_type": "code",
   "execution_count": 22,
   "metadata": {},
   "outputs": [
    {
     "data": {
      "text/html": [
       "<div>\n",
       "<style scoped>\n",
       "    .dataframe tbody tr th:only-of-type {\n",
       "        vertical-align: middle;\n",
       "    }\n",
       "\n",
       "    .dataframe tbody tr th {\n",
       "        vertical-align: top;\n",
       "    }\n",
       "\n",
       "    .dataframe thead th {\n",
       "        text-align: right;\n",
       "    }\n",
       "</style>\n",
       "<table border=\"1\" class=\"dataframe\">\n",
       "  <thead>\n",
       "    <tr style=\"text-align: right;\">\n",
       "      <th></th>\n",
       "      <th>Id</th>\n",
       "      <th>buurt_id</th>\n",
       "      <th>Geometrie</th>\n",
       "      <th>Typebeheerderplus</th>\n",
       "      <th>Boomhoogteklasseactueel</th>\n",
       "      <th>Typeeigenaarplus</th>\n",
       "      <th>Jaarvanaanleg</th>\n",
       "      <th>Soortnaam</th>\n",
       "      <th>Typeobject</th>\n",
       "      <th>Typesoortnaam</th>\n",
       "      <th>...</th>\n",
       "      <th>plant_type</th>\n",
       "      <th>wijk_id</th>\n",
       "      <th>Naam_buurt</th>\n",
       "      <th>Code_buurt</th>\n",
       "      <th>Cbscode_buurt</th>\n",
       "      <th>Geometrie_buurt</th>\n",
       "      <th>Naam_wijk</th>\n",
       "      <th>Code_wijk</th>\n",
       "      <th>Cbscode_wijk</th>\n",
       "      <th>Geometrie_wijk</th>\n",
       "    </tr>\n",
       "  </thead>\n",
       "  <tbody>\n",
       "    <tr>\n",
       "      <th>43358</th>\n",
       "      <td>1047108</td>\n",
       "      <td>3.630980e+12</td>\n",
       "      <td>SRID=28992;POINT (123500.67 489618.96)</td>\n",
       "      <td>R&amp;E_VOR_Bomen</td>\n",
       "      <td>c. 9 tot 12 m.</td>\n",
       "      <td>Gemeente Amsterdam</td>\n",
       "      <td>1980.0</td>\n",
       "      <td>Robinia pseudoacacia</td>\n",
       "      <td>Boom niet vrij uitgroeiend</td>\n",
       "      <td>Bomen</td>\n",
       "      <td>...</td>\n",
       "      <td>Bomen</td>\n",
       "      <td>3630970000091</td>\n",
       "      <td>Nieuwendammerdijk-West</td>\n",
       "      <td>NF03</td>\n",
       "      <td>BU0363NF03</td>\n",
       "      <td>SRID=28992;POLYGON ((124220.063 489566.41, 124...</td>\n",
       "      <td>Nieuwendammerdijk/Buiksloterdijk</td>\n",
       "      <td>NF</td>\n",
       "      <td>WK0363NF</td>\n",
       "      <td>SRID=28992;POLYGON((124627.886 489359.874,1246...</td>\n",
       "    </tr>\n",
       "    <tr>\n",
       "      <th>26457</th>\n",
       "      <td>994940</td>\n",
       "      <td>3.630980e+12</td>\n",
       "      <td>SRID=28992;POINT (120165.16 484890.78)</td>\n",
       "      <td>R&amp;E_VOR_Bomen</td>\n",
       "      <td>e. 15 tot 18 m.</td>\n",
       "      <td>Gemeente Amsterdam</td>\n",
       "      <td>1975.0</td>\n",
       "      <td>Tilia europaea 'Euchlora'</td>\n",
       "      <td>Boom niet vrij uitgroeiend</td>\n",
       "      <td>Bomen</td>\n",
       "      <td>...</td>\n",
       "      <td>Bomen</td>\n",
       "      <td>3630970000063</td>\n",
       "      <td>Hiltonbuurt</td>\n",
       "      <td>KJ01</td>\n",
       "      <td>BU0363KJ01</td>\n",
       "      <td>SRID=28992;POLYGON ((120271.717 484962.66, 120...</td>\n",
       "      <td>Apollobuurt</td>\n",
       "      <td>KJ</td>\n",
       "      <td>WK0363KJ</td>\n",
       "      <td>SRID=28992;POLYGON((120868.184 484624.849,1207...</td>\n",
       "    </tr>\n",
       "    <tr>\n",
       "      <th>33314</th>\n",
       "      <td>1015169</td>\n",
       "      <td>3.630980e+12</td>\n",
       "      <td>SRID=28992;POINT (119856.68 488772.44)</td>\n",
       "      <td>R&amp;E_VOR_Bomen</td>\n",
       "      <td>b. 6 tot 9 m.</td>\n",
       "      <td>Gemeente Amsterdam</td>\n",
       "      <td>2001.0</td>\n",
       "      <td>Styphnolobium japonicum</td>\n",
       "      <td>Boom niet vrij uitgroeiend</td>\n",
       "      <td>Bomen</td>\n",
       "      <td>...</td>\n",
       "      <td>Bomen</td>\n",
       "      <td>3630970000021</td>\n",
       "      <td>Westergasfabriek</td>\n",
       "      <td>EB09</td>\n",
       "      <td>BU0363EB09</td>\n",
       "      <td>SRID=28992;POLYGON ((120386.946 488993.61, 120...</td>\n",
       "      <td>Spaarndammerbuurt/Zeeheldenbuurt</td>\n",
       "      <td>EB</td>\n",
       "      <td>WK0363EB</td>\n",
       "      <td>SRID=28992;POLYGON((120858.696 489329.761,1208...</td>\n",
       "    </tr>\n",
       "    <tr>\n",
       "      <th>34297</th>\n",
       "      <td>1018079</td>\n",
       "      <td>3.630980e+12</td>\n",
       "      <td>SRID=28992;POINT (120101.25 488505.66)</td>\n",
       "      <td>R&amp;E_VOR_Bomen</td>\n",
       "      <td>c. 9 tot 12 m.</td>\n",
       "      <td>Gemeente Amsterdam</td>\n",
       "      <td>1991.0</td>\n",
       "      <td>Acer negundo</td>\n",
       "      <td>Boom niet vrij uitgroeiend</td>\n",
       "      <td>Bomen</td>\n",
       "      <td>...</td>\n",
       "      <td>Bomen</td>\n",
       "      <td>3630970000027</td>\n",
       "      <td>Fannius Scholtenbuurt</td>\n",
       "      <td>EH02</td>\n",
       "      <td>BU0363EH02</td>\n",
       "      <td>SRID=28992;POLYGON ((120128.615 488766.03, 119...</td>\n",
       "      <td>Staatsliedenbuurt</td>\n",
       "      <td>EH</td>\n",
       "      <td>WK0363EH</td>\n",
       "      <td>SRID=28992;POLYGON((120441.569 488350.659,1204...</td>\n",
       "    </tr>\n",
       "    <tr>\n",
       "      <th>18470</th>\n",
       "      <td>974386</td>\n",
       "      <td>3.630980e+12</td>\n",
       "      <td>SRID=28992;POINT (127335.29434293 481241.71033...</td>\n",
       "      <td>R&amp;E_VOR_Bomen</td>\n",
       "      <td>a. tot 6 m.</td>\n",
       "      <td>Gemeente Amsterdam</td>\n",
       "      <td>1977.0</td>\n",
       "      <td>Carpinus betulus</td>\n",
       "      <td>Boom niet vrij uitgroeiend</td>\n",
       "      <td>Bomen</td>\n",
       "      <td>...</td>\n",
       "      <td>Bomen</td>\n",
       "      <td>3630970000112</td>\n",
       "      <td>Bijlmermuseum-Zuid</td>\n",
       "      <td>TG02</td>\n",
       "      <td>BU0363TG02</td>\n",
       "      <td>SRID=28992;POLYGON ((127167.415 481588.127, 12...</td>\n",
       "      <td>Bijlmermuseum</td>\n",
       "      <td>TG</td>\n",
       "      <td>WK0363TG</td>\n",
       "      <td>SRID=28992;POLYGON((127640.202 481122.04,12762...</td>\n",
       "    </tr>\n",
       "  </tbody>\n",
       "</table>\n",
       "<p>5 rows × 29 columns</p>\n",
       "</div>"
      ],
      "text/plain": [
       "            Id      buurt_id  \\\n",
       "43358  1047108  3.630980e+12   \n",
       "26457   994940  3.630980e+12   \n",
       "33314  1015169  3.630980e+12   \n",
       "34297  1018079  3.630980e+12   \n",
       "18470   974386  3.630980e+12   \n",
       "\n",
       "                                               Geometrie Typebeheerderplus  \\\n",
       "43358             SRID=28992;POINT (123500.67 489618.96)     R&E_VOR_Bomen   \n",
       "26457             SRID=28992;POINT (120165.16 484890.78)     R&E_VOR_Bomen   \n",
       "33314             SRID=28992;POINT (119856.68 488772.44)     R&E_VOR_Bomen   \n",
       "34297             SRID=28992;POINT (120101.25 488505.66)     R&E_VOR_Bomen   \n",
       "18470  SRID=28992;POINT (127335.29434293 481241.71033...     R&E_VOR_Bomen   \n",
       "\n",
       "      Boomhoogteklasseactueel    Typeeigenaarplus  Jaarvanaanleg  \\\n",
       "43358          c. 9 tot 12 m.  Gemeente Amsterdam         1980.0   \n",
       "26457         e. 15 tot 18 m.  Gemeente Amsterdam         1975.0   \n",
       "33314           b. 6 tot 9 m.  Gemeente Amsterdam         2001.0   \n",
       "34297          c. 9 tot 12 m.  Gemeente Amsterdam         1991.0   \n",
       "18470             a. tot 6 m.  Gemeente Amsterdam         1977.0   \n",
       "\n",
       "                       Soortnaam                  Typeobject Typesoortnaam  \\\n",
       "43358       Robinia pseudoacacia  Boom niet vrij uitgroeiend         Bomen   \n",
       "26457  Tilia europaea 'Euchlora'  Boom niet vrij uitgroeiend         Bomen   \n",
       "33314    Styphnolobium japonicum  Boom niet vrij uitgroeiend         Bomen   \n",
       "34297               Acer negundo  Boom niet vrij uitgroeiend         Bomen   \n",
       "18470           Carpinus betulus  Boom niet vrij uitgroeiend         Bomen   \n",
       "\n",
       "       ... plant_type        wijk_id              Naam_buurt  Code_buurt  \\\n",
       "43358  ...      Bomen  3630970000091  Nieuwendammerdijk-West        NF03   \n",
       "26457  ...      Bomen  3630970000063             Hiltonbuurt        KJ01   \n",
       "33314  ...      Bomen  3630970000021        Westergasfabriek        EB09   \n",
       "34297  ...      Bomen  3630970000027   Fannius Scholtenbuurt        EH02   \n",
       "18470  ...      Bomen  3630970000112      Bijlmermuseum-Zuid        TG02   \n",
       "\n",
       "      Cbscode_buurt                                    Geometrie_buurt  \\\n",
       "43358    BU0363NF03  SRID=28992;POLYGON ((124220.063 489566.41, 124...   \n",
       "26457    BU0363KJ01  SRID=28992;POLYGON ((120271.717 484962.66, 120...   \n",
       "33314    BU0363EB09  SRID=28992;POLYGON ((120386.946 488993.61, 120...   \n",
       "34297    BU0363EH02  SRID=28992;POLYGON ((120128.615 488766.03, 119...   \n",
       "18470    BU0363TG02  SRID=28992;POLYGON ((127167.415 481588.127, 12...   \n",
       "\n",
       "                              Naam_wijk Code_wijk Cbscode_wijk  \\\n",
       "43358  Nieuwendammerdijk/Buiksloterdijk        NF     WK0363NF   \n",
       "26457                       Apollobuurt        KJ     WK0363KJ   \n",
       "33314  Spaarndammerbuurt/Zeeheldenbuurt        EB     WK0363EB   \n",
       "34297                 Staatsliedenbuurt        EH     WK0363EH   \n",
       "18470                     Bijlmermuseum        TG     WK0363TG   \n",
       "\n",
       "                                          Geometrie_wijk  \n",
       "43358  SRID=28992;POLYGON((124627.886 489359.874,1246...  \n",
       "26457  SRID=28992;POLYGON((120868.184 484624.849,1207...  \n",
       "33314  SRID=28992;POLYGON((120858.696 489329.761,1208...  \n",
       "34297  SRID=28992;POLYGON((120441.569 488350.659,1204...  \n",
       "18470  SRID=28992;POLYGON((127640.202 481122.04,12762...  \n",
       "\n",
       "[5 rows x 29 columns]"
      ]
     },
     "metadata": {},
     "output_type": "display_data"
    },
    {
     "name": "stdout",
     "output_type": "stream",
     "text": [
      "Index(['Id', 'buurt_id', 'Geometrie', 'Typebeheerderplus',\n",
      "       'Boomhoogteklasseactueel', 'Typeeigenaarplus', 'Jaarvanaanleg',\n",
      "       'Soortnaam', 'Typeobject', 'Typesoortnaam', 'Soortnaamkort',\n",
      "       'Soortnaamtop', 'growth_ground', 'tree_height', 'tree_admin',\n",
      "       'tree_municipality', 'species', 'species_group', 'tree_treatment',\n",
      "       'plant_type', 'wijk_id', 'Naam_buurt', 'Code_buurt', 'Cbscode_buurt',\n",
      "       'Geometrie_buurt', 'Naam_wijk', 'Code_wijk', 'Cbscode_wijk',\n",
      "       'Geometrie_wijk'],\n",
      "      dtype='object')\n"
     ]
    }
   ],
   "source": [
    "df_with_location = pd.merge(df_trees, df_location_data, on=buurt_id_column)\n",
    "display(df_with_location.sample(10).head())\n",
    "print(df_with_location.columns)"
   ]
  },
  {
   "cell_type": "code",
   "execution_count": 23,
   "metadata": {},
   "outputs": [],
   "source": [
    "# parking data\n",
    "df_parking = pd.read_csv('data/parking_data_amsterdam.csv')\n"
   ]
  },
  {
   "cell_type": "code",
   "execution_count": 24,
   "metadata": {},
   "outputs": [
    {
     "name": "stdout",
     "output_type": "stream",
     "text": [
      "shape of parking dataset: (266622, 9)\n",
      "columns: Index(['WKT', 'id', 'buurtcode', 'straatnaam', 'type', 'soort', 'e_type',\n",
      "       'aantal', 'versiedatum'],\n",
      "      dtype='object')\n",
      "    Code_buurt  parked_cars_in_neighbourhood\n",
      "0         KQ05                          2986\n",
      "1         KR03                          2385\n",
      "2         FH02                          2373\n",
      "3         FA03                          2348\n",
      "4         MN03                          2231\n",
      "..         ...                           ...\n",
      "497       AD08                             7\n",
      "498       TA05                             6\n",
      "499       NQ07                             4\n",
      "500       FN03                             4\n",
      "501       MP02                             2\n",
      "\n",
      "[502 rows x 2 columns]\n"
     ]
    }
   ],
   "source": [
    "# some info about this dataset\n",
    "print(f'shape of parking dataset: {df_parking.shape}')\n",
    "print(f'columns: {df_parking.columns}')\n",
    "parking_count_per_buurt = df_parking['buurtcode'].value_counts()\n",
    "parking_per_neighbourhood = pd.DataFrame({\n",
    "    'Code_buurt': parking_count_per_buurt.index,\n",
    "    'parked_cars_in_neighbourhood': parking_count_per_buurt.values\n",
    "})\n",
    "print(parking_per_neighbourhood)\n"
   ]
  },
  {
   "cell_type": "code",
   "execution_count": 27,
   "metadata": {},
   "outputs": [
    {
     "data": {
      "text/html": [
       "<div>\n",
       "<style scoped>\n",
       "    .dataframe tbody tr th:only-of-type {\n",
       "        vertical-align: middle;\n",
       "    }\n",
       "\n",
       "    .dataframe tbody tr th {\n",
       "        vertical-align: top;\n",
       "    }\n",
       "\n",
       "    .dataframe thead th {\n",
       "        text-align: right;\n",
       "    }\n",
       "</style>\n",
       "<table border=\"1\" class=\"dataframe\">\n",
       "  <thead>\n",
       "    <tr style=\"text-align: right;\">\n",
       "      <th></th>\n",
       "      <th>Id</th>\n",
       "      <th>buurt_id</th>\n",
       "      <th>Geometrie</th>\n",
       "      <th>Typebeheerderplus</th>\n",
       "      <th>Boomhoogteklasseactueel</th>\n",
       "      <th>Typeeigenaarplus</th>\n",
       "      <th>Jaarvanaanleg</th>\n",
       "      <th>Soortnaam</th>\n",
       "      <th>Typeobject</th>\n",
       "      <th>Typesoortnaam</th>\n",
       "      <th>...</th>\n",
       "      <th>wijk_id</th>\n",
       "      <th>Naam_buurt</th>\n",
       "      <th>Code_buurt</th>\n",
       "      <th>Cbscode_buurt</th>\n",
       "      <th>Geometrie_buurt</th>\n",
       "      <th>Naam_wijk</th>\n",
       "      <th>Code_wijk</th>\n",
       "      <th>Cbscode_wijk</th>\n",
       "      <th>Geometrie_wijk</th>\n",
       "      <th>parked_cars_in_neighbourhood</th>\n",
       "    </tr>\n",
       "  </thead>\n",
       "  <tbody>\n",
       "    <tr>\n",
       "      <th>14066</th>\n",
       "      <td>965880</td>\n",
       "      <td>3.630980e+12</td>\n",
       "      <td>SRID=28992;POINT (128209.13 478752.73)</td>\n",
       "      <td>R&amp;E_VOR_Bomen</td>\n",
       "      <td>d. 12 tot 15 m.</td>\n",
       "      <td>Gemeente Amsterdam</td>\n",
       "      <td>1990.0</td>\n",
       "      <td>Acer saccharinum</td>\n",
       "      <td>Boom niet vrij uitgroeiend</td>\n",
       "      <td>Bomen</td>\n",
       "      <td>...</td>\n",
       "      <td>3630970000117</td>\n",
       "      <td>Gein 4</td>\n",
       "      <td>TM04</td>\n",
       "      <td>BU0363TM04</td>\n",
       "      <td>SRID=28992;POLYGON ((128603.815 478241.28, 128...</td>\n",
       "      <td>Gein</td>\n",
       "      <td>TM</td>\n",
       "      <td>WK0363TM</td>\n",
       "      <td>SRID=28992;POLYGON((128710.211 478582.637,1287...</td>\n",
       "      <td>1642</td>\n",
       "    </tr>\n",
       "    <tr>\n",
       "      <th>28183</th>\n",
       "      <td>1005518</td>\n",
       "      <td>3.630980e+12</td>\n",
       "      <td>SRID=28992;POINT (120989.47 481975.48)</td>\n",
       "      <td>R&amp;E_VOR_Bomen</td>\n",
       "      <td>a. tot 6 m.</td>\n",
       "      <td>Gemeente Amsterdam</td>\n",
       "      <td>1966.0</td>\n",
       "      <td>Malus floribunda</td>\n",
       "      <td>Boom niet vrij uitgroeiend</td>\n",
       "      <td>Bomen</td>\n",
       "      <td>...</td>\n",
       "      <td>3630970000070</td>\n",
       "      <td>Buitenveldert-Zuidoost</td>\n",
       "      <td>KR03</td>\n",
       "      <td>BU0363KR03</td>\n",
       "      <td>SRID=28992;POLYGON ((121106.124 482500.747, 12...</td>\n",
       "      <td>Buitenveldert-Oost</td>\n",
       "      <td>KR</td>\n",
       "      <td>WK0363KR</td>\n",
       "      <td>SRID=28992;POLYGON((121706.41 482874.35,121615...</td>\n",
       "      <td>2385</td>\n",
       "    </tr>\n",
       "    <tr>\n",
       "      <th>29365</th>\n",
       "      <td>1008600</td>\n",
       "      <td>3.630980e+12</td>\n",
       "      <td>SRID=28992;POINT (118678.4 489470.74)</td>\n",
       "      <td>R&amp;E_VOR_Bomen</td>\n",
       "      <td>d. 12 tot 15 m.</td>\n",
       "      <td>Gemeente Amsterdam</td>\n",
       "      <td>1964.0</td>\n",
       "      <td>Ulmus hollandica 'Vegeta'</td>\n",
       "      <td>Boom niet vrij uitgroeiend</td>\n",
       "      <td>Bomen</td>\n",
       "      <td>...</td>\n",
       "      <td>3630970000020</td>\n",
       "      <td>Contactbuurt</td>\n",
       "      <td>EA02</td>\n",
       "      <td>BU0363EA02</td>\n",
       "      <td>SRID=28992;POLYGON ((118942.25 489501.497, 118...</td>\n",
       "      <td>Sloterdijk-West</td>\n",
       "      <td>EA</td>\n",
       "      <td>WK0363EA</td>\n",
       "      <td>SRID=28992;POLYGON((118942.25 489501.497,11892...</td>\n",
       "      <td>795</td>\n",
       "    </tr>\n",
       "    <tr>\n",
       "      <th>65713</th>\n",
       "      <td>1113753</td>\n",
       "      <td>3.630980e+12</td>\n",
       "      <td>SRID=28992;POINT (122572.374026477 488419.4410...</td>\n",
       "      <td>R&amp;E_VOR_Bomen</td>\n",
       "      <td>e. 15 tot 18 m.</td>\n",
       "      <td>Gemeente Amsterdam</td>\n",
       "      <td>1965.0</td>\n",
       "      <td>Platanus orientalis 'Digitata'</td>\n",
       "      <td>Boom niet vrij uitgroeiend</td>\n",
       "      <td>Bomen</td>\n",
       "      <td>...</td>\n",
       "      <td>3630970000096</td>\n",
       "      <td>IJplein e.o.</td>\n",
       "      <td>NL04</td>\n",
       "      <td>BU0363NL04</td>\n",
       "      <td>SRID=28992;POLYGON ((123120.354 488731.458, 12...</td>\n",
       "      <td>IJplein/Vogelbuurt</td>\n",
       "      <td>NL</td>\n",
       "      <td>WK0363NL</td>\n",
       "      <td>SRID=28992;POLYGON((123460.458 488957.324,1235...</td>\n",
       "      <td>1187</td>\n",
       "    </tr>\n",
       "    <tr>\n",
       "      <th>60337</th>\n",
       "      <td>1100387</td>\n",
       "      <td>3.630980e+12</td>\n",
       "      <td>SRID=28992;POINT (114971.66 486849.08)</td>\n",
       "      <td>R&amp;E_VOR_Bomen</td>\n",
       "      <td>b. 6 tot 9 m.</td>\n",
       "      <td>Gemeente Amsterdam</td>\n",
       "      <td>2014.0</td>\n",
       "      <td>Tilia europaea</td>\n",
       "      <td>Boom niet vrij uitgroeiend</td>\n",
       "      <td>Bomen</td>\n",
       "      <td>...</td>\n",
       "      <td>3630970000045</td>\n",
       "      <td>Ookmeer</td>\n",
       "      <td>FF02</td>\n",
       "      <td>BU0363FF02</td>\n",
       "      <td>SRID=28992;POLYGON ((115370.192 487357.932, 11...</td>\n",
       "      <td>Lutkemeer/Ookmeer</td>\n",
       "      <td>FF</td>\n",
       "      <td>WK0363FF</td>\n",
       "      <td>SRID=28992;POLYGON((115370.192 487357.932,1150...</td>\n",
       "      <td>1176</td>\n",
       "    </tr>\n",
       "  </tbody>\n",
       "</table>\n",
       "<p>5 rows × 30 columns</p>\n",
       "</div>"
      ],
      "text/plain": [
       "            Id      buurt_id  \\\n",
       "14066   965880  3.630980e+12   \n",
       "28183  1005518  3.630980e+12   \n",
       "29365  1008600  3.630980e+12   \n",
       "65713  1113753  3.630980e+12   \n",
       "60337  1100387  3.630980e+12   \n",
       "\n",
       "                                               Geometrie Typebeheerderplus  \\\n",
       "14066             SRID=28992;POINT (128209.13 478752.73)     R&E_VOR_Bomen   \n",
       "28183             SRID=28992;POINT (120989.47 481975.48)     R&E_VOR_Bomen   \n",
       "29365              SRID=28992;POINT (118678.4 489470.74)     R&E_VOR_Bomen   \n",
       "65713  SRID=28992;POINT (122572.374026477 488419.4410...     R&E_VOR_Bomen   \n",
       "60337             SRID=28992;POINT (114971.66 486849.08)     R&E_VOR_Bomen   \n",
       "\n",
       "      Boomhoogteklasseactueel    Typeeigenaarplus  Jaarvanaanleg  \\\n",
       "14066         d. 12 tot 15 m.  Gemeente Amsterdam         1990.0   \n",
       "28183             a. tot 6 m.  Gemeente Amsterdam         1966.0   \n",
       "29365         d. 12 tot 15 m.  Gemeente Amsterdam         1964.0   \n",
       "65713         e. 15 tot 18 m.  Gemeente Amsterdam         1965.0   \n",
       "60337           b. 6 tot 9 m.  Gemeente Amsterdam         2014.0   \n",
       "\n",
       "                            Soortnaam                  Typeobject  \\\n",
       "14066                Acer saccharinum  Boom niet vrij uitgroeiend   \n",
       "28183                Malus floribunda  Boom niet vrij uitgroeiend   \n",
       "29365       Ulmus hollandica 'Vegeta'  Boom niet vrij uitgroeiend   \n",
       "65713  Platanus orientalis 'Digitata'  Boom niet vrij uitgroeiend   \n",
       "60337                  Tilia europaea  Boom niet vrij uitgroeiend   \n",
       "\n",
       "      Typesoortnaam  ...        wijk_id              Naam_buurt Code_buurt  \\\n",
       "14066         Bomen  ...  3630970000117                  Gein 4       TM04   \n",
       "28183         Bomen  ...  3630970000070  Buitenveldert-Zuidoost       KR03   \n",
       "29365         Bomen  ...  3630970000020            Contactbuurt       EA02   \n",
       "65713         Bomen  ...  3630970000096            IJplein e.o.       NL04   \n",
       "60337         Bomen  ...  3630970000045                 Ookmeer       FF02   \n",
       "\n",
       "       Cbscode_buurt                                    Geometrie_buurt  \\\n",
       "14066     BU0363TM04  SRID=28992;POLYGON ((128603.815 478241.28, 128...   \n",
       "28183     BU0363KR03  SRID=28992;POLYGON ((121106.124 482500.747, 12...   \n",
       "29365     BU0363EA02  SRID=28992;POLYGON ((118942.25 489501.497, 118...   \n",
       "65713     BU0363NL04  SRID=28992;POLYGON ((123120.354 488731.458, 12...   \n",
       "60337     BU0363FF02  SRID=28992;POLYGON ((115370.192 487357.932, 11...   \n",
       "\n",
       "                Naam_wijk Code_wijk Cbscode_wijk  \\\n",
       "14066                Gein        TM     WK0363TM   \n",
       "28183  Buitenveldert-Oost        KR     WK0363KR   \n",
       "29365     Sloterdijk-West        EA     WK0363EA   \n",
       "65713  IJplein/Vogelbuurt        NL     WK0363NL   \n",
       "60337   Lutkemeer/Ookmeer        FF     WK0363FF   \n",
       "\n",
       "                                          Geometrie_wijk  \\\n",
       "14066  SRID=28992;POLYGON((128710.211 478582.637,1287...   \n",
       "28183  SRID=28992;POLYGON((121706.41 482874.35,121615...   \n",
       "29365  SRID=28992;POLYGON((118942.25 489501.497,11892...   \n",
       "65713  SRID=28992;POLYGON((123460.458 488957.324,1235...   \n",
       "60337  SRID=28992;POLYGON((115370.192 487357.932,1150...   \n",
       "\n",
       "      parked_cars_in_neighbourhood  \n",
       "14066                         1642  \n",
       "28183                         2385  \n",
       "29365                          795  \n",
       "65713                         1187  \n",
       "60337                         1176  \n",
       "\n",
       "[5 rows x 30 columns]"
      ]
     },
     "metadata": {},
     "output_type": "display_data"
    }
   ],
   "source": [
    "df_with_parking = pd.merge(\n",
    "    df_with_location, \n",
    "    parking_per_neighbourhood,\n",
    "    on='Code_buurt'\n",
    ")\n",
    "display(df_with_parking.sample(10).head())"
   ]
  },
  {
   "cell_type": "code",
   "execution_count": null,
   "metadata": {},
   "outputs": [],
   "source": []
  }
 ],
 "metadata": {
  "kernelspec": {
   "display_name": "venv",
   "language": "python",
   "name": "python3"
  },
  "language_info": {
   "codemirror_mode": {
    "name": "ipython",
    "version": 3
   },
   "file_extension": ".py",
   "mimetype": "text/x-python",
   "name": "python",
   "nbconvert_exporter": "python",
   "pygments_lexer": "ipython3",
   "version": "3.12.2"
  }
 },
 "nbformat": 4,
 "nbformat_minor": 2
}
