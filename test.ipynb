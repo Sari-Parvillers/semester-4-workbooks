{
 "cells": [
  {
   "cell_type": "code",
   "execution_count": 2,
   "metadata": {},
   "outputs": [
    {
     "data": {
      "text/plain": [
       "263992"
      ]
     },
     "execution_count": 2,
     "metadata": {},
     "output_type": "execute_result"
    }
   ],
   "source": [
    "nums = '''\n",
    "38452\n",
    "14792\n",
    "14134\n",
    "12423\n",
    "11789\n",
    "8419\n",
    "7761\n",
    "7705\n",
    "7426\n",
    "7157\n",
    "7079\n",
    "6315\n",
    "5835\n",
    "5251\n",
    "5214\n",
    "5001\n",
    "4936\n",
    "4398\n",
    "4084\n",
    "4077\n",
    "3854\n",
    "3821\n",
    "3801\n",
    "3766\n",
    "3710\n",
    "3602\n",
    "3487\n",
    "3136\n",
    "3092\n",
    "3016\n",
    "2842\n",
    "2788\n",
    "2741\n",
    "2646\n",
    "2520\n",
    "2473\n",
    "2434\n",
    "2413\n",
    "2373\n",
    "2354\n",
    "2337\n",
    "2294\n",
    "2094\n",
    "2011\n",
    "1939\n",
    "1859\n",
    "1736\n",
    "1727\n",
    "1680\n",
    "1656\n",
    "1542'''\n",
    "\n",
    "nums = nums.split()\n",
    "\n",
    "sum(map(int, nums))"
   ]
  }
 ],
 "metadata": {
  "kernelspec": {
   "display_name": "venv",
   "language": "python",
   "name": "python3"
  },
  "language_info": {
   "codemirror_mode": {
    "name": "ipython",
    "version": 3
   },
   "file_extension": ".py",
   "mimetype": "text/x-python",
   "name": "python",
   "nbconvert_exporter": "python",
   "pygments_lexer": "ipython3",
   "version": "3.12.2"
  }
 },
 "nbformat": 4,
 "nbformat_minor": 2
}
