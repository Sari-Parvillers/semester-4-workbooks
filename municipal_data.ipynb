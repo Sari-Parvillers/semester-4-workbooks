{
 "cells": [
  {
   "cell_type": "code",
   "execution_count": 36,
   "metadata": {},
   "outputs": [],
   "source": [
    "import pandas as pd\n",
    "import numpy as np\n",
    "import matplotlib.pyplot as plt\n",
    "import seaborn as sns\n",
    "import requests"
   ]
  },
  {
   "cell_type": "markdown",
   "metadata": {},
   "source": [
    "### Overview\n",
    "\n"
   ]
  },
  {
   "cell_type": "markdown",
   "metadata": {},
   "source": [
    "### Part 1: Priming the data\n",
    "\n",
    "Different datasets have certain marker values associated with certain locations at different levels (e.g., the neighbourhood level or sub-district level). These values are essential for merging datasets (for example, one dataset may contain a neighbourhood's number of cars, and another a tree and which neighbourhood it is in)\n",
    "\n",
    "Not every dataset uses the same marker values, and these marker values can have different column names, so I first need to standardise it all. I'm also making some functions that will streamline the data cleaning process a bit."
   ]
  },
  {
   "cell_type": "code",
   "execution_count": 37,
   "metadata": {},
   "outputs": [],
   "source": [
    "# functions for data cleaning\n",
    "# return the proportion of nan each column in the data\n",
    "def na_proportion(series: pd.Series):\n",
    "    return series.isna().sum() / len(series)\n",
    "\n",
    "# returns a dataframe without the columns that have higher proportion of na \n",
    "# than threshold. The reason I'm doing this is because drop.na could remove\n",
    "# very large amounts of data just due to one a column being mostly nans. So\n",
    "# columns full of nans get removed. \n",
    "# default threshold: 40% of nan means removal\n",
    "def stripped_threshold_na_columns(df: pd.DataFrame, threshold = 0.4):\n",
    "    df_return = pd.DataFrame()\n",
    "    for column in df.columns:\n",
    "        if na_proportion(df[column]) < threshold:\n",
    "            df_return[column] = df[column]\n",
    "    return df_return\n",
    "\n",
    "# if a value occurs less than n times in a series, replace it with placeholder\n",
    "def replace_less_than_n_values(series: pd.Series, n = 10, placeholder = np.nan):\n",
    "    value_counts = series.value_counts()\n",
    "    values_to_replace = value_counts[value_counts < n].index\n",
    "    return series.replace(to_replace=values_to_replace, value=placeholder)\n",
    "\n",
    "# returns the n most common values in a series (by default the 10 most common)\n",
    "def most_common_n_values(series: pd.Series, n = 10):\n",
    "    return series.value_counts()[:n].index.tolist()\n",
    "\n",
    "\n",
    "# return a series with its least common values converted to a different value\n",
    "# nans are also replaceable\n",
    "# by default, the string 'other'\n",
    "def otherise(value, most_common_values, other, nan_replace):\n",
    "    if value in most_common_values:\n",
    "        return value\n",
    "    if value is np.nan:\n",
    "        return nan_replace\n",
    "    return other\n",
    "\n",
    "def otherise_less_common_values(\n",
    "        series: pd.Series, \n",
    "        most_common_values, \n",
    "        other='other', \n",
    "        nan_replace = np.nan\n",
    "    ):\n",
    "    return series.apply(\n",
    "        lambda value: otherise(value, most_common_values, other, nan_replace)\n",
    "    )\n"
   ]
  },
  {
   "cell_type": "code",
   "execution_count": 38,
   "metadata": {},
   "outputs": [],
   "source": [
    "# tree data\n",
    "df_trees = pd.read_csv('data/bomen-stamgegevens-2024-03-12T09 06 04.036291.csv')\n",
    "# amsterdam neighbourhood meta data, i.e. matching neighbourhood name with ID\n",
    "df_buurt_meta = pd.read_csv('data/gebieden-buurten-2024-03-12T12 09 07.653588.csv')\n",
    "# amsterdam sub-district meta data, to match each neighbourhood with its district\n",
    "df_wijk_meta = pd.read_csv('data/gebieden_wijken.csv')"
   ]
  },
  {
   "cell_type": "code",
   "execution_count": 39,
   "metadata": {},
   "outputs": [],
   "source": [
    "# standardise names of neighbourhood id column so we can merge on that column\n",
    "buurt_id_column = 'buurt_id'\n",
    "wijk_id_column = 'wijk_id'\n",
    "\n",
    "# rename buurt id columns in all datasets to be the same for merging\n",
    "df_buurt_meta = df_buurt_meta.rename(\n",
    "    columns={'Identificatie': buurt_id_column}\n",
    ")\n",
    "df_trees = df_trees.rename(\n",
    "    columns={'Gbdbuurtid': buurt_id_column}\n",
    ")\n",
    "\n",
    "# rename wijk id columns in all datasets to be the same for merging\n",
    "df_buurt_meta = df_buurt_meta.rename(\n",
    "    columns={'Ligtinwijkid': wijk_id_column}\n",
    ")\n",
    "df_wijk_meta = df_wijk_meta.rename(\n",
    "    columns={'Identificatie': wijk_id_column}\n",
    ")\n"
   ]
  },
  {
   "cell_type": "code",
   "execution_count": 40,
   "metadata": {},
   "outputs": [],
   "source": [
    "# match each buurt (neighbourhood) with its associated wijk (sub-district)\n",
    "df_buurt_simple = df_buurt_meta[[\n",
    "    buurt_id_column, wijk_id_column, 'Naam', 'Code', 'Cbscode', 'Geometrie'\n",
    "]]\n",
    "\n",
    "df_buurt_simple = df_buurt_simple.rename(\n",
    "    columns={\n",
    "        'Naam': 'Naam_buurt',\n",
    "        'Code': 'Code_buurt',\n",
    "        'Cbscode': 'Cbscode_buurt',\n",
    "        'Geometrie': 'Geometrie_buurt'\n",
    "    }\n",
    ")\n",
    "\n",
    "df_wijk_simple = df_wijk_meta[[\n",
    "    wijk_id_column, 'Naam', 'Code', 'Cbscode', 'Geometrie'\n",
    "]]\n",
    "\n",
    "df_wijk_simple = df_wijk_simple.rename(\n",
    "    columns={\n",
    "        'Naam': 'Naam_wijk',\n",
    "        'Code': 'Code_wijk',\n",
    "        'Cbscode': 'Cbscode_wijk',\n",
    "        'Geometrie': 'Geometrie_wijk'\n",
    "    }\n",
    ")\n",
    "\n",
    "df_location_data = pd.merge(df_buurt_simple, df_wijk_simple, on=wijk_id_column)"
   ]
  },
  {
   "cell_type": "markdown",
   "metadata": {},
   "source": [
    "Now we can merge datasets based on shared location markers. Yay!"
   ]
  },
  {
   "cell_type": "markdown",
   "metadata": {},
   "source": [
    "### Part 2: Tree data\n",
    "\n",
    "I am making a dataset which contains a list of trees from Amsterdam's tree census and some information associated with each tree. This is the cleaning up of that data."
   ]
  },
  {
   "cell_type": "markdown",
   "metadata": {},
   "source": [
    "#### Removing columns with too many nans, then removing nans\n",
    "To prevent removing too much data, I'm discarding columns that have too many nans (the diameter column for example), making exceptions only for interesting data.\n",
    "\n",
    "Then I remove any row with a nan value for the model.\n",
    "\n",
    "It's possible that I'm skewing the data in a way that will affect my model (example: maybe there is a specific relationship between height and species that's only found in trees that also have a nan value somewhere) but I don't have time to look at that and it's probably beyond the requirements of the assignment."
   ]
  },
  {
   "cell_type": "code",
   "execution_count": 41,
   "metadata": {},
   "outputs": [
    {
     "name": "stdout",
     "output_type": "stream",
     "text": [
      "shape before dropna: (286909, 14)\n",
      "shape after dropna: (28211, 14)\n"
     ]
    }
   ],
   "source": [
    "# clean up tree data\n",
    "# removing nans\n",
    "# we want to remove columns that have too many nans so that we don't reduce\n",
    "# the entire dataset too much by using .dropna\n",
    "# I make exceptions for growth ground and diameter statistics since these seem\n",
    "# useful for certain models\n",
    "growth_ground = df_trees['Standplaatsgedetailleerd']\n",
    "diameter = df_trees['Stamdiameterklasse']\n",
    "\n",
    "print(f'shape before dropna: {df_trees.shape}')\n",
    "\n",
    "df_trees = stripped_threshold_na_columns(df_trees)\n",
    "df_trees['growth_ground'] = growth_ground\n",
    "df_trees['diameter'] = diameter\n",
    "df_trees.dropna(inplace=True)\n",
    "\n",
    "print(f'shape after dropna: {df_trees.shape}')\n"
   ]
  },
  {
   "cell_type": "markdown",
   "metadata": {},
   "source": [
    "#### Height data\n",
    "\n",
    "Height data is unfortunately not recorded exactly but given as an estimated range (like \"between 6 and 9\").\n",
    "\n",
    "I'm going to store height in two ways: in one instance I will take the average (so between 6 and 9 gives me 7.5), in anotehr instance I will take a random value (so a random value between 6 and 9).\n",
    "\n",
    "I will try running a model for both the \"fixed\" value and the \"random\" values, I am curious what that will result in."
   ]
  },
  {
   "cell_type": "code",
   "execution_count": 42,
   "metadata": {},
   "outputs": [],
   "source": [
    "# height\n",
    "# we only have estimation measures for tree height (like \"6 tot 9 m.\") :(\n",
    "# There are some limitations from applying a linear regression model\n",
    "# to height that is calculated this way.\n",
    "def extract_height_data(data):\n",
    "    if data == 'a. tot 6 m.':\n",
    "        return 3\n",
    "    if data == 'b. 6 tot 9 m.':\n",
    "        return 7.5\n",
    "    if data == 'c. 9 tot 12 m.':\n",
    "        return 10.5\n",
    "    if data == 'd. 12 tot 15 m.':\n",
    "        return 13.5\n",
    "    if data == 'e. 15 tot 18 m.':\n",
    "        return 16.5\n",
    "    if data == 'f. 18 tot 24 m.':\n",
    "        return 21\n",
    "    if data == 'g. 24 m. en hoger':\n",
    "        return 24\n",
    "    # if not any of the above return nan\n",
    "    return np.nan\n",
    "\n",
    "df_trees['tree_height_fixed'] = df_trees['Boomhoogteklasseactueel'].apply(\n",
    "    lambda x: extract_height_data(x)\n",
    ")\n",
    "\n",
    "df_trees.dropna(inplace=True)\n",
    "\n",
    "\n"
   ]
  },
  {
   "cell_type": "code",
   "execution_count": 43,
   "metadata": {},
   "outputs": [],
   "source": [
    "import random\n",
    "def extract_height_data_randomised(data):\n",
    "    if data == 'a. tot 6 m.':\n",
    "        return random.uniform(0, 6)\n",
    "    if data == 'b. 6 tot 9 m.':\n",
    "        return random.uniform(6, 9)\n",
    "    if data == 'c. 9 tot 12 m.':\n",
    "        return random.uniform(9, 12)\n",
    "    if data == 'd. 12 tot 15 m.':\n",
    "        return random.uniform(12, 15)\n",
    "    if data == 'e. 15 tot 18 m.':\n",
    "        return random.uniform(15, 18)\n",
    "    if data == 'f. 18 tot 24 m.':\n",
    "        return random.uniform(18, 24)\n",
    "    if data == 'g. 24 m. en hoger':\n",
    "        return random.uniform(24, 30)\n",
    "    # if not any of the above return nan\n",
    "    return np.nan\n",
    "\n",
    "df_trees['tree_height_random'] = df_trees['Boomhoogteklasseactueel'].apply(\n",
    "    lambda x: extract_height_data_randomised(x)\n",
    ")"
   ]
  },
  {
   "cell_type": "code",
   "execution_count": 44,
   "metadata": {},
   "outputs": [
    {
     "data": {
      "image/png": "[encoded data removed]",
      "text/plain": [
       "<Figure size 640x480 with 1 Axes>"
      ]
     },
     "metadata": {},
     "output_type": "display_data"
    }
   ],
   "source": [
    "sns.histplot(df_trees['tree_height_fixed'])\n",
    "plt.title(\"Histogram of tree height frequency (fixed)\")\n",
    "plt.xlabel(\"Height (m)\")\n",
    "plt.ylabel(\"Frequency\")# visualise tree height distribution\n",
    "plt.show()\n"
   ]
  },
  {
   "cell_type": "code",
   "execution_count": 45,
   "metadata": {},
   "outputs": [
    {
     "data": {
      "image/png": "[encoded data removed]",
      "text/plain": [
       "<Figure size 640x480 with 1 Axes>"
      ]
     },
     "metadata": {},
     "output_type": "display_data"
    }
   ],
   "source": [
    "sns.histplot(df_trees['tree_height_random'])\n",
    "plt.title(\"Histogram of tree height frequency (randomised)\")\n",
    "plt.xlabel(\"Height (m)\")\n",
    "plt.ylabel(\"Frequency\")# visualise tree height distribution\n",
    "plt.show()\n"
   ]
  },
  {
   "cell_type": "markdown",
   "metadata": {},
   "source": [
    "##### Shape of height data\n",
    "\n",
    "It looks like a left-skewed, normal-ish distribution. I would guess that if the data contained the actual height of trees, the data would look a bit more like a normal distribution."
   ]
  },
  {
   "cell_type": "markdown",
   "metadata": {},
   "source": [
    "### Diameter\n",
    "Similar cleaning process for diameter"
   ]
  },
  {
   "cell_type": "code",
   "execution_count": 46,
   "metadata": {},
   "outputs": [
    {
     "data": {
      "text/plain": [
       "diameter\n",
       "0,1 tot 0,2 m.    9444\n",
       "0,3 tot 0,5 m.    7470\n",
       "0,2 tot 0,3 m.    6807\n",
       "0,5 tot 1 m.      3847\n",
       "1,0 tot 1,5 m.     302\n",
       "Name: count, dtype: int64"
      ]
     },
     "execution_count": 46,
     "metadata": {},
     "output_type": "execute_result"
    }
   ],
   "source": [
    "df_trees['diameter'].value_counts()"
   ]
  },
  {
   "cell_type": "code",
   "execution_count": 47,
   "metadata": {},
   "outputs": [
    {
     "data": {
      "text/plain": [
       "diameter\n",
       "0.15    9444\n",
       "0.40    7470\n",
       "0.25    6807\n",
       "0.75    3847\n",
       "1.25     302\n",
       "Name: count, dtype: int64"
      ]
     },
     "execution_count": 47,
     "metadata": {},
     "output_type": "execute_result"
    }
   ],
   "source": [
    "def extract_diameter_data(diameter):\n",
    "    if diameter == '0,1 tot 0,2 m.':\n",
    "        return 0.15\n",
    "    if diameter == '0,2 tot 0,3 m.':\n",
    "        return 0.25\n",
    "    if diameter == '0,3 tot 0,5 m.':\n",
    "        return 0.4\n",
    "    if diameter == '0,5 tot 1 m.':\n",
    "        return 0.75\n",
    "    if diameter == '1,0 tot 1,5 m.':\n",
    "        return 1.25\n",
    "\n",
    "df_trees['diameter'] = df_trees['diameter'].apply(\n",
    "    lambda x: extract_diameter_data(x)\n",
    ")\n",
    "\n",
    "df_trees['diameter'].value_counts()"
   ]
  },
  {
   "cell_type": "code",
   "execution_count": 48,
   "metadata": {},
   "outputs": [
    {
     "name": "stdout",
     "output_type": "stream",
     "text": [
      "buurt_id\n",
      "3.630980e+12    1880\n",
      "3.630980e+12    1111\n",
      "3.630980e+12     820\n",
      "3.630980e+12     653\n",
      "3.630980e+12     615\n",
      "                ... \n",
      "3.630980e+12       1\n",
      "3.630980e+12       1\n",
      "3.630980e+12       1\n",
      "3.630980e+12       1\n",
      "3.630980e+12       1\n",
      "Name: count, Length: 250, dtype: int64\n"
     ]
    }
   ],
   "source": [
    "# neighbourhood that tree is in (ID)\n",
    "print(df_trees['buurt_id'].value_counts())"
   ]
  },
  {
   "cell_type": "code",
   "execution_count": 49,
   "metadata": {},
   "outputs": [
    {
     "name": "stdout",
     "output_type": "stream",
     "text": [
      "Typebeheerderplus\n",
      "R&E_VOR_Bomen                     26264\n",
      "Recreatieschap Noord-Holland       1384\n",
      "R&E_VOR_Groen                        82\n",
      "Gemeente Amsterdam, rve Sport        74\n",
      "Rijkswaterstaat                      24\n",
      "Gemeentelijk Vastgoed                17\n",
      "Stichting                             8\n",
      "Havenbedrijf                          6\n",
      "Amsterdamse bos - eigen dienst        4\n",
      "Volkstuinpark                         3\n",
      "Woningcorporatie                      2\n",
      "Schooltuinen                          1\n",
      "Natuurlijk persoon                    1\n",
      "Name: count, dtype: int64\n",
      "proportion of nan for admin after removal: 0.0\n"
     ]
    }
   ],
   "source": [
    "# tree administrator ('Typebeheerderplus')\n",
    "# categorical\n",
    "print(df_trees['Typebeheerderplus'].value_counts())\n",
    "admin_threshold = 15\n",
    "df_trees['tree_admin'] = replace_less_than_n_values(\n",
    "    df_trees['Typebeheerderplus'],\n",
    "    admin_threshold\n",
    ")\n",
    "print(f'proportion of nan for admin after removal: {na_proportion(df_trees['Typebeheerderplus'])}')\n",
    "\n",
    "df_trees.dropna(inplace=True)"
   ]
  },
  {
   "cell_type": "code",
   "execution_count": 50,
   "metadata": {},
   "outputs": [
    {
     "name": "stdout",
     "output_type": "stream",
     "text": [
      "tree_admin\n",
      "R&E_VOR_Bomen                    26264\n",
      "Recreatieschap Noord-Holland      1384\n",
      "R&E_VOR_Groen                       82\n",
      "Gemeente Amsterdam, rve Sport       74\n",
      "Rijkswaterstaat                     24\n",
      "Gemeentelijk Vastgoed               17\n",
      "Name: count, dtype: int64\n"
     ]
    }
   ],
   "source": [
    "print(df_trees['tree_admin'].value_counts())"
   ]
  },
  {
   "cell_type": "code",
   "execution_count": 51,
   "metadata": {},
   "outputs": [
    {
     "name": "stdout",
     "output_type": "stream",
     "text": [
      "Typeeigenaarplus\n",
      "Gemeente Amsterdam       25498\n",
      "Gemeente Weesp            2332\n",
      "Gemeente Diemen              8\n",
      "Gemeente Ouder-Amstel        7\n",
      "Name: count, dtype: int64\n"
     ]
    }
   ],
   "source": [
    "# municipality that owns the trees\n",
    "print(df_trees['Typeeigenaarplus'].value_counts())\n",
    "# the overwhelming majority of trees are owned by amsterdam.\n",
    "# let's have values for just \"amsterdam\" and \"not amsterdam\"\n",
    "amsterdam_ownership = ['Gemeente Amsterdam']\n",
    "df_trees['tree_municipality'] = otherise_less_common_values(\n",
    "    df_trees['Typeeigenaarplus'], amsterdam_ownership\n",
    ")"
   ]
  },
  {
   "cell_type": "code",
   "execution_count": 52,
   "metadata": {},
   "outputs": [
    {
     "data": {
      "text/plain": [
       "tree_municipality\n",
       "Gemeente Amsterdam    25498\n",
       "other                  2347\n",
       "Name: count, dtype: int64"
      ]
     },
     "execution_count": 52,
     "metadata": {},
     "output_type": "execute_result"
    }
   ],
   "source": [
    "df_trees['tree_municipality'].value_counts()"
   ]
  },
  {
   "cell_type": "code",
   "execution_count": 53,
   "metadata": {},
   "outputs": [
    {
     "name": "stdout",
     "output_type": "stream",
     "text": [
      "proportion of nan for planting year: 0.0\n",
      "Jaarvanaanleg\n",
      "1980.0    1708\n",
      "1970.0    1603\n",
      "1985.0    1590\n",
      "1996.0    1392\n",
      "1990.0    1101\n",
      "          ... \n",
      "1929.0       1\n",
      "1880.0       1\n",
      "1924.0       1\n",
      "2022.0       1\n",
      "1934.0       1\n",
      "Name: count, Length: 114, dtype: int64\n"
     ]
    }
   ],
   "source": [
    "# tree planting year\n",
    "print(\n",
    "    f'proportion of nan for planting year: {na_proportion(df_trees['Jaarvanaanleg'])}'\n",
    ")\n",
    "# not many nans :)\n",
    "print(df_trees['Jaarvanaanleg'].value_counts())\n",
    "# lots of zeros :(\n",
    "# Removing all the rows with nonsensical years\n",
    "year_threshold = 1500 # let's admit really old trees because they are awesome\n",
    "df_trees = df_trees[df_trees.Jaarvanaanleg > year_threshold]\n",
    "df_trees.rename(columns={\n",
    "    'Jaarvanaanleg': 'year_planted'\n",
    "}, inplace=True)\n"
   ]
  },
  {
   "cell_type": "code",
   "execution_count": 54,
   "metadata": {},
   "outputs": [],
   "source": [
    "df_trees['age'] = 2024 - df_trees['year_planted']"
   ]
  },
  {
   "cell_type": "code",
   "execution_count": 55,
   "metadata": {},
   "outputs": [
    {
     "data": {
      "text/plain": [
       "<Axes: xlabel='age', ylabel='Count'>"
      ]
     },
     "execution_count": 55,
     "metadata": {},
     "output_type": "execute_result"
    },
    {
     "data": {
      "image/png": "[encoded data removed]",
      "text/plain": [
       "<Figure size 640x480 with 1 Axes>"
      ]
     },
     "metadata": {},
     "output_type": "display_data"
    }
   ],
   "source": [
    "sns.histplot(df_trees['age'])"
   ]
  },
  {
   "cell_type": "code",
   "execution_count": 56,
   "metadata": {},
   "outputs": [
    {
     "name": "stdout",
     "output_type": "stream",
     "text": [
      "Soortnaam\n",
      "Fraxinus excelsior           953\n",
      "Alnus glutinosa              929\n",
      "Quercus robur                917\n",
      "Platanus hispanica           819\n",
      "Ulmus hollandica 'Vegeta'    780\n",
      "                            ... \n",
      "Malus atrosanguinea            1\n",
      "Malus 'Butterball'             1\n",
      "Catalpa ovata                  1\n",
      "Acer pensylvanicum             1\n",
      "Morus alba 'Pendula'           1\n",
      "Name: count, Length: 568, dtype: int64\n",
      "nan proportion Soortnaamkort: 0.0\n",
      "Soortnaamkort\n",
      "Tilia        3735\n",
      "Ulmus        3354\n",
      "Acer         2803\n",
      "Fraxinus     2371\n",
      "Alnus        1631\n",
      "             ... \n",
      "Aralia          1\n",
      "Toona           1\n",
      "Hibiscus        1\n",
      "Tetradium       1\n",
      "Nyssa           1\n",
      "Name: count, Length: 72, dtype: int64\n",
      "nan proportion Soortnaamtop: 0.0\n",
      "Soortnaamtop\n",
      "Linde (Tilia)     3735\n",
      "Iep (Ulmus)       3354\n",
      "Esdoorn (Acer)    2803\n",
      "Es (Fraxinus)     2371\n",
      "Els (Alnus)       1631\n",
      "                  ... \n",
      "Aralia               1\n",
      "Hibiscus             1\n",
      "Tetradium            1\n",
      "Nyssa                1\n",
      "Frangula             1\n",
      "Name: count, Length: 73, dtype: int64\n"
     ]
    }
   ],
   "source": [
    "# there are three columns for the species of the tree\n",
    "# Soortnaam: specific latin name species\n",
    "print(df_trees['Soortnaam'].value_counts())\n",
    "# Sortnaamkort/Sortnaamtop are for grouped species (they're the same)\n",
    "print(f'nan proportion Soortnaamkort: {na_proportion(df_trees['Soortnaamkort'])}')\n",
    "print(df_trees['Soortnaamkort'].value_counts())\n",
    "print(f'nan proportion Soortnaamtop: {na_proportion(df_trees['Soortnaamtop'])}')\n",
    "print(df_trees['Soortnaamtop'].value_counts())\n",
    "\n",
    "# let's choose both, even if they will by definition be highly correlated in some ways"
   ]
  },
  {
   "cell_type": "code",
   "execution_count": 57,
   "metadata": {},
   "outputs": [
    {
     "name": "stdout",
     "output_type": "stream",
     "text": [
      "number of species: (568,)\n",
      "number of species after removal: (242,)\n",
      "nan proportion Soortnaam after removal: 0.03937350445943006\n"
     ]
    }
   ],
   "source": [
    "# Soortnaam (exact species)\n",
    "# How many species are there?\n",
    "print(f'number of species: {df_trees['Soortnaam'].value_counts().shape}')\n",
    "# let's remove trees which species there are too few of\n",
    "species_threshold = 10\n",
    "df_trees['species'] = replace_less_than_n_values(\n",
    "    df_trees['Soortnaam'],\n",
    "    species_threshold\n",
    ")\n",
    "# how much did that remove?\n",
    "print(f'number of species after removal: {df_trees['species'].value_counts().shape}')\n",
    "print(f'nan proportion Soortnaam after removal: {na_proportion(df_trees['species'])}')\n",
    "df_trees.dropna(inplace=True)"
   ]
  },
  {
   "cell_type": "code",
   "execution_count": 58,
   "metadata": {},
   "outputs": [
    {
     "name": "stdout",
     "output_type": "stream",
     "text": [
      "number of species groups: (47,)\n",
      "nan proportion Soortnaamkort: 0.0\n",
      "number of species groups after removal: (47,)\n",
      "nan proportion species_group after removal: 0.0\n"
     ]
    }
   ],
   "source": [
    "# Soortnaamkort (species group)\n",
    "# How many groups are there?\n",
    "print(f'number of species groups: {df_trees['Soortnaamkort'].value_counts().shape}')\n",
    "# proportion of nan?\n",
    "print(f'nan proportion Soortnaamkort: {na_proportion(df_trees['Soortnaamkort'])}')\n",
    "# let's remove trees which species group there are too few of\n",
    "gr_species_threshold = 10\n",
    "df_trees['species_group'] = replace_less_than_n_values(\n",
    "    df_trees['Soortnaamkort'],\n",
    "    gr_species_threshold\n",
    ")\n",
    "# how much did that remove?\n",
    "print(f'number of species groups after removal: {df_trees['species_group'].value_counts().shape}')\n",
    "print(f'nan proportion species_group after removal: {na_proportion(df_trees['species_group'])}')\n",
    "df_trees.dropna(inplace=True)\n"
   ]
  },
  {
   "cell_type": "code",
   "execution_count": 59,
   "metadata": {},
   "outputs": [
    {
     "name": "stdout",
     "output_type": "stream",
     "text": [
      "Typeobject\n",
      "Boom niet vrij uitgroeiend    22269\n",
      "Boom vrij uitgroeiend          2314\n",
      "Knotboom                        637\n",
      "Gekandelaberde boom             515\n",
      "Vormboom                        460\n",
      "Stobbe                          296\n",
      "Leiboom                           5\n",
      "Name: count, dtype: int64\n"
     ]
    }
   ],
   "source": [
    "# Typeobject (status of the object)\n",
    "print(f'{df_trees['Typeobject'].value_counts()}')\n",
    "# seems fine already. will just nan up the one boomstam_algemeen\n",
    "df_trees['tree_treatment'] = replace_less_than_n_values(df_trees['Typeobject'])\n",
    "df_trees.dropna(inplace=True)"
   ]
  },
  {
   "cell_type": "code",
   "execution_count": 60,
   "metadata": {},
   "outputs": [
    {
     "name": "stdout",
     "output_type": "stream",
     "text": [
      "Typesoortnaam\n",
      "Bomen       26489\n",
      "Algemeen        2\n",
      "Name: count, dtype: int64\n"
     ]
    }
   ],
   "source": [
    "# Typesoortnaam (the sort of thing that this is)\n",
    "print(df_trees['Typesoortnaam'].value_counts())\n",
    "# we are only interested in trees\n",
    "only_trees = most_common_n_values(df_trees['Typesoortnaam'], n = 1)\n",
    "df_trees['plant_type'] = otherise_less_common_values(\n",
    "    df_trees['Typesoortnaam'],\n",
    "    only_trees,\n",
    "    other = np.nan\n",
    ")\n",
    "df_trees.dropna(inplace=True)"
   ]
  },
  {
   "cell_type": "code",
   "execution_count": 61,
   "metadata": {},
   "outputs": [
    {
     "name": "stdout",
     "output_type": "stream",
     "text": [
      "(26489, 23)\n"
     ]
    }
   ],
   "source": [
    "# number of trees left\n",
    "print(df_trees.shape)"
   ]
  },
  {
   "cell_type": "code",
   "execution_count": 62,
   "metadata": {},
   "outputs": [
    {
     "data": {
      "text/html": [
       "<div>\n",
       "<style scoped>\n",
       "    .dataframe tbody tr th:only-of-type {\n",
       "        vertical-align: middle;\n",
       "    }\n",
       "\n",
       "    .dataframe tbody tr th {\n",
       "        vertical-align: top;\n",
       "    }\n",
       "\n",
       "    .dataframe thead th {\n",
       "        text-align: right;\n",
       "    }\n",
       "</style>\n",
       "<table border=\"1\" class=\"dataframe\">\n",
       "  <thead>\n",
       "    <tr style=\"text-align: right;\">\n",
       "      <th></th>\n",
       "      <th>Id</th>\n",
       "      <th>buurt_id</th>\n",
       "      <th>Geometrie</th>\n",
       "      <th>Typebeheerderplus</th>\n",
       "      <th>Boomhoogteklasseactueel</th>\n",
       "      <th>Typeeigenaarplus</th>\n",
       "      <th>year_planted</th>\n",
       "      <th>Soortnaam</th>\n",
       "      <th>Typeobject</th>\n",
       "      <th>Typesoortnaam</th>\n",
       "      <th>...</th>\n",
       "      <th>plant_type</th>\n",
       "      <th>wijk_id</th>\n",
       "      <th>Naam_buurt</th>\n",
       "      <th>Code_buurt</th>\n",
       "      <th>Cbscode_buurt</th>\n",
       "      <th>Geometrie_buurt</th>\n",
       "      <th>Naam_wijk</th>\n",
       "      <th>Code_wijk</th>\n",
       "      <th>Cbscode_wijk</th>\n",
       "      <th>Geometrie_wijk</th>\n",
       "    </tr>\n",
       "  </thead>\n",
       "  <tbody>\n",
       "    <tr>\n",
       "      <th>6965</th>\n",
       "      <td>995429</td>\n",
       "      <td>3.630980e+12</td>\n",
       "      <td>SRID=28992;POINT (119064.09 485562.34)</td>\n",
       "      <td>R&amp;E_VOR_Bomen</td>\n",
       "      <td>a. tot 6 m.</td>\n",
       "      <td>Gemeente Amsterdam</td>\n",
       "      <td>1980.0</td>\n",
       "      <td>Crataegus monogyna</td>\n",
       "      <td>Boom niet vrij uitgroeiend</td>\n",
       "      <td>Bomen</td>\n",
       "      <td>...</td>\n",
       "      <td>Bomen</td>\n",
       "      <td>3630970000057</td>\n",
       "      <td>Vondelpark-West</td>\n",
       "      <td>KC01</td>\n",
       "      <td>BU0363KC01</td>\n",
       "      <td>SRID=28992;POLYGON ((119573.985 485473.27, 119...</td>\n",
       "      <td>Willemspark</td>\n",
       "      <td>KC</td>\n",
       "      <td>WK0363KC</td>\n",
       "      <td>SRID=28992;POLYGON((119626.547 485389.634,1196...</td>\n",
       "    </tr>\n",
       "    <tr>\n",
       "      <th>5330</th>\n",
       "      <td>988819</td>\n",
       "      <td>3.630980e+12</td>\n",
       "      <td>SRID=28992;POINT (119372.16 484612.88)</td>\n",
       "      <td>R&amp;E_VOR_Bomen</td>\n",
       "      <td>b. 6 tot 9 m.</td>\n",
       "      <td>Gemeente Amsterdam</td>\n",
       "      <td>1995.0</td>\n",
       "      <td>Prunus 'Umineko'</td>\n",
       "      <td>Boom niet vrij uitgroeiend</td>\n",
       "      <td>Bomen</td>\n",
       "      <td>...</td>\n",
       "      <td>Bomen</td>\n",
       "      <td>3630970000062</td>\n",
       "      <td>Marathonbuurt-Oost</td>\n",
       "      <td>KH04</td>\n",
       "      <td>BU0363KH04</td>\n",
       "      <td>SRID=28992;POLYGON ((119581.858 484656.505, 11...</td>\n",
       "      <td>Stadionbuurt</td>\n",
       "      <td>KH</td>\n",
       "      <td>WK0363KH</td>\n",
       "      <td>SRID=28992;POLYGON((119558.868 484409.043,1196...</td>\n",
       "    </tr>\n",
       "    <tr>\n",
       "      <th>25829</th>\n",
       "      <td>1281209</td>\n",
       "      <td>3.630980e+12</td>\n",
       "      <td>SRID=28992;POINT (131625.235088952 479668.4012...</td>\n",
       "      <td>R&amp;E_VOR_Bomen</td>\n",
       "      <td>c. 9 tot 12 m.</td>\n",
       "      <td>Gemeente Weesp</td>\n",
       "      <td>1974.0</td>\n",
       "      <td>Salix alba</td>\n",
       "      <td>Gekandelaberde boom</td>\n",
       "      <td>Bomen</td>\n",
       "      <td>...</td>\n",
       "      <td>Bomen</td>\n",
       "      <td>3630970000104</td>\n",
       "      <td>Weesp Centrum</td>\n",
       "      <td>SD03</td>\n",
       "      <td>BU0363SD03</td>\n",
       "      <td>SRID=28992;POLYGON ((131775.406 480238.594, 13...</td>\n",
       "      <td>Weesp Binnenstad/Zuid</td>\n",
       "      <td>SD</td>\n",
       "      <td>WK0363SD</td>\n",
       "      <td>SRID=28992;POLYGON((131888.906 479790.688,1318...</td>\n",
       "    </tr>\n",
       "    <tr>\n",
       "      <th>17022</th>\n",
       "      <td>1099998</td>\n",
       "      <td>3.630980e+12</td>\n",
       "      <td>SRID=28992;POINT (114944.84 485207.86)</td>\n",
       "      <td>R&amp;E_VOR_Bomen</td>\n",
       "      <td>c. 9 tot 12 m.</td>\n",
       "      <td>Gemeente Amsterdam</td>\n",
       "      <td>2009.0</td>\n",
       "      <td>Liquidambar styraciflua cv.</td>\n",
       "      <td>Boom niet vrij uitgroeiend</td>\n",
       "      <td>Bomen</td>\n",
       "      <td>...</td>\n",
       "      <td>Bomen</td>\n",
       "      <td>3630970000048</td>\n",
       "      <td>Zuidwestkwadrant-Zuid</td>\n",
       "      <td>FJ04</td>\n",
       "      <td>BU0363FJ04</td>\n",
       "      <td>SRID=28992;POLYGON ((115145.619 485115.913, 11...</td>\n",
       "      <td>Osdorp-Midden</td>\n",
       "      <td>FJ</td>\n",
       "      <td>WK0363FJ</td>\n",
       "      <td>SRID=28992;POLYGON((114947.26 485733.106,11487...</td>\n",
       "    </tr>\n",
       "    <tr>\n",
       "      <th>15327</th>\n",
       "      <td>1086241</td>\n",
       "      <td>3.630980e+12</td>\n",
       "      <td>SRID=28992;POINT (120245.19 492447.99)</td>\n",
       "      <td>R&amp;E_VOR_Bomen</td>\n",
       "      <td>e. 15 tot 18 m.</td>\n",
       "      <td>Gemeente Amsterdam</td>\n",
       "      <td>1980.0</td>\n",
       "      <td>Alnus glutinosa</td>\n",
       "      <td>Boom niet vrij uitgroeiend</td>\n",
       "      <td>Bomen</td>\n",
       "      <td>...</td>\n",
       "      <td>Bomen</td>\n",
       "      <td>3630970000086</td>\n",
       "      <td>Melkweg/Oostzanerwerf</td>\n",
       "      <td>NA02</td>\n",
       "      <td>BU0363NA02</td>\n",
       "      <td>SRID=28992;POLYGON ((120603.803 493251.724, 12...</td>\n",
       "      <td>Oostzanerwerf</td>\n",
       "      <td>NaN</td>\n",
       "      <td>WK0363NA</td>\n",
       "      <td>SRID=28992;POLYGON((121495.876 493158.163,1214...</td>\n",
       "    </tr>\n",
       "  </tbody>\n",
       "</table>\n",
       "<p>5 rows × 32 columns</p>\n",
       "</div>"
      ],
      "text/plain": [
       "            Id      buurt_id  \\\n",
       "6965    995429  3.630980e+12   \n",
       "5330    988819  3.630980e+12   \n",
       "25829  1281209  3.630980e+12   \n",
       "17022  1099998  3.630980e+12   \n",
       "15327  1086241  3.630980e+12   \n",
       "\n",
       "                                               Geometrie Typebeheerderplus  \\\n",
       "6965              SRID=28992;POINT (119064.09 485562.34)     R&E_VOR_Bomen   \n",
       "5330              SRID=28992;POINT (119372.16 484612.88)     R&E_VOR_Bomen   \n",
       "25829  SRID=28992;POINT (131625.235088952 479668.4012...     R&E_VOR_Bomen   \n",
       "17022             SRID=28992;POINT (114944.84 485207.86)     R&E_VOR_Bomen   \n",
       "15327             SRID=28992;POINT (120245.19 492447.99)     R&E_VOR_Bomen   \n",
       "\n",
       "      Boomhoogteklasseactueel    Typeeigenaarplus  year_planted  \\\n",
       "6965              a. tot 6 m.  Gemeente Amsterdam        1980.0   \n",
       "5330            b. 6 tot 9 m.  Gemeente Amsterdam        1995.0   \n",
       "25829          c. 9 tot 12 m.      Gemeente Weesp        1974.0   \n",
       "17022          c. 9 tot 12 m.  Gemeente Amsterdam        2009.0   \n",
       "15327         e. 15 tot 18 m.  Gemeente Amsterdam        1980.0   \n",
       "\n",
       "                         Soortnaam                  Typeobject Typesoortnaam  \\\n",
       "6965            Crataegus monogyna  Boom niet vrij uitgroeiend         Bomen   \n",
       "5330              Prunus 'Umineko'  Boom niet vrij uitgroeiend         Bomen   \n",
       "25829                   Salix alba         Gekandelaberde boom         Bomen   \n",
       "17022  Liquidambar styraciflua cv.  Boom niet vrij uitgroeiend         Bomen   \n",
       "15327              Alnus glutinosa  Boom niet vrij uitgroeiend         Bomen   \n",
       "\n",
       "       ... plant_type        wijk_id             Naam_buurt  Code_buurt  \\\n",
       "6965   ...      Bomen  3630970000057        Vondelpark-West        KC01   \n",
       "5330   ...      Bomen  3630970000062     Marathonbuurt-Oost        KH04   \n",
       "25829  ...      Bomen  3630970000104          Weesp Centrum        SD03   \n",
       "17022  ...      Bomen  3630970000048  Zuidwestkwadrant-Zuid        FJ04   \n",
       "15327  ...      Bomen  3630970000086  Melkweg/Oostzanerwerf        NA02   \n",
       "\n",
       "       Cbscode_buurt                                    Geometrie_buurt  \\\n",
       "6965      BU0363KC01  SRID=28992;POLYGON ((119573.985 485473.27, 119...   \n",
       "5330      BU0363KH04  SRID=28992;POLYGON ((119581.858 484656.505, 11...   \n",
       "25829     BU0363SD03  SRID=28992;POLYGON ((131775.406 480238.594, 13...   \n",
       "17022     BU0363FJ04  SRID=28992;POLYGON ((115145.619 485115.913, 11...   \n",
       "15327     BU0363NA02  SRID=28992;POLYGON ((120603.803 493251.724, 12...   \n",
       "\n",
       "                   Naam_wijk Code_wijk  Cbscode_wijk  \\\n",
       "6965             Willemspark        KC      WK0363KC   \n",
       "5330            Stadionbuurt        KH      WK0363KH   \n",
       "25829  Weesp Binnenstad/Zuid        SD      WK0363SD   \n",
       "17022          Osdorp-Midden        FJ      WK0363FJ   \n",
       "15327          Oostzanerwerf       NaN      WK0363NA   \n",
       "\n",
       "                                          Geometrie_wijk  \n",
       "6965   SRID=28992;POLYGON((119626.547 485389.634,1196...  \n",
       "5330   SRID=28992;POLYGON((119558.868 484409.043,1196...  \n",
       "25829  SRID=28992;POLYGON((131888.906 479790.688,1318...  \n",
       "17022  SRID=28992;POLYGON((114947.26 485733.106,11487...  \n",
       "15327  SRID=28992;POLYGON((121495.876 493158.163,1214...  \n",
       "\n",
       "[5 rows x 32 columns]"
      ]
     },
     "metadata": {},
     "output_type": "display_data"
    },
    {
     "name": "stdout",
     "output_type": "stream",
     "text": [
      "Index(['Id', 'buurt_id', 'Geometrie', 'Typebeheerderplus',\n",
      "       'Boomhoogteklasseactueel', 'Typeeigenaarplus', 'year_planted',\n",
      "       'Soortnaam', 'Typeobject', 'Typesoortnaam', 'Soortnaamkort',\n",
      "       'Soortnaamtop', 'growth_ground', 'diameter', 'tree_height_fixed',\n",
      "       'tree_height_random', 'tree_admin', 'tree_municipality', 'age',\n",
      "       'species', 'species_group', 'tree_treatment', 'plant_type', 'wijk_id',\n",
      "       'Naam_buurt', 'Code_buurt', 'Cbscode_buurt', 'Geometrie_buurt',\n",
      "       'Naam_wijk', 'Code_wijk', 'Cbscode_wijk', 'Geometrie_wijk'],\n",
      "      dtype='object')\n"
     ]
    }
   ],
   "source": [
    "df_with_location = pd.merge(df_trees, df_location_data, on=buurt_id_column)\n",
    "display(df_with_location.sample(10).head())\n",
    "print(df_with_location.columns)"
   ]
  },
  {
   "cell_type": "code",
   "execution_count": 63,
   "metadata": {},
   "outputs": [],
   "source": [
    "# parking data\n",
    "df_parking = pd.read_csv('data/parking_data_amsterdam.csv')\n"
   ]
  },
  {
   "cell_type": "code",
   "execution_count": 64,
   "metadata": {},
   "outputs": [
    {
     "name": "stdout",
     "output_type": "stream",
     "text": [
      "shape of parking dataset: (266622, 9)\n",
      "columns: Index(['WKT', 'id', 'buurtcode', 'straatnaam', 'type', 'soort', 'e_type',\n",
      "       'aantal', 'versiedatum'],\n",
      "      dtype='object')\n",
      "    Code_buurt  parked_cars_in_neighbourhood\n",
      "0         KQ05                          2986\n",
      "1         KR03                          2385\n",
      "2         FH02                          2373\n",
      "3         FA03                          2348\n",
      "4         MN03                          2231\n",
      "..         ...                           ...\n",
      "497       AD08                             7\n",
      "498       TA05                             6\n",
      "499       NQ07                             4\n",
      "500       FN03                             4\n",
      "501       MP02                             2\n",
      "\n",
      "[502 rows x 2 columns]\n"
     ]
    }
   ],
   "source": [
    "# some info about this dataset\n",
    "print(f'shape of parking dataset: {df_parking.shape}')\n",
    "print(f'columns: {df_parking.columns}')\n",
    "parking_count_per_buurt = df_parking['buurtcode'].value_counts()\n",
    "parking_per_neighbourhood = pd.DataFrame({\n",
    "    'Code_buurt': parking_count_per_buurt.index,\n",
    "    'parked_cars_in_neighbourhood': parking_count_per_buurt.values\n",
    "})\n",
    "print(parking_per_neighbourhood)\n"
   ]
  },
  {
   "cell_type": "code",
   "execution_count": 65,
   "metadata": {},
   "outputs": [
    {
     "data": {
      "text/html": [
       "<div>\n",
       "<style scoped>\n",
       "    .dataframe tbody tr th:only-of-type {\n",
       "        vertical-align: middle;\n",
       "    }\n",
       "\n",
       "    .dataframe tbody tr th {\n",
       "        vertical-align: top;\n",
       "    }\n",
       "\n",
       "    .dataframe thead th {\n",
       "        text-align: right;\n",
       "    }\n",
       "</style>\n",
       "<table border=\"1\" class=\"dataframe\">\n",
       "  <thead>\n",
       "    <tr style=\"text-align: right;\">\n",
       "      <th></th>\n",
       "      <th>Id</th>\n",
       "      <th>buurt_id</th>\n",
       "      <th>Geometrie</th>\n",
       "      <th>Typebeheerderplus</th>\n",
       "      <th>Boomhoogteklasseactueel</th>\n",
       "      <th>Typeeigenaarplus</th>\n",
       "      <th>year_planted</th>\n",
       "      <th>Soortnaam</th>\n",
       "      <th>Typeobject</th>\n",
       "      <th>Typesoortnaam</th>\n",
       "      <th>...</th>\n",
       "      <th>wijk_id</th>\n",
       "      <th>Naam_buurt</th>\n",
       "      <th>Code_buurt</th>\n",
       "      <th>Cbscode_buurt</th>\n",
       "      <th>Geometrie_buurt</th>\n",
       "      <th>Naam_wijk</th>\n",
       "      <th>Code_wijk</th>\n",
       "      <th>Cbscode_wijk</th>\n",
       "      <th>Geometrie_wijk</th>\n",
       "      <th>parked_cars_in_neighbourhood</th>\n",
       "    </tr>\n",
       "  </thead>\n",
       "  <tbody>\n",
       "    <tr>\n",
       "      <th>24845</th>\n",
       "      <td>1282092</td>\n",
       "      <td>3.630980e+12</td>\n",
       "      <td>SRID=28992;POINT (131338.48 479150.696)</td>\n",
       "      <td>R&amp;E_VOR_Bomen</td>\n",
       "      <td>c. 9 tot 12 m.</td>\n",
       "      <td>Gemeente Weesp</td>\n",
       "      <td>1978.0</td>\n",
       "      <td>Crataegus laevigata</td>\n",
       "      <td>Boom niet vrij uitgroeiend</td>\n",
       "      <td>Bomen</td>\n",
       "      <td>...</td>\n",
       "      <td>3630970000105</td>\n",
       "      <td>Aetsveld-Noord</td>\n",
       "      <td>SE03</td>\n",
       "      <td>BU0363SE03</td>\n",
       "      <td>SRID=28992;POLYGON ((131878.891 479275.939, 13...</td>\n",
       "      <td>Aetsveld/Oostelijke Vechtoever</td>\n",
       "      <td>SE</td>\n",
       "      <td>WK0363SE</td>\n",
       "      <td>SRID=28992;POLYGON((135393.992 478376.33,13542...</td>\n",
       "      <td>799</td>\n",
       "    </tr>\n",
       "    <tr>\n",
       "      <th>18749</th>\n",
       "      <td>1120553</td>\n",
       "      <td>3.630980e+12</td>\n",
       "      <td>SRID=28992;POINT (115033.02 484964.37)</td>\n",
       "      <td>R&amp;E_VOR_Bomen</td>\n",
       "      <td>b. 6 tot 9 m.</td>\n",
       "      <td>Gemeente Amsterdam</td>\n",
       "      <td>2014.0</td>\n",
       "      <td>Gleditsia triacanthos 'Skyline'</td>\n",
       "      <td>Boom niet vrij uitgroeiend</td>\n",
       "      <td>Bomen</td>\n",
       "      <td>...</td>\n",
       "      <td>3630970000048</td>\n",
       "      <td>Zuidwestkwadrant-Zuid</td>\n",
       "      <td>FJ04</td>\n",
       "      <td>BU0363FJ04</td>\n",
       "      <td>SRID=28992;POLYGON ((115145.619 485115.913, 11...</td>\n",
       "      <td>Osdorp-Midden</td>\n",
       "      <td>FJ</td>\n",
       "      <td>WK0363FJ</td>\n",
       "      <td>SRID=28992;POLYGON((114947.26 485733.106,11487...</td>\n",
       "      <td>1433</td>\n",
       "    </tr>\n",
       "    <tr>\n",
       "      <th>23118</th>\n",
       "      <td>1276407</td>\n",
       "      <td>3.630980e+12</td>\n",
       "      <td>SRID=28992;POINT (131582.16908777 479486.35106...</td>\n",
       "      <td>R&amp;E_VOR_Bomen</td>\n",
       "      <td>e. 15 tot 18 m.</td>\n",
       "      <td>Gemeente Weesp</td>\n",
       "      <td>2008.0</td>\n",
       "      <td>Betula pendula</td>\n",
       "      <td>Boom niet vrij uitgroeiend</td>\n",
       "      <td>Bomen</td>\n",
       "      <td>...</td>\n",
       "      <td>3630970000104</td>\n",
       "      <td>Weesp-Zuid II</td>\n",
       "      <td>SD05</td>\n",
       "      <td>BU0363SD05</td>\n",
       "      <td>SRID=28992;POLYGON ((131888.906 479790.688, 13...</td>\n",
       "      <td>Weesp Binnenstad/Zuid</td>\n",
       "      <td>SD</td>\n",
       "      <td>WK0363SD</td>\n",
       "      <td>SRID=28992;POLYGON((131888.906 479790.688,1318...</td>\n",
       "      <td>326</td>\n",
       "    </tr>\n",
       "    <tr>\n",
       "      <th>10078</th>\n",
       "      <td>1051981</td>\n",
       "      <td>3.630980e+12</td>\n",
       "      <td>SRID=28992;POINT (123139.67 484273.53)</td>\n",
       "      <td>R&amp;E_VOR_Bomen</td>\n",
       "      <td>b. 6 tot 9 m.</td>\n",
       "      <td>Gemeente Amsterdam</td>\n",
       "      <td>1985.0</td>\n",
       "      <td>Tilia europaea 'Pallida'</td>\n",
       "      <td>Boom niet vrij uitgroeiend</td>\n",
       "      <td>Bomen</td>\n",
       "      <td>...</td>\n",
       "      <td>3630970000082</td>\n",
       "      <td>Tuindorp Amstelstation</td>\n",
       "      <td>MM06</td>\n",
       "      <td>BU0363MM06</td>\n",
       "      <td>SRID=28992;POLYGON ((123543.509 484325.003, 12...</td>\n",
       "      <td>Frankendael</td>\n",
       "      <td>MM</td>\n",
       "      <td>WK0363MM</td>\n",
       "      <td>SRID=28992;POLYGON((124540.644 484524.221,1245...</td>\n",
       "      <td>359</td>\n",
       "    </tr>\n",
       "    <tr>\n",
       "      <th>5325</th>\n",
       "      <td>990303</td>\n",
       "      <td>3.630980e+12</td>\n",
       "      <td>SRID=28992;POINT (119824.57 485618.47)</td>\n",
       "      <td>R&amp;E_VOR_Bomen</td>\n",
       "      <td>e. 15 tot 18 m.</td>\n",
       "      <td>Gemeente Amsterdam</td>\n",
       "      <td>1962.0</td>\n",
       "      <td>Fraxinus excelsior</td>\n",
       "      <td>Boom niet vrij uitgroeiend</td>\n",
       "      <td>Bomen</td>\n",
       "      <td>...</td>\n",
       "      <td>3630970000058</td>\n",
       "      <td>Vondelpark-Oost</td>\n",
       "      <td>KD01</td>\n",
       "      <td>BU0363KD01</td>\n",
       "      <td>SRID=28992;POLYGON ((120255.353 485922.895, 12...</td>\n",
       "      <td>Museumkwartier</td>\n",
       "      <td>KD</td>\n",
       "      <td>WK0363KD</td>\n",
       "      <td>SRID=28992;POLYGON((120906.182 485766.041,1209...</td>\n",
       "      <td>48</td>\n",
       "    </tr>\n",
       "  </tbody>\n",
       "</table>\n",
       "<p>5 rows × 33 columns</p>\n",
       "</div>"
      ],
      "text/plain": [
       "            Id      buurt_id  \\\n",
       "24845  1282092  3.630980e+12   \n",
       "18749  1120553  3.630980e+12   \n",
       "23118  1276407  3.630980e+12   \n",
       "10078  1051981  3.630980e+12   \n",
       "5325    990303  3.630980e+12   \n",
       "\n",
       "                                               Geometrie Typebeheerderplus  \\\n",
       "24845            SRID=28992;POINT (131338.48 479150.696)     R&E_VOR_Bomen   \n",
       "18749             SRID=28992;POINT (115033.02 484964.37)     R&E_VOR_Bomen   \n",
       "23118  SRID=28992;POINT (131582.16908777 479486.35106...     R&E_VOR_Bomen   \n",
       "10078             SRID=28992;POINT (123139.67 484273.53)     R&E_VOR_Bomen   \n",
       "5325              SRID=28992;POINT (119824.57 485618.47)     R&E_VOR_Bomen   \n",
       "\n",
       "      Boomhoogteklasseactueel    Typeeigenaarplus  year_planted  \\\n",
       "24845          c. 9 tot 12 m.      Gemeente Weesp        1978.0   \n",
       "18749           b. 6 tot 9 m.  Gemeente Amsterdam        2014.0   \n",
       "23118         e. 15 tot 18 m.      Gemeente Weesp        2008.0   \n",
       "10078           b. 6 tot 9 m.  Gemeente Amsterdam        1985.0   \n",
       "5325          e. 15 tot 18 m.  Gemeente Amsterdam        1962.0   \n",
       "\n",
       "                             Soortnaam                  Typeobject  \\\n",
       "24845              Crataegus laevigata  Boom niet vrij uitgroeiend   \n",
       "18749  Gleditsia triacanthos 'Skyline'  Boom niet vrij uitgroeiend   \n",
       "23118                   Betula pendula  Boom niet vrij uitgroeiend   \n",
       "10078         Tilia europaea 'Pallida'  Boom niet vrij uitgroeiend   \n",
       "5325                Fraxinus excelsior  Boom niet vrij uitgroeiend   \n",
       "\n",
       "      Typesoortnaam  ...        wijk_id              Naam_buurt Code_buurt  \\\n",
       "24845         Bomen  ...  3630970000105          Aetsveld-Noord       SE03   \n",
       "18749         Bomen  ...  3630970000048   Zuidwestkwadrant-Zuid       FJ04   \n",
       "23118         Bomen  ...  3630970000104           Weesp-Zuid II       SD05   \n",
       "10078         Bomen  ...  3630970000082  Tuindorp Amstelstation       MM06   \n",
       "5325          Bomen  ...  3630970000058         Vondelpark-Oost       KD01   \n",
       "\n",
       "       Cbscode_buurt                                    Geometrie_buurt  \\\n",
       "24845     BU0363SE03  SRID=28992;POLYGON ((131878.891 479275.939, 13...   \n",
       "18749     BU0363FJ04  SRID=28992;POLYGON ((115145.619 485115.913, 11...   \n",
       "23118     BU0363SD05  SRID=28992;POLYGON ((131888.906 479790.688, 13...   \n",
       "10078     BU0363MM06  SRID=28992;POLYGON ((123543.509 484325.003, 12...   \n",
       "5325      BU0363KD01  SRID=28992;POLYGON ((120255.353 485922.895, 12...   \n",
       "\n",
       "                            Naam_wijk Code_wijk Cbscode_wijk  \\\n",
       "24845  Aetsveld/Oostelijke Vechtoever        SE     WK0363SE   \n",
       "18749                   Osdorp-Midden        FJ     WK0363FJ   \n",
       "23118           Weesp Binnenstad/Zuid        SD     WK0363SD   \n",
       "10078                     Frankendael        MM     WK0363MM   \n",
       "5325                   Museumkwartier        KD     WK0363KD   \n",
       "\n",
       "                                          Geometrie_wijk  \\\n",
       "24845  SRID=28992;POLYGON((135393.992 478376.33,13542...   \n",
       "18749  SRID=28992;POLYGON((114947.26 485733.106,11487...   \n",
       "23118  SRID=28992;POLYGON((131888.906 479790.688,1318...   \n",
       "10078  SRID=28992;POLYGON((124540.644 484524.221,1245...   \n",
       "5325   SRID=28992;POLYGON((120906.182 485766.041,1209...   \n",
       "\n",
       "      parked_cars_in_neighbourhood  \n",
       "24845                          799  \n",
       "18749                         1433  \n",
       "23118                          326  \n",
       "10078                          359  \n",
       "5325                            48  \n",
       "\n",
       "[5 rows x 33 columns]"
      ]
     },
     "metadata": {},
     "output_type": "display_data"
    }
   ],
   "source": [
    "df_with_parking = pd.merge(\n",
    "    df_with_location, \n",
    "    parking_per_neighbourhood,\n",
    "    on='Code_buurt'\n",
    ")\n",
    "df_with_parking.dropna(inplace=True)\n",
    "display(df_with_parking.sample(10).head())"
   ]
  },
  {
   "cell_type": "code",
   "execution_count": 66,
   "metadata": {},
   "outputs": [
    {
     "data": {
      "text/plain": [
       "Text(0, 0.5, 'Frequency')"
      ]
     },
     "execution_count": 66,
     "metadata": {},
     "output_type": "execute_result"
    },
    {
     "data": {
      "image/png": "[encoded data removed]",
      "text/plain": [
       "<Figure size 640x480 with 1 Axes>"
      ]
     },
     "metadata": {},
     "output_type": "display_data"
    }
   ],
   "source": [
    "# let's plot the height of trees of the cleaned up dataset\n",
    "sns.histplot(df_with_parking['tree_height_fixed'])\n",
    "plt.title(\"Histogram of tree height frequency (fixed)\")\n",
    "plt.xlabel(\"Height (m)\")\n",
    "plt.ylabel(\"Frequency\")"
   ]
  },
  {
   "cell_type": "code",
   "execution_count": 67,
   "metadata": {},
   "outputs": [
    {
     "data": {
      "text/plain": [
       "Index(['Id', 'buurt_id', 'Geometrie', 'Typebeheerderplus',\n",
       "       'Boomhoogteklasseactueel', 'Typeeigenaarplus', 'year_planted',\n",
       "       'Soortnaam', 'Typeobject', 'Typesoortnaam', 'Soortnaamkort',\n",
       "       'Soortnaamtop', 'growth_ground', 'diameter', 'tree_height_fixed',\n",
       "       'tree_height_random', 'tree_admin', 'tree_municipality', 'age',\n",
       "       'species', 'species_group', 'tree_treatment', 'plant_type', 'wijk_id',\n",
       "       'Naam_buurt', 'Code_buurt', 'Cbscode_buurt', 'Geometrie_buurt',\n",
       "       'Naam_wijk', 'Code_wijk', 'Cbscode_wijk', 'Geometrie_wijk',\n",
       "       'parked_cars_in_neighbourhood'],\n",
       "      dtype='object')"
      ]
     },
     "execution_count": 67,
     "metadata": {},
     "output_type": "execute_result"
    }
   ],
   "source": [
    "# last cleaning steps to make dataset smaller\n",
    "df_with_parking.columns"
   ]
  },
  {
   "cell_type": "code",
   "execution_count": 68,
   "metadata": {},
   "outputs": [],
   "source": [
    "# removing redundant columns\n",
    "columns_to_drop = ['Id', 'buurt_id', 'Geometrie', 'Typebeheerderplus', \n",
    "                   'Boomhoogteklasseactueel', 'Typeeigenaarplus', 'year_planted',\n",
    "                    'Soortnaam', 'Typeobject', 'Typesoortnaam', 'Soortnaamkort',\n",
    "                    'Soortnaamtop', 'wijk_id', 'Code_buurt', 'Cbscode_buurt',\n",
    "                    'Geometrie_buurt', 'Code_wijk', 'Cbscode_wijk',\n",
    "                    'Geometrie_wijk', 'plant_type'\n",
    "]\n",
    "df_trees_final = df_with_parking.drop(columns=columns_to_drop)"
   ]
  },
  {
   "cell_type": "code",
   "execution_count": 69,
   "metadata": {},
   "outputs": [],
   "source": [
    "df_trees_final.to_csv('data/clean_tree_data.csv')"
   ]
  }
 ],
 "metadata": {
  "kernelspec": {
   "display_name": "venv",
   "language": "python",
   "name": "python3"
  },
  "language_info": {
   "codemirror_mode": {
    "name": "ipython",
    "version": 3
   },
   "file_extension": ".py",
   "mimetype": "text/x-python",
   "name": "python",
   "nbconvert_exporter": "python",
   "pygments_lexer": "ipython3",
   "version": "3.12.2"
  }
 },
 "nbformat": 4,
 "nbformat_minor": 2
}
